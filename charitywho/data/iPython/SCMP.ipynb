{
 "metadata": {
  "name": ""
 },
 "nbformat": 3,
 "nbformat_minor": 0,
 "worksheets": [
  {
   "cells": [
    {
     "cell_type": "code",
     "collapsed": true,
     "input": [
      "#!/usr/bin/env python\n",
      "\n",
      "import xlsxwriter\n",
      "import urllib, urllib2\n",
      "import requests\n",
      "import lxml.html\n",
      "import re\n",
      "import cgi\n",
      "from bs4 import BeautifulSoup\n",
      "from HTMLParser import HTMLParser\n",
      "import csv\n",
      "\n",
      "class MLStripper(HTMLParser):\n",
      "    def __init__(self):\n",
      "        self.reset()\n",
      "        self.fed = []\n",
      "    def handle_data(self, d):\n",
      "        self.fed.append(d)\n",
      "    def get_data(self):\n",
      "        return ''.join(self.fed)\n",
      "\n",
      "def strip_tags(html):\n",
      "    s = MLStripper()\n",
      "    s.feed(html)\n",
      "    return s.get_data()\n",
      "\n",
      "# load list of searchterm, including orgname and valid tags\n",
      "# 1 = 1-499\n",
      "with open('searchterm_part.csv', 'Ur') as f:\n",
      "    data = list(tuple(rec) for rec in csv.reader(f, delimiter=','))\n",
      "\n",
      "# Create an new Excel file and add a worksheet.\n",
      "workbook = xlsxwriter.Workbook('OrgNews_part.xlsx')\n",
      "worksheet = workbook.add_worksheet()\n",
      "\n",
      "# Start from the first cell. Rows and columns are zero indexed.\n",
      "row = 0\n",
      "col = 0\n",
      "\n",
      "headers = ['SearchTerm', 'ID', 'ArticleName', 'ArticleLink', 'PostInfo', 'Excerpt']\n",
      "# Iterate over the data and write it out\n",
      "for item in (headers):\n",
      "    worksheet.write(0, col, item)\n",
      "    col += 1\n",
      "    \n",
      "    \n",
      "for SearchTerm,ID in data:\n",
      "    print SearchTerm\n",
      "    url = \"http://www.scmp.com/content/search/%22\"+str(SearchTerm)+\"%22\"\n",
      "    \n",
      "    #Search for tag in HK only\n",
      "    #\"http://www.scmp.com/content/search/\"+ str(SearchTerm)+\"?f[0]=im_field_section%3A2\"\n",
      "        \n",
      "    html = requests.get(url)\n",
      "    soup = BeautifulSoup(html.content)\n",
      "    \n",
      "    count = 1\n",
      "    for result in soup.findAll('li', {'class': re.compile(r\"search-result\\b.*\")}):\n",
      "        if count <= 5: # get only most recent 5\n",
      "            # get data\n",
      "            ArticleName = strip_tags(str(result.find('h3',{'class':'title'})))\n",
      "            ArticleLink = result('a')[0]['href']\n",
      "            PostInfo = strip_tags(str(result.find('p',{'class':'search-info'})))\n",
      "            Excerpt = strip_tags(str(result.find('p',{'class':'search-snippet'})))\n",
      "            \n",
      "            #print \"COUNT:\" + str(count)\n",
      "            \n",
      "            #define output data\n",
      "            resultdata = ([SearchTerm, ID,str(ArticleName).decode(\"utf-8\", \"replace\"), str(ArticleLink).decode(\"utf-8\", \"replace\"), str(PostInfo).decode(\"utf-8\", \"replace\"), str(Excerpt).decode(\"utf-8\", \"replace\")])\n",
      "            #print resultdata\n",
      "            \n",
      "            row += 1\n",
      "            #print row\n",
      "            col = 0\n",
      "            for item in (resultdata):\n",
      "                worksheet.write(row, col, item)\n",
      "                col += 1\n",
      "        \n",
      "            count += 1\n",
      "    print ID + \" done.\"\n",
      "workbook.close()\n"
     ],
     "language": "python",
     "metadata": {},
     "outputs": [
      {
       "output_type": "stream",
       "stream": "stdout",
       "text": [
        "Hong Hong Evangelical Church Yan Tsuen Church\n",
        "5318 done."
       ]
      },
      {
       "output_type": "stream",
       "stream": "stdout",
       "text": [
        "\n",
        "HONG KONG - AMERICA CENTER\n",
        "5319 done."
       ]
      },
      {
       "output_type": "stream",
       "stream": "stdout",
       "text": [
        "\n",
        "HONG KONG - MACAO CONFERENCE OF SEVENTH-DAY ADVENTISTS\n",
        "5322 done."
       ]
      },
      {
       "output_type": "stream",
       "stream": "stdout",
       "text": [
        "\n",
        "Hong Kong & Kowloon Chiu Chow Public Association Ma Chung Sum Secondary School\n",
        "5325 done."
       ]
      },
      {
       "output_type": "stream",
       "stream": "stdout",
       "text": [
        "\n",
        "Hong Kong & Kowloon Chiu Chow Public Association Secondary School\n",
        "5326 done."
       ]
      },
      {
       "output_type": "stream",
       "stream": "stdout",
       "text": [
        "\n",
        "HONG KONG & KOWLOON KAI-FONG WOMENS ASSOCIATION\n",
        "5331 done."
       ]
      },
      {
       "output_type": "stream",
       "stream": "stdout",
       "text": [
        "\n",
        "Hong Kong & Kowloon Kaifong Womens Association Sun Fong Chung Kindergarten\n",
        "5332 done."
       ]
      },
      {
       "output_type": "stream",
       "stream": "stdout",
       "text": [
        "\n",
        "Hong Kong & Kowloon Kaifong Womens Association Sun Fong Chung Kindergarten\n",
        "5333 done."
       ]
      },
      {
       "output_type": "stream",
       "stream": "stdout",
       "text": [
        "\n",
        "Hong Kong & Kowloon Kaifong Womens Association Ting Sun Hui Chiu Kindergarten\n",
        "5334 done."
       ]
      },
      {
       "output_type": "stream",
       "stream": "stdout",
       "text": [
        "\n",
        "Hong Kong & Kowloon Kaifong Womens Association Ting Sun Hui Chiu Nursery\n",
        "5335 done."
       ]
      },
      {
       "output_type": "stream",
       "stream": "stdout",
       "text": [
        "\n",
        "Hong Kong & Kowloon Kaifong Womens Association Ting Yuk Chee Kindergarten\n",
        "5336 done."
       ]
      },
      {
       "output_type": "stream",
       "stream": "stdout",
       "text": [
        "\n",
        "Hong Kong & Kowloon Kaifong Womens Association Ting Yuk Chee Nursery\n",
        "5337 done."
       ]
      },
      {
       "output_type": "stream",
       "stream": "stdout",
       "text": [
        "\n",
        "Hong Kong & Kowloon Kaifong Womens Association Wan Tsui Kindergarten\n",
        "5338 done."
       ]
      },
      {
       "output_type": "stream",
       "stream": "stdout",
       "text": [
        "\n",
        "Hong Kong & Kowloon Kaifong Womens Association Wan Tsui Nursery\n",
        "5339 done."
       ]
      },
      {
       "output_type": "stream",
       "stream": "stdout",
       "text": [
        "\n",
        "HONG KONG & MACAU REGIONAL CENTRE OF THE WORLD FELLOWSHIP OF BUDDHISTS\n",
        "5342 done."
       ]
      },
      {
       "output_type": "stream",
       "stream": "stdout",
       "text": [
        "\n",
        "Hong Kong 5-S International Child Care Centre\n",
        "5344 done."
       ]
      },
      {
       "output_type": "stream",
       "stream": "stdout",
       "text": [
        "\n",
        "Hong Kong 5-S Kindergarten\n",
        "5345 done."
       ]
      },
      {
       "output_type": "stream",
       "stream": "stdout",
       "text": [
        "\n",
        "HONG KONG ABWE MISSION\n",
        "5349 done."
       ]
      },
      {
       "output_type": "stream",
       "stream": "stdout",
       "text": [
        "\n",
        "Hong Kong Academy\n",
        "5350 done."
       ]
      },
      {
       "output_type": "stream",
       "stream": "stdout",
       "text": [
        "\n",
        "HONG KONG ACADEMY FOR GIFTED EDUCATION\n",
        "5352 done."
       ]
      },
      {
       "output_type": "stream",
       "stream": "stdout",
       "text": [
        "\n",
        "HONG KONG ACADEMY FOR GIFTED EDUCATION\n",
        "5353 done."
       ]
      },
      {
       "output_type": "stream",
       "stream": "stdout",
       "text": [
        "\n",
        "HONG KONG ACADEMY FOR PERFORMING ARTS\n",
        "5355 done."
       ]
      },
      {
       "output_type": "stream",
       "stream": "stdout",
       "text": [
        "\n",
        "HONG KONG ACADEMY OF MEDICINE\n",
        "5359 done."
       ]
      },
      {
       "output_type": "stream",
       "stream": "stdout",
       "text": [
        "\n",
        "HONG KONG ADULT BLOOD CANCER GROUP\n",
        "5361 done."
       ]
      },
      {
       "output_type": "stream",
       "stream": "stdout",
       "text": [
        "\n",
        "Hong Kong Adventist College\n",
        "5362 done."
       ]
      },
      {
       "output_type": "stream",
       "stream": "stdout",
       "text": [
        "\n",
        "Hong Kong Adventist Hospital\n",
        "5363 done."
       ]
      },
      {
       "output_type": "stream",
       "stream": "stdout",
       "text": [
        "\n",
        "Hong Kong Adventist Hospital Church of Seventh-day Adventists\n",
        "5364 done."
       ]
      },
      {
       "output_type": "stream",
       "stream": "stdout",
       "text": [
        "\n",
        "HONG KONG ADVENTIST HOSPITAL FOUNDATION\n",
        "5365 done."
       ]
      },
      {
       "output_type": "stream",
       "stream": "stdout",
       "text": [
        "\n",
        "Hong Kong Adventist International Church of Seventh-day Adventist\n",
        "5366 done."
       ]
      },
      {
       "output_type": "stream",
       "stream": "stdout",
       "text": [
        "\n",
        "Hong Kong Adventist School of Nursing\n",
        "5367 done."
       ]
      },
      {
       "output_type": "stream",
       "stream": "stdout",
       "text": [
        "\n",
        "HONG KONG ADVENTURE CORPS\n",
        "5368 done."
       ]
      },
      {
       "output_type": "stream",
       "stream": "stdout",
       "text": [
        "\n",
        "HONG KONG AGED CONCERN\n",
        "5370 done."
       ]
      },
      {
       "output_type": "stream",
       "stream": "stdout",
       "text": [
        "\n",
        "HONG KONG AIDS FOUNDATION\n",
        "5371 done."
       ]
      },
      {
       "output_type": "stream",
       "stream": "stdout",
       "text": [
        "\n",
        "HONG KONG ALLIANCE MISSION\n",
        "5375 done."
       ]
      },
      {
       "output_type": "stream",
       "stream": "stdout",
       "text": [
        "\n",
        "HONG KONG AMBASSADORS OF DESIGN\n",
        "5378 done."
       ]
      },
      {
       "output_type": "stream",
       "stream": "stdout",
       "text": [
        "\n",
        "Hong Kong and Kowloon Kaifong Womens Association Sun Fong Chung Nursery\n",
        "5382 done."
       ]
      },
      {
       "output_type": "stream",
       "stream": "stdout",
       "text": [
        "\n",
        "Hong Kong And Macau Lutheran Charis Chapel\n",
        "5384 done."
       ]
      },
      {
       "output_type": "stream",
       "stream": "stdout",
       "text": [
        "\n",
        "HONG KONG AND MACAU LUTHERAN CHURCH\n",
        "5385 done."
       ]
      },
      {
       "output_type": "stream",
       "stream": "stdout",
       "text": [
        "\n",
        "Hong Kong And Macau Lutheran Church Kei Fuk Elderly Centre\n",
        "5386 done."
       ]
      },
      {
       "output_type": "stream",
       "stream": "stdout",
       "text": [
        "\n",
        "Hong Kong And Macau Lutheran Church Ming Tao Primary School\n",
        "5387 done."
       ]
      },
      {
       "output_type": "stream",
       "stream": "stdout",
       "text": [
        "\n",
        "Hong Kong And Macau Lutheran Church Primary School\n",
        "5388 done."
       ]
      },
      {
       "output_type": "stream",
       "stream": "stdout",
       "text": [
        "\n",
        "Hong Kong And Macau Lutheran Church Queen Maud Secondary School\n",
        "5389 done."
       ]
      },
      {
       "output_type": "stream",
       "stream": "stdout",
       "text": [
        "\n",
        "Hong Kong And Macau Lutheran Church Shek On Memorial Kindergarten\n",
        "5390 done."
       ]
      },
      {
       "output_type": "stream",
       "stream": "stdout",
       "text": [
        "\n",
        "Hong Kong And Macau Lutheran Church Tsui En Kindergarten\n",
        "5391 done."
       ]
      },
      {
       "output_type": "stream",
       "stream": "stdout",
       "text": [
        "\n",
        "Hong Kong And Macau Lutheran Church Wai Kei Hostel\n",
        "5392 done."
       ]
      },
      {
       "output_type": "stream",
       "stream": "stdout",
       "text": [
        "\n",
        "Hong Kong And Macau Lutheran Church Wong Chan Sook Ying Memorial School\n",
        "5393 done."
       ]
      },
      {
       "output_type": "stream",
       "stream": "stdout",
       "text": [
        "\n",
        "Hong Kong And Macau Lutheran Church Yan Kei Elderly Centre\n",
        "5395 done."
       ]
      },
      {
       "output_type": "stream",
       "stream": "stdout",
       "text": [
        "\n",
        "Hong Kong And Macau Lutheran Fairview Park Chapel\n",
        "5396 done."
       ]
      },
      {
       "output_type": "stream",
       "stream": "stdout",
       "text": [
        "\n",
        "Hong Kong And Macau Lutheran Grace Church\n",
        "5397 done."
       ]
      },
      {
       "output_type": "stream",
       "stream": "stdout",
       "text": [
        "\n",
        "Hong Kong And Macau Lutheran Hsin En Church\n",
        "5398 done."
       ]
      },
      {
       "output_type": "stream",
       "stream": "stdout",
       "text": [
        "\n",
        "Hong Kong And Macau Lutheran Hsin On Chapel\n",
        "5399 done."
       ]
      },
      {
       "output_type": "stream",
       "stream": "stdout",
       "text": [
        "\n",
        "Hong Kong And Macau Lutheran Living Stone Church\n",
        "5400 done."
       ]
      },
      {
       "output_type": "stream",
       "stream": "stdout",
       "text": [
        "\n",
        "Hong Kong And Macau Lutheran Ming Tao Chapel\n",
        "5401 done."
       ]
      },
      {
       "output_type": "stream",
       "stream": "stdout",
       "text": [
        "\n",
        "Hong Kong And Macau Lutheran Spirit of Love Church\n",
        "5402 done."
       ]
      },
      {
       "output_type": "stream",
       "stream": "stdout",
       "text": [
        "\n",
        "Hong Kong And Macau Lutheran Thanksgiving Church\n",
        "5403 done."
       ]
      },
      {
       "output_type": "stream",
       "stream": "stdout",
       "text": [
        "\n",
        "Hong Kong And Macau Lutheran Yan Kei Chapel\n",
        "5404 done."
       ]
      },
      {
       "output_type": "stream",
       "stream": "stdout",
       "text": [
        "\n",
        "Hong Kong And Macau Lutheran Yan Tsing Church\n",
        "5405 done."
       ]
      },
      {
       "output_type": "stream",
       "stream": "stdout",
       "text": [
        "\n",
        "HONG KONG ANDREW CHARITABLE ASSOCIATION\n",
        "5406 done."
       ]
      },
      {
       "output_type": "stream",
       "stream": "stdout",
       "text": [
        "\n",
        "HONG KONG ANDREW CHARITABLE ASSOCIATION\n",
        "5407 done."
       ]
      },
      {
       "output_type": "stream",
       "stream": "stdout",
       "text": [
        "\n",
        "HONG KONG ANIMAL ADOPTION CENTRE\n",
        "5408 done."
       ]
      },
      {
       "output_type": "stream",
       "stream": "stdout",
       "text": [
        "\n",
        "HONG KONG ANKYLOSING SPONDYLITIS ASSOCIATION\n",
        "5411 done."
       ]
      },
      {
       "output_type": "stream",
       "stream": "stdout",
       "text": [
        "\n",
        "Hong Kong Anti-Cancer Society - Baptist University Chinese Medicine Centre\n",
        "5413 done."
       ]
      },
      {
       "output_type": "stream",
       "stream": "stdout",
       "text": [
        "\n",
        "Hong Kong APLEC\n",
        "5415 done."
       ]
      },
      {
       "output_type": "stream",
       "stream": "stdout",
       "text": [
        "\n",
        "HONG KONG ARCHITECTURE CENTRE\n",
        "5417 done."
       ]
      },
      {
       "output_type": "stream",
       "stream": "stdout",
       "text": [
        "\n",
        "HONG KONG ARCHIVES SOCIETY\n",
        "5418 done."
       ]
      },
      {
       "output_type": "stream",
       "stream": "stdout",
       "text": [
        "\n",
        "HONG KONG ARTISTIC ORCHID ASSOCIATION\n",
        "5420 done."
       ]
      },
      {
       "output_type": "stream",
       "stream": "stdout",
       "text": [
        "\n",
        "HONG KONG ARTS AND CULTURE FOUNDATION\n",
        "5423 done."
       ]
      },
      {
       "output_type": "stream",
       "stream": "stdout",
       "text": [
        "\n",
        "HONG KONG ARTS CENTRE\n",
        "5424 done."
       ]
      },
      {
       "output_type": "stream",
       "stream": "stdout",
       "text": [
        "\n",
        "HONG KONG ARTS DEVELOPMENT COUNCIL\n",
        "5426 done."
       ]
      },
      {
       "output_type": "stream",
       "stream": "stdout",
       "text": [
        "\n",
        "HONG KONG ARTS FESTIVAL SOCIETY\n",
        "5427 done."
       ]
      },
      {
       "output_type": "stream",
       "stream": "stdout",
       "text": [
        "\n",
        "HONG KONG ASSOCIATION FOR AD/HD\n",
        "5430 done."
       ]
      },
      {
       "output_type": "stream",
       "stream": "stdout",
       "text": [
        "\n",
        "HONG KONG ASSOCIATION FOR COMPUTER EDUCATION\n",
        "5431 done."
       ]
      },
      {
       "output_type": "stream",
       "stream": "stdout",
       "text": [
        "\n",
        "HONG KONG ASSOCIATION FOR INTEGRATION OF CHINESE-WESTERN MEDICINE\n",
        "5433 done."
       ]
      },
      {
       "output_type": "stream",
       "stream": "stdout",
       "text": [
        "\n",
        "HONG KONG ASSOCIATION FOR PARENTS OF GIFTED CHILDREN\n",
        "5434 done."
       ]
      },
      {
       "output_type": "stream",
       "stream": "stdout",
       "text": [
        "\n",
        "HONG KONG ASSOCIATION FOR THE PROMOTION OF MENTAL HEALTH\n",
        "5438 done."
       ]
      },
      {
       "output_type": "stream",
       "stream": "stdout",
       "text": [
        "\n",
        "HONG KONG ASSOCIATION FOR THE SURVIVORS OF WOMEN ABUSE\n",
        "5441 done."
       ]
      },
      {
       "output_type": "stream",
       "stream": "stdout",
       "text": [
        "\n",
        "HONG KONG ASSOCIATION OF CAREERS MASTERS AND GUIDANCE MASTERS\n",
        "5442 done."
       ]
      },
      {
       "output_type": "stream",
       "stream": "stdout",
       "text": [
        "\n",
        "HONG KONG ASSOCIATION OF CHRISTIAN MISSIONS\n",
        "5443 done."
       ]
      },
      {
       "output_type": "stream",
       "stream": "stdout",
       "text": [
        "\n",
        "HONG KONG ASSOCIATION OF CHRISTIAN MUSIC MINISTRY\n",
        "5444 done."
       ]
      },
      {
       "output_type": "stream",
       "stream": "stdout",
       "text": [
        "\n",
        "HONG KONG ASSOCIATION OF CHRISTIAN ORGANIZATIONS\n",
        "5445 done."
       ]
      },
      {
       "output_type": "stream",
       "stream": "stdout",
       "text": [
        "\n",
        "HONG KONG ASSOCIATION OF COSMETIC SURGERY\n",
        "5446 done."
       ]
      },
      {
       "output_type": "stream",
       "stream": "stdout",
       "text": [
        "\n",
        "HONG KONG ASSOCIATION OF MUSIC THERAPISTS\n",
        "5450 done."
       ]
      },
      {
       "output_type": "stream",
       "stream": "stdout",
       "text": [
        "\n",
        "HONG KONG ASSOCIATION OF PRIVATE EYE SURGEONS\n",
        "5451 done."
       ]
      },
      {
       "output_type": "stream",
       "stream": "stdout",
       "text": [
        "\n",
        "HONG KONG ASSOCIATION OF SENIOR CITIZENS\n",
        "5454 done."
       ]
      },
      {
       "output_type": "stream",
       "stream": "stdout",
       "text": [
        "\n",
        "HONG KONG ASSOCIATION OF THE DEAF\n",
        "5456 done."
       ]
      },
      {
       "output_type": "stream",
       "stream": "stdout",
       "text": [
        "\n",
        "HONG KONG ASSOCIATION OF UNIVERSITY WOMEN\n",
        "5457 done."
       ]
      },
      {
       "output_type": "stream",
       "stream": "stdout",
       "text": [
        "\n",
        "Hong Kong Association of Youth Development - Central and Western District Branch\n",
        "5459 done."
       ]
      },
      {
       "output_type": "stream",
       "stream": "stdout",
       "text": [
        "\n",
        "Hong Kong Association of Youth Development - Eastern District Branch\n",
        "5460 done."
       ]
      },
      {
       "output_type": "stream",
       "stream": "stdout",
       "text": [
        "\n",
        "Hong Kong Association of Youth Development - Islands District Branch\n",
        "5461 done."
       ]
      },
      {
       "output_type": "stream",
       "stream": "stdout",
       "text": [
        "\n",
        "Hong Kong Association of Youth Development - Kowloon City District Branch\n",
        "5462 done."
       ]
      },
      {
       "output_type": "stream",
       "stream": "stdout",
       "text": [
        "\n",
        "Hong Kong Association of Youth Development - Kwai Tsing District Branch\n",
        "5463 done."
       ]
      },
      {
       "output_type": "stream",
       "stream": "stdout",
       "text": [
        "\n",
        "Hong Kong Association of Youth Development - Kwun Tong District Branch\n",
        "5464 done."
       ]
      },
      {
       "output_type": "stream",
       "stream": "stdout",
       "text": [
        "\n",
        "Hong Kong Association of Youth Development - North District Branch\n",
        "5465 done."
       ]
      },
      {
       "output_type": "stream",
       "stream": "stdout",
       "text": [
        "\n",
        "Hong Kong Association of Youth Development - Sai Kung District Branch\n",
        "5466 done."
       ]
      },
      {
       "output_type": "stream",
       "stream": "stdout",
       "text": [
        "\n",
        "Hong Kong Association of Youth Development - Sha Tin District Branch\n",
        "5467 done."
       ]
      },
      {
       "output_type": "stream",
       "stream": "stdout",
       "text": [
        "\n",
        "Hong Kong Association of Youth Development - Sham Shui Po District Branch\n",
        "5468 done."
       ]
      },
      {
       "output_type": "stream",
       "stream": "stdout",
       "text": [
        "\n",
        "Hong Kong Association of Youth Development - Southern District Branch\n",
        "5469 done."
       ]
      },
      {
       "output_type": "stream",
       "stream": "stdout",
       "text": [
        "\n",
        "Hong Kong Association of Youth Development - Tai Po District Branch\n",
        "5470 done."
       ]
      },
      {
       "output_type": "stream",
       "stream": "stdout",
       "text": [
        "\n",
        "Hong Kong Association of Youth Development - Tsuen Wan District Branch\n",
        "5471 done."
       ]
      },
      {
       "output_type": "stream",
       "stream": "stdout",
       "text": [
        "\n",
        "Hong Kong Association of Youth Development - Tuen Mun District Branch\n",
        "5472 done."
       ]
      },
      {
       "output_type": "stream",
       "stream": "stdout",
       "text": [
        "\n",
        "Hong Kong Association of Youth Development - Wan Chai District Branch\n",
        "5473 done."
       ]
      },
      {
       "output_type": "stream",
       "stream": "stdout",
       "text": [
        "\n",
        "Hong Kong Association of Youth Development - Wong Tai Sin District Branch\n",
        "5474 done."
       ]
      },
      {
       "output_type": "stream",
       "stream": "stdout",
       "text": [
        "\n",
        "Hong Kong Association of Youth Development - Yau Tsim Mong District Branch\n",
        "5475 done."
       ]
      },
      {
       "output_type": "stream",
       "stream": "stdout",
       "text": [
        "\n",
        "Hong Kong Association of Youth Development - Yuen Long District Branch\n",
        "5476 done."
       ]
      },
      {
       "output_type": "stream",
       "stream": "stdout",
       "text": [
        "\n",
        "HONG KONG ASSOCIATION OF YOUTH DEVELOPMENT\n",
        "5477 done."
       ]
      },
      {
       "output_type": "stream",
       "stream": "stdout",
       "text": [
        "\n",
        "HONG KONG ASTHMA SOCIETY\n",
        "5478 done."
       ]
      },
      {
       "output_type": "stream",
       "stream": "stdout",
       "text": [
        "\n",
        "HONG KONG ASTRONOMICAL SOCIETY\n",
        "5479 done."
       ]
      },
      {
       "output_type": "stream",
       "stream": "stdout",
       "text": [
        "\n",
        "HONG KONG AWARD FOR YOUNG PEOPLE\n",
        "5482 done."
       ]
      },
      {
       "output_type": "stream",
       "stream": "stdout",
       "text": [
        "\n",
        "HONG KONG BACH CHOIR\n",
        "5483 done."
       ]
      },
      {
       "output_type": "stream",
       "stream": "stdout",
       "text": [
        "\n",
        "HONG KONG BALLET\n",
        "5484 done."
       ]
      },
      {
       "output_type": "stream",
       "stream": "stdout",
       "text": [
        "\n",
        "Hong Kong Bao Guo Monastry\n",
        "5485 done."
       ]
      },
      {
       "output_type": "stream",
       "stream": "stdout",
       "text": [
        "\n",
        "HONG KONG BAPTIST CHURCH\n",
        "5486 done."
       ]
      },
      {
       "output_type": "stream",
       "stream": "stdout",
       "text": [
        "\n",
        "Hong Kong Baptist Church - Henrietta Chapel\n",
        "5487 done."
       ]
      },
      {
       "output_type": "stream",
       "stream": "stdout",
       "text": [
        "\n",
        "Hong Kong Baptist Church - Shek O Chapel\n",
        "5488 done."
       ]
      },
      {
       "output_type": "stream",
       "stream": "stdout",
       "text": [
        "\n",
        "Hong Kong Baptist Church - Stanley Chapel\n",
        "5489 done."
       ]
      },
      {
       "output_type": "stream",
       "stream": "stdout",
       "text": [
        "\n",
        "Hong Kong Baptist Church Education Board Henrietta School Development Fund\n",
        "5490 done."
       ]
      },
      {
       "output_type": "stream",
       "stream": "stdout",
       "text": [
        "\n",
        "Hong Kong Baptist Church Good Neighbour Chapel\n",
        "5491 done."
       ]
      },
      {
       "output_type": "stream",
       "stream": "stdout",
       "text": [
        "\n",
        "Hong Kong Baptist Convention Primary School\n",
        "5492 done."
       ]
      },
      {
       "output_type": "stream",
       "stream": "stdout",
       "text": [
        "\n",
        "HONG KONG BAPTIST HOSPITAL\n",
        "5493 done."
       ]
      },
      {
       "output_type": "stream",
       "stream": "stdout",
       "text": [
        "\n",
        "HONG KONG BAPTIST KINDERGARTEN EDUCATION CONVENTION\n",
        "5495 done."
       ]
      },
      {
       "output_type": "stream",
       "stream": "stdout",
       "text": [
        "\n",
        "HONG KONG BAPTIST MISSION\n",
        "5496 done."
       ]
      },
      {
       "output_type": "stream",
       "stream": "stdout",
       "text": [
        "\n",
        "Hong Kong Baptist Theological Seminary\n",
        "5499 done."
       ]
      },
      {
       "output_type": "stream",
       "stream": "stdout",
       "text": [
        "\n",
        "Hong Kong Baptist University Chinese Medicine Specialty Centre\n",
        "5502 done."
       ]
      },
      {
       "output_type": "stream",
       "stream": "stdout",
       "text": [
        "\n",
        "Hong Kong Baptist University First HK Island Chinese Medicine Specialty Clinic\n",
        "5503 done."
       ]
      },
      {
       "output_type": "stream",
       "stream": "stdout",
       "text": [
        "\n",
        "Hong Kong Baptist University Mr. & Mrs. Chan Hoi Yin Chinese Medicine Specialty Clinic and Good Clinical Practice Centre\n",
        "5504 done."
       ]
      },
      {
       "output_type": "stream",
       "stream": "stdout",
       "text": [
        "\n",
        "Hong Kong Baptist University School of Chinese Medicine - Lui Seng Chun\n",
        "5505 done."
       ]
      },
      {
       "output_type": "stream",
       "stream": "stdout",
       "text": [
        "\n",
        "Hong Kong Baptist University Tsimshatsui Chinese Medicine Clinic\n",
        "5506 done."
       ]
      },
      {
       "output_type": "stream",
       "stream": "stdout",
       "text": [
        "\n",
        "HONG KONG BAPTIST UNIVERSITY\n",
        "5507 done."
       ]
      },
      {
       "output_type": "stream",
       "stream": "stdout",
       "text": [
        "\n",
        "Hong Kong Baptist Womens Missionary Union\n",
        "5508 done."
       ]
      },
      {
       "output_type": "stream",
       "stream": "stdout",
       "text": [
        "\n",
        "HONG KONG BAR ASSOCIATION - BROOK BERNACCHI BARRISTERS BENEVOLENT FUND\n",
        "5509 done."
       ]
      },
      {
       "output_type": "stream",
       "stream": "stdout",
       "text": [
        "\n",
        "Hong Kong Bethel Church Gideon Kindergarten\n",
        "5514 done."
       ]
      },
      {
       "output_type": "stream",
       "stream": "stdout",
       "text": [
        "\n",
        "Hong Kong Bethel Church Gideon Nursery\n",
        "5515 done."
       ]
      },
      {
       "output_type": "stream",
       "stream": "stdout",
       "text": [
        "\n",
        "HONG KONG BETHEL CHURCH\n",
        "5516 done."
       ]
      },
      {
       "output_type": "stream",
       "stream": "stdout",
       "text": [
        "\n",
        "HONG KONG BIBLE CONFERENCE ASSOCIATION\n",
        "5518 done."
       ]
      },
      {
       "output_type": "stream",
       "stream": "stdout",
       "text": [
        "\n",
        "HONG KONG BIBLE SOCIETY\n",
        "5520 done."
       ]
      },
      {
       "output_type": "stream",
       "stream": "stdout",
       "text": [
        "\n",
        "HONG KONG BIOTECHNOLOGY ORGANIZATION\n",
        "5522 done."
       ]
      },
      {
       "output_type": "stream",
       "stream": "stdout",
       "text": [
        "\n",
        "HONG KONG BLOOD CANCER FOUNDATION\n",
        "5527 done."
       ]
      },
      {
       "output_type": "stream",
       "stream": "stdout",
       "text": [
        "\n",
        "HONG KONG BODHI SIKSA SOCIETY\n",
        "5528 done."
       ]
      },
      {
       "output_type": "stream",
       "stream": "stdout",
       "text": [
        "\n",
        "HONG KONG BONE MARROW TRANSPLANT PATIENTS ASSOCIATION\n",
        "5531 done."
       ]
      },
      {
       "output_type": "stream",
       "stream": "stdout",
       "text": [
        "\n",
        "HONG KONG BRAIN FOUNDATION\n",
        "5532 done."
       ]
      },
      {
       "output_type": "stream",
       "stream": "stdout",
       "text": [
        "\n",
        "HONG KONG BREASTFEEDING MOTHERS ASSOCIATION\n",
        "5534 done."
       ]
      },
      {
       "output_type": "stream",
       "stream": "stdout",
       "text": [
        "\n",
        "Hong Kong Buddhist Association Children & Youth Centre\n",
        "5536 done."
       ]
      },
      {
       "output_type": "stream",
       "stream": "stdout",
       "text": [
        "\n",
        "Hong Kong Buddhist Association Mr. & Mrs. Cheung King Tai Memorial Chinese Medicine Mobile Clinic\n",
        "5537 done."
       ]
      },
      {
       "output_type": "stream",
       "stream": "stdout",
       "text": [
        "\n",
        "Hong Kong Buddhist Association Sha Tin Centre\n",
        "5538 done."
       ]
      },
      {
       "output_type": "stream",
       "stream": "stdout",
       "text": [
        "\n",
        "Hong Kong Buddhist Association Tung Chung Centre\n",
        "5539 done."
       ]
      },
      {
       "output_type": "stream",
       "stream": "stdout",
       "text": [
        "\n",
        "Hong Kong Buddhist Association Ven. Siu Kun Chinese Medicine Clinic\n",
        "5540 done."
       ]
      },
      {
       "output_type": "stream",
       "stream": "stdout",
       "text": [
        "\n",
        "The Buddhist Association\n",
        "5541 done."
       ]
      },
      {
       "output_type": "stream",
       "stream": "stdout",
       "text": [
        "\n",
        "Hong Kong Buddhist Association\n",
        "5542 done."
       ]
      },
      {
       "output_type": "stream",
       "stream": "stdout",
       "text": [
        "\n",
        "Hong Kong Buddhist Cemetery\n",
        "5544 done."
       ]
      },
      {
       "output_type": "stream",
       "stream": "stdout",
       "text": [
        "\n",
        "Hong Kong Buddhist College\n",
        "5547 done."
       ]
      },
      {
       "output_type": "stream",
       "stream": "stdout",
       "text": [
        "\n",
        "Hong Kong Buddhist College\n",
        "5548 done."
       ]
      },
      {
       "output_type": "stream",
       "stream": "stdout",
       "text": [
        "\n",
        "HONG KONG BUDDHIST COMPASSION CHARITY FOUNDATION\n",
        "5549 done."
       ]
      },
      {
       "output_type": "stream",
       "stream": "stdout",
       "text": [
        "\n",
        "HONG KONG BUDDHIST CULTURAL ASSOCIATON\n",
        "5550 done."
       ]
      },
      {
       "output_type": "stream",
       "stream": "stdout",
       "text": [
        "\n",
        "HONG KONG BUDDHIST EDUCATION FOUNDATION\n",
        "5554 done."
       ]
      },
      {
       "output_type": "stream",
       "stream": "stdout",
       "text": [
        "\n",
        "Hong Kong Buddhist Evening College\n",
        "5555 done."
       ]
      },
      {
       "output_type": "stream",
       "stream": "stdout",
       "text": [
        "\n",
        "Hong Kong Buddhist Hospital\n",
        "5556 done."
       ]
      },
      {
       "output_type": "stream",
       "stream": "stdout",
       "text": [
        "\n",
        "Hong Kong Buddhist Sanga Yatra Organization\n",
        "5562 done."
       ]
      },
      {
       "output_type": "stream",
       "stream": "stdout",
       "text": [
        "\n",
        "HONG KONG BUDDHIST SOCIETY FOR THE BLIND\n",
        "5564 done."
       ]
      },
      {
       "output_type": "stream",
       "stream": "stdout",
       "text": [
        "\n",
        "HONG KONG BUDDHIST STUDIES ASSOCIATION\n",
        "5565 done."
       ]
      },
      {
       "output_type": "stream",
       "stream": "stdout",
       "text": [
        "\n",
        "Hong Kong Buddhist Sutra-Printing House\n",
        "5566 done."
       ]
      },
      {
       "output_type": "stream",
       "stream": "stdout",
       "text": [
        "\n",
        "HONG KONG BUDDHIST TRI VIRTUES ADVOCATE CENTRE\n",
        "5567 done."
       ]
      },
      {
       "output_type": "stream",
       "stream": "stdout",
       "text": [
        "\n",
        "HONG KONG BUDDHIST TRUE ENLIGHTENMENT PRACTITIONERS ASSOCIATION\n",
        "5568 done."
       ]
      },
      {
       "output_type": "stream",
       "stream": "stdout",
       "text": [
        "\n",
        "HONG KONG BURNS ASSOCIATION\n",
        "5572 done."
       ]
      },
      {
       "output_type": "stream",
       "stream": "stdout",
       "text": [
        "\n",
        "HONG KONG CAMPUS CRUSADE FOR CHRIST\n",
        "5573 done."
       ]
      },
      {
       "output_type": "stream",
       "stream": "stdout",
       "text": [
        "\n",
        "HONG KONG CANTONESE OPERA ART SQUARE\n",
        "5574 done."
       ]
      },
      {
       "output_type": "stream",
       "stream": "stdout",
       "text": [
        "\n",
        "HONG KONG CARE AND POVERTY RELIEF ASSOCIATION\n",
        "5577 done."
       ]
      },
      {
       "output_type": "stream",
       "stream": "stdout",
       "text": [
        "\n",
        "Hong Kong Cat Refuge\n",
        "5579 done."
       ]
      },
      {
       "output_type": "stream",
       "stream": "stdout",
       "text": [
        "\n",
        "HONG KONG CAT SALVATION ARMY\n",
        "5580 done."
       ]
      },
      {
       "output_type": "stream",
       "stream": "stdout",
       "text": [
        "\n",
        "Hong Kong Catholic Diocesan Schools Service Centre\n",
        "5582 done."
       ]
      },
      {
       "output_type": "stream",
       "stream": "stdout",
       "text": [
        "\n",
        "HONG KONG CATHOLIC LAY MISSIONARY ASSOCIATION\n",
        "5584 done."
       ]
      },
      {
       "output_type": "stream",
       "stream": "stdout",
       "text": [
        "\n",
        "The Catholic Marriage Advisory Council\n",
        "5585 done."
       ]
      },
      {
       "output_type": "stream",
       "stream": "stdout",
       "text": [
        "\n",
        "Hong Kong Catholic Social Communications Office\n",
        "5586 done."
       ]
      },
      {
       "output_type": "stream",
       "stream": "stdout",
       "text": [
        "\n",
        "HONG KONG CELEBRATIONS ASSOCIATION\n",
        "5587 done."
       ]
      },
      {
       "output_type": "stream",
       "stream": "stdout",
       "text": [
        "\n",
        "HONG KONG CELL CHURCH NETWORK\n",
        "5589 done."
       ]
      },
      {
       "output_type": "stream",
       "stream": "stdout",
       "text": [
        "\n",
        "Hong Kong Central College\n",
        "5592 done."
       ]
      },
      {
       "output_type": "stream",
       "stream": "stdout",
       "text": [
        "\n",
        "Hong Kong Central Council of Catholic Laity\n",
        "5593 done."
       ]
      },
      {
       "output_type": "stream",
       "stream": "stdout",
       "text": [
        "\n",
        "HONG KONG CENTRE FOR ECONOMIC RESEARCH\n",
        "5594 done."
       ]
      },
      {
       "output_type": "stream",
       "stream": "stdout",
       "text": [
        "\n",
        "HONG KONG CHAMBER ORCHESTRA\n",
        "5598 done."
       ]
      },
      {
       "output_type": "stream",
       "stream": "stdout",
       "text": [
        "\n",
        "HONG KONG CHARITY ASSOCIATION\n",
        "5600 done."
       ]
      },
      {
       "output_type": "stream",
       "stream": "stdout",
       "text": [
        "\n",
        "Hong Kong Chef School\n",
        "5602 done."
       ]
      },
      {
       "output_type": "stream",
       "stream": "stdout",
       "text": [
        "\n",
        "Hong Kong Chi To Church\n",
        "5606 done."
       ]
      },
      {
       "output_type": "stream",
       "stream": "stdout",
       "text": [
        "\n",
        "HONG KONG CHILDHEALTH FOUNDATION\n",
        "5608 done."
       ]
      },
      {
       "output_type": "stream",
       "stream": "stdout",
       "text": [
        "\n",
        "HONG KONG CHILDHOOD INJURY PREVENTION AND RESEARCH ASSOCIATION\n",
        "5609 done."
       ]
      },
      {
       "output_type": "stream",
       "stream": "stdout",
       "text": [
        "\n",
        "HONG KONG CHILDREN AND YOUTH SERVICES\n",
        "5611 done."
       ]
      },
      {
       "output_type": "stream",
       "stream": "stdout",
       "text": [
        "\n",
        "HONG KONG CHILDRENS ARTS SOCIETY\n",
        "5614 done."
       ]
      },
      {
       "output_type": "stream",
       "stream": "stdout",
       "text": [
        "\n",
        "HONG KONG CHILDRENS CHOIR\n",
        "5615 done."
       ]
      },
      {
       "output_type": "stream",
       "stream": "stdout",
       "text": [
        "\n",
        "HONG KONG CHILDRENS MUSICAL THEATRE\n",
        "5616 done."
       ]
      },
      {
       "output_type": "stream",
       "stream": "stdout",
       "text": [
        "\n",
        "HONG KONG CHILDRENS SYMPHONY ORCHESTRA\n",
        "5619 done."
       ]
      },
      {
       "output_type": "stream",
       "stream": "stdout",
       "text": [
        "\n",
        "HONG KONG CHINA EDUCATION FUND\n",
        "5620 done."
       ]
      },
      {
       "output_type": "stream",
       "stream": "stdout",
       "text": [
        "\n",
        "HONG KONG CHINA FOUNDATION\n",
        "5621 done."
       ]
      },
      {
       "output_type": "stream",
       "stream": "stdout",
       "text": [
        "\n",
        "HONG KONG CHINESE CHRISTIAN CHURCHES UNION\n",
        "5624 done."
       ]
      },
      {
       "output_type": "stream",
       "stream": "stdout",
       "text": [
        "\n",
        "Hong Kong Chinese Church of Christ\n",
        "5628 done."
       ]
      },
      {
       "output_type": "stream",
       "stream": "stdout",
       "text": [
        "\n",
        "Hong Kong Chinese Church of Christ The Light Kindergarten\n",
        "5630 done."
       ]
      },
      {
       "output_type": "stream",
       "stream": "stdout",
       "text": [
        "\n",
        "HONG KONG CHINESE CHURCH OF CHRIST\n",
        "5631 done."
       ]
      },
      {
       "output_type": "stream",
       "stream": "stdout",
       "text": [
        "\n",
        "HONG KONG CHINESE CHURCH OF CHRIST\n",
        "5632 done."
       ]
      },
      {
       "output_type": "stream",
       "stream": "stdout",
       "text": [
        "\n",
        "HONG KONG CHINESE ORATORIO SOCIETY\n",
        "5637 done."
       ]
      },
      {
       "output_type": "stream",
       "stream": "stdout",
       "text": [
        "\n",
        "HONG KONG CHINESE ORCHESTRA\n",
        "5638 done."
       ]
      },
      {
       "output_type": "stream",
       "stream": "stdout",
       "text": [
        "\n",
        "Hong Kong Chinese Womens Club\n",
        "5641 done."
       ]
      },
      {
       "output_type": "stream",
       "stream": "stdout",
       "text": [
        "\n",
        "Hong Kong Chinese Womens Club College\n",
        "5642 done."
       ]
      },
      {
       "output_type": "stream",
       "stream": "stdout",
       "text": [
        "\n",
        "Hong Kong Chinese Womens Club Dr. Ellen Li Learning Centre\n",
        "5643 done."
       ]
      },
      {
       "output_type": "stream",
       "stream": "stdout",
       "text": [
        "\n",
        "Hong Kong Chinese Womens Club Fung Yiu King Memorial Secondary School\n",
        "5644 done."
       ]
      },
      {
       "output_type": "stream",
       "stream": "stdout",
       "text": [
        "\n",
        "Hong Kong Chinese Womens Club Hioe Tjo Yoeng Primary School\n",
        "5645 done."
       ]
      },
      {
       "output_type": "stream",
       "stream": "stdout",
       "text": [
        "\n",
        "Hong Kong Chinese Womens Club Madam Wong Chan Sook Ying Memorial Care and Attention Home for The Aged\n",
        "5646 done."
       ]
      },
      {
       "output_type": "stream",
       "stream": "stdout",
       "text": [
        "\n",
        "Hong Kong Chinese Womens Club Nursery School\n",
        "5647 done."
       ]
      },
      {
       "output_type": "stream",
       "stream": "stdout",
       "text": [
        "\n",
        "Hong Kong Chinese Womens Club Yau Lai Day Care Centre For The Elderly\n",
        "5648 done."
       ]
      },
      {
       "output_type": "stream",
       "stream": "stdout",
       "text": [
        "\n",
        "HONG KONG CHOIR OF OUTSTANDING CHILDREN\n",
        "5658 done."
       ]
      },
      {
       "output_type": "stream",
       "stream": "stdout",
       "text": [
        "\n",
        "HONG KONG CHOIR OF OUTSTANDING CHILDREN\n",
        "5659 done."
       ]
      },
      {
       "output_type": "stream",
       "stream": "stdout",
       "text": [
        "\n",
        "HONG KONG CHRISTIAN AI HUA ASSOCIATION\n",
        "5662 done."
       ]
      },
      {
       "output_type": "stream",
       "stream": "stdout",
       "text": [
        "\n",
        "HONG KONG CHRISTIAN CANCER CARE ASSOCIATION\n",
        "5664 done."
       ]
      },
      {
       "output_type": "stream",
       "stream": "stdout",
       "text": [
        "\n",
        "HONG KONG CHRISTIAN CHINESE ORCHESTRA SOCIETY\n",
        "5665 done."
       ]
      },
      {
       "output_type": "stream",
       "stream": "stdout",
       "text": [
        "\n",
        "Hong Kong Christian Council\n",
        "5668 done."
       ]
      },
      {
       "output_type": "stream",
       "stream": "stdout",
       "text": [
        "\n",
        "HONG KONG CHRISTIAN COUNSELING SERVICE\n",
        "5669 done."
       ]
      },
      {
       "output_type": "stream",
       "stream": "stdout",
       "text": [
        "\n",
        "HONG KONG CHRISTIAN EVANGELISTIC PREACHING BAND\n",
        "5671 done."
       ]
      },
      {
       "output_type": "stream",
       "stream": "stdout",
       "text": [
        "\n",
        "Hong Kong Christian Industrial Committee\n",
        "5673 done."
       ]
      },
      {
       "output_type": "stream",
       "stream": "stdout",
       "text": [
        "\n",
        "Hong Kong Christian Service Bradbury Retreat Centre\n",
        "5680 done."
       ]
      },
      {
       "output_type": "stream",
       "stream": "stdout",
       "text": [
        "\n",
        "Hong Kong Christian Service Central Nursery School\n",
        "5681 done."
       ]
      },
      {
       "output_type": "stream",
       "stream": "stdout",
       "text": [
        "\n",
        "Hong Kong Christian Service Kwun Tong Nursery School\n",
        "5682 done."
       ]
      },
      {
       "output_type": "stream",
       "stream": "stdout",
       "text": [
        "\n",
        "Hong Kong Christian Service Lei Cheng Uk Nursery School\n",
        "5683 done."
       ]
      },
      {
       "output_type": "stream",
       "stream": "stdout",
       "text": [
        "\n",
        "Hong Kong Christian Service Shek Kip Mei Nursery School\n",
        "5684 done."
       ]
      },
      {
       "output_type": "stream",
       "stream": "stdout",
       "text": [
        "\n",
        "Hong Kong Christian Service Tai Hang Tung Nursery School\n",
        "5685 done."
       ]
      },
      {
       "output_type": "stream",
       "stream": "stdout",
       "text": [
        "\n",
        "Hong Kong Christian Service Tin Heng Nursery School\n",
        "5686 done."
       ]
      },
      {
       "output_type": "stream",
       "stream": "stdout",
       "text": [
        "\n",
        "HONG KONG CHRISTIAN SHORT TERM MISSION TRAINING CENTRE\n",
        "5687 done."
       ]
      },
      {
       "output_type": "stream",
       "stream": "stdout",
       "text": [
        "\n",
        "HONG KONG CHURCH NETWORK FOR THE POOR\n",
        "5696 done."
       ]
      },
      {
       "output_type": "stream",
       "stream": "stdout",
       "text": [
        "\n",
        "HONG KONG CHURCH RENEWAL MOVEMENT\n",
        "5699 done."
       ]
      },
      {
       "output_type": "stream",
       "stream": "stdout",
       "text": [
        "\n",
        "HONG KONG CITY CHURCH\n",
        "5700 done."
       ]
      },
      {
       "output_type": "stream",
       "stream": "stdout",
       "text": [
        "\n",
        "HONG KONG CIVIC EDUCATION FOUNDATION\n",
        "5702 done."
       ]
      },
      {
       "output_type": "stream",
       "stream": "stdout",
       "text": [
        "\n",
        "HONG KONG COLLEGE OF ANAESTHESIOLOGISTS\n",
        "5704 done."
       ]
      },
      {
       "output_type": "stream",
       "stream": "stdout",
       "text": [
        "\n",
        "HONG KONG COLLEGE OF CARDIOLOGY\n",
        "5705 done."
       ]
      },
      {
       "output_type": "stream",
       "stream": "stdout",
       "text": [
        "\n",
        "HONG KONG COLLEGE OF COMMUNITY MEDICINE\n",
        "5706 done."
       ]
      },
      {
       "output_type": "stream",
       "stream": "stdout",
       "text": [
        "\n",
        "HONG KONG COLLEGE OF EMERGENCY MEDICINE\n",
        "5708 done."
       ]
      },
      {
       "output_type": "stream",
       "stream": "stdout",
       "text": [
        "\n",
        "HONG KONG COLLEGE OF MENTAL HEALTH NURSING\n",
        "5709 done."
       ]
      },
      {
       "output_type": "stream",
       "stream": "stdout",
       "text": [
        "\n",
        "HONG KONG COLLEGE OF OBSTETRICIANS AND GYNAECOLOGISTS\n",
        "5710 done."
       ]
      },
      {
       "output_type": "stream",
       "stream": "stdout",
       "text": [
        "\n",
        "HONG KONG COLLEGE OF ORTHOPAEDIC SURGEONS\n",
        "5711 done."
       ]
      },
      {
       "output_type": "stream",
       "stream": "stdout",
       "text": [
        "\n",
        "HONG KONG COLLEGE OF PAEDIATRICIANS\n",
        "5713 done."
       ]
      },
      {
       "output_type": "stream",
       "stream": "stdout",
       "text": [
        "\n",
        "HONG KONG COLLEGE OF PATHOLOGISTS\n",
        "5715 done."
       ]
      },
      {
       "output_type": "stream",
       "stream": "stdout",
       "text": [
        "\n",
        "HONG KONG COLLEGE OF PHYSICIANS\n",
        "5716 done."
       ]
      },
      {
       "output_type": "stream",
       "stream": "stdout",
       "text": [
        "\n",
        "HONG KONG COLLEGE OF PSYCHIATRISTS\n",
        "5717 done."
       ]
      },
      {
       "output_type": "stream",
       "stream": "stdout",
       "text": [
        "\n",
        "Hong Kong College of Technology\n",
        "5719 done."
       ]
      },
      {
       "output_type": "stream",
       "stream": "stdout",
       "text": [
        "\n",
        "The Committee on Children\ufffds Right\n",
        "5721 done."
       ]
      },
      {
       "output_type": "stream",
       "stream": "stdout",
       "text": [
        "\n",
        "HONG KONG COMMUNITY DEVELOPMENT NETWORK\n",
        "5724 done."
       ]
      },
      {
       "output_type": "stream",
       "stream": "stdout",
       "text": [
        "\n",
        "Hong Kong Confederation of Trade Union Training Centre\n",
        "5730 done."
       ]
      },
      {
       "output_type": "stream",
       "stream": "stdout",
       "text": [
        "\n",
        "Hong Kong Conference of the Free Methodist Church\n",
        "5731 done."
       ]
      },
      {
       "output_type": "stream",
       "stream": "stdout",
       "text": [
        "\n",
        "HONG KONG CONSERVATIVE BAPTIST CHURCH ASSOCIATION\n",
        "5733 done."
       ]
      },
      {
       "output_type": "stream",
       "stream": "stdout",
       "text": [
        "\n",
        "HONG KONG CORNEA CONCERN ASSOCIATION\n",
        "5736 done."
       ]
      },
      {
       "output_type": "stream",
       "stream": "stdout",
       "text": [
        "\n",
        "Hong Kong Council of the Church of Christ in China Family Web\n",
        "5742 done."
       ]
      },
      {
       "output_type": "stream",
       "stream": "stdout",
       "text": [
        "\n",
        "HONG KONG COUNCIL OF THE CHURCH OF CHRIST IN CHINA\n",
        "5743 done."
       ]
      },
      {
       "output_type": "stream",
       "stream": "stdout",
       "text": [
        "\n",
        "HONG KONG COUNCIL ON SMOKING AND HEALTH\n",
        "5745 done."
       ]
      },
      {
       "output_type": "stream",
       "stream": "stdout",
       "text": [
        "\n",
        "HONG KONG CULTURE ASSOCIATION CHARITABLE FOUNDATION\n",
        "5752 done."
       ]
      },
      {
       "output_type": "stream",
       "stream": "stdout",
       "text": [
        "\n",
        "HONG KONG DANCE\n",
        "5755 done."
       ]
      },
      {
       "output_type": "stream",
       "stream": "stdout",
       "text": [
        "\n",
        "HONG KONG DEVELOPMENT FORUM\n",
        "5759 done."
       ]
      },
      {
       "output_type": "stream",
       "stream": "stdout",
       "text": [
        "\n",
        "Hong Kong Diocesan Finance Campaign Fund\n",
        "5764 done."
       ]
      },
      {
       "output_type": "stream",
       "stream": "stdout",
       "text": [
        "\n",
        "Hong Kong Diocesan Finance Committee\n",
        "5765 done."
       ]
      },
      {
       "output_type": "stream",
       "stream": "stdout",
       "text": [
        "\n",
        "HONG KONG DISASTER MEDICINE ASSOCIATION\n",
        "5767 done."
       ]
      },
      {
       "output_type": "stream",
       "stream": "stdout",
       "text": [
        "\n",
        "HONG KONG DRAMA/THEATRE AND EDUCATION FORUM\n",
        "5774 done."
       ]
      },
      {
       "output_type": "stream",
       "stream": "stdout",
       "text": [
        "\n",
        "Hong Kong Dream Art Center\n",
        "5775 done."
       ]
      },
      {
       "output_type": "stream",
       "stream": "stdout",
       "text": [
        "\n",
        "Hong Kong East Continuing Education Centre\n",
        "5776 done."
       ]
      },
      {
       "output_type": "stream",
       "stream": "stdout",
       "text": [
        "\n",
        "Hong Kong East Family Development Service Centre\n",
        "5777 done."
       ]
      },
      {
       "output_type": "stream",
       "stream": "stdout",
       "text": [
        "\n",
        "HONG KONG EATING DISORDERS ASSOCIATION\n",
        "5779 done."
       ]
      },
      {
       "output_type": "stream",
       "stream": "stdout",
       "text": [
        "\n",
        "Hong Kong Educational Information Centre\n",
        "5787 done."
       ]
      },
      {
       "output_type": "stream",
       "stream": "stdout",
       "text": [
        "\n",
        "Hong Kong Energy Performing Arts Centre\n",
        "5794 done."
       ]
      },
      {
       "output_type": "stream",
       "stream": "stdout",
       "text": [
        "\n",
        "Hong Kong Eng Clansman Association Wu Si\n",
        "5796 done."
       ]
      },
      {
       "output_type": "stream",
       "stream": "stdout",
       "text": [
        "\n",
        "HONG KONG ENTOMOLOGICAL SOCIETY\n",
        "5798 done."
       ]
      },
      {
       "output_type": "stream",
       "stream": "stdout",
       "text": [
        "\n",
        "HONG KONG EPILEPSY ASSOCIATION\n",
        "5799 done."
       ]
      },
      {
       "output_type": "stream",
       "stream": "stdout",
       "text": [
        "\n",
        "HONG KONG EVANGELICAL CHURCH\n",
        "5800 done."
       ]
      },
      {
       "output_type": "stream",
       "stream": "stdout",
       "text": [
        "\n",
        "Hong Kong Evangelical Church Bradbury Sheung Shui Family Center\n",
        "5801 done."
       ]
      },
      {
       "output_type": "stream",
       "stream": "stdout",
       "text": [
        "\n",
        "Hong Kong Evangelical Church Bradbury Sheung Shui Family Centre\n",
        "5802 done."
       ]
      },
      {
       "output_type": "stream",
       "stream": "stdout",
       "text": [
        "\n",
        "Hong Kong Evangelical Church Bradbury Sheung Shui Family Centre Integrated Home Care Services Team\n",
        "5803 done."
       ]
      },
      {
       "output_type": "stream",
       "stream": "stdout",
       "text": [
        "\n",
        "Hong Kong Evangelical Church Fanling Family Centre\n",
        "5804 done."
       ]
      },
      {
       "output_type": "stream",
       "stream": "stdout",
       "text": [
        "\n",
        "Hong Kong Evangelical Church Ko Chiu Road Reading Centre\n",
        "5805 done."
       ]
      },
      {
       "output_type": "stream",
       "stream": "stdout",
       "text": [
        "\n",
        "Hong Kong Evangelical Church School Services Team\n",
        "5806 done."
       ]
      },
      {
       "output_type": "stream",
       "stream": "stdout",
       "text": [
        "\n",
        "Hong Kong Evangelical Church Yam Lam Community Service Centre\n",
        "5807 done."
       ]
      },
      {
       "output_type": "stream",
       "stream": "stdout",
       "text": [
        "\n",
        "Hong Kong Evangelical Church Yan Fook Church\n",
        "5808 done."
       ]
      },
      {
       "output_type": "stream",
       "stream": "stdout",
       "text": [
        "\n",
        "Hong Kong Evangelical Church Yan Tsuen Neighbourhood Centre\n",
        "5809 done."
       ]
      },
      {
       "output_type": "stream",
       "stream": "stdout",
       "text": [
        "\n",
        "Hong Kong Evangelical Church Yan Tsuen Reading Centre\n",
        "5810 done."
       ]
      },
      {
       "output_type": "stream",
       "stream": "stdout",
       "text": [
        "\n",
        "Hong Kong Evangelical Church Yan Yau Church\n",
        "5811 done."
       ]
      },
      {
       "output_type": "stream",
       "stream": "stdout",
       "text": [
        "\n",
        "Hong Kong Evangelical Church\n",
        "5812 done."
       ]
      },
      {
       "output_type": "stream",
       "stream": "stdout",
       "text": [
        "\n",
        "HONG KONG EVANGELICAL DANCING TROOP\n",
        "5813 done."
       ]
      },
      {
       "output_type": "stream",
       "stream": "stdout",
       "text": [
        "\n",
        "Hong Kong Evangelical Incarnation Church\n",
        "5815 done."
       ]
      },
      {
       "output_type": "stream",
       "stream": "stdout",
       "text": [
        "\n",
        "Hong Kong Evangelical Logos Church\n",
        "5816 done."
       ]
      },
      {
       "output_type": "stream",
       "stream": "stdout",
       "text": [
        "\n",
        "Hong Kong Evangelical Yan Chaak Church\n",
        "5817 done."
       ]
      },
      {
       "output_type": "stream",
       "stream": "stdout",
       "text": [
        "\n",
        "Hong Kong Evangelical Yan Ching Church\n",
        "5818 done."
       ]
      },
      {
       "output_type": "stream",
       "stream": "stdout",
       "text": [
        "\n",
        "Hong Kong Evangelical Yan Chiu Church\n",
        "5819 done."
       ]
      },
      {
       "output_type": "stream",
       "stream": "stdout",
       "text": [
        "\n",
        "Hong Kong Evangelical Yan Din Church\n",
        "5820 done."
       ]
      },
      {
       "output_type": "stream",
       "stream": "stdout",
       "text": [
        "\n",
        "Hong Kong Evangelical Yan Ho Church\n",
        "5821 done."
       ]
      },
      {
       "output_type": "stream",
       "stream": "stdout",
       "text": [
        "\n",
        "Hong Kong Evangelical Yan Kei Church\n",
        "5822 done."
       ]
      },
      {
       "output_type": "stream",
       "stream": "stdout",
       "text": [
        "\n",
        "Hong Kong Evangelical Yan Kwong Church\n",
        "5823 done."
       ]
      },
      {
       "output_type": "stream",
       "stream": "stdout",
       "text": [
        "\n",
        "Hong Kong Evangelical Yan Lam Church\n",
        "5824 done."
       ]
      },
      {
       "output_type": "stream",
       "stream": "stdout",
       "text": [
        "\n",
        "Hong Kong Evangelical Yan Tin Church\n",
        "5825 done."
       ]
      },
      {
       "output_type": "stream",
       "stream": "stdout",
       "text": [
        "\n",
        "Hong Kong Evangelical Yan Yat Church\n",
        "5826 done."
       ]
      },
      {
       "output_type": "stream",
       "stream": "stdout",
       "text": [
        "\n",
        "Hong Kong Evangelical Yan Ying Church\n",
        "5827 done."
       ]
      },
      {
       "output_type": "stream",
       "stream": "stdout",
       "text": [
        "\n",
        "Hong Kong Evangelical Yan Yiu Church\n",
        "5828 done."
       ]
      },
      {
       "output_type": "stream",
       "stream": "stdout",
       "text": [
        "\n",
        "Hong Kong Evangelical Yan Yue Church\n",
        "5829 done."
       ]
      },
      {
       "output_type": "stream",
       "stream": "stdout",
       "text": [
        "\n",
        "HONG KONG EVANGELICAL ZION CHURCH\n",
        "5830 done."
       ]
      },
      {
       "output_type": "stream",
       "stream": "stdout",
       "text": [
        "\n",
        "HONG KONG EXAMINATIONS AND ASSESSMENT AUTHORITY\n",
        "5834 done."
       ]
      },
      {
       "output_type": "stream",
       "stream": "stdout",
       "text": [
        "\n",
        "HONG KONG EYE FOUNDATION\n",
        "5836 done."
       ]
      },
      {
       "output_type": "stream",
       "stream": "stdout",
       "text": [
        "\n",
        "Hong Kong Eye Hospital\n",
        "5837 done."
       ]
      },
      {
       "output_type": "stream",
       "stream": "stdout",
       "text": [
        "\n",
        "HONG KONG FAMILY FEDERATION FOR WORLD PEACE AND UNIFICATION\n",
        "5840 done."
       ]
      },
      {
       "output_type": "stream",
       "stream": "stdout",
       "text": [
        "\n",
        "HONG KONG FAMILYLINK MENTAL HEALTH ADVOCACY ASSOCIATION\n",
        "5841 done."
       ]
      },
      {
       "output_type": "stream",
       "stream": "stdout",
       "text": [
        "\n",
        "Hong Kong Federation of Primary School Campus TV\n",
        "5850 done."
       ]
      },
      {
       "output_type": "stream",
       "stream": "stdout",
       "text": [
        "\n",
        "Hong Kong Federation of Secondary School Campus TV\n",
        "5852 done."
       ]
      },
      {
       "output_type": "stream",
       "stream": "stdout",
       "text": [
        "\n",
        "Hong Kong Federation of Trade Unions\n",
        "5854 done."
       ]
      },
      {
       "output_type": "stream",
       "stream": "stdout",
       "text": [
        "\n",
        "Hong Kong Federation of Trade Unions Hong Ling Foundation for The Well- Being of The Elderly Tokwawan Social Centre for the Elderly\n",
        "5856 done."
       ]
      },
      {
       "output_type": "stream",
       "stream": "stdout",
       "text": [
        "\n",
        "Hong Kong Federation of Trade Unions Hong Ling Foundation for the Well- Being of the Elderly-Tsui Ping Elderly Center\n",
        "5857 done."
       ]
      },
      {
       "output_type": "stream",
       "stream": "stdout",
       "text": [
        "\n",
        "The Federation of Trade unions Hong Ling Society for the Well-Being of the Elderly\n",
        "5858 done."
       ]
      },
      {
       "output_type": "stream",
       "stream": "stdout",
       "text": [
        "\n",
        "Hong Kong Federation of Trade Unions Workers Medical Clinics\n",
        "5859 done."
       ]
      },
      {
       "output_type": "stream",
       "stream": "stdout",
       "text": [
        "\n",
        "Hong Kong Federation of Trade Unions Workers Medical Clinics\n",
        "5860 done."
       ]
      },
      {
       "output_type": "stream",
       "stream": "stdout",
       "text": [
        "\n",
        "Hong Kong Federation of Trade Unions Workers Medical Clinics\n",
        "5861 done."
       ]
      },
      {
       "output_type": "stream",
       "stream": "stdout",
       "text": [
        "\n",
        "Hong Kong Federation of Trade Unions Workers Medical Clinics\n",
        "5862 done."
       ]
      },
      {
       "output_type": "stream",
       "stream": "stdout",
       "text": [
        "\n",
        "Hong Kong Federation of Trade Unions Workers Medical Clinics\n",
        "5863 done."
       ]
      },
      {
       "output_type": "stream",
       "stream": "stdout",
       "text": [
        "\n",
        "Hong Kong Federation of Trade Unions Workers Medical Clinics\n",
        "5864 done."
       ]
      },
      {
       "output_type": "stream",
       "stream": "stdout",
       "text": [
        "\n",
        "Hong Kong Federation of Trade Unions Workers Medical Clinics\n",
        "5865 done."
       ]
      },
      {
       "output_type": "stream",
       "stream": "stdout",
       "text": [
        "\n",
        "Hong Kong Federation of Trade Unions Workers Medical Clinics\n",
        "5866 done."
       ]
      },
      {
       "output_type": "stream",
       "stream": "stdout",
       "text": [
        "\n",
        "Hong Kong Federation of Trade Unions Workers Medical Clinics\n",
        "5867 done."
       ]
      },
      {
       "output_type": "stream",
       "stream": "stdout",
       "text": [
        "\n",
        "Hong Kong Federation of Trade Unions Workers Medical Clinics\n",
        "5868 done."
       ]
      },
      {
       "output_type": "stream",
       "stream": "stdout",
       "text": [
        "\n",
        "Hong Kong Federation of Trade Unions Workers Medical Clinics\n",
        "5869 done."
       ]
      },
      {
       "output_type": "stream",
       "stream": "stdout",
       "text": [
        "\n",
        "Hong Kong Federation of Trade Unions Workers Medical Clinics\n",
        "5870 done."
       ]
      },
      {
       "output_type": "stream",
       "stream": "stdout",
       "text": [
        "\n",
        "Hong Kong Federation of Trade Unions Workers Medical Clinics\n",
        "5871 done."
       ]
      },
      {
       "output_type": "stream",
       "stream": "stdout",
       "text": [
        "\n",
        "Hong Kong Federation of Trade Unions Workers Medical Clinics\n",
        "5872 done."
       ]
      },
      {
       "output_type": "stream",
       "stream": "stdout",
       "text": [
        "\n",
        "Hong Kong Federation of Trade Unions Workers Medical Clinics\n",
        "5873 done."
       ]
      },
      {
       "output_type": "stream",
       "stream": "stdout",
       "text": [
        "\n",
        "Hong Kong Federation of Trade Unions Workers Medical Clinics\n",
        "5874 done."
       ]
      },
      {
       "output_type": "stream",
       "stream": "stdout",
       "text": [
        "\n",
        "HONG KONG FEDERATION OF TRADE UNIONS WORKERS MEDICAL CLINICS\n",
        "5875 done."
       ]
      },
      {
       "output_type": "stream",
       "stream": "stdout",
       "text": [
        "\n",
        "HONG KONG FEDERATION OF WOMEN LAWYERS CHARITABLE FOUNDATION TRUST\n",
        "5876 done."
       ]
      },
      {
       "output_type": "stream",
       "stream": "stdout",
       "text": [
        "\n",
        "HONG KONG FEDERATION OF WOMEN\n",
        "5877 done."
       ]
      },
      {
       "output_type": "stream",
       "stream": "stdout",
       "text": [
        "\n",
        "Hong Kong Federation of Youth Groups Ching Lok Kindergarten\n",
        "5880 done."
       ]
      },
      {
       "output_type": "stream",
       "stream": "stdout",
       "text": [
        "\n",
        "Hong Kong Federation of Youth Groups Ching Lok Kindergarten\n",
        "5881 done."
       ]
      },
      {
       "output_type": "stream",
       "stream": "stdout",
       "text": [
        "\n",
        "Hong Kong Federation of Youth Groups Ching Lok Nursery\n",
        "5882 done."
       ]
      },
      {
       "output_type": "stream",
       "stream": "stdout",
       "text": [
        "\n",
        "Hong Kong Federation of Youth Groups Ching Lok Nursery\n",
        "5883 done."
       ]
      },
      {
       "output_type": "stream",
       "stream": "stdout",
       "text": [
        "\n",
        "Hong Kong Federation of Youth Groups Continuous Education Centre\n",
        "5884 done."
       ]
      },
      {
       "output_type": "stream",
       "stream": "stdout",
       "text": [
        "\n",
        "Hong Kong Federation of Youth Groups KK Cheng Kindergarten\n",
        "5885 done."
       ]
      },
      {
       "output_type": "stream",
       "stream": "stdout",
       "text": [
        "\n",
        "HONG KONG FEDERATION OF YOUTH GROUPS\n",
        "5886 done."
       ]
      },
      {
       "output_type": "stream",
       "stream": "stdout",
       "text": [
        "\n",
        "HONG KONG FILM ART ASSOCIATION\n",
        "5888 done."
       ]
      },
      {
       "output_type": "stream",
       "stream": "stdout",
       "text": [
        "\n",
        "HONG KONG FIRE SERVICES CHRISTIAN FELLOWSHIP\n",
        "5889 done."
       ]
      },
      {
       "output_type": "stream",
       "stream": "stdout",
       "text": [
        "\n",
        "HONG KONG FIRE SERVICES DEPARTMENT VOLUNTEER TEAM\n",
        "5890 done."
       ]
      },
      {
       "output_type": "stream",
       "stream": "stdout",
       "text": [
        "\n",
        "Hong Kong Foochow Dialect Evangelistic Fellowship Tsuen Wan Church\n",
        "5893 done."
       ]
      },
      {
       "output_type": "stream",
       "stream": "stdout",
       "text": [
        "\n",
        "HONG KONG FRIENDS OF GUANGMING ASSOCIATION\n",
        "5899 done."
       ]
      },
      {
       "output_type": "stream",
       "stream": "stdout",
       "text": [
        "\n",
        "HONG KONG FUJIAN CHARITABLE EDUCATION FUND\n",
        "5904 done."
       ]
      },
      {
       "output_type": "stream",
       "stream": "stdout",
       "text": [
        "\n",
        "HONG KONG GAMBLERS RECOVERY CENTRE\n",
        "5907 done."
       ]
      },
      {
       "output_type": "stream",
       "stream": "stdout",
       "text": [
        "\n",
        "HONG KONG GERIATRICS SOCIETY\n",
        "5912 done."
       ]
      },
      {
       "output_type": "stream",
       "stream": "stdout",
       "text": [
        "\n",
        "HONG KONG GIRL GUIDES ASSOCIATION\n",
        "5914 done."
       ]
      },
      {
       "output_type": "stream",
       "stream": "stdout",
       "text": [
        "\n",
        "Hong Kong Girl Guides Sandilands Centre\n",
        "5915 done."
       ]
      },
      {
       "output_type": "stream",
       "stream": "stdout",
       "text": [
        "\n",
        "Hong Kong Girl Guides Yuen Long Recreation Centre\n",
        "5916 done."
       ]
      },
      {
       "output_type": "stream",
       "stream": "stdout",
       "text": [
        "\n",
        "HONG KONG GOSPEL MARTIAL ARTS MINISTRY\n",
        "5920 done."
       ]
      },
      {
       "output_type": "stream",
       "stream": "stdout",
       "text": [
        "\n",
        "HONG KONG GRACE BAPTIST CHURCH\n",
        "5921 done."
       ]
      },
      {
       "output_type": "stream",
       "stream": "stdout",
       "text": [
        "\n",
        "HONG KONG H.E.A.R.T. CLUB\n",
        "5928 done."
       ]
      },
      {
       "output_type": "stream",
       "stream": "stdout",
       "text": [
        "\n",
        "HONG KONG HAEMOPHILIA SOCIETY\n",
        "5929 done."
       ]
      },
      {
       "output_type": "stream",
       "stream": "stdout",
       "text": [
        "\n",
        "Hong Kong Harbour Mission Church Yan Oi Kindergarten\n",
        "5930 done."
       ]
      },
      {
       "output_type": "stream",
       "stream": "stdout",
       "text": [
        "\n",
        "Hong Kong Harbour Mission Church Yan Oi Nursery\n",
        "5931 done."
       ]
      },
      {
       "output_type": "stream",
       "stream": "stdout",
       "text": [
        "\n",
        "HONG KONG HARMONICA ASSOCIATION\n",
        "5933 done."
       ]
      },
      {
       "output_type": "stream",
       "stream": "stdout",
       "text": [
        "\n",
        "HONG KONG HEALTH CARE FEDERATION\n",
        "5935 done."
       ]
      },
      {
       "output_type": "stream",
       "stream": "stdout",
       "text": [
        "\n",
        "HONG KONG HEALTH EDUCATION AND HEALTH PROMOTION FOUNDATION\n",
        "5937 done."
       ]
      },
      {
       "output_type": "stream",
       "stream": "stdout",
       "text": [
        "\n",
        "HONG KONG HEALTH PRODUCTS CHARITABLE\n",
        "5938 done."
       ]
      },
      {
       "output_type": "stream",
       "stream": "stdout",
       "text": [
        "\n",
        "HONG KONG HEART FOUNDATION\n",
        "5939 done."
       ]
      },
      {
       "output_type": "stream",
       "stream": "stdout",
       "text": [
        "\n",
        "HONG KONG HEREDITARY BREAST CANCER FAMILY REGISTRY\n",
        "5943 done."
       ]
      },
      {
       "output_type": "stream",
       "stream": "stdout",
       "text": [
        "\n",
        "HONG KONG HOUSING SOCIETY\n",
        "5958 done."
       ]
      },
      {
       "output_type": "stream",
       "stream": "stdout",
       "text": [
        "\n",
        "HONG KONG HUMAN RIGHTS MONITOR EDUCATION CHARITABLE TRUST\n",
        "5961 done."
       ]
      },
      {
       "output_type": "stream",
       "stream": "stdout",
       "text": [
        "\n",
        "HONG KONG HUNG YUEN BUDDHIST SOCIETY\n",
        "5962 done."
       ]
      },
      {
       "output_type": "stream",
       "stream": "stdout",
       "text": [
        "\n",
        "HONG KONG HYMN SOCIETY\n",
        "5963 done."
       ]
      },
      {
       "output_type": "stream",
       "stream": "stdout",
       "text": [
        "\n",
        "HONG KONG INSIGHT MEDITATION SOCIETY\n",
        "5969 done."
       ]
      },
      {
       "output_type": "stream",
       "stream": "stdout",
       "text": [
        "\n",
        "HONG KONG INSTITUTE FOR PROMOTION OF CHINESE CULTURE\n",
        "5970 done."
       ]
      },
      {
       "output_type": "stream",
       "stream": "stdout",
       "text": [
        "\n",
        "HONG KONG INSTITUTE OF AESTHETIC EDUCATION\n",
        "5972 done."
       ]
      },
      {
       "output_type": "stream",
       "stream": "stdout",
       "text": [
        "\n",
        "HONG KONG INSTITUTE OF ARBITRATORS\n",
        "5974 done."
       ]
      },
      {
       "output_type": "stream",
       "stream": "stdout",
       "text": [
        "\n",
        "HONG KONG INSTITUTE OF CONFUCIANISM\n",
        "5977 done."
       ]
      },
      {
       "output_type": "stream",
       "stream": "stdout",
       "text": [
        "\n",
        "HONG KONG INSTITUTE OF CONTEMPORARY CULTURE\n",
        "5978 done."
       ]
      },
      {
       "output_type": "stream",
       "stream": "stdout",
       "text": [
        "\n",
        "Hong Kong Institute of Education HSBC Early Childhood Learning Centre\n",
        "5979 done."
       ]
      },
      {
       "output_type": "stream",
       "stream": "stdout",
       "text": [
        "\n",
        "Hong Kong Institute of Education HSBC Early Childhood Learning Centre\n",
        "5980 done."
       ]
      },
      {
       "output_type": "stream",
       "stream": "stdout",
       "text": [
        "\n",
        "Hong Kong Institute of Education Jockey Club Primary School\n",
        "5981 done."
       ]
      },
      {
       "output_type": "stream",
       "stream": "stdout",
       "text": [
        "\n",
        "HONG KONG INSTITUTE OF EDUCATION\n",
        "5982 done."
       ]
      },
      {
       "output_type": "stream",
       "stream": "stdout",
       "text": [
        "\n",
        "Hong Kong Institute of Gerontology\n",
        "5984 done."
       ]
      },
      {
       "output_type": "stream",
       "stream": "stdout",
       "text": [
        "\n",
        "Hong Kong Institute of Safe Community and Healthy City\n",
        "5985 done."
       ]
      },
      {
       "output_type": "stream",
       "stream": "stdout",
       "text": [
        "\n",
        "HONG KONG INSTITUTE OF SERVICE LEADERSHIP & MANAGEMENT\n",
        "5986 done."
       ]
      },
      {
       "output_type": "stream",
       "stream": "stdout",
       "text": [
        "\n",
        "Hong Kong Institute of Technology\n",
        "5988 done."
       ]
      },
      {
       "output_type": "stream",
       "stream": "stdout",
       "text": [
        "\n",
        "Hong Kong Institute of Youth Studies\n",
        "5989 done."
       ]
      },
      {
       "output_type": "stream",
       "stream": "stdout",
       "text": [
        "\n",
        "HONG KONG INTERNATIONAL ARBITRATION CENTRE\n",
        "5995 done."
       ]
      },
      {
       "output_type": "stream",
       "stream": "stdout",
       "text": [
        "\n",
        "HONG KONG INTERNATIONAL FILM FESTIVAL SOCIETY\n",
        "5998 done."
       ]
      },
      {
       "output_type": "stream",
       "stream": "stdout",
       "text": [
        "\n",
        "HONG KONG INTERNATIONAL INSTITUTE OF EDUCATIONAL LEADERSHIP\n",
        "5999 done."
       ]
      },
      {
       "output_type": "stream",
       "stream": "stdout",
       "text": [
        "\n",
        "HONG KONG INTERNATIONAL INSTITUTE OF MUSIC\n",
        "6000 done."
       ]
      },
      {
       "output_type": "stream",
       "stream": "stdout",
       "text": [
        "\n",
        "Hong Kong International School\n",
        "6002 done."
       ]
      },
      {
       "output_type": "stream",
       "stream": "stdout",
       "text": [
        "\n",
        "HONG KONG ISLAMIC YOUTH ASSOCIATION\n",
        "6010 done."
       ]
      },
      {
       "output_type": "stream",
       "stream": "stdout",
       "text": [
        "\n",
        "Hong Kong Island PHAB Centre\n",
        "6011 done."
       ]
      },
      {
       "output_type": "stream",
       "stream": "stdout",
       "text": [
        "\n",
        "Hong Kong Island PHAB Centre Outreaching Service Unit\n",
        "6012 done."
       ]
      },
      {
       "output_type": "stream",
       "stream": "stdout",
       "text": [
        "\n",
        "Hong Kong Island Primary School Supporting Service\n",
        "6013 done."
       ]
      },
      {
       "output_type": "stream",
       "stream": "stdout",
       "text": [
        "\n",
        "HONG KONG JAPANESE SCHOOL\n",
        "6019 done."
       ]
      },
      {
       "output_type": "stream",
       "stream": "stdout",
       "text": [
        "\n",
        "HONG KONG JAPANESE SCHOOL\n",
        "6020 done."
       ]
      },
      {
       "output_type": "stream",
       "stream": "stdout",
       "text": [
        "\n",
        "HONG KONG JING YI ART ASSOCIATION\n",
        "6022 done."
       ]
      },
      {
       "output_type": "stream",
       "stream": "stdout",
       "text": [
        "\n",
        "HONG KONG JUVENILE CARE CENTRE\n",
        "6032 done."
       ]
      },
      {
       "output_type": "stream",
       "stream": "stdout",
       "text": [
        "\n",
        "Hong Kong Juvenile Care Centre Chan Nam Cheong Memorial School\n",
        "6033 done."
       ]
      },
      {
       "output_type": "stream",
       "stream": "stdout",
       "text": [
        "\n",
        "HONG KONG KENNEDY TOWN BAPTIST CHURCH\n",
        "6035 done."
       ]
      },
      {
       "output_type": "stream",
       "stream": "stdout",
       "text": [
        "\n",
        "HONG KONG KIDNEY FOUNDATION\n",
        "6036 done."
       ]
      },
      {
       "output_type": "stream",
       "stream": "stdout",
       "text": [
        "\n",
        "Hong Kong Kindergarten Association Pre-School\n",
        "6040 done."
       ]
      },
      {
       "output_type": "stream",
       "stream": "stdout",
       "text": [
        "\n",
        "Hong Kong Kun Chung Temple\n",
        "6043 done."
       ]
      },
      {
       "output_type": "stream",
       "stream": "stdout",
       "text": [
        "\n",
        "HONG KONG LADIES DYNAMIC ASSOCIATION\n",
        "6045 done."
       ]
      },
      {
       "output_type": "stream",
       "stream": "stdout",
       "text": [
        "\n",
        "Hong Kong Lasallian Formation Fund\n",
        "6046 done."
       ]
      },
      {
       "output_type": "stream",
       "stream": "stdout",
       "text": [
        "\n",
        "Hong Kong Lasallian Mission Fund\n",
        "6047 done."
       ]
      },
      {
       "output_type": "stream",
       "stream": "stdout",
       "text": [
        "\n",
        "HONG KONG LEPIDOPTERISTS SOCIETY\n",
        "6048 done."
       ]
      },
      {
       "output_type": "stream",
       "stream": "stdout",
       "text": [
        "\n",
        "The Life Saving Society\n",
        "6052 done."
       ]
      },
      {
       "output_type": "stream",
       "stream": "stdout",
       "text": [
        "\n",
        "Hong Kong Ling Liang Church\n",
        "6054 done."
       ]
      },
      {
       "output_type": "stream",
       "stream": "stdout",
       "text": [
        "\n",
        "Hong Kong Ling Liang Church Kindergarten\n",
        "6055 done."
       ]
      },
      {
       "output_type": "stream",
       "stream": "stdout",
       "text": [
        "\n",
        "Hong Kong Ling Liang Church Tsuen Wan Kindergarten\n",
        "6056 done."
       ]
      },
      {
       "output_type": "stream",
       "stream": "stdout",
       "text": [
        "\n",
        "HONG KONG LITTLE LEAGUE\n",
        "6058 done."
       ]
      },
      {
       "output_type": "stream",
       "stream": "stdout",
       "text": [
        "\n",
        "HONG KONG LIVER FOUNDATION\n",
        "6060 done."
       ]
      },
      {
       "output_type": "stream",
       "stream": "stdout",
       "text": [
        "\n",
        "HONG KONG LIVER TRANSPLANT PATIENTS ASSOCIATION\n",
        "6061 done."
       ]
      },
      {
       "output_type": "stream",
       "stream": "stdout",
       "text": [
        "\n",
        "Hong Kong Love Focus Foundation\n",
        "6067 done."
       ]
      },
      {
       "output_type": "stream",
       "stream": "stdout",
       "text": [
        "\n",
        "HONG KONG LOVE FOUNDATION\n",
        "6068 done."
       ]
      },
      {
       "output_type": "stream",
       "stream": "stdout",
       "text": [
        "\n",
        "HONG KONG LUNG FOUNDATION\n",
        "6071 done."
       ]
      },
      {
       "output_type": "stream",
       "stream": "stdout",
       "text": [
        "\n",
        "HONG KONG LUPUS ASSOCIATION\n",
        "6072 done."
       ]
      },
      {
       "output_type": "stream",
       "stream": "stdout",
       "text": [
        "\n",
        "HONG KONG LUTHERAN CHURCH FOR THE DEAF\n",
        "6073 done."
       ]
      },
      {
       "output_type": "stream",
       "stream": "stdout",
       "text": [
        "\n",
        "Hong Kong Lutheran Church Kwun Tong Kindergarten\n",
        "6075 done."
       ]
      },
      {
       "output_type": "stream",
       "stream": "stdout",
       "text": [
        "\n",
        "Hong Kong Lutheran Handicrafts\n",
        "6077 done."
       ]
      },
      {
       "output_type": "stream",
       "stream": "stdout",
       "text": [
        "\n",
        "HONG KONG MANDARIN BIBLE CHURCH\n",
        "6081 done."
       ]
      },
      {
       "output_type": "stream",
       "stream": "stdout",
       "text": [
        "\n",
        "HONG KONG MARINE ECOLOGY CONSERVATION AND EDUCATION SOCIETY\n",
        "6084 done."
       ]
      },
      {
       "output_type": "stream",
       "stream": "stdout",
       "text": [
        "\n",
        "HONG KONG MATHEMATICAL OLYMPIAD ASSOCIATION\n",
        "6090 done."
       ]
      },
      {
       "output_type": "stream",
       "stream": "stdout",
       "text": [
        "\n",
        "HONG KONG MATHEMATICAL SOCIETY\n",
        "6092 done."
       ]
      },
      {
       "output_type": "stream",
       "stream": "stdout",
       "text": [
        "\n",
        "HONG KONG MEDIATION CENTRE\n",
        "6093 done."
       ]
      },
      {
       "output_type": "stream",
       "stream": "stdout",
       "text": [
        "\n",
        "HONG KONG MEDICAL ASSOCIATION ORGAN DONATION REGISTER FUND\n",
        "6096 done."
       ]
      },
      {
       "output_type": "stream",
       "stream": "stdout",
       "text": [
        "\n",
        "HONG KONG MEDICAL MOBILIZATION CORPORATION\n",
        "6097 done."
       ]
      },
      {
       "output_type": "stream",
       "stream": "stdout",
       "text": [
        "\n",
        "Hong Kong Melody Makers\n",
        "6100 done."
       ]
      },
      {
       "output_type": "stream",
       "stream": "stdout",
       "text": [
        "\n",
        "Hong Kong Mennonite Centre\n",
        "6102 done."
       ]
      },
      {
       "output_type": "stream",
       "stream": "stdout",
       "text": [
        "\n",
        "Hong Kong Methodist Church Outreach Programme The\n",
        "6104 done."
       ]
      },
      {
       "output_type": "stream",
       "stream": "stdout",
       "text": [
        "\n",
        "Hong Kong Methodist Womens Association\n",
        "6105 done."
       ]
      },
      {
       "output_type": "stream",
       "stream": "stdout",
       "text": [
        "\n",
        "HONG KONG MISSION OF RENGEJOIN TEMPLE\n",
        "6107 done."
       ]
      },
      {
       "output_type": "stream",
       "stream": "stdout",
       "text": [
        "\n",
        "HONG KONG MOVIE STAR SPORTS ASSOCIATION CHARITIES\n",
        "6113 done."
       ]
      },
      {
       "output_type": "stream",
       "stream": "stdout",
       "text": [
        "\n",
        "HONG KONG MUCOPOLYSACCHARIDOSES & RARE GENETIC DISEASES MUTUAL AID GROUP\n",
        "6114 done."
       ]
      },
      {
       "output_type": "stream",
       "stream": "stdout",
       "text": [
        "\n",
        "HONG KONG MUSEUM OF MEDICAL SCIENCES SOCIETY\n",
        "6117 done."
       ]
      },
      {
       "output_type": "stream",
       "stream": "stdout",
       "text": [
        "\n",
        "HONG KONG MUSIC AND PERFORMING SCHOOL\n",
        "6120 done."
       ]
      },
      {
       "output_type": "stream",
       "stream": "stdout",
       "text": [
        "\n",
        "HONG KONG MUSIC INSTITUTE\n",
        "6122 done."
       ]
      },
      {
       "output_type": "stream",
       "stream": "stdout",
       "text": [
        "\n",
        "Hong Kong Music Talents Orchestra\n",
        "6123 done."
       ]
      },
      {
       "output_type": "stream",
       "stream": "stdout",
       "text": [
        "\n",
        "HONG KONG NAN PU TUO\n",
        "6127 done."
       ]
      },
      {
       "output_type": "stream",
       "stream": "stdout",
       "text": [
        "\n",
        "HONG KONG NEUROLOGICAL SOCIETY\n",
        "6137 done."
       ]
      },
      {
       "output_type": "stream",
       "stream": "stdout",
       "text": [
        "\n",
        "HONG KONG NEW GENERATION CULTURAL ASSOCIATION\n",
        "6140 done."
       ]
      },
      {
       "output_type": "stream",
       "stream": "stdout",
       "text": [
        "\n",
        "HONG KONG NEW IMMIGRANT SERVICE ASSOCIATION\n",
        "6141 done."
       ]
      },
      {
       "output_type": "stream",
       "stream": "stdout",
       "text": [
        "\n",
        "HONG KONG NEW LIFE FAMILY SERVICES ASSOCIATION\n",
        "6142 done."
       ]
      },
      {
       "output_type": "stream",
       "stream": "stdout",
       "text": [
        "\n",
        "Hong Kong Non-Profit Making Veterinary Clinic\n",
        "6147 done."
       ]
      },
      {
       "output_type": "stream",
       "stream": "stdout",
       "text": [
        "\n",
        "HONG KONG NURSES CHRISTIAN FELLOWSHIP\n",
        "6148 done."
       ]
      },
      {
       "output_type": "stream",
       "stream": "stdout",
       "text": [
        "\n",
        "HONG KONG NUTRITION ASSOCIATION\n",
        "6150 done."
       ]
      },
      {
       "output_type": "stream",
       "stream": "stdout",
       "text": [
        "\n",
        "HONG KONG OPHTHALMOLOGICAL SOCIETY\n",
        "6156 done."
       ]
      },
      {
       "output_type": "stream",
       "stream": "stdout",
       "text": [
        "\n",
        "HONG KONG ORATORIO SOCIETY\n",
        "6158 done."
       ]
      },
      {
       "output_type": "stream",
       "stream": "stdout",
       "text": [
        "\n",
        "HONG KONG ORGANIC AGRICULTURE & ECOLOGICAL RESEARCH ASSOCIATION\n",
        "6159 done."
       ]
      },
      {
       "output_type": "stream",
       "stream": "stdout",
       "text": [
        "\n",
        "HONG KONG ORGANIC RESOURCE CENTRE CERTIFICATION\n",
        "6160 done."
       ]
      },
      {
       "output_type": "stream",
       "stream": "stdout",
       "text": [
        "\n",
        "HONG KONG ORTHOPAEDIC ASSOCIATION\n",
        "6162 done."
       ]
      },
      {
       "output_type": "stream",
       "stream": "stdout",
       "text": [
        "\n",
        "HONG KONG OSTEOPOROSIS FOUNDATION\n",
        "6163 done."
       ]
      },
      {
       "output_type": "stream",
       "stream": "stdout",
       "text": [
        "\n",
        "Hong Kong Outlying Islands Womens Association BMCPC Safe and Healthy Resources Centre\n",
        "6164 done."
       ]
      },
      {
       "output_type": "stream",
       "stream": "stdout",
       "text": [
        "\n",
        "Hong Kong Outlying Islands Womens Association Chiu Chow Chamber of Commerce Sunny Centre\n",
        "6165 done."
       ]
      },
      {
       "output_type": "stream",
       "stream": "stdout",
       "text": [
        "\n",
        "Hong Kong Outlying Islands Womens Association Jockey Club Social Service Centre\n",
        "6166 done."
       ]
      },
      {
       "output_type": "stream",
       "stream": "stdout",
       "text": [
        "\n",
        "Hong Kong Outlying Islands Womens Association Lamma Division\n",
        "6167 done."
       ]
      },
      {
       "output_type": "stream",
       "stream": "stdout",
       "text": [
        "\n",
        "Hong Kong Outlying Islands Womens Association Peng Chau Women Centre\n",
        "6168 done."
       ]
      },
      {
       "output_type": "stream",
       "stream": "stdout",
       "text": [
        "\n",
        "Hong Kong Outlying Islands Womens Association Sunny Centre\n",
        "6169 done."
       ]
      },
      {
       "output_type": "stream",
       "stream": "stdout",
       "text": [
        "\n",
        "Hong Kong Outlying Islands Womens Association Tai O Division\n",
        "6170 done."
       ]
      },
      {
       "output_type": "stream",
       "stream": "stdout",
       "text": [
        "\n",
        "Hong Kong Outlying Islands Womens Association Tung Chung Mutual Help Child Care Centre / Virtuous People Club\n",
        "6171 done."
       ]
      },
      {
       "output_type": "stream",
       "stream": "stdout",
       "text": [
        "\n",
        "Hong Kong Outlying Islands Womens Association Yeung Chi Hung Sunny Centre\n",
        "6172 done."
       ]
      },
      {
       "output_type": "stream",
       "stream": "stdout",
       "text": [
        "\n",
        "Hong Kong Outward Bound School\n",
        "6173 done."
       ]
      },
      {
       "output_type": "stream",
       "stream": "stdout",
       "text": [
        "\n",
        "Hong Kong Paediatric Foundation\n",
        "6176 done."
       ]
      },
      {
       "output_type": "stream",
       "stream": "stdout",
       "text": [
        "\n",
        "HONG KONG PAEDIATRIC SOCIETY\n",
        "6178 done."
       ]
      },
      {
       "output_type": "stream",
       "stream": "stdout",
       "text": [
        "\n",
        "HONG KONG PAIN SOCIETY\n",
        "6179 done."
       ]
      },
      {
       "output_type": "stream",
       "stream": "stdout",
       "text": [
        "\n",
        "HONG KONG PARALYMPIC COMMITTEE & SPORTS ASSOCIATION FOR THE PHYSICALLY DISABLED\n",
        "6182 done."
       ]
      },
      {
       "output_type": "stream",
       "stream": "stdout",
       "text": [
        "\n",
        "HONG KONG PARENTS ASSOCIATION\n",
        "6184 done."
       ]
      },
      {
       "output_type": "stream",
       "stream": "stdout",
       "text": [
        "\n",
        "HONG KONG PARKINSONS DISEASE ASSOCIATION\n",
        "6185 done."
       ]
      },
      {
       "output_type": "stream",
       "stream": "stdout",
       "text": [
        "\n",
        "HONG KONG PARKINSONS DISEASE FOUNDATION\n",
        "6186 done."
       ]
      },
      {
       "output_type": "stream",
       "stream": "stdout",
       "text": [
        "\n",
        "HONG KONG PEI HUA EDUCATION FOUNDATION\n",
        "6188 done."
       ]
      },
      {
       "output_type": "stream",
       "stream": "stdout",
       "text": [
        "\n",
        "Hong Kong Philharmonic Ladies Committee\n",
        "6191 done."
       ]
      },
      {
       "output_type": "stream",
       "stream": "stdout",
       "text": [
        "\n",
        "HONG KONG PIONEERS MUTUAL SUPPORT ASSOCIATION\n",
        "6194 done."
       ]
      },
      {
       "output_type": "stream",
       "stream": "stdout",
       "text": [
        "\n",
        "Hong Kong Playground Association\n",
        "6196 done."
       ]
      },
      {
       "output_type": "stream",
       "stream": "stdout",
       "text": [
        "\n",
        "Hong Kong Playground Association\n",
        "6197 done."
       ]
      },
      {
       "output_type": "stream",
       "stream": "stdout",
       "text": [
        "\n",
        "Hong Kong Polytechnic University Yan Oi Tong Au Suet Ming Child Development Centre for Giftedness\n",
        "6200 done."
       ]
      },
      {
       "output_type": "stream",
       "stream": "stdout",
       "text": [
        "\n",
        "HONG KONG POLYTECHNIC UNIVERSITY\n",
        "6201 done."
       ]
      },
      {
       "output_type": "stream",
       "stream": "stdout",
       "text": [
        "\n",
        "HONG KONG POWER YOUTH ASSOCIATION\n",
        "6203 done."
       ]
      },
      {
       "output_type": "stream",
       "stream": "stdout",
       "text": [
        "\n",
        "HONG KONG PRE-SCHOOL PLAYGROUPS ASSOCIATION\n",
        "6204 done."
       ]
      },
      {
       "output_type": "stream",
       "stream": "stdout",
       "text": [
        "\n",
        "HONG KONG PRESS COUNCIL\n",
        "6205 done."
       ]
      },
      {
       "output_type": "stream",
       "stream": "stdout",
       "text": [
        "\n",
        "HONG KONG PREVENTIVE MEDICINE ASSOCIATION\n",
        "6207 done."
       ]
      },
      {
       "output_type": "stream",
       "stream": "stdout",
       "text": [
        "\n",
        "HONG KONG PRIMARY REHABILITATION ORGANIZATION\n",
        "6209 done."
       ]
      },
      {
       "output_type": "stream",
       "stream": "stdout",
       "text": [
        "\n",
        "HONG KONG PSYCHOGERIATRIC ASSOCIATION\n",
        "6216 done."
       ]
      },
      {
       "output_type": "stream",
       "stream": "stdout",
       "text": [
        "\n",
        "HONG KONG PUBLIC SPACE INITIATIVE\n",
        "6218 done."
       ]
      },
      {
       "output_type": "stream",
       "stream": "stdout",
       "text": [
        "\n",
        "HONG KONG QUALITY ASSURANCE AGENCY\n",
        "6220 done."
       ]
      },
      {
       "output_type": "stream",
       "stream": "stdout",
       "text": [
        "\n",
        "HONG KONG RABBIT SOCIETY\n",
        "6223 done."
       ]
      },
      {
       "output_type": "stream",
       "stream": "stdout",
       "text": [
        "\n",
        "Hong Kong Red Cross Blood Transfusion Service\n",
        "6226 done."
       ]
      },
      {
       "output_type": "stream",
       "stream": "stdout",
       "text": [
        "\n",
        "Hong Kong Red Cross Blood Transfusion Service\n",
        "6227 done."
       ]
      },
      {
       "output_type": "stream",
       "stream": "stdout",
       "text": [
        "\n",
        "HONG KONG RED CROSS JOHN F. KENNEDY CENTRE PARENTS TEACHERS/STAFF ASSOCIATION\n",
        "6229 done."
       ]
      },
      {
       "output_type": "stream",
       "stream": "stdout",
       "text": [
        "\n",
        "Hong Kong Red Cross Medical Centre\n",
        "6230 done."
       ]
      },
      {
       "output_type": "stream",
       "stream": "stdout",
       "text": [
        "\n",
        "Hong Kong Red Cross Shek Pik Youth Camp\n",
        "6231 done."
       ]
      },
      {
       "output_type": "stream",
       "stream": "stdout",
       "text": [
        "\n",
        "Hong Kong Red Cross Temporary Transit Centre\n",
        "6232 done."
       ]
      },
      {
       "output_type": "stream",
       "stream": "stdout",
       "text": [
        "\n",
        "HONG KONG REFUGEE ADVICE CENTRE\n",
        "6234 done."
       ]
      },
      {
       "output_type": "stream",
       "stream": "stdout",
       "text": [
        "\n",
        "HONG KONG REGIMENT OF PERSEVERANCE\n",
        "6235 done."
       ]
      },
      {
       "output_type": "stream",
       "stream": "stdout",
       "text": [
        "\n",
        "HONG KONG REHABILITATION A & E ASSOCIATION\n",
        "6238 done."
       ]
      },
      {
       "output_type": "stream",
       "stream": "stdout",
       "text": [
        "\n",
        "Hong Kong Rehabilitation A & E Association - Hung Fook Tong\n",
        "6239 done."
       ]
      },
      {
       "output_type": "stream",
       "stream": "stdout",
       "text": [
        "\n",
        "Hong Kong Rehabilitation A & E Association - Hung Fook Tong\n",
        "6240 done."
       ]
      },
      {
       "output_type": "stream",
       "stream": "stdout",
       "text": [
        "\n",
        "Hong Kong Rehabilitation A & E Association - Hung Fook Tong\n",
        "6241 done."
       ]
      },
      {
       "output_type": "stream",
       "stream": "stdout",
       "text": [
        "\n",
        "Hong Kong Rehabilitation A & E Association - Yan Fook Kitchen\n",
        "6242 done."
       ]
      },
      {
       "output_type": "stream",
       "stream": "stdout",
       "text": [
        "\n",
        "HONG KONG RENAL CENTRE\n",
        "6244 done."
       ]
      },
      {
       "output_type": "stream",
       "stream": "stdout",
       "text": [
        "\n",
        "The Road Safety Association\n",
        "6248 done."
       ]
      },
      {
       "output_type": "stream",
       "stream": "stdout",
       "text": [
        "\n",
        "Hong Kong S.K.H. Kowloon City Family Support Networking Team\n",
        "6251 done."
       ]
      },
      {
       "output_type": "stream",
       "stream": "stdout",
       "text": [
        "\n",
        "Hong Kong Sam Yuk Secondary School\n",
        "6253 done."
       ]
      },
      {
       "output_type": "stream",
       "stream": "stdout",
       "text": [
        "\n",
        "HONG KONG SARS MUTUAL HELP ASSOCIATION\n",
        "6254 done."
       ]
      },
      {
       "output_type": "stream",
       "stream": "stdout",
       "text": [
        "\n",
        "HONG KONG SATIR CENTER FOR HUMAN DEVELOPMENT\n",
        "6255 done."
       ]
      },
      {
       "output_type": "stream",
       "stream": "stdout",
       "text": [
        "\n",
        "HONG KONG SCHOOLS MUSIC AND SPEECH ASSOCIATION\n",
        "6258 done."
       ]
      },
      {
       "output_type": "stream",
       "stream": "stdout",
       "text": [
        "\n",
        "HONG KONG SCHOOLS SPORTS FEDERATION\n",
        "6259 done."
       ]
      },
      {
       "output_type": "stream",
       "stream": "stdout",
       "text": [
        "\n",
        "HONG KONG SCOTTISH PIPING AND DRUMMING ASSOCIATION\n",
        "6260 done."
       ]
      },
      {
       "output_type": "stream",
       "stream": "stdout",
       "text": [
        "\n",
        "HONG KONG SCULPTURE SOCIETY\n",
        "6261 done."
       ]
      },
      {
       "output_type": "stream",
       "stream": "stdout",
       "text": [
        "\n",
        "Hong Kong Sea Cadet Corps\n",
        "6262 done."
       ]
      },
      {
       "output_type": "stream",
       "stream": "stdout",
       "text": [
        "\n",
        "HONG KONG SEA SCHOOL\n",
        "6263 done."
       ]
      },
      {
       "output_type": "stream",
       "stream": "stdout",
       "text": [
        "\n",
        "HONG KONG SENIOR EDUCATION WORKERS FOUNDATION\n",
        "6266 done."
       ]
      },
      {
       "output_type": "stream",
       "stream": "stdout",
       "text": [
        "\n",
        "HONG KONG SENSORY INTEGRATION EXERCISE ASSOCIATION\n",
        "6267 done."
       ]
      },
      {
       "output_type": "stream",
       "stream": "stdout",
       "text": [
        "\n",
        "HONG KONG SEX CULTURE SOCIETY\n",
        "6269 done."
       ]
      },
      {
       "output_type": "stream",
       "stream": "stdout",
       "text": [
        "\n",
        "HONG KONG SEX EDUCATION ASSOCIATION\n",
        "6270 done."
       ]
      },
      {
       "output_type": "stream",
       "stream": "stdout",
       "text": [
        "\n",
        "HONG KONG SHAO LIN TEMPLE\n",
        "6273 done."
       ]
      },
      {
       "output_type": "stream",
       "stream": "stdout",
       "text": [
        "\n",
        "Hong Kong Shark Foundation\n",
        "6275 done."
       ]
      },
      {
       "output_type": "stream",
       "stream": "stdout",
       "text": [
        "\n",
        "Hong Kong Sheng Kung Hui Bishop Hall Secondary School\n",
        "6276 done."
       ]
      },
      {
       "output_type": "stream",
       "stream": "stdout",
       "text": [
        "\n",
        "Hong Kong Sheng Kung Hui Chuk Yuen Canon Martin District Elderly Community Centre - Yung Yuen Point\n",
        "6277 done."
       ]
      },
      {
       "output_type": "stream",
       "stream": "stdout",
       "text": [
        "\n",
        "Hong Kong Sheng Kung Hui Churches & Schools Clerical Staff Fellowship\n",
        "6278 done."
       ]
      },
      {
       "output_type": "stream",
       "stream": "stdout",
       "text": [
        "\n",
        "Hong Kong Sheng Kung Hui Ha Sui Wan Nursery School\n",
        "6280 done."
       ]
      },
      {
       "output_type": "stream",
       "stream": "stdout",
       "text": [
        "\n",
        "Hong Kong Sheng Kung Hui Home Care Services for Frail Elders\n",
        "6281 done."
       ]
      },
      {
       "output_type": "stream",
       "stream": "stdout",
       "text": [
        "\n",
        "Hong Kong Sheng Kung Hui Kei Oi Nursery School\n",
        "6282 done."
       ]
      },
      {
       "output_type": "stream",
       "stream": "stdout",
       "text": [
        "\n",
        "Hong Kong Sheng Kung Hui Lady MacLehose Centre\n",
        "6283 done."
       ]
      },
      {
       "output_type": "stream",
       "stream": "stdout",
       "text": [
        "\n",
        "Hong Kong Sheng Kung Hui Lady MacLehose Centre\n",
        "6284 done."
       ]
      },
      {
       "output_type": "stream",
       "stream": "stdout",
       "text": [
        "\n",
        "Hong Kong Sheng Kung Hui Lady MacLehose Centre Day Nursery\n",
        "6285 done."
       ]
      },
      {
       "output_type": "stream",
       "stream": "stdout",
       "text": [
        "\n",
        "Hong Kong Sheng Kung Hui Lady MacLehose Centre Kindergarten\n",
        "6286 done."
       ]
      },
      {
       "output_type": "stream",
       "stream": "stdout",
       "text": [
        "\n",
        "Hong Kong Sheng Kung Hui Mei Mao Keen Ying Home for Senior Citizens\n",
        "6287 done."
       ]
      },
      {
       "output_type": "stream",
       "stream": "stdout",
       "text": [
        "\n",
        "Hong Kong Sheng Kung Hui Nursing Home\n",
        "6288 done."
       ]
      },
      {
       "output_type": "stream",
       "stream": "stdout",
       "text": [
        "\n",
        "Hong Kong Sheng Kung Hui Provincial Office\n",
        "6289 done."
       ]
      },
      {
       "output_type": "stream",
       "stream": "stdout",
       "text": [
        "\n",
        "Hong Kong Sheng Kung Hui St. Nicholas Nursery School\n",
        "6292 done."
       ]
      },
      {
       "output_type": "stream",
       "stream": "stdout",
       "text": [
        "\n",
        "Hong Kong Sheng Kung Hui St. Simons Leung King Nursery School\n",
        "6293 done."
       ]
      },
      {
       "output_type": "stream",
       "stream": "stdout",
       "text": [
        "\n",
        "Hong Kong Sheng Kung Hui St. Simons Sai Kung Nursery School\n",
        "6294 done."
       ]
      },
      {
       "output_type": "stream",
       "stream": "stdout",
       "text": [
        "\n",
        "Hong Kong Sheng Kung Hui St. Simons Tai Hing Nursery School\n",
        "6295 done."
       ]
      },
      {
       "output_type": "stream",
       "stream": "stdout",
       "text": [
        "\n",
        "Hong Kong Sheng Kung Hui St. Thomas Child Care Centre\n",
        "6296 done."
       ]
      },
      {
       "output_type": "stream",
       "stream": "stdout",
       "text": [
        "\n",
        "Hong Kong Sheng Kung Hui the Church of the Epiphany Kindergarten\n",
        "6297 done."
       ]
      },
      {
       "output_type": "stream",
       "stream": "stdout",
       "text": [
        "\n",
        "Hong Kong Sheng Kung Hui Tuen Mun District Support Centre - The Gathering\n",
        "6298 done."
       ]
      },
      {
       "output_type": "stream",
       "stream": "stdout",
       "text": [
        "\n",
        "Hong Kong Sheng Kung Hui Tuen Mun Integrated Community Centre for Mental Wellness - The Club\n",
        "6299 done."
       ]
      },
      {
       "output_type": "stream",
       "stream": "stdout",
       "text": [
        "\n",
        "Hong Kong Sheng Kung Hui Tung Chung Integrated Services Family Life Education Unit\n",
        "6300 done."
       ]
      },
      {
       "output_type": "stream",
       "stream": "stdout",
       "text": [
        "\n",
        "Hong Kong Sheng Kung Hui Tung Chung Nursery School\n",
        "6301 done."
       ]
      },
      {
       "output_type": "stream",
       "stream": "stdout",
       "text": [
        "\n",
        "HONG KONG SHENG KUNG HUI WELFARE COUNCIL\n",
        "6302 done."
       ]
      },
      {
       "output_type": "stream",
       "stream": "stdout",
       "text": [
        "\n",
        "Hong Kong Sheng Kung Hui Welfare Council Blessed Food\n",
        "6303 done."
       ]
      },
      {
       "output_type": "stream",
       "stream": "stdout",
       "text": [
        "\n",
        "Hong Kong Sheng Kung Hui Welfare Council Centre of Wellness\n",
        "6304 done."
       ]
      },
      {
       "output_type": "stream",
       "stream": "stdout",
       "text": [
        "\n",
        "Hong Kong Sheng Kung Hui Welfare Council East Kowloon Regional Office\n",
        "6305 done."
       ]
      },
      {
       "output_type": "stream",
       "stream": "stdout",
       "text": [
        "\n",
        "Hong Kong Sheng Kung Hui Welfare Council & Islands Regional Office\n",
        "6306 done."
       ]
      },
      {
       "output_type": "stream",
       "stream": "stdout",
       "text": [
        "\n",
        "Hong Kong Sheng Kung Hui Welfare Council LEAD Professional Training Centre\n",
        "6307 done."
       ]
      },
      {
       "output_type": "stream",
       "stream": "stdout",
       "text": [
        "\n",
        "Hong Kong Sheng Kung Hui Welfare Council Neo-Horizon\n",
        "6309 done."
       ]
      },
      {
       "output_type": "stream",
       "stream": "stdout",
       "text": [
        "\n",
        "Hong Kong Sheng Kung Hui Welfare Council New Territories Regional Office\n",
        "6310 done."
       ]
      },
      {
       "output_type": "stream",
       "stream": "stdout",
       "text": [
        "\n",
        "Hong Kong Sheng Kung Hui Welfare Council West Kowloon Regional Office\n",
        "6311 done."
       ]
      },
      {
       "output_type": "stream",
       "stream": "stdout",
       "text": [
        "\n",
        "Hong Kong Sheng Kung Hui Womens League\n",
        "6312 done."
       ]
      },
      {
       "output_type": "stream",
       "stream": "stdout",
       "text": [
        "\n",
        "HONG KONG SHIN YAT TONG MORAL ASSOCIATION\n",
        "6315 done."
       ]
      },
      {
       "output_type": "stream",
       "stream": "stdout",
       "text": [
        "\n",
        "Hong Kong Shue Yan College - Post Secondary Section\n",
        "6316 done."
       ]
      },
      {
       "output_type": "stream",
       "stream": "stdout",
       "text": [
        "\n",
        "Hong Kong Shue Yan College - Secondary Section\n",
        "6317 done."
       ]
      },
      {
       "output_type": "stream",
       "stream": "stdout",
       "text": [
        "\n",
        "HONG KONG SHUE YAN UNIVERSITY\n",
        "6318 done."
       ]
      },
      {
       "output_type": "stream",
       "stream": "stdout",
       "text": [
        "\n",
        "Hong Kong Siddha Yoga Meditation Centre\n",
        "6320 done."
       ]
      },
      {
       "output_type": "stream",
       "stream": "stdout",
       "text": [
        "\n",
        "HONG KONG SIGN LANGUAGE ASSOCIATION\n",
        "6321 done."
       ]
      },
      {
       "output_type": "stream",
       "stream": "stdout",
       "text": [
        "\n",
        "HONG KONG SINFONIETTA\n",
        "6323 done."
       ]
      },
      {
       "output_type": "stream",
       "stream": "stdout",
       "text": [
        "\n",
        "HONG KONG SINGERS\n",
        "6324 done."
       ]
      },
      {
       "output_type": "stream",
       "stream": "stdout",
       "text": [
        "\n",
        "HONG KONG SOCCER IN CHRIST\n",
        "6327 done."
       ]
      },
      {
       "output_type": "stream",
       "stream": "stdout",
       "text": [
        "\n",
        "HONG KONG SOCIETY FOR COLOPROCTOLOGY\n",
        "6333 done."
       ]
      },
      {
       "output_type": "stream",
       "stream": "stdout",
       "text": [
        "\n",
        "HONG KONG SOCIETY FOR SURGERY OF THE HAND\n",
        "6339 done."
       ]
      },
      {
       "output_type": "stream",
       "stream": "stdout",
       "text": [
        "\n",
        "The Society for the Deaf\n",
        "6340 done."
       ]
      },
      {
       "output_type": "stream",
       "stream": "stdout",
       "text": [
        "\n",
        "HONG KONG SOCIETY FOR THE PROMOTION OF CHINESE LIYI\n",
        "6341 done."
       ]
      },
      {
       "output_type": "stream",
       "stream": "stdout",
       "text": [
        "\n",
        "Hong Kong Society for the Protection of Children\n",
        "6342 done."
       ]
      },
      {
       "output_type": "stream",
       "stream": "stdout",
       "text": [
        "\n",
        "HONG KONG SOCIETY OF CHILD NEUROLOGY & DEVELOPMENTAL PAEDIATRICS\n",
        "6349 done."
       ]
      },
      {
       "output_type": "stream",
       "stream": "stdout",
       "text": [
        "\n",
        "HONG KONG SOCIETY OF CLINICAL CHEMISTRY\n",
        "6351 done."
       ]
      },
      {
       "output_type": "stream",
       "stream": "stdout",
       "text": [
        "\n",
        "HONG KONG SOCIETY OF DERMATOLOGY & VENEREOLOGY\n",
        "6356 done."
       ]
      },
      {
       "output_type": "stream",
       "stream": "stdout",
       "text": [
        "\n",
        "HONG KONG SOCIETY OF DIGESTIVE ENDOSCOPY\n",
        "6359 done."
       ]
      },
      {
       "output_type": "stream",
       "stream": "stdout",
       "text": [
        "\n",
        "HONG KONG SOCIETY OF HAEMATOLOGY\n",
        "6363 done."
       ]
      },
      {
       "output_type": "stream",
       "stream": "stdout",
       "text": [
        "\n",
        "HONG KONG SOCIETY OF HEALTHY FAMILY\n",
        "6364 done."
       ]
      },
      {
       "output_type": "stream",
       "stream": "stdout",
       "text": [
        "\n",
        "Hong Kong Society of Herpetology\n",
        "6366 done."
       ]
      },
      {
       "output_type": "stream",
       "stream": "stdout",
       "text": [
        "\n",
        "HONG KONG SOCIETY OF HERPETOLOGY FOUNDATION\n",
        "6367 done."
       ]
      },
      {
       "output_type": "stream",
       "stream": "stdout",
       "text": [
        "\n",
        "HONG KONG SOCIETY OF MYELOMA\n",
        "6372 done."
       ]
      },
      {
       "output_type": "stream",
       "stream": "stdout",
       "text": [
        "\n",
        "HONG KONG SOCIETY OF PAEDIATRIC RESPIROLOGY\n",
        "6375 done."
       ]
      },
      {
       "output_type": "stream",
       "stream": "stdout",
       "text": [
        "\n",
        "HONG KONG SOCIETY OF RHEUMATOLOGY\n",
        "6380 done."
       ]
      },
      {
       "output_type": "stream",
       "stream": "stdout",
       "text": [
        "\n",
        "HONG KONG SOCIETY OF TRANSPLANTATION\n",
        "6382 done."
       ]
      },
      {
       "output_type": "stream",
       "stream": "stdout",
       "text": [
        "\n",
        "HONG KONG SOKA KINDERGARTEN\n",
        "6385 done."
       ]
      },
      {
       "output_type": "stream",
       "stream": "stdout",
       "text": [
        "\n",
        "Hong Kong SokaKindergarten\n",
        "6386 done."
       ]
      },
      {
       "output_type": "stream",
       "stream": "stdout",
       "text": [
        "\n",
        "HONG KONG SOONG CHING LING GOLDKEY TRAINING FOUNDATION\n",
        "6388 done."
       ]
      },
      {
       "output_type": "stream",
       "stream": "stdout",
       "text": [
        "\n",
        "HONG KONG SOUTHERN DISTRICT WOMENS ASSOCIATION\n",
        "6390 done."
       ]
      },
      {
       "output_type": "stream",
       "stream": "stdout",
       "text": [
        "\n",
        "HONG KONG SPECIAL OLYMPICS\n",
        "6391 done."
       ]
      },
      {
       "output_type": "stream",
       "stream": "stdout",
       "text": [
        "\n",
        "HONG KONG SPINAL CORD INJURY FUND\n",
        "6393 done."
       ]
      },
      {
       "output_type": "stream",
       "stream": "stdout",
       "text": [
        "\n",
        "Hong Kong Spinocerebellar Ataxia Association\n",
        "6394 done."
       ]
      },
      {
       "output_type": "stream",
       "stream": "stdout",
       "text": [
        "\n",
        "HONG KONG SPIRIT AMBASSADORS\n",
        "6395 done."
       ]
      },
      {
       "output_type": "stream",
       "stream": "stdout",
       "text": [
        "\n",
        "Hong Kong Sports Association for the Mentally Handicapped\n",
        "6397 done."
       ]
      },
      {
       "output_type": "stream",
       "stream": "stdout",
       "text": [
        "\n",
        "HONG KONG SPORTS ASSOCIATION OF THE DEAF\n",
        "6398 done."
       ]
      },
      {
       "output_type": "stream",
       "stream": "stdout",
       "text": [
        "\n",
        "HONG KONG STANDARDS AND TESTING CENTRE\n",
        "6400 done."
       ]
      },
      {
       "output_type": "stream",
       "stream": "stdout",
       "text": [
        "\n",
        "HONG KONG STOMA ASSOCIATION\n",
        "6401 done."
       ]
      },
      {
       "output_type": "stream",
       "stream": "stdout",
       "text": [
        "\n",
        "HONG KONG STROKE ASSOCIATION\n",
        "6402 done."
       ]
      },
      {
       "output_type": "stream",
       "stream": "stdout",
       "text": [
        "\n",
        "HONG KONG STROKE SOCIETY\n",
        "6404 done."
       ]
      },
      {
       "output_type": "stream",
       "stream": "stdout",
       "text": [
        "\n",
        "HONG KONG STUDENT AID SOCIETY\n",
        "6406 done."
       ]
      },
      {
       "output_type": "stream",
       "stream": "stdout",
       "text": [
        "\n",
        "Hong Kong Student Aid Society Po Tat Nursery\n",
        "6407 done."
       ]
      },
      {
       "output_type": "stream",
       "stream": "stdout",
       "text": [
        "\n",
        "Hong Kong Student Centre\n",
        "6408 done."
       ]
      },
      {
       "output_type": "stream",
       "stream": "stdout",
       "text": [
        "\n",
        "HONG KONG STUDENT SERVICES ASSOCIATION\n",
        "6409 done."
       ]
      },
      {
       "output_type": "stream",
       "stream": "stdout",
       "text": [
        "\n",
        "HONG KONG SURGICAL LASER ASSOCIATION\n",
        "6414 done."
       ]
      },
      {
       "output_type": "stream",
       "stream": "stdout",
       "text": [
        "\n",
        "HONG KONG SUSTAINABLE DEVELOPMENT RESEARCH FOUNDATION\n",
        "6415 done."
       ]
      },
      {
       "output_type": "stream",
       "stream": "stdout",
       "text": [
        "\n",
        "HONG KONG SWATOW CHRISTIAN CHURCH\n",
        "6416 done."
       ]
      },
      {
       "output_type": "stream",
       "stream": "stdout",
       "text": [
        "\n",
        "HONG KONG SWATOW CHRISTIAN CHURCH\n",
        "6417 done."
       ]
      },
      {
       "output_type": "stream",
       "stream": "stdout",
       "text": [
        "\n",
        "Hong Kong Tang King Po College\n",
        "6421 done."
       ]
      },
      {
       "output_type": "stream",
       "stream": "stdout",
       "text": [
        "\n",
        "Hong Kong Taoist Association Chan Lui Chung Tak Memorial School\n",
        "6422 done."
       ]
      },
      {
       "output_type": "stream",
       "stream": "stdout",
       "text": [
        "\n",
        "Hong Kong Taoist Association Ching Chung Secondary School\n",
        "6423 done."
       ]
      },
      {
       "output_type": "stream",
       "stream": "stdout",
       "text": [
        "\n",
        "Hong Kong Taoist Association Ng Lai Wo Memorial School\n",
        "6424 done."
       ]
      },
      {
       "output_type": "stream",
       "stream": "stdout",
       "text": [
        "\n",
        "Hong Kong Taoist Association School\n",
        "6426 done."
       ]
      },
      {
       "output_type": "stream",
       "stream": "stdout",
       "text": [
        "\n",
        "Hong Kong Taoist Association Shek Wai Kok Primary School\n",
        "6427 done."
       ]
      },
      {
       "output_type": "stream",
       "stream": "stdout",
       "text": [
        "\n",
        "Hong Kong Taoist Association Shun Yeung Primary School\n",
        "6428 done."
       ]
      },
      {
       "output_type": "stream",
       "stream": "stdout",
       "text": [
        "\n",
        "Hong Kong Taoist Association Tang Hin Memorial Secondary School\n",
        "6429 done."
       ]
      },
      {
       "output_type": "stream",
       "stream": "stdout",
       "text": [
        "\n",
        "Hong Kong Taoist Association The Yuen Yuen Institute No.1 Secondary School\n",
        "6430 done."
       ]
      },
      {
       "output_type": "stream",
       "stream": "stdout",
       "text": [
        "\n",
        "Hong Kong Taoist Association The Yuen Yuen Institute No.2 Secondary School\n",
        "6431 done."
       ]
      },
      {
       "output_type": "stream",
       "stream": "stdout",
       "text": [
        "\n",
        "Hong Kong Taoist Association The Yuen Yuen Institute No.3 Secondary School\n",
        "6432 done."
       ]
      },
      {
       "output_type": "stream",
       "stream": "stdout",
       "text": [
        "\n",
        "Hong Kong Taoist Association Yuen Yuen Child Care Centre\n",
        "6433 done."
       ]
      },
      {
       "output_type": "stream",
       "stream": "stdout",
       "text": [
        "\n",
        "Hong Kong Taoist Association Yuen Yuen Child Care Centre\n",
        "6434 done."
       ]
      },
      {
       "output_type": "stream",
       "stream": "stdout",
       "text": [
        "\n",
        "Hong Kong Taoist Association Yuen Yuen Child Care Centre\n",
        "6435 done."
       ]
      },
      {
       "output_type": "stream",
       "stream": "stdout",
       "text": [
        "\n",
        "Hong Kong Taoist Association Yuen Yuen Kindergarten\n",
        "6436 done."
       ]
      },
      {
       "output_type": "stream",
       "stream": "stdout",
       "text": [
        "\n",
        "Hong Kong Taoist Association Yuen Yuen Kindergarten\n",
        "6437 done."
       ]
      },
      {
       "output_type": "stream",
       "stream": "stdout",
       "text": [
        "\n",
        "Hong Kong Taoist Association Yuen Yuen Kindergarten\n",
        "6438 done."
       ]
      },
      {
       "output_type": "stream",
       "stream": "stdout",
       "text": [
        "\n",
        "Hong Kong Taoist Association Yuen Yuen Primary School\n",
        "6439 done."
       ]
      },
      {
       "output_type": "stream",
       "stream": "stdout",
       "text": [
        "\n",
        "The Taoist Association\n",
        "6440 done."
       ]
      },
      {
       "output_type": "stream",
       "stream": "stdout",
       "text": [
        "\n",
        "HONG KONG TEACHERS ASSOCIATION EDUCATION DEVELOPMENT\n",
        "6441 done."
       ]
      },
      {
       "output_type": "stream",
       "stream": "stdout",
       "text": [
        "\n",
        "Hong Kong Teachers Association Lee Heng Kwei Secondary School\n",
        "6442 done."
       ]
      },
      {
       "output_type": "stream",
       "stream": "stdout",
       "text": [
        "\n",
        "HONG KONG TENNIS MINISTRY ASSOCIATION\n",
        "6445 done."
       ]
      },
      {
       "output_type": "stream",
       "stream": "stdout",
       "text": [
        "\n",
        "HONG KONG THERAVADA MEDITATION SOCIETY\n",
        "6448 done."
       ]
      },
      {
       "output_type": "stream",
       "stream": "stdout",
       "text": [
        "\n",
        "HONG KONG THORACIC SOCIETY\n",
        "6449 done."
       ]
      },
      {
       "output_type": "stream",
       "stream": "stdout",
       "text": [
        "\n",
        "HONG KONG TIN SHUI WAI WOMEN ASSOCIATION\n",
        "6452 done."
       ]
      },
      {
       "output_type": "stream",
       "stream": "stdout",
       "text": [
        "\n",
        "HONG KONG TRANSLATION SOCIETY\n",
        "6455 done."
       ]
      },
      {
       "output_type": "stream",
       "stream": "stdout",
       "text": [
        "\n",
        "HONG KONG TREBLE CHOIRS ASSOCIATION\n",
        "6458 done."
       ]
      },
      {
       "output_type": "stream",
       "stream": "stdout",
       "text": [
        "\n",
        "Hong Kong True Light College\n",
        "6459 done."
       ]
      },
      {
       "output_type": "stream",
       "stream": "stdout",
       "text": [
        "\n",
        "Hong Kong True Light Kindergarten\n",
        "6460 done."
       ]
      },
      {
       "output_type": "stream",
       "stream": "stdout",
       "text": [
        "\n",
        "HONG KONG TRUTH BOOK ROOM\n",
        "6461 done."
       ]
      },
      {
       "output_type": "stream",
       "stream": "stdout",
       "text": [
        "\n",
        "HONG KONG TRUTH CHURCH\n",
        "6462 done."
       ]
      },
      {
       "output_type": "stream",
       "stream": "stdout",
       "text": [
        "\n",
        "HONG KONG TSZ KWONG BETHEL CHURCH\n",
        "6463 done."
       ]
      },
      {
       "output_type": "stream",
       "stream": "stdout",
       "text": [
        "\n",
        "HONG KONG TSZ OI BETHEL CHURCH\n",
        "6464 done."
       ]
      },
      {
       "output_type": "stream",
       "stream": "stdout",
       "text": [
        "\n",
        "Hong Kong Tuberculosis Association Chinese Medicine Clinic cum Training Centre of the University of\n",
        "6465 done."
       ]
      },
      {
       "output_type": "stream",
       "stream": "stdout",
       "text": [
        "\n",
        "Hong Kong Tuberculosis Association-The University of Clinical Centre for Teaching and Research in Chinese Medicine\n",
        "6466 done."
       ]
      },
      {
       "output_type": "stream",
       "stream": "stdout",
       "text": [
        "\n",
        "HONG KONG TUBERCULOSIS\n",
        "6467 done."
       ]
      },
      {
       "output_type": "stream",
       "stream": "stdout",
       "text": [
        "\n",
        "HONG KONG UNITED EVANGELISTIC MISSION\n",
        "6470 done."
       ]
      },
      {
       "output_type": "stream",
       "stream": "stdout",
       "text": [
        "\n",
        "HONG KONG UNIVERSITY GRADUATES ASSOCIATION EDUCATION FOUNDATION\n",
        "6471 done."
       ]
      },
      {
       "output_type": "stream",
       "stream": "stdout",
       "text": [
        "\n",
        "Hong Kong University of Science and Technology Foundation\n",
        "6474 done."
       ]
      },
      {
       "output_type": "stream",
       "stream": "stdout",
       "text": [
        "\n",
        "HONG KONG UNIVERSITY OF SCIENCE AND TECHNOLOGY\n",
        "6475 done."
       ]
      },
      {
       "output_type": "stream",
       "stream": "stdout",
       "text": [
        "\n",
        "HONG KONG UNIVERSITY STUDENTS UNION\n",
        "6476 done."
       ]
      },
      {
       "output_type": "stream",
       "stream": "stdout",
       "text": [
        "\n",
        "Hong Kong University Students Union Choir\n",
        "6477 done."
       ]
      },
      {
       "output_type": "stream",
       "stream": "stdout",
       "text": [
        "\n",
        "HONG KONG UROLOGICAL ASSOCIATION\n",
        "6479 done."
       ]
      },
      {
       "output_type": "stream",
       "stream": "stdout",
       "text": [
        "\n",
        "HONG KONG VAJRAYANA ESOTERIC SOCIETY\n",
        "6480 done."
       ]
      },
      {
       "output_type": "stream",
       "stream": "stdout",
       "text": [
        "\n",
        "HONG KONG VERNACULAR NORMAL SCHOOLS ALUMNI ASSOCIATION SCHOOL\n",
        "6481 done."
       ]
      },
      {
       "output_type": "stream",
       "stream": "stdout",
       "text": [
        "\n",
        "Hong Kong Vocational and Technical for Career\n",
        "6485 done."
       ]
      },
      {
       "output_type": "stream",
       "stream": "stdout",
       "text": [
        "\n",
        "Hong Kong Voice of Prophecy Bible Correspondence School\n",
        "6487 done."
       ]
      },
      {
       "output_type": "stream",
       "stream": "stdout",
       "text": [
        "\n",
        "HONG KONG WAN CHAI DISTRICT ASSOCIATION\n",
        "6491 done."
       ]
      },
      {
       "output_type": "stream",
       "stream": "stdout",
       "text": [
        "\n",
        "HONG KONG WATCH MANUFACTURERS FOUNDATION\n",
        "6494 done."
       ]
      },
      {
       "output_type": "stream",
       "stream": "stdout",
       "text": [
        "\n",
        "Hong Kong Weaving Mills Association Education Centre\n",
        "6495 done."
       ]
      },
      {
       "output_type": "stream",
       "stream": "stdout",
       "text": [
        "\n",
        "Hong Kong West Point Baptist Church Elderly Centre\n",
        "6500 done."
       ]
      },
      {
       "output_type": "stream",
       "stream": "stdout",
       "text": [
        "\n",
        "HONG KONG WOMEN CHRISTIAN COUNCIL\n",
        "6505 done."
       ]
      },
      {
       "output_type": "stream",
       "stream": "stdout",
       "text": [
        "\n",
        "HONG KONG WOMEN DEVELOPMENT ASSOCIATION\n",
        "6506 done."
       ]
      },
      {
       "output_type": "stream",
       "stream": "stdout",
       "text": [
        "\n",
        "HONG KONG WOMENS CHOIR\n",
        "6510 done."
       ]
      },
      {
       "output_type": "stream",
       "stream": "stdout",
       "text": [
        "\n",
        "HONG KONG WONG CLAN ASSOCIATION\n",
        "6511 done."
       ]
      },
      {
       "output_type": "stream",
       "stream": "stdout",
       "text": [
        "\n",
        "Hong Kong Y.W.C.A. Athena Kindergarten\n",
        "6515 done."
       ]
      },
      {
       "output_type": "stream",
       "stream": "stdout",
       "text": [
        "\n",
        "HONG KONG YAN KWONG BETHEL CHURCH\n",
        "6516 done."
       ]
      },
      {
       "output_type": "stream",
       "stream": "stdout",
       "text": [
        "\n",
        "HONG KONG YOUNG LADIES CHORUS\n",
        "6520 done."
       ]
      },
      {
       "output_type": "stream",
       "stream": "stdout",
       "text": [
        "\n",
        "HONG KONG YOUNG WOMENS CHRISTIAN ASSOCIATION\n",
        "6522 done."
       ]
      },
      {
       "output_type": "stream",
       "stream": "stdout",
       "text": [
        "\n",
        "Hong Kong Young Womens Christian Association Cheung Ching Nursery School\n",
        "6523 done."
       ]
      },
      {
       "output_type": "stream",
       "stream": "stdout",
       "text": [
        "\n",
        "Hong Kong Young Womens Christian Association Chiu Oi Wah Nursery School\n",
        "6524 done."
       ]
      },
      {
       "output_type": "stream",
       "stream": "stdout",
       "text": [
        "\n",
        "Hong Kong Young Womens Christian Association Choi Wan Nursery School\n",
        "6525 done."
       ]
      },
      {
       "output_type": "stream",
       "stream": "stdout",
       "text": [
        "\n",
        "Hong Kong Young Womens Christian Association Faith Hope Nursery School\n",
        "6526 done."
       ]
      },
      {
       "output_type": "stream",
       "stream": "stdout",
       "text": [
        "\n",
        "Hong Kong Young Womens Christian Association Jockey Club Tin Shui Wai Family Wellness Centre\n",
        "6527 done."
       ]
      },
      {
       "output_type": "stream",
       "stream": "stdout",
       "text": [
        "\n",
        "Hong Kong Young Womens Christian Association Lung Hang Nursery School\n",
        "6528 done."
       ]
      },
      {
       "output_type": "stream",
       "stream": "stdout",
       "text": [
        "\n",
        "Hong Kong Young Womens Christian Association On Ting Nursery School\n",
        "6529 done."
       ]
      },
      {
       "output_type": "stream",
       "stream": "stdout",
       "text": [
        "\n",
        "Hong Kong Young Womens Christian Association Shiu Pong Nursery School\n",
        "6530 done."
       ]
      },
      {
       "output_type": "stream",
       "stream": "stdout",
       "text": [
        "\n",
        "Hong Kong Young Womens Christian Association Tai Hon Fan Nursery School\n",
        "6531 done."
       ]
      },
      {
       "output_type": "stream",
       "stream": "stdout",
       "text": [
        "\n",
        "Hong Kong Young Womens Christian Association Tsuen Wan Nursery School\n",
        "6532 done."
       ]
      },
      {
       "output_type": "stream",
       "stream": "stdout",
       "text": [
        "\n",
        "HONG KONG YOUTH & TERTIARY STUDENTS ASSOCIATION\n",
        "6534 done."
       ]
      },
      {
       "output_type": "stream",
       "stream": "stdout",
       "text": [
        "\n",
        "Hong Kong Youth Band\n",
        "6536 done."
       ]
      },
      {
       "output_type": "stream",
       "stream": "stdout",
       "text": [
        "\n",
        "Hong Kong Youth Dance\n",
        "6540 done."
       ]
      },
      {
       "output_type": "stream",
       "stream": "stdout",
       "text": [
        "\n",
        "HONG KONG YOUTH EXCHANGE PROMOTION UNITED ASSOCIATION\n",
        "6541 done."
       ]
      },
      {
       "output_type": "stream",
       "stream": "stdout",
       "text": [
        "\n",
        "HONG KONG YOUTH HOSTELS ASSOCIATION\n",
        "6542 done."
       ]
      },
      {
       "output_type": "stream",
       "stream": "stdout",
       "text": [
        "\n",
        "Hong Kong Youth Percussion\n",
        "6543 done."
       ]
      },
      {
       "output_type": "stream",
       "stream": "stdout",
       "text": [
        "\n",
        "HONG KONG POWER YOUTH ASSOCIATION\n",
        "6544 done."
       ]
      },
      {
       "output_type": "stream",
       "stream": "stdout",
       "text": [
        "\n",
        "Hong Kong Youth Theatre\n",
        "6545 done."
       ]
      },
      {
       "output_type": "stream",
       "stream": "stdout",
       "text": [
        "\n",
        "HONG LING RENAL CLUB\n",
        "6550 done."
       ]
      },
      {
       "output_type": "stream",
       "stream": "stdout",
       "text": [
        "\n",
        "Hong Lok Yuen International School\n",
        "6552 done."
       ]
      },
      {
       "output_type": "stream",
       "stream": "stdout",
       "text": [
        "\n",
        "Hong Ping Hostel\n",
        "6554 done."
       ]
      },
      {
       "output_type": "stream",
       "stream": "stdout",
       "text": [
        "\n",
        "Hong Tsui Hostel\n",
        "6555 done."
       ]
      },
      {
       "output_type": "stream",
       "stream": "stdout",
       "text": [
        "\n",
        "Hong Ying Anglo-Chinese Kindergarten\n",
        "6556 done."
       ]
      },
      {
       "output_type": "stream",
       "stream": "stdout",
       "text": [
        "\n",
        "Hong Ying Child Care Centre\n",
        "6557 done."
       ]
      },
      {
       "output_type": "stream",
       "stream": "stdout",
       "text": [
        "\n",
        "HONG YUNG SERVICES\n",
        "6559 done."
       ]
      },
      {
       "output_type": "stream",
       "stream": "stdout",
       "text": [
        "\n",
        "Hongkong Bank Foundation Hong Chi Fung Tak Centre\n",
        "6562 done."
       ]
      },
      {
       "output_type": "stream",
       "stream": "stdout",
       "text": [
        "\n",
        "Hongkong Bank Foundation Hong Chi Tung Tau Hostel\n",
        "6563 done."
       ]
      },
      {
       "output_type": "stream",
       "stream": "stdout",
       "text": [
        "\n",
        "HONGKONG CATHOLIC BIBLICAL INSTITUTE\n",
        "6565 done."
       ]
      },
      {
       "output_type": "stream",
       "stream": "stdout",
       "text": [
        "\n",
        "Hong Kong Huiling\n",
        "6569 done."
       ]
      },
      {
       "output_type": "stream",
       "stream": "stdout",
       "text": [
        "\n",
        "Hop Yat Church Chan Pak Wang Memorial Day Nursery\n",
        "6574 done."
       ]
      },
      {
       "output_type": "stream",
       "stream": "stdout",
       "text": [
        "\n",
        "Hop Yat Church Chan Pak Wang Memorial Kindergarten\n",
        "6575 done."
       ]
      },
      {
       "output_type": "stream",
       "stream": "stdout",
       "text": [
        "\n",
        "HOP YAT CHURCH OF THE CHURCH OF CHRIST IN CHINA\n",
        "6576 done."
       ]
      },
      {
       "output_type": "stream",
       "stream": "stdout",
       "text": [
        "\n",
        "Hop Yat Church School\n",
        "6577 done."
       ]
      },
      {
       "output_type": "stream",
       "stream": "stdout",
       "text": [
        "\n",
        "Hop Yat Church Shin Ka Chuen Memorial\n",
        "6578 done."
       ]
      },
      {
       "output_type": "stream",
       "stream": "stdout",
       "text": [
        "\n",
        "Hop Yat Church Shin Ka Chuen Memorial Kindergarten\n",
        "6579 done."
       ]
      },
      {
       "output_type": "stream",
       "stream": "stdout",
       "text": [
        "\n",
        "Hop Yat Church Social Centre For The Eldelry\n",
        "6580 done."
       ]
      },
      {
       "output_type": "stream",
       "stream": "stdout",
       "text": [
        "\n",
        "HOPE HOUSE ORGANIZATION\n",
        "6583 done."
       ]
      },
      {
       "output_type": "stream",
       "stream": "stdout",
       "text": [
        "\n",
        "Hope Mennonite Church\n",
        "6586 done."
       ]
      },
      {
       "output_type": "stream",
       "stream": "stdout",
       "text": [
        "\n",
        "HOPE RAINBOW CHARITABLE FOUNDATION\n",
        "6591 done."
       ]
      },
      {
       "output_type": "stream",
       "stream": "stdout",
       "text": [
        "\n",
        "HOSANNA CHANTERS\n",
        "6600 done."
       ]
      },
      {
       "output_type": "stream",
       "stream": "stdout",
       "text": [
        "\n",
        "HOSANNA FOUNDATION\n",
        "6601 done."
       ]
      },
      {
       "output_type": "stream",
       "stream": "stdout",
       "text": [
        "\n",
        "Hosanna Worshipers Center\n",
        "6603 done."
       ]
      },
      {
       "output_type": "stream",
       "stream": "stdout",
       "text": [
        "\n",
        "HOSPITAL AUTHORITY\n",
        "6605 done."
       ]
      },
      {
       "output_type": "stream",
       "stream": "stdout",
       "text": [
        "\n",
        "Hospital Red Cross Schools\n",
        "6608 done."
       ]
      },
      {
       "output_type": "stream",
       "stream": "stdout",
       "text": [
        "\n",
        "Hostel for The Blind\n",
        "6609 done."
       ]
      },
      {
       "output_type": "stream",
       "stream": "stdout",
       "text": [
        "\n",
        "HOT BEAR BEAR MEDIA MINISTRY\n",
        "6610 done."
       ]
      },
      {
       "output_type": "stream",
       "stream": "stdout",
       "text": [
        "\n",
        "Hotline Service\n",
        "6612 done."
       ]
      },
      {
       "output_type": "stream",
       "stream": "stdout",
       "text": [
        "\n",
        "HOUR OF POWER\n",
        "6615 done."
       ]
      },
      {
       "output_type": "stream",
       "stream": "stdout",
       "text": [
        "\n",
        "House of Dawn\n",
        "6616 done."
       ]
      },
      {
       "output_type": "stream",
       "stream": "stdout",
       "text": [
        "\n",
        "HOUSE OF LEARNING\n",
        "6617 done."
       ]
      },
      {
       "output_type": "stream",
       "stream": "stdout",
       "text": [
        "\n",
        "HSBC Yan Oi Tong Community Support Centre\n",
        "6619 done."
       ]
      },
      {
       "output_type": "stream",
       "stream": "stdout",
       "text": [
        "\n",
        "HUA XIA FOUNDATION\n",
        "6625 done."
       ]
      },
      {
       "output_type": "stream",
       "stream": "stdout",
       "text": [
        "\n",
        "Hub Children and Youth Centre\n",
        "6630 done."
       ]
      },
      {
       "output_type": "stream",
       "stream": "stdout",
       "text": [
        "\n",
        "Hugo Brunner Scholarship Fund\n",
        "6632 done."
       ]
      },
      {
       "output_type": "stream",
       "stream": "stdout",
       "text": [
        "\n",
        "Hui Chung Sing Memorial School\n",
        "6633 done."
       ]
      },
      {
       "output_type": "stream",
       "stream": "stdout",
       "text": [
        "\n",
        "HULU CULTURE\n",
        "6639 done."
       ]
      },
      {
       "output_type": "stream",
       "stream": "stdout",
       "text": [
        "\n",
        "HUNG CHI CHING CHARITABLE FUND\n",
        "6644 done."
       ]
      },
      {
       "output_type": "stream",
       "stream": "stdout",
       "text": [
        "\n",
        "Hung En Lutheran Church\n",
        "6645 done."
       ]
      },
      {
       "output_type": "stream",
       "stream": "stdout",
       "text": [
        "\n",
        "Hung Fook Tong Herbal Tea & Soup Square\n",
        "6646 done."
       ]
      },
      {
       "output_type": "stream",
       "stream": "stdout",
       "text": [
        "\n",
        "HUNG HING YING AND LEUNG HAU LING CHARITABLE FOUNDATION\n",
        "6648 done."
       ]
      },
      {
       "output_type": "stream",
       "stream": "stdout",
       "text": [
        "\n",
        "HUNG HOM BAPTIST CHURCH\n",
        "6650 done."
       ]
      },
      {
       "output_type": "stream",
       "stream": "stdout",
       "text": [
        "\n",
        "Hung Hom Christian Church\n",
        "6651 done."
       ]
      },
      {
       "output_type": "stream",
       "stream": "stdout",
       "text": [
        "\n",
        "Hung Hom Lutheran Primary School\n",
        "6652 done."
       ]
      },
      {
       "output_type": "stream",
       "stream": "stdout",
       "text": [
        "\n",
        "Hung Shui Kiu Ling Liang Church\n",
        "6656 done."
       ]
      },
      {
       "output_type": "stream",
       "stream": "stdout",
       "text": [
        "\n",
        "Hunghom Kaifong Library & Creche\n",
        "6657 done."
       ]
      },
      {
       "output_type": "stream",
       "stream": "stdout",
       "text": [
        "\n",
        "Hunghom Rhenish Church Kindergarten\n",
        "6658 done."
       ]
      },
      {
       "output_type": "stream",
       "stream": "stdout",
       "text": [
        "\n",
        "HYACINTH SERVICES CENTER FOR THE ELDERLY\n",
        "6660 done."
       ]
      },
      {
       "output_type": "stream",
       "stream": "stdout",
       "text": [
        "\n",
        "I.C.F.G. Kin Sang Church Elderly Centre\n",
        "6664 done."
       ]
      },
      {
       "output_type": "stream",
       "stream": "stdout",
       "text": [
        "\n",
        "I.C.F.G. Lung Hang Church Elderly Centre\n",
        "6665 done."
       ]
      },
      {
       "output_type": "stream",
       "stream": "stdout",
       "text": [
        "\n",
        "ICI INTERNATIONAL CULTURAL INSTITUTE\n",
        "6671 done."
       ]
      },
      {
       "output_type": "stream",
       "stream": "stdout",
       "text": [
        "\n",
        "Ignite Social Service\n",
        "6679 done."
       ]
      },
      {
       "output_type": "stream",
       "stream": "stdout",
       "text": [
        "\n",
        "IHES-K.C. Wong Fellowships\n",
        "6680 done."
       ]
      },
      {
       "output_type": "stream",
       "stream": "stdout",
       "text": [
        "\n",
        "IIC\n",
        "6681 done."
       ]
      },
      {
       "output_type": "stream",
       "stream": "stdout",
       "text": [
        "\n",
        "iLinks\n",
        "6682 done."
       ]
      },
      {
       "output_type": "stream",
       "stream": "stdout",
       "text": [
        "\n",
        "ILLUMINATION FOUNDATION\n",
        "6683 done."
       ]
      },
      {
       "output_type": "stream",
       "stream": "stdout",
       "text": [
        "\n",
        "Image 21\n",
        "6684 done."
       ]
      },
      {
       "output_type": "stream",
       "stream": "stdout",
       "text": [
        "\n",
        "IMC OF ALLIANCE PRIMARY SCHOOL\n",
        "6691 done."
       ]
      },
      {
       "output_type": "stream",
       "stream": "stdout",
       "text": [
        "\n",
        "IMC OF BAPTIST\n",
        "6695 done."
       ]
      },
      {
       "output_type": "stream",
       "stream": "stdout",
       "text": [
        "\n",
        "IMC OF BAPTIST RAINBOW PRIMARY SCHOOL\n",
        "6699 done."
       ]
      },
      {
       "output_type": "stream",
       "stream": "stdout",
       "text": [
        "\n",
        "IMC OF BAPTIST WING LUNG SECONDARY SCHOOL\n",
        "6700 done."
       ]
      },
      {
       "output_type": "stream",
       "stream": "stdout",
       "text": [
        "\n",
        "IMC OF BETHEL HIGH SCHOOL\n",
        "6702 done."
       ]
      },
      {
       "output_type": "stream",
       "stream": "stdout",
       "text": [
        "\n",
        "IMC OF BISHOP PASCHANG CATHOLIC SCHOOL\n",
        "6703 done."
       ]
      },
      {
       "output_type": "stream",
       "stream": "stdout",
       "text": [
        "\n",
        "IMC OF BUDDHIST CHAN WING KAN MEMORIAL SCHOOL\n",
        "6704 done."
       ]
      },
      {
       "output_type": "stream",
       "stream": "stdout",
       "text": [
        "\n",
        "IMC OF BUDDHIST CHI KING PRIMARY SCHOOL\n",
        "6705 done."
       ]
      },
      {
       "output_type": "stream",
       "stream": "stdout",
       "text": [
        "\n",
        "IMC OF BUDDHIST CHUNG WAH KORNHILL PRIMARY SCHOOL\n",
        "6706 done."
       ]
      },
      {
       "output_type": "stream",
       "stream": "stdout",
       "text": [
        "\n",
        "IMC OF BUDDHIST KOK KWONG SECONDARY SCHOOL\n",
        "6711 done."
       ]
      },
      {
       "output_type": "stream",
       "stream": "stdout",
       "text": [
        "\n",
        "IMC OF BUDDHIST LAM BING YIM MEMORIAL SCHOOL\n",
        "6712 done."
       ]
      },
      {
       "output_type": "stream",
       "stream": "stdout",
       "text": [
        "\n",
        "IMC OF BUDDHIST LIM KIM TIAN MEMORIAL PRIMARY SCHOOL\n",
        "6713 done."
       ]
      },
      {
       "output_type": "stream",
       "stream": "stdout",
       "text": [
        "\n",
        "IMC OF BUDDHIST TO CHI FAT SHE YEUNG YAT LAM MEMORIAL SCHOOL\n",
        "6718 done."
       ]
      },
      {
       "output_type": "stream",
       "stream": "stdout",
       "text": [
        "\n",
        "IMC OF BUDDHIST WING YAN SCHOOL\n",
        "6720 done."
       ]
      },
      {
       "output_type": "stream",
       "stream": "stdout",
       "text": [
        "\n",
        "IMC OF BUDDHIST WONG CHEUK UM PRIMARY SCHOOL\n",
        "6721 done."
       ]
      },
      {
       "output_type": "stream",
       "stream": "stdout",
       "text": [
        "\n",
        "IMC OF BUDDHIST WONG FUNG LING COLLEGE\n",
        "6722 done."
       ]
      },
      {
       "output_type": "stream",
       "stream": "stdout",
       "text": [
        "\n",
        "IMC OF BUDDHIST WONG WAN TIN COLLEGE\n",
        "6723 done."
       ]
      },
      {
       "output_type": "stream",
       "stream": "stdout",
       "text": [
        "\n",
        "IMC OF CARMEL ALISON LAM PRIMARY SCHOOL\n",
        "6727 done."
       ]
      },
      {
       "output_type": "stream",
       "stream": "stdout",
       "text": [
        "\n",
        "IMC OF CARMEL BUNNAN TONG MEMORIAL SECONDARY SCHOOL\n",
        "6728 done."
       ]
      },
      {
       "output_type": "stream",
       "stream": "stdout",
       "text": [
        "\n",
        "IMC OF CHAI HOSPITAL TUNG CHI YING MEMORIAL SECONDARY SCHOOL\n",
        "6732 done."
       ]
      },
      {
       "output_type": "stream",
       "stream": "stdout",
       "text": [
        "\n",
        "IMC OF CHENG CHEK CHEE SECONDARY SCHOOL OF SAI KUNG AND HANG HAU DISTRICT\n",
        "6733 done."
       ]
      },
      {
       "output_type": "stream",
       "stream": "stdout",
       "text": [
        "\n",
        "IMC OF CHEUNG CHUK SHAN COLLEGE\n",
        "6734 done."
       ]
      },
      {
       "output_type": "stream",
       "stream": "stdout",
       "text": [
        "\n",
        "IMC OF CHI YUN SCHOOL\n",
        "6737 done."
       ]
      },
      {
       "output_type": "stream",
       "stream": "stdout",
       "text": [
        "\n",
        "IMC OF CHING CHUNG HAU PO WOON SECONDARY SCHOOL\n",
        "6741 done."
       ]
      },
      {
       "output_type": "stream",
       "stream": "stdout",
       "text": [
        "\n",
        "IMC OF CHIU SHEUNG SCHOOL\n",
        "6743 done."
       ]
      },
      {
       "output_type": "stream",
       "stream": "stdout",
       "text": [
        "\n",
        "IMC OF CHIU YANG POR YEN PRIMARY SCHOOL\n",
        "6744 done."
       ]
      },
      {
       "output_type": "stream",
       "stream": "stdout",
       "text": [
        "\n",
        "IMC OF CHOI JUN SCHOOL\n",
        "6746 done."
       ]
      },
      {
       "output_type": "stream",
       "stream": "stdout",
       "text": [
        "\n",
        "IMC OF CHRIST COLLEGE\n",
        "6748 done."
       ]
      },
      {
       "output_type": "stream",
       "stream": "stdout",
       "text": [
        "\n",
        "IMC OF CHRISTIAN ALLIANCE CHENG WING GEE COLLEGE OF THE KOWLOON TONG CHURCH OF THE CHINESE CHRISTIAN AND MISSIONARY ALLIANCE\n",
        "6751 done."
       ]
      },
      {
       "output_type": "stream",
       "stream": "stdout",
       "text": [
        "\n",
        "IMC OF CHRISTIAN ALLIANCE COLLEGE\n",
        "6752 done."
       ]
      },
      {
       "output_type": "stream",
       "stream": "stdout",
       "text": [
        "\n",
        "IMC OF CHRISTIAN ALLIANCE H.C. CHAN PRIMARY SCHOOL OF THE KOWLOON TONG CHURCH OF THE CHINESE CHRISTIAN AND MISSIONARY ALLIANCE\n",
        "6753 done."
       ]
      },
      {
       "output_type": "stream",
       "stream": "stdout",
       "text": [
        "\n",
        "IMC OF CHRISTIAN ALLIANCE S W CHAN MEMORIAL COLLEGE\n",
        "6754 done."
       ]
      },
      {
       "output_type": "stream",
       "stream": "stdout",
       "text": [
        "\n",
        "IMC OF CHRISTIAN ALLIANCE S Y YEH MEMORIAL PRIMARY SCHOOL\n",
        "6755 done."
       ]
      },
      {
       "output_type": "stream",
       "stream": "stdout",
       "text": [
        "\n",
        "IMC OF CHRISTIAN ALLIANCE S. C. CHAN MEMORIAL COLLEGE\n",
        "6756 done."
       ]
      },
      {
       "output_type": "stream",
       "stream": "stdout",
       "text": [
        "\n",
        "IMC OF CHRISTIAN ALLIANCE TOI SHAN H. C. CHAN PRIMARY SCHOOL OF THE KOWLOON TONG CHURCH OF THE CHINESE CHRISTIAN AND MISSIONARY ALLIANCE\n",
        "6757 done."
       ]
      },
      {
       "output_type": "stream",
       "stream": "stdout",
       "text": [
        "\n",
        "IMC OF CHRISTIAN NATIONALS EVANGELISM COMMISSION LAU WING SANG SECONDARY SCHOOL\n",
        "6758 done."
       ]
      },
      {
       "output_type": "stream",
       "stream": "stdout",
       "text": [
        "\n",
        "IMC OF CHUNG SING SCHOOL\n",
        "6760 done."
       ]
      },
      {
       "output_type": "stream",
       "stream": "stdout",
       "text": [
        "\n",
        "IMC OF CNEC CHRISTIAN COLLEGE\n",
        "6762 done."
       ]
      },
      {
       "output_type": "stream",
       "stream": "stdout",
       "text": [
        "\n",
        "IMC OF CONCORDIA LUTHERAN SCHOOL - NORTH POINT\n",
        "6765 done."
       ]
      },
      {
       "output_type": "stream",
       "stream": "stdout",
       "text": [
        "\n",
        "IMC OF CONCORDIA LUTHERAN SCHOOL\n",
        "6767 done."
       ]
      },
      {
       "output_type": "stream",
       "stream": "stdout",
       "text": [
        "\n",
        "IMC OF CONSERVATIVE BAPTIST LUI MING CHOI PRIMARY SCHOOL\n",
        "6769 done."
       ]
      },
      {
       "output_type": "stream",
       "stream": "stdout",
       "text": [
        "\n",
        "IMC OF COTTON SPINNERS ASSOCIATION SECONDARY SCHOOL\n",
        "6770 done."
       ]
      },
      {
       "output_type": "stream",
       "stream": "stdout",
       "text": [
        "\n",
        "IMC OF ELEGANTIA COLLEGE\n",
        "6781 done."
       ]
      },
      {
       "output_type": "stream",
       "stream": "stdout",
       "text": [
        "\n",
        "IMC OF EVANGELIZE CHINA FELLOWSHIP HOLY WORD SCHOOL\n",
        "6783 done."
       ]
      },
      {
       "output_type": "stream",
       "stream": "stdout",
       "text": [
        "\n",
        "IMC OF F.D.B.W.A. SZETO HO SECONDARY SCHOOL\n",
        "6784 done."
       ]
      },
      {
       "output_type": "stream",
       "stream": "stdout",
       "text": [
        "\n",
        "IMC OF FANLING ASSEMBLY OF GOD CHURCH PRIMARY SCHOOL\n",
        "6785 done."
       ]
      },
      {
       "output_type": "stream",
       "stream": "stdout",
       "text": [
        "\n",
        "IMC OF FANLING RHENISH CHURCH SECONDARY SCHOOL\n",
        "6787 done."
       ]
      },
      {
       "output_type": "stream",
       "stream": "stdout",
       "text": [
        "\n",
        "IMC OF FIVE DISTRICTS BUSINESS WELFARE ASSOCIATION SCHOOL\n",
        "6790 done."
       ]
      },
      {
       "output_type": "stream",
       "stream": "stdout",
       "text": [
        "\n",
        "IMC OF FUNG KAI INNOVATIVE SCHOOL\n",
        "6793 done."
       ]
      },
      {
       "output_type": "stream",
       "stream": "stdout",
       "text": [
        "\n",
        "IMC OF FUNG KAI LIU YUN-SUM MEMORIAL SCHOOL\n",
        "6795 done."
       ]
      },
      {
       "output_type": "stream",
       "stream": "stdout",
       "text": [
        "\n",
        "IMC OF FUNG KAI NO. 1 PRIMARY SCHOOL\n",
        "6797 done."
       ]
      },
      {
       "output_type": "stream",
       "stream": "stdout",
       "text": [
        "\n",
        "IMC OF FUNG KAI NO. 1 SECONDARY SCHOOL\n",
        "6798 done."
       ]
      },
      {
       "output_type": "stream",
       "stream": "stdout",
       "text": [
        "\n",
        "IMC OF GERTRUDE SIMON LUTHERAN COLLEGE\n",
        "6800 done."
       ]
      },
      {
       "output_type": "stream",
       "stream": "stdout",
       "text": [
        "\n",
        "IMC OF HENRIETTA SECONDARY SCHOOL\n",
        "6803 done."
       ]
      },
      {
       "output_type": "stream",
       "stream": "stdout",
       "text": [
        "\n",
        "IMC OF HHCKLA BUDDHIST CHAN SHI WAN PRIMARY SCHOOL\n",
        "6804 done."
       ]
      },
      {
       "output_type": "stream",
       "stream": "stdout",
       "text": [
        "\n",
        "IMC OF HHCKLA BUDDHIST CHING KOK LIN ASSOCIATION SCHOOL\n",
        "6806 done."
       ]
      },
      {
       "output_type": "stream",
       "stream": "stdout",
       "text": [
        "\n",
        "IMC OF HHCKLA BUDDHIST LEUNG CHIK WAI COLLEGE\n",
        "6808 done."
       ]
      },
      {
       "output_type": "stream",
       "stream": "stdout",
       "text": [
        "\n",
        "IMC OF HHCKLA BUDDHIST MA KAM CHAN MEMORIAL ENGLISH SECONDARY SCHOOL\n",
        "6810 done."
       ]
      },
      {
       "output_type": "stream",
       "stream": "stdout",
       "text": [
        "\n",
        "IMC OF HHCKLA BUDDHIST PO KWONG SCHOOL\n",
        "6811 done."
       ]
      },
      {
       "output_type": "stream",
       "stream": "stdout",
       "text": [
        "\n",
        "IMC OF HHCKLA BUDDHIST WONG CHO SUM SCHOOL\n",
        "6814 done."
       ]
      },
      {
       "output_type": "stream",
       "stream": "stdout",
       "text": [
        "\n",
        "IMC OF HING TAK SCHOOL\n",
        "6816 done."
       ]
      },
      {
       "output_type": "stream",
       "stream": "stdout",
       "text": [
        "\n",
        "IMC OF HKCKLA BUDDHIST CHING KOK SECONDARY SCHOOL\n",
        "6817 done."
       ]
      },
      {
       "output_type": "stream",
       "stream": "stdout",
       "text": [
        "\n",
        "IMC OF HKFEW WONG CHO BAU SCHOOL\n",
        "6819 done."
       ]
      },
      {
       "output_type": "stream",
       "stream": "stdout",
       "text": [
        "\n",
        "IMC OF HKFEW WONG CHO BAU SECONDARY SCHOOL\n",
        "6820 done."
       ]
      },
      {
       "output_type": "stream",
       "stream": "stdout",
       "text": [
        "\n",
        "IMC OF HKFYG LEE SHAU KEE PRIMARY SCHOOL\n",
        "6821 done."
       ]
      },
      {
       "output_type": "stream",
       "stream": "stdout",
       "text": [
        "\n",
        "IMC OF HKMA DAVID LI KWOK PO COLLEGE\n",
        "6822 done."
       ]
      },
      {
       "output_type": "stream",
       "stream": "stdout",
       "text": [
        "\n",
        "IMC OF HKSYC & IA CHAN NAM CHONG MEMORIAL SCHOOL\n",
        "6824 done."
       ]
      },
      {
       "output_type": "stream",
       "stream": "stdout",
       "text": [
        "\n",
        "IMC OF HKUGA COLLEGE\n",
        "6825 done."
       ]
      },
      {
       "output_type": "stream",
       "stream": "stdout",
       "text": [
        "\n",
        "IMC OF HKUGA PRIMARY SCHOOL\n",
        "6826 done."
       ]
      },
      {
       "output_type": "stream",
       "stream": "stdout",
       "text": [
        "\n",
        "IMC OF HO DAO COLLEGE\n",
        "6828 done."
       ]
      },
      {
       "output_type": "stream",
       "stream": "stdout",
       "text": [
        "\n",
        "IMC OF HO FUNG COLLEGE\n",
        "6829 done."
       ]
      },
      {
       "output_type": "stream",
       "stream": "stdout",
       "text": [
        "\n",
        "IMC OF HO KOON NATURE EDUCATION CUM ASTRONOMICAL CENTRE\n",
        "6831 done."
       ]
      },
      {
       "output_type": "stream",
       "stream": "stdout",
       "text": [
        "\n",
        "IMC OF HO LAP COLLEGE\n",
        "6832 done."
       ]
      },
      {
       "output_type": "stream",
       "stream": "stdout",
       "text": [
        "\n",
        "IMC OF HO LAP PRIMARY SCHOOL\n",
        "6834 done."
       ]
      },
      {
       "output_type": "stream",
       "stream": "stdout",
       "text": [
        "\n",
        "IMC OF HO MING PRIMARY SCHOOL\n",
        "6836 done."
       ]
      },
      {
       "output_type": "stream",
       "stream": "stdout",
       "text": [
        "\n",
        "IMC OF HO NGAI COLLEGE\n",
        "6838 done."
       ]
      },
      {
       "output_type": "stream",
       "stream": "stdout",
       "text": [
        "\n",
        "IMC OF HO SHUN PRIMARY SCHOOL\n",
        "6840 done."
       ]
      },
      {
       "output_type": "stream",
       "stream": "stdout",
       "text": [
        "\n",
        "IMC OF HO YU COLLEGE AND PRIMARY SCHOOL\n",
        "6841 done."
       ]
      },
      {
       "output_type": "stream",
       "stream": "stdout",
       "text": [
        "\n",
        "IMC OF HOI PING CHAMBER OF COMMERCE SECONDARY SCHOOL\n",
        "6843 done."
       ]
      },
      {
       "output_type": "stream",
       "stream": "stdout",
       "text": [
        "\n",
        "IMC OF HOLY CROSS LUTHERAN SCHOOL\n",
        "6844 done."
       ]
      },
      {
       "output_type": "stream",
       "stream": "stdout",
       "text": [
        "\n",
        "IMC OF HONG CHI PINEHILL NO. 2 SCHOOL\n",
        "6854 done."
       ]
      },
      {
       "output_type": "stream",
       "stream": "stdout",
       "text": [
        "\n",
        "IMC OF HONG CHI PINEHILL SCHOOL\n",
        "6856 done."
       ]
      },
      {
       "output_type": "stream",
       "stream": "stdout",
       "text": [
        "\n",
        "IMC OF HONG CHI WINIFRED MARY CHEUNG MORNINGHOPE SCHOOL\n",
        "6857 done."
       ]
      },
      {
       "output_type": "stream",
       "stream": "stdout",
       "text": [
        "\n",
        "IMC OF AND KOWLOON KAIFONG\n",
        "6860 done."
       ]
      },
      {
       "output_type": "stream",
       "stream": "stdout",
       "text": [
        "\n",
        "IMC OF AND KOWLOON KAIFONG WOMENS ASSOCIATION SUN FONG CHUNG COLLEGE\n",
        "6861 done."
       ]
      },
      {
       "output_type": "stream",
       "stream": "stdout",
       "text": [
        "\n",
        "IMC OF BAPTIST CONVENTION PRIMARY SCHOOL\n",
        "6862 done."
       ]
      },
      {
       "output_type": "stream",
       "stream": "stdout",
       "text": [
        "\n",
        "IMC OF JUVENILE CARE CENTRE CHAN NAM CHEONG MEMORIAL SCHOOL\n",
        "6864 done."
       ]
      },
      {
       "output_type": "stream",
       "stream": "stdout",
       "text": [
        "\n",
        "IMC OF RED SWASTIKA SOCIETY TAI PO SECONDARY SCHOOL\n",
        "6868 done."
       ]
      },
      {
       "output_type": "stream",
       "stream": "stdout",
       "text": [
        "\n",
        "IMC OF RED SWASTIKA SOCIETY TUEN MUN PRIMARY SCHOOL. THE\n",
        "6869 done."
       ]
      },
      {
       "output_type": "stream",
       "stream": "stdout",
       "text": [
        "\n",
        "IMC OF TAOIST ASSOCIATION SHUN YEUNG PRIMARY SCHOOL\n",
        "6872 done."
       ]
      },
      {
       "output_type": "stream",
       "stream": "stdout",
       "text": [
        "\n",
        "IMC OF TAOIST ASSOCIATION TANG HIN MEMORIAL SECONDARY SCHOOL\n",
        "6873 done."
       ]
      },
      {
       "output_type": "stream",
       "stream": "stdout",
       "text": [
        "\n",
        "IMC OF TAOIST ASSOCIATION THE YUEN YUEN INSTITUTE CHAN LUI CHUNG TAK MEMORIAL SCHOOL\n",
        "6874 done."
       ]
      },
      {
       "output_type": "stream",
       "stream": "stdout",
       "text": [
        "\n",
        "IMC OF TAOIST ASSOCIATION THE YUEN YUEN INSTITUTE NO. 1 SECONDARY SCHOOL\n",
        "6875 done."
       ]
      },
      {
       "output_type": "stream",
       "stream": "stdout",
       "text": [
        "\n",
        "IMC OF TAOIST ASSOCIATION THE YUEN YUEN INSTITUTE NO. 2 SECONDARY SCHOOL\n",
        "6876 done."
       ]
      },
      {
       "output_type": "stream",
       "stream": "stdout",
       "text": [
        "\n",
        "IMC OF TAOIST ASSOCIATION THE YUEN YUEN INSTITUTE SHEK WAI KOK PRIMARY SCHOOL\n",
        "6877 done."
       ]
      },
      {
       "output_type": "stream",
       "stream": "stdout",
       "text": [
        "\n",
        "IMC OF WEAVING MILLS ASSOCIATION CHU SHEK LUN SECONDARY SCHOOL\n",
        "6881 done."
       ]
      },
      {
       "output_type": "stream",
       "stream": "stdout",
       "text": [
        "\n",
        "IMC OF HOP YAT CHURCH SCHOOL\n",
        "6882 done."
       ]
      },
      {
       "output_type": "stream",
       "stream": "stdout",
       "text": [
        "\n",
        "IMC OF ISLAMIC PRIMARY SCHOOL\n",
        "6884 done."
       ]
      },
      {
       "output_type": "stream",
       "stream": "stdout",
       "text": [
        "\n",
        "IMC OF KAM TSIN VILLAGE HO TUNG SCHOOL\n",
        "6892 done."
       ]
      },
      {
       "output_type": "stream",
       "stream": "stdout",
       "text": [
        "\n",
        "IMC OF KWONG MING SCHOOL\n",
        "6905 done."
       ]
      },
      {
       "output_type": "stream",
       "stream": "stdout",
       "text": [
        "\n",
        "IMC OF KWONG MING YING LOI SCHOOL\n",
        "6906 done."
       ]
      },
      {
       "output_type": "stream",
       "stream": "stdout",
       "text": [
        "\n",
        "IMC OF LAI CHACK MIDDLE SCHOOL\n",
        "6907 done."
       ]
      },
      {
       "output_type": "stream",
       "stream": "stdout",
       "text": [
        "\n",
        "IMC OF LAM TAI FAI COLLEGE\n",
        "6909 done."
       ]
      },
      {
       "output_type": "stream",
       "stream": "stdout",
       "text": [
        "\n",
        "IMC OF LAM TSUEN PUBLIC WONG FOOK LUEN MEMORIAL SCHOOL\n",
        "6910 done."
       ]
      },
      {
       "output_type": "stream",
       "stream": "stdout",
       "text": [
        "\n",
        "IMC OF LAW TING PONG SECONDARY SCHOOL\n",
        "6911 done."
       ]
      },
      {
       "output_type": "stream",
       "stream": "stdout",
       "text": [
        "\n",
        "IMC OF LEUNG KUI KAU LUTHERAN PRIMARY SCHOOL\n",
        "6913 done."
       ]
      },
      {
       "output_type": "stream",
       "stream": "stdout",
       "text": [
        "\n",
        "IMC OF LAU TAK YUNG MEMORIAL PRIMARY SCHOOL\n",
        "6916 done."
       ]
      },
      {
       "output_type": "stream",
       "stream": "stdout",
       "text": [
        "\n",
        "IMC OF LING LIANG CHURCH E WUN SECONDARY SCHOOL\n",
        "6917 done."
       ]
      },
      {
       "output_type": "stream",
       "stream": "stdout",
       "text": [
        "\n",
        "IMC OF LIONS CLUBS INTERNATIONAL HO TAK SUM PRIMARY SCHOOL\n",
        "6920 done."
       ]
      },
      {
       "output_type": "stream",
       "stream": "stdout",
       "text": [
        "\n",
        "IMC OF LOK SIN TONG LEUNG KAU KUI PRIMARY SCHOOL\n",
        "6923 done."
       ]
      },
      {
       "output_type": "stream",
       "stream": "stdout",
       "text": [
        "\n",
        "IMC OF LUI CHEUNG KWONG LUTHERAN COLLEGE\n",
        "6927 done."
       ]
      },
      {
       "output_type": "stream",
       "stream": "stdout",
       "text": [
        "\n",
        "IMC OF LUI CHEUNG KWONG LUTHERAN PRIMARY SCHOOL\n",
        "6928 done."
       ]
      },
      {
       "output_type": "stream",
       "stream": "stdout",
       "text": [
        "\n",
        "IMC OF LUI MING CHOI LUTHERAN COLLEGE\n",
        "6930 done."
       ]
      },
      {
       "output_type": "stream",
       "stream": "stdout",
       "text": [
        "\n",
        "IMC OF LUNG KONG WORLD FEDERATION SCHOOL LAU WONG FAT SECONDARY SCHOOL\n",
        "6932 done."
       ]
      },
      {
       "output_type": "stream",
       "stream": "stdout",
       "text": [
        "\n",
        "IMC OF LUNG KONG WORLD FEDERATION SCHOOL LTD. WONG YIU NAM PRIMARY SCHOOL\n",
        "6934 done."
       ]
      },
      {
       "output_type": "stream",
       "stream": "stdout",
       "text": [
        "\n",
        "IMC OF LUTHERAN SCHOOL FOR THE DEAF\n",
        "6935 done."
       ]
      },
      {
       "output_type": "stream",
       "stream": "stdout",
       "text": [
        "\n",
        "IMC OF MA ON SHAN TSUNG TSIN SECONDARY SCHOOL\n",
        "6939 done."
       ]
      },
      {
       "output_type": "stream",
       "stream": "stdout",
       "text": [
        "\n",
        "IMC OF MUNSANG COLLEGE\n",
        "6941 done."
       ]
      },
      {
       "output_type": "stream",
       "stream": "stdout",
       "text": [
        "\n",
        "IMC OF PO KOK BRANCH SCHOOL\n",
        "6959 done."
       ]
      },
      {
       "output_type": "stream",
       "stream": "stdout",
       "text": [
        "\n",
        "IMC OF PO KOK PRIMARY SCHOOL\n",
        "6960 done."
       ]
      },
      {
       "output_type": "stream",
       "stream": "stdout",
       "text": [
        "\n",
        "IMC OF PO KOK SECONDARY SCHOOL\n",
        "6961 done."
       ]
      },
      {
       "output_type": "stream",
       "stream": "stdout",
       "text": [
        "\n",
        "IMC OF PO LEUNG KUK CAMOES TAN SIU LIN PRIMARY SCHOOL\n",
        "6964 done."
       ]
      },
      {
       "output_type": "stream",
       "stream": "stdout",
       "text": [
        "\n",
        "IMC OF PO LEUNG KUK CASTAR PRIMARY SCHOOL\n",
        "6966 done."
       ]
      },
      {
       "output_type": "stream",
       "stream": "stdout",
       "text": [
        "\n",
        "IMC OF PO LEUNG KUK CELINE HO YAM TONG COLLEGE\n",
        "6967 done."
       ]
      },
      {
       "output_type": "stream",
       "stream": "stdout",
       "text": [
        "\n",
        "IMC OF PO LEUNG KUK CHEE JING YIN PRIMARY SCHOOL\n",
        "6971 done."
       ]
      },
      {
       "output_type": "stream",
       "stream": "stdout",
       "text": [
        "\n",
        "IMC OF PO LEUNG KUK DR. JIMMY WONG CHI-HO\n",
        "6973 done."
       ]
      },
      {
       "output_type": "stream",
       "stream": "stdout",
       "text": [
        "\n",
        "IMC OF PO LEUNG KUK FUNG CHING MEMORIAL PRIMARY SCHOOL\n",
        "6976 done."
       ]
      },
      {
       "output_type": "stream",
       "stream": "stdout",
       "text": [
        "\n",
        "IMC OF PO LEUNG KUK GRANDMONT PRIMARY SCHOOL\n",
        "6979 done."
       ]
      },
      {
       "output_type": "stream",
       "stream": "stdout",
       "text": [
        "\n",
        "IMC OF PO LEUNG KUK TAOIST ASSOCIATION YUEN YUEN PRIMARY SCHOOL\n",
        "6981 done."
       ]
      },
      {
       "output_type": "stream",
       "stream": "stdout",
       "text": [
        "\n",
        "IMC OF PO LEUNG KUK HORIZON EAST PRIMARY SCHOOL\n",
        "6983 done."
       ]
      },
      {
       "output_type": "stream",
       "stream": "stdout",
       "text": [
        "\n",
        "IMC OF PO LEUNG KUK LAWS FOUNDATION COLLEGE\n",
        "6984 done."
       ]
      },
      {
       "output_type": "stream",
       "stream": "stdout",
       "text": [
        "\n",
        "IMC OF PO LEUNG KUK LUK HING TOO PRIMARY SCHOOL\n",
        "6989 done."
       ]
      },
      {
       "output_type": "stream",
       "stream": "stdout",
       "text": [
        "\n",
        "IMC OF PO LEUNG KUK NGAN PO LING COLLEGE\n",
        "6994 done."
       ]
      },
      {
       "output_type": "stream",
       "stream": "stdout",
       "text": [
        "\n",
        "IMC OF PO LEUNG KUK RIVERAIN PRIMARY SCHOOL\n",
        "6996 done."
       ]
      },
      {
       "output_type": "stream",
       "stream": "stdout",
       "text": [
        "\n",
        "IMC OF PO LEUNG KUK TIN KA PING MILLENNIUM PRIMARY SCHOOL\n",
        "7001 done."
       ]
      },
      {
       "output_type": "stream",
       "stream": "stdout",
       "text": [
        "\n",
        "IMC OF PO LEUNG KUK TIN KA PING PRIMARY SCHOOL\n",
        "7003 done."
       ]
      },
      {
       "output_type": "stream",
       "stream": "stdout",
       "text": [
        "\n",
        "IMC OF PO LEUNG KUK WAI YIN COLLEGE\n",
        "7007 done."
       ]
      },
      {
       "output_type": "stream",
       "stream": "stdout",
       "text": [
        "\n",
        "IMC OF POK OI HOSPITAL CHAN KAI MEMORIAL COLLEGE\n",
        "7016 done."
       ]
      },
      {
       "output_type": "stream",
       "stream": "stdout",
       "text": [
        "\n",
        "IMC OF POOI TO MIDDLE SCHOOL\n",
        "7017 done."
       ]
      },
      {
       "output_type": "stream",
       "stream": "stdout",
       "text": [
        "\n",
        "IMC OF PUI KIU COLLEGE\n",
        "7024 done."
       ]
      },
      {
       "output_type": "stream",
       "stream": "stdout",
       "text": [
        "\n",
        "IMC OF PUI KIU PRIMARY SCHOOL\n",
        "7025 done."
       ]
      },
      {
       "output_type": "stream",
       "stream": "stdout",
       "text": [
        "\n",
        "IMC OF QUEEN ELIZABETH SCHOOL OLD STUDENTS ASSOCIATION BRANCH PRIMARY SCHOOL\n",
        "7028 done."
       ]
      },
      {
       "output_type": "stream",
       "stream": "stdout",
       "text": [
        "\n",
        "IMC OF QUEEN ELIZABETH SCHOOL OLD STUDENTS ASSOCIATION PRIMARY SCHOOL\n",
        "7029 done."
       ]
      },
      {
       "output_type": "stream",
       "stream": "stdout",
       "text": [
        "\n",
        "IMC OF QUEEN ELIZABETH SCHOOL OLD STUDENTS ASSOCIATION SECONDARY SCHOOL\n",
        "7030 done."
       ]
      },
      {
       "output_type": "stream",
       "stream": "stdout",
       "text": [
        "\n",
        "IMC OF QUEEN ELIZABETH SCHOOL OLD STUDENTS ASSOCIATION TONG KWOK WAH SECONDARY SCHOOL\n",
        "7032 done."
       ]
      },
      {
       "output_type": "stream",
       "stream": "stdout",
       "text": [
        "\n",
        "IMC OF QUEENS COLLEGE OLD BOYS ASSOCIATION SECONDARY SCHOOL\n",
        "7033 done."
       ]
      },
      {
       "output_type": "stream",
       "stream": "stdout",
       "text": [
        "\n",
        "IMC OF SAHK B M KOTEWALL MEMORIAL SCHOOL\n",
        "7037 done."
       ]
      },
      {
       "output_type": "stream",
       "stream": "stdout",
       "text": [
        "\n",
        "IMC OF SAHK JOCKEY CLUB ELAINE FIELD SCHOOL\n",
        "7038 done."
       ]
      },
      {
       "output_type": "stream",
       "stream": "stdout",
       "text": [
        "\n",
        "IMC OF SAHK KO FOOK IU MEMORIAL SCHOOL\n",
        "7039 done."
       ]
      },
      {
       "output_type": "stream",
       "stream": "stdout",
       "text": [
        "\n",
        "IMC OF SAM SHUI NATIVES ASSOCIATION HUEN KING WING SCHOOL\n",
        "7041 done."
       ]
      },
      {
       "output_type": "stream",
       "stream": "stdout",
       "text": [
        "\n",
        "IMC OF SAM SHUI NATIVES ASSOCIATION LAU PUN CHEUNG SCHOOL\n",
        "7042 done."
       ]
      },
      {
       "output_type": "stream",
       "stream": "stdout",
       "text": [
        "\n",
        "IMC OF SAN WUI COMMERCIAL SOCIETY CHAN PAK SHA SCHOOL\n",
        "7043 done."
       ]
      },
      {
       "output_type": "stream",
       "stream": "stdout",
       "text": [
        "\n",
        "IMC OF SAN WUI COMMERCIAL SOCIETY SECONDARY SCHOOL\n",
        "7045 done."
       ]
      },
      {
       "output_type": "stream",
       "stream": "stdout",
       "text": [
        "\n",
        "IMC OF SAVIOUR LUTHERAN SCHOOL\n",
        "7046 done."
       ]
      },
      {
       "output_type": "stream",
       "stream": "stdout",
       "text": [
        "\n",
        "IMC OF SEMPLE MEMORIAL SECONDARY SCHOOL\n",
        "7048 done."
       ]
      },
      {
       "output_type": "stream",
       "stream": "stdout",
       "text": [
        "\n",
        "IMC OF SHAP PAT HEUNG RURAL COMMITTEE KUNG YIK SHE PRIMARY SCHOOL\n",
        "7052 done."
       ]
      },
      {
       "output_type": "stream",
       "stream": "stdout",
       "text": [
        "\n",
        "IMC OF SHARON LUTHERAN SCHOOL\n",
        "7054 done."
       ]
      },
      {
       "output_type": "stream",
       "stream": "stdout",
       "text": [
        "\n",
        "IMC OF SHATIN PUBLIC SCHOOL\n",
        "7055 done."
       ]
      },
      {
       "output_type": "stream",
       "stream": "stdout",
       "text": [
        "\n",
        "IMC OF SHATIN TSUNG TSIN SCHOOL\n",
        "7056 done."
       ]
      },
      {
       "output_type": "stream",
       "stream": "stdout",
       "text": [
        "\n",
        "IMC OF SHUN LEE CATHOLIC SECONDARY\n",
        "7059 done."
       ]
      },
      {
       "output_type": "stream",
       "stream": "stdout",
       "text": [
        "\n",
        "IMC OF SHUN TAK FRATERNAL ASSOCIATION CHENG YU TUNG SECONDARY SCHOOL\n",
        "7060 done."
       ]
      },
      {
       "output_type": "stream",
       "stream": "stdout",
       "text": [
        "\n",
        "IMC OF SHUN TAK FRATERNAL ASSOCIATION LEE SHAU KEE COLLEGE\n",
        "7062 done."
       ]
      },
      {
       "output_type": "stream",
       "stream": "stdout",
       "text": [
        "\n",
        "IMC OF SHUN TAK FRATERNAL ASSOCIATION SEAWARD WOO COLLEGE\n",
        "7064 done."
       ]
      },
      {
       "output_type": "stream",
       "stream": "stdout",
       "text": [
        "\n",
        "IMC OF SHUN TAK FRATERNAL ASSOCIATION TAM PAK YU COLLEGE\n",
        "7066 done."
       ]
      },
      {
       "output_type": "stream",
       "stream": "stdout",
       "text": [
        "\n",
        "IMC OF SHUN TAK FRATERNAL ASSOCIATION WU MIEN TUEN PRIMARY SCHOOL\n",
        "7068 done."
       ]
      },
      {
       "output_type": "stream",
       "stream": "stdout",
       "text": [
        "\n",
        "IMC OF SHUN TAK FRATERNAL ASSOCIATION WU SIU KUI MEMORIAL PRIMARY SCHOOL\n",
        "7070 done."
       ]
      },
      {
       "output_type": "stream",
       "stream": "stdout",
       "text": [
        "\n",
        "IMC OF SHUN TAK FRATERNAL ASSOCIATION YUNG YAU COLLEGE\n",
        "7071 done."
       ]
      },
      {
       "output_type": "stream",
       "stream": "stdout",
       "text": [
        "\n",
        "IMC OF SI YUAN SCHOOL OF THE PRECIOUS BLOOD\n",
        "7074 done."
       ]
      },
      {
       "output_type": "stream",
       "stream": "stdout",
       "text": [
        "\n",
        "IMC OF SIR ROBERT BLACK COLLEGE OF EDUCATION PAST STUDENTS ASSOCIATION HO SAU KI SCHOOL\n",
        "7075 done."
       ]
      },
      {
       "output_type": "stream",
       "stream": "stdout",
       "text": [
        "\n",
        "IMC OF SIR ROBERT BLACK COLLEGE OF EDUCATION PAST STUDENTS ASSOCIATION LEE YAT NGOK MEMORIAL SCHOOL\n",
        "7076 done."
       ]
      },
      {
       "output_type": "stream",
       "stream": "stdout",
       "text": [
        "\n",
        "IMC OF ST. MATTHEWS LUTHERAN SCHOOL\n",
        "7087 done."
       ]
      },
      {
       "output_type": "stream",
       "stream": "stdout",
       "text": [
        "\n",
        "IMC OF STEWARDS MA KAM MING CHARITABLE FOUNDATION MA KO PAN MEMORIAL COLLEGE\n",
        "7089 done."
       ]
      },
      {
       "output_type": "stream",
       "stream": "stdout",
       "text": [
        "\n",
        "IMC OF STEWARDS POOI KEI PRIMARY SCHOOL\n",
        "7090 done."
       ]
      },
      {
       "output_type": "stream",
       "stream": "stdout",
       "text": [
        "\n",
        "IMC OF STEWARDS POOI TUN SECONDARY SCHOOL\n",
        "7091 done."
       ]
      },
      {
       "output_type": "stream",
       "stream": "stdout",
       "text": [
        "\n",
        "IMC OF T.W.G.HS KO HO NING MEMORIAL PRIMARY SCHOOL\n",
        "7093 done."
       ]
      },
      {
       "output_type": "stream",
       "stream": "stdout",
       "text": [
        "\n",
        "IMC OF TACK CHING GIRLS SECONDARY SCHOOL\n",
        "7095 done."
       ]
      },
      {
       "output_type": "stream",
       "stream": "stdout",
       "text": [
        "\n",
        "IMC OF TAI PO BAPTIST PUBLIC SCHOOL\n",
        "7097 done."
       ]
      },
      {
       "output_type": "stream",
       "stream": "stdout",
       "text": [
        "\n",
        "IMC OF TAI PO OLD MARKET PUBLIC SCHOOL\n",
        "7098 done."
       ]
      },
      {
       "output_type": "stream",
       "stream": "stdout",
       "text": [
        "\n",
        "IMC OF TAI PO OLD MARKET PUBLIC SCHOOL\n",
        "7099 done."
       ]
      },
      {
       "output_type": "stream",
       "stream": "stdout",
       "text": [
        "\n",
        "IMC OF TAK SUN SECONDARY SCHOOL\n",
        "7102 done."
       ]
      },
      {
       "output_type": "stream",
       "stream": "stdout",
       "text": [
        "\n",
        "IMC OF TAOIST CHING CHUNG PRIMARY SCHOOL\n",
        "7104 done."
       ]
      },
      {
       "output_type": "stream",
       "stream": "stdout",
       "text": [
        "\n",
        "IMC OF THE ASSOCIATION OF DIRECTORS & FORMER DIRECTORS OF POK OI HOSPITAL LTD MRS CHENG YAM ON SCHOOL\n",
        "7106 done."
       ]
      },
      {
       "output_type": "stream",
       "stream": "stdout",
       "text": [
        "\n",
        "IMC OF THE ASSOCIATION OF DIRECTORS & FORMER DIRECTORS OF POK OI HOSPITAL LTD. LEUNG SING TAK COLLEGE\n",
        "7108 done."
       ]
      },
      {
       "output_type": "stream",
       "stream": "stdout",
       "text": [
        "\n",
        "IMC OF THE CHURCH OF CHRIST IN CHINA BUT SAN PRIMARY SCHOOL\n",
        "7110 done."
       ]
      },
      {
       "output_type": "stream",
       "stream": "stdout",
       "text": [
        "\n",
        "IMC OF THE CHURCH OF CHRIST IN CHINA CHEUNG CHAU CHURCH KAM KONG PRIMARY SCHOOL\n",
        "7111 done."
       ]
      },
      {
       "output_type": "stream",
       "stream": "stdout",
       "text": [
        "\n",
        "IMC OF THE CHURCH OF CHRIST IN CHINA CHUN KWONG PRIMARY SCHOOL\n",
        "7115 done."
       ]
      },
      {
       "output_type": "stream",
       "stream": "stdout",
       "text": [
        "\n",
        "IMC OF THE CHURCH OF CHRIST IN CHINA FONG YUN WAH PRIMARY SCHOOL\n",
        "7116 done."
       ]
      },
      {
       "output_type": "stream",
       "stream": "stdout",
       "text": [
        "\n",
        "IMC OF THE CHURCH OF CHRIST IN CHINA FUNG LEUNG KIT MEMORIAL SECONDARY SCHOOL\n",
        "7119 done."
       ]
      },
      {
       "output_type": "stream",
       "stream": "stdout",
       "text": [
        "\n",
        "IMC OF THE CHURCH OF CHRIST IN CHINA HOH FUK TONG PRIMARY SCHOOL\n",
        "7125 done."
       ]
      },
      {
       "output_type": "stream",
       "stream": "stdout",
       "text": [
        "\n",
        "IMC OF THE CHURCH OF CHRIST IN CHINA KEI CHUN PRIMARY SCHOOL\n",
        "7127 done."
       ]
      },
      {
       "output_type": "stream",
       "stream": "stdout",
       "text": [
        "\n",
        "IMC OF THE CHURCH OF CHRIST IN CHINA KEI FAAT PRIMARY SCHOOL\n",
        "7128 done."
       ]
      },
      {
       "output_type": "stream",
       "stream": "stdout",
       "text": [
        "\n",
        "IMC OF THE CHURCH OF CHRIST IN CHINA KEI FAAT PRIMARY SCHOOL\n",
        "7129 done."
       ]
      },
      {
       "output_type": "stream",
       "stream": "stdout",
       "text": [
        "\n",
        "IMC OF THE CHURCH OF CHRIST IN CHINA KEI SHUN SPECIAL SCHOOL\n",
        "7133 done."
       ]
      },
      {
       "output_type": "stream",
       "stream": "stdout",
       "text": [
        "\n",
        "IMC OF THE CHURCH OF CHRIST IN CHINA KEI TO SECONDARY SCHOOL\n",
        "7134 done."
       ]
      },
      {
       "output_type": "stream",
       "stream": "stdout",
       "text": [
        "\n",
        "IMC OF THE CHURCH OF CHRIST IN CHINA KEI TSUN PRIMARY SCHOOL\n",
        "7135 done."
       ]
      },
      {
       "output_type": "stream",
       "stream": "stdout",
       "text": [
        "\n",
        "IMC OF THE CHURCH OF CHRIST IN CHINA KEI TSZ PRIMARY SCHOOL\n",
        "7136 done."
       ]
      },
      {
       "output_type": "stream",
       "stream": "stdout",
       "text": [
        "\n",
        "IMC OF THE CHURCH OF CHRIST IN CHINA KEI WA PRIMARY SCHOOL\n",
        "7137 done."
       ]
      },
      {
       "output_type": "stream",
       "stream": "stdout",
       "text": [
        "\n",
        "IMC OF THE CHURCH OF CHRIST IN CHINA KEI WA PRIMARY SCHOOL\n",
        "7138 done."
       ]
      },
      {
       "output_type": "stream",
       "stream": "stdout",
       "text": [
        "\n",
        "IMC OF THE CHURCH OF CHRIST IN CHINA KEI WAI PRIMARY SCHOOL\n",
        "7140 done."
       ]
      },
      {
       "output_type": "stream",
       "stream": "stdout",
       "text": [
        "\n",
        "IMC OF THE CHURCH OF CHRIST IN CHINA KEI WAN PRIMARY SCHOOL\n",
        "7142 done."
       ]
      },
      {
       "output_type": "stream",
       "stream": "stdout",
       "text": [
        "\n",
        "IMC OF THE CHURCH OF CHRIST IN CHINA KEI WAN PRIMARY SCHOOL\n",
        "7143 done."
       ]
      },
      {
       "output_type": "stream",
       "stream": "stdout",
       "text": [
        "\n",
        "IMC OF THE CHURCH OF CHRIST IN CHINA KUNG LEE COLLEGE\n",
        "7146 done."
       ]
      },
      {
       "output_type": "stream",
       "stream": "stdout",
       "text": [
        "\n",
        "IMC OF THE CHURCH OF CHRIST IN CHINA KWEI WAH SHAN COLLEGE\n",
        "7148 done."
       ]
      },
      {
       "output_type": "stream",
       "stream": "stdout",
       "text": [
        "\n",
        "IMC OF THE CHURCH OF CHRIST IN CHINA MONG WONG FAR YOK MEMORIAL PRIMARY SCHOOL\n",
        "7153 done."
       ]
      },
      {
       "output_type": "stream",
       "stream": "stdout",
       "text": [
        "\n",
        "IMC OF THE CHURCH OF CHRIST IN CHINA WANCHAI CHURCH KEI TO PRIMARY SCHOOL\n",
        "7158 done."
       ]
      },
      {
       "output_type": "stream",
       "stream": "stdout",
       "text": [
        "\n",
        "IMC OF THE CHURCH OF CHRIST IN CHINA WANCHAI CHURCH KEI TO PRIMARY SCHOOL\n",
        "7159 done."
       ]
      },
      {
       "output_type": "stream",
       "stream": "stdout",
       "text": [
        "\n",
        "IMC OF THE CHURCH OF CHRIST IN CHINA YENCHING COLLEGE\n",
        "7160 done."
       ]
      },
      {
       "output_type": "stream",
       "stream": "stdout",
       "text": [
        "\n",
        "IMC OF THE MANAGEMENT ASSOCIATION K. S. LO COLLEGE\n",
        "7172 done."
       ]
      },
      {
       "output_type": "stream",
       "stream": "stdout",
       "text": [
        "\n",
        "IMC OF THE S.Y.C. & I. A. CHAN NAM CHONG MEMORIAL COLLEGE\n",
        "7174 done."
       ]
      },
      {
       "output_type": "stream",
       "stream": "stdout",
       "text": [
        "\n",
        "IMC OF THE SZE YAP COMMERCIAL & INDUSTRIAL ASSOCIATION WONG TAI SHAN MEMORIAL COLLEGE\n",
        "7176 done."
       ]
      },
      {
       "output_type": "stream",
       "stream": "stdout",
       "text": [
        "\n",
        "IMC OF THE TAOIST ASSOCIATION CHING CHUNG SECONDARY SCHOOL\n",
        "7178 done."
       ]
      },
      {
       "output_type": "stream",
       "stream": "stdout",
       "text": [
        "\n",
        "IMC OF THE PENTECOSTAL HOLINESS CHURCH WING KWONG COLLEGE\n",
        "7183 done."
       ]
      },
      {
       "output_type": "stream",
       "stream": "stdout",
       "text": [
        "\n",
        "IMC OF THE SALVATION ARMY CENTALINE CHARITY FUND SCHOOL\n",
        "7185 done."
       ]
      },
      {
       "output_type": "stream",
       "stream": "stdout",
       "text": [
        "\n",
        "IMC OF THE SALVATION ARMY LAM BUTT CHUNG SMCEHMOOORLI\n",
        "7187 done."
       ]
      },
      {
       "output_type": "stream",
       "stream": "stdout",
       "text": [
        "\n",
        "IMC OF THE SALVATION ARMY SHEK WU SCHOOL\n",
        "7188 done."
       ]
      },
      {
       "output_type": "stream",
       "stream": "stdout",
       "text": [
        "\n",
        "IMC OF THE SALVATION ARMY TIN KA PING SCHOOL\n",
        "7189 done."
       ]
      },
      {
       "output_type": "stream",
       "stream": "stdout",
       "text": [
        "\n",
        "IMC OF THE SALVATION ARMY WILLIAM BOOTH SECCHOONODL\n",
        "7190 done."
       ]
      },
      {
       "output_type": "stream",
       "stream": "stdout",
       "text": [
        "\n",
        "IMC OF THE Y.W.C.A. HIOE TJO YOENG COLLEGE\n",
        "7192 done."
       ]
      },
      {
       "output_type": "stream",
       "stream": "stdout",
       "text": [
        "\n",
        "IMC OF TIN KA PING SECONDARY SCHOOL\n",
        "7194 done."
       ]
      },
      {
       "output_type": "stream",
       "stream": "stdout",
       "text": [
        "\n",
        "IMC OF TSANG MUI MILLENNIUM SCHOOL\n",
        "7198 done."
       ]
      },
      {
       "output_type": "stream",
       "stream": "stdout",
       "text": [
        "\n",
        "IMC OF TSUEN WAN PUBLIC HO CHUEN YIU MEMORIAL PRIMARY SCHOOL\n",
        "7202 done."
       ]
      },
      {
       "output_type": "stream",
       "stream": "stdout",
       "text": [
        "\n",
        "IMC OF TSUNG TSIN COLLEGE\n",
        "7203 done."
       ]
      },
      {
       "output_type": "stream",
       "stream": "stdout",
       "text": [
        "\n",
        "IMC OF TUN YU SCHOOL\n",
        "7205 done."
       ]
      },
      {
       "output_type": "stream",
       "stream": "stdout",
       "text": [
        "\n",
        "IMC OF TUNG TAK SCHOOL\n",
        "7208 done."
       ]
      },
      {
       "output_type": "stream",
       "stream": "stdout",
       "text": [
        "\n",
        "IMC OF TUNG WAH GROUP OF HOSPITALS C.Y. MA MEMORIAL COLLEGE\n",
        "7209 done."
       ]
      },
      {
       "output_type": "stream",
       "stream": "stdout",
       "text": [
        "\n",
        "IMC OF TUNG WAH GROUP OF HOSPITALS CHANG MING THIEN COLLEGE\n",
        "7210 done."
       ]
      },
      {
       "output_type": "stream",
       "stream": "stdout",
       "text": [
        "\n",
        "IMC OF TUNG WAH GROUP OF HOSPITALS CHEN ZAO MEN COLLEGE\n",
        "7211 done."
       ]
      },
      {
       "output_type": "stream",
       "stream": "stdout",
       "text": [
        "\n",
        "IMC OF TUNG WAH GROUP OF HOSPITALS CHOW YIN SUM PRIMARY SCHOOL\n",
        "7212 done."
       ]
      },
      {
       "output_type": "stream",
       "stream": "stdout",
       "text": [
        "\n",
        "IMC OF TUNG WAH GROUP OF HOSPITALS KWOK YAT WAI COLLEGE\n",
        "7218 done."
       ]
      },
      {
       "output_type": "stream",
       "stream": "stdout",
       "text": [
        "\n",
        "IMC OF TUNG WAH GROUP OF HOSPITALS LEE CHI HUNG MEMORIAL PRIMARY SCHOOL\n",
        "7219 done."
       ]
      },
      {
       "output_type": "stream",
       "stream": "stdout",
       "text": [
        "\n",
        "IMC OF TUNG WAH GROUP OF HOSPITALS LEE CHING DEA MEMORIAL COLLEGE\n",
        "7220 done."
       ]
      },
      {
       "output_type": "stream",
       "stream": "stdout",
       "text": [
        "\n",
        "IMC OF TUNG WAH GROUP OF HOSPITALS LEE CHING DEA MEMORIAL COLLEGE\n",
        "7221 done."
       ]
      },
      {
       "output_type": "stream",
       "stream": "stdout",
       "text": [
        "\n",
        "IMC OF TUNG WAH GROUP OF HOSPITALS LEO TUNG-HAI LEE PRIMARY SCHOOL\n",
        "7222 done."
       ]
      },
      {
       "output_type": "stream",
       "stream": "stdout",
       "text": [
        "\n",
        "IMC OF TUNG WAH GROUP OF HOSPITALS LI KA SHING COLLEGE\n",
        "7224 done."
       ]
      },
      {
       "output_type": "stream",
       "stream": "stdout",
       "text": [
        "\n",
        "IMC OF TUNG WAH GROUP OF HOSPITALS LO YU CHIK PRIMARY SCHOOL\n",
        "7226 done."
       ]
      },
      {
       "output_type": "stream",
       "stream": "stdout",
       "text": [
        "\n",
        "IMC OF TUNG WAH GROUP OF HOSPITALS LUI YUN CHOY MEMORIAL COLLEGE\n",
        "7227 done."
       ]
      },
      {
       "output_type": "stream",
       "stream": "stdout",
       "text": [
        "\n",
        "IMC OF TUNG WAH GROUP OF HOSPITALS MR & MRS KWONG SIK KWAN COLLEGE\n",
        "7229 done."
       ]
      },
      {
       "output_type": "stream",
       "stream": "stdout",
       "text": [
        "\n",
        "IMC OF TUNG WAH GROUP OF HOSPITALS MRS FUNG WONG FUNG TING COLLEGE\n",
        "7230 done."
       ]
      },
      {
       "output_type": "stream",
       "stream": "stdout",
       "text": [
        "\n",
        "IMC OF TUNG WAH GROUP OF HOSPITALS MRS. WU YORK YU MEMORIAL COLLEGE\n",
        "7231 done."
       ]
      },
      {
       "output_type": "stream",
       "stream": "stdout",
       "text": [
        "\n",
        "IMC OF TUNG WAH GROUP OF HOSPITALS S.C. GAW MEMORIAL COLLEGE\n",
        "7232 done."
       ]
      },
      {
       "output_type": "stream",
       "stream": "stdout",
       "text": [
        "\n",
        "IMC OF TUNG WAH GROUP OF HOSPITALS SIN CHU WAN PRIMARY SCHOOL\n",
        "7233 done."
       ]
      },
      {
       "output_type": "stream",
       "stream": "stdout",
       "text": [
        "\n",
        "IMC OF TUNG WAH GROUP OF HOSPITALS SUN HOI DIRECTORS COLLEGE\n",
        "7234 done."
       ]
      },
      {
       "output_type": "stream",
       "stream": "stdout",
       "text": [
        "\n",
        "IMC OF TUNG WAH GROUP OF HOSPITALS TANG SHIU KIN PRIMARY SCHOOL\n",
        "7235 done."
       ]
      },
      {
       "output_type": "stream",
       "stream": "stdout",
       "text": [
        "\n",
        "IMC OF TUNG WAH GROUP OF HOSPITALS TSUI TSIN TONG SCHOOL\n",
        "7236 done."
       ]
      },
      {
       "output_type": "stream",
       "stream": "stdout",
       "text": [
        "\n",
        "IMC OF TUNG WAH GROUP OF HOSPITALS WONG FUNG LING COLLEGE\n",
        "7237 done."
       ]
      },
      {
       "output_type": "stream",
       "stream": "stdout",
       "text": [
        "\n",
        "IMC OF TUNG WAH GROUP OF HOSPITALS WONG FUT NAM COLLEGE\n",
        "7238 done."
       ]
      },
      {
       "output_type": "stream",
       "stream": "stdout",
       "text": [
        "\n",
        "IMC OF TUNG WAH GROUP OF HOSPITALS WONG SEE SUM PRIMARY SCHOOL\n",
        "7239 done."
       ]
      },
      {
       "output_type": "stream",
       "stream": "stdout",
       "text": [
        "\n",
        "IMC OF TUNG WAH GROUP OF HOSPITALS WONG YEE JAR JAT MEMORIAL PRIMARY SCHOOL\n",
        "7240 done."
       ]
      },
      {
       "output_type": "stream",
       "stream": "stdout",
       "text": [
        "\n",
        "IMC OF TUNG WAH GROUP OF HOSPITALS YOW KAM YUEN COLLLEGE\n",
        "7243 done."
       ]
      },
      {
       "output_type": "stream",
       "stream": "stdout",
       "text": [
        "\n",
        "IMC OF WAI CHOW PUBLIC SCHOOL\n",
        "7244 done."
       ]
      },
      {
       "output_type": "stream",
       "stream": "stdout",
       "text": [
        "\n",
        "IMC OF XIANGGANG PUTONGHUA YANXISHE PRIMARY SCHOOL OF SCIENCE AND CREATIVITY\n",
        "7245 done."
       ]
      },
      {
       "output_type": "stream",
       "stream": "stdout",
       "text": [
        "\n",
        "IMC OF YAN CHAI HOSPITAL CHAN IU SENG PRIMARY SCHOOL\n",
        "7247 done."
       ]
      },
      {
       "output_type": "stream",
       "stream": "stdout",
       "text": [
        "\n",
        "IMC OF YAN CHAI HOSPITAL HO SIK NAM PRIMARY SCHOOL\n",
        "7249 done."
       ]
      },
      {
       "output_type": "stream",
       "stream": "stdout",
       "text": [
        "\n",
        "IMC OF YAN CHAI HOSPITAL LAN CHI PAT MEMORIAL SECONDARY SCHOOL\n",
        "7250 done."
       ]
      },
      {
       "output_type": "stream",
       "stream": "stdout",
       "text": [
        "\n",
        "IMC OF YAN CHAI HOSPITAL LAW CHAN CHOR SI COLLEGE\n",
        "7252 done."
       ]
      },
      {
       "output_type": "stream",
       "stream": "stdout",
       "text": [
        "\n",
        "IMC OF YAN CHAI HOSPITAL LAW CHAN CHOR SI PRIMARY SCHOOL\n",
        "7253 done."
       ]
      },
      {
       "output_type": "stream",
       "stream": "stdout",
       "text": [
        "\n",
        "IMC OF YAN CHAI HOSPITAL LIM POR YEN SECONDARY SCHOOL\n",
        "7254 done."
       ]
      },
      {
       "output_type": "stream",
       "stream": "stdout",
       "text": [
        "\n",
        "IMC OF YAN CHAI HOSPITAL NO. 2 SECONDARY SCHOOL\n",
        "7256 done."
       ]
      },
      {
       "output_type": "stream",
       "stream": "stdout",
       "text": [
        "\n",
        "IMC OF YAN OI TONG MADAM LAU WONG FAT PRIMARY SCHOOL\n",
        "7259 done."
       ]
      },
      {
       "output_type": "stream",
       "stream": "stdout",
       "text": [
        "\n",
        "IMC OF YAN OI TONG TIN KA PING PRIMARY SCHOOL\n",
        "7260 done."
       ]
      },
      {
       "output_type": "stream",
       "stream": "stdout",
       "text": [
        "\n",
        "IMC OF YUEN LONG PUBLIC MIDDLE SCHOOL ALUMNI ASSOCIATION PRIMARY SCHOOL\n",
        "7269 done."
       ]
      },
      {
       "output_type": "stream",
       "stream": "stdout",
       "text": [
        "\n",
        "IMC OF YUEN LONG PUBLIC MIDDLE SCHOOL ALUMNI ASSOCIATION TANG SIU TONG SECONDARY SCHOOL\n",
        "7270 done."
       ]
      },
      {
       "output_type": "stream",
       "stream": "stdout",
       "text": [
        "\n",
        "IMC OF YUEN LONG PUBLIC MIDDLE SCHOOL ALUMNI ASSOCIATION YING YIP PRIMARY SCHOOL\n",
        "7271 done."
       ]
      },
      {
       "output_type": "stream",
       "stream": "stdout",
       "text": [
        "\n",
        "IMC OF YUK YIN SCHOOL\n",
        "7272 done."
       ]
      },
      {
       "output_type": "stream",
       "stream": "stdout",
       "text": [
        "\n",
        "Immaculate Conception Chapel\n",
        "7273 done."
       ]
      },
      {
       "output_type": "stream",
       "stream": "stdout",
       "text": [
        "\n",
        "Immaculate Conception Chapel/Youth Hostel - Tai Long\n",
        "7274 done."
       ]
      },
      {
       "output_type": "stream",
       "stream": "stdout",
       "text": [
        "\n",
        "Immaculate Heart of Mary Chapel - Catholic Centre\n",
        "7276 done."
       ]
      },
      {
       "output_type": "stream",
       "stream": "stdout",
       "text": [
        "\n",
        "Immaculate Heart of Mary Chapel/Scout - Camp - Pak Sha O\n",
        "7277 done."
       ]
      },
      {
       "output_type": "stream",
       "stream": "stdout",
       "text": [
        "\n",
        "Immaculate Heart of Mary Church - Tai Po\n",
        "7278 done."
       ]
      },
      {
       "output_type": "stream",
       "stream": "stdout",
       "text": [
        "\n",
        "Immaculate Heart of Mary College\n",
        "7279 done."
       ]
      },
      {
       "output_type": "stream",
       "stream": "stdout",
       "text": [
        "\n",
        "Immaculate Heart of Mary Kindergarten\n",
        "7280 done."
       ]
      },
      {
       "output_type": "stream",
       "stream": "stdout",
       "text": [
        "\n",
        "Immaculate Heart of Mary Mass Centre\n",
        "7281 done."
       ]
      },
      {
       "output_type": "stream",
       "stream": "stdout",
       "text": [
        "\n",
        "Immaculate Heart of Mary Primary School\n",
        "7282 done."
       ]
      },
      {
       "output_type": "stream",
       "stream": "stdout",
       "text": [
        "\n",
        "IMMANUEL BAPTIST CHURCH\n",
        "7283 done."
       ]
      },
      {
       "output_type": "stream",
       "stream": "stdout",
       "text": [
        "\n",
        "Immanuel Lutheran College\n",
        "7284 done."
       ]
      },
      {
       "output_type": "stream",
       "stream": "stdout",
       "text": [
        "\n",
        "IMNET MUSIC NETWORK\n",
        "7286 done."
       ]
      },
      {
       "output_type": "stream",
       "stream": "stdout",
       "text": [
        "\n",
        "INCORPORATED TRUSTEES OF HEPHZIBAH EVANGELISTIC CENTRE\n",
        "7294 done."
       ]
      },
      {
       "output_type": "stream",
       "stream": "stdout",
       "text": [
        "\n",
        "INCORPORATED TRUSTEES OF HEPHZIBAH EVANGELISTIC CENTRE\n",
        "7297 done."
       ]
      },
      {
       "output_type": "stream",
       "stream": "stdout",
       "text": [
        "\n",
        "Independent Home Scheme\n",
        "7338 done."
       ]
      },
      {
       "output_type": "stream",
       "stream": "stdout",
       "text": [
        "\n",
        "Independent School Social Work Unit\n",
        "7339 done."
       ]
      },
      {
       "output_type": "stream",
       "stream": "stdout",
       "text": [
        "\n",
        "INDEPENDENT SCHOOLS FOUNDATION ACADEMY\n",
        "7340 done."
       ]
      },
      {
       "output_type": "stream",
       "stream": "stdout",
       "text": [
        "\n",
        "INDOCHINA STARFISH FOUNDATION\n",
        "7343 done."
       ]
      },
      {
       "output_type": "stream",
       "stream": "stdout",
       "text": [
        "\n",
        "INDONESIAN MISSION CHURCH\n",
        "7346 done."
       ]
      },
      {
       "output_type": "stream",
       "stream": "stdout",
       "text": [
        "\n",
        "Industrial Evangelistic Fellowship General Office & East Kowloon Training Centre\n",
        "7347 done."
       ]
      },
      {
       "output_type": "stream",
       "stream": "stdout",
       "text": [
        "\n",
        "Industrial Evangelistic Fellowship Island Family Resource Centre\n",
        "7348 done."
       ]
      },
      {
       "output_type": "stream",
       "stream": "stdout",
       "text": [
        "\n",
        "Industrial Evangelistic Fellowship West Kowloon Labour & New Arrivals Resource Centre\n",
        "7349 done."
       ]
      },
      {
       "output_type": "stream",
       "stream": "stdout",
       "text": [
        "\n",
        "INDUSTRIAL RELATIONS INSTITUTE\n",
        "7350 done."
       ]
      },
      {
       "output_type": "stream",
       "stream": "stdout",
       "text": [
        "\n",
        "Infant Jesus Chapel - Silver Mine Bay\n",
        "7351 done."
       ]
      },
      {
       "output_type": "stream",
       "stream": "stdout",
       "text": [
        "\n",
        "INNER CITY MINISTRIES\n",
        "7358 done."
       ]
      },
      {
       "output_type": "stream",
       "stream": "stdout",
       "text": [
        "\n",
        "InPress Books\n",
        "7361 done."
       ]
      },
      {
       "output_type": "stream",
       "stream": "stdout",
       "text": [
        "\n",
        "Insight Education Society\n",
        "7362 done."
       ]
      },
      {
       "output_type": "stream",
       "stream": "stdout",
       "text": [
        "\n",
        "INSIGHT EDUCATION SOCIETY\n",
        "7363 done."
       ]
      },
      {
       "output_type": "stream",
       "stream": "stdout",
       "text": [
        "\n",
        "INSTITUTE IN BASIC LIFE PRINCIPLES\n",
        "7372 done."
       ]
      },
      {
       "output_type": "stream",
       "stream": "stdout",
       "text": [
        "\n",
        "Institute of Business Administration\n",
        "7374 done."
       ]
      },
      {
       "output_type": "stream",
       "stream": "stdout",
       "text": [
        "\n",
        "INSTITUTE OF HORTICULTURE\n",
        "7379 done."
       ]
      },
      {
       "output_type": "stream",
       "stream": "stdout",
       "text": [
        "\n",
        "INSTITUTE OF INTERNATIONAL EDUCATION\n",
        "7380 done."
       ]
      },
      {
       "output_type": "stream",
       "stream": "stdout",
       "text": [
        "\n",
        "INSTITUTE OF PROFESSIONAL EDUCATION AND KNOWLEDGE\n",
        "7381 done."
       ]
      },
      {
       "output_type": "stream",
       "stream": "stdout",
       "text": [
        "\n",
        "INSTITUTE OF SATHYA SAI EDUCATION\n",
        "7383 done."
       ]
      },
      {
       "output_type": "stream",
       "stream": "stdout",
       "text": [
        "\n",
        "INSTITUTE OF SINO-CHRISTIAN STUDIES\n",
        "7384 done."
       ]
      },
      {
       "output_type": "stream",
       "stream": "stdout",
       "text": [
        "\n",
        "INSTITUTE OF SOCIAL SERVICE DEVELOPMENT\n",
        "7385 done."
       ]
      },
      {
       "output_type": "stream",
       "stream": "stdout",
       "text": [
        "\n",
        "Integrated Community Centre for Mental Wellness - Kwai Tsing\n",
        "7389 done."
       ]
      },
      {
       "output_type": "stream",
       "stream": "stdout",
       "text": [
        "\n",
        "Integrated Community Centre for Mental Wellness - Service Development\n",
        "7390 done."
       ]
      },
      {
       "output_type": "stream",
       "stream": "stdout",
       "text": [
        "\n",
        "Integrated Community Centre for Mental Wellness - Wanchai & Eastern\n",
        "7391 done."
       ]
      },
      {
       "output_type": "stream",
       "stream": "stdout",
       "text": [
        "\n",
        "Integrated Discharge Support Program for Elderly Patients - Haven of Hope Home Support Team\n",
        "7392 done."
       ]
      },
      {
       "output_type": "stream",
       "stream": "stdout",
       "text": [
        "\n",
        "Integrated Discharge Support Program for Elderly Patients - Haven of Hope Home Support Team\n",
        "7393 done."
       ]
      },
      {
       "output_type": "stream",
       "stream": "stdout",
       "text": [
        "\n",
        "Integrated Employment Assistance Scheme\n",
        "7394 done."
       ]
      },
      {
       "output_type": "stream",
       "stream": "stdout",
       "text": [
        "\n",
        "Integrated Employment Assistance Scheme\n",
        "7395 done."
       ]
      },
      {
       "output_type": "stream",
       "stream": "stdout",
       "text": [
        "\n",
        "Integrated Employment Assistance Scheme\n",
        "7396 done."
       ]
      },
      {
       "output_type": "stream",
       "stream": "stdout",
       "text": [
        "\n",
        "Integrated Family Medical & Health Centre\n",
        "7397 done."
       ]
      },
      {
       "output_type": "stream",
       "stream": "stdout",
       "text": [
        "\n",
        "Integrated Mental Health Service - Service Development\n",
        "7398 done."
       ]
      },
      {
       "output_type": "stream",
       "stream": "stdout",
       "text": [
        "\n",
        "Integrated Services for Street Sleepers\n",
        "7399 done."
       ]
      },
      {
       "output_type": "stream",
       "stream": "stdout",
       "text": [
        "\n",
        "INTERNATIONAL DANCE ASSOCIATION\n",
        "7404 done."
       ]
      },
      {
       "output_type": "stream",
       "stream": "stdout",
       "text": [
        "\n",
        "INTERNATIONAL ASSOCIATION OF HAND-IN-HAND DIVERS\n",
        "7407 done."
       ]
      },
      {
       "output_type": "stream",
       "stream": "stdout",
       "text": [
        "\n",
        "INTERNATIONAL BAPTIST CHURCH OF\n",
        "7409 done."
       ]
      },
      {
       "output_type": "stream",
       "stream": "stdout",
       "text": [
        "\n",
        "INTERNATIONAL BOUNDLESS DREAMS COME TRUE FOUNDATION\n",
        "7411 done."
       ]
      },
      {
       "output_type": "stream",
       "stream": "stdout",
       "text": [
        "\n",
        "INTERNATIONAL BUDDHIST PROGRESS SOCIETY\n",
        "7412 done."
       ]
      },
      {
       "output_type": "stream",
       "stream": "stdout",
       "text": [
        "\n",
        "CARE MINISTRIES INTERNATIONAL\n",
        "7414 done."
       ]
      },
      {
       "output_type": "stream",
       "stream": "stdout",
       "text": [
        "\n",
        "INTERNATIONAL CHAPEL OF CALVARY\n",
        "7416 done."
       ]
      },
      {
       "output_type": "stream",
       "stream": "stdout",
       "text": [
        "\n",
        "INTERNATIONAL CHILDRENS FUND\n",
        "7419 done."
       ]
      },
      {
       "output_type": "stream",
       "stream": "stdout",
       "text": [
        "\n",
        "INTERNATIONAL CHRISTIAN ASSEMBLY OF GOD\n",
        "7423 done."
       ]
      },
      {
       "output_type": "stream",
       "stream": "stdout",
       "text": [
        "\n",
        "INTERNATIONAL CHRISTIAN CONCERN\n",
        "7424 done."
       ]
      },
      {
       "output_type": "stream",
       "stream": "stdout",
       "text": [
        "\n",
        "INTERNATIONAL CHRISTIAN LEADERSHIP SCHOOL\n",
        "7425 done."
       ]
      },
      {
       "output_type": "stream",
       "stream": "stdout",
       "text": [
        "\n",
        "INTERNATIONAL CHRISTIAN LIFE CENTRE\n",
        "7426 done."
       ]
      },
      {
       "output_type": "stream",
       "stream": "stdout",
       "text": [
        "\n",
        "International Christian Quality Music Secondary and Primary School\n",
        "7428 done."
       ]
      },
      {
       "output_type": "stream",
       "stream": "stdout",
       "text": [
        "\n",
        "International Christian School\n",
        "7429 done."
       ]
      },
      {
       "output_type": "stream",
       "stream": "stdout",
       "text": [
        "\n",
        "International Christian School - Kindergarten\n",
        "7430 done."
       ]
      },
      {
       "output_type": "stream",
       "stream": "stdout",
       "text": [
        "\n",
        "INTERNATIONAL CHRISTIAN SCHOOLS\n",
        "7431 done."
       ]
      },
      {
       "output_type": "stream",
       "stream": "stdout",
       "text": [
        "\n",
        "International Church of the Foursquare Gospel Lung Hang Church\n",
        "7434 done."
       ]
      },
      {
       "output_type": "stream",
       "stream": "stdout",
       "text": [
        "\n",
        "International Church of The Nazarene\n",
        "7435 done."
       ]
      },
      {
       "output_type": "stream",
       "stream": "stdout",
       "text": [
        "\n",
        "INTERNATIONAL CLASSICS CULTURE ASSOCIATION\n",
        "7437 done."
       ]
      },
      {
       "output_type": "stream",
       "stream": "stdout",
       "text": [
        "\n",
        "INTERNATIONAL COLLEGE\n",
        "7439 done."
       ]
      },
      {
       "output_type": "stream",
       "stream": "stdout",
       "text": [
        "\n",
        "International College of Management Studies Centre\n",
        "7440 done."
       ]
      },
      {
       "output_type": "stream",
       "stream": "stdout",
       "text": [
        "\n",
        "International Community Services Centre\n",
        "7442 done."
       ]
      },
      {
       "output_type": "stream",
       "stream": "stdout",
       "text": [
        "\n",
        "INTERNATIONAL EDUCATION ASSOCIATION\n",
        "7445 done."
       ]
      },
      {
       "output_type": "stream",
       "stream": "stdout",
       "text": [
        "\n",
        "INTERNATIONAL ENVIRONMENTAL PROTECTION ASSOCIATION\n",
        "7447 done."
       ]
      },
      {
       "output_type": "stream",
       "stream": "stdout",
       "text": [
        "\n",
        "INTERNATIONAL GENERAL CHINESE MEDICATED MEAL OF SELF RECOVERY ASSOCIATION\n",
        "7453 done."
       ]
      },
      {
       "output_type": "stream",
       "stream": "stdout",
       "text": [
        "\n",
        "INTERNATIONAL INTERCESSOR CHURCH\n",
        "7459 done."
       ]
      },
      {
       "output_type": "stream",
       "stream": "stdout",
       "text": [
        "\n",
        "International Montessori School - An IMEF School\n",
        "7469 done."
       ]
      },
      {
       "output_type": "stream",
       "stream": "stdout",
       "text": [
        "\n",
        "The International Nature Loving Association\n",
        "7470 done."
       ]
      },
      {
       "output_type": "stream",
       "stream": "stdout",
       "text": [
        "\n",
        "INTERNATIONAL RELIEF AND DEVELOPMENT FOUNDATION\n",
        "7474 done."
       ]
      },
      {
       "output_type": "stream",
       "stream": "stdout",
       "text": [
        "\n",
        "INTERNATIONAL SERVICE FELLOWSHIP\n",
        "7476 done."
       ]
      },
      {
       "output_type": "stream",
       "stream": "stdout",
       "text": [
        "\n",
        "INTERNATIONAL TIN LANG MINISTRY\n",
        "7479 done."
       ]
      },
      {
       "output_type": "stream",
       "stream": "stdout",
       "text": [
        "\n",
        "INTERNATIONAL YOUTH CULTURAL EXCHANGE ASSOCIATION\n",
        "7483 done."
       ]
      },
      {
       "output_type": "stream",
       "stream": "stdout",
       "text": [
        "\n",
        "Internet Ministry Foundation\n",
        "7486 done."
       ]
      },
      {
       "output_type": "stream",
       "stream": "stdout",
       "text": [
        "\n",
        "Internet Special Project Group\n",
        "7487 done."
       ]
      },
      {
       "output_type": "stream",
       "stream": "stdout",
       "text": [
        "\n",
        "Irene House\n",
        "7495 done."
       ]
      },
      {
       "output_type": "stream",
       "stream": "stdout",
       "text": [
        "\n",
        "ISKCON-INTERNATIONAL SOCIETY FOR KRISHNA CONSCIOUSNESS OF\n",
        "7498 done."
       ]
      },
      {
       "output_type": "stream",
       "stream": "stdout",
       "text": [
        "\n",
        "Islamic Abu Bakar Chui Memorial\n",
        "7499 done."
       ]
      },
      {
       "output_type": "stream",
       "stream": "stdout",
       "text": [
        "\n",
        "Islamic College\n",
        "7500 done."
       ]
      },
      {
       "output_type": "stream",
       "stream": "stdout",
       "text": [
        "\n",
        "Islamic College Welfare Fund\n",
        "7501 done."
       ]
      },
      {
       "output_type": "stream",
       "stream": "stdout",
       "text": [
        "\n",
        "ISLAMIC CULTURAL ASSOCIATION\n",
        "7502 done."
       ]
      },
      {
       "output_type": "stream",
       "stream": "stdout",
       "text": [
        "\n",
        "ISLAMIC CULTURAL ASSOCIATION\n",
        "7503 done."
       ]
      },
      {
       "output_type": "stream",
       "stream": "stdout",
       "text": [
        "\n",
        "Islamic Dharwood Pau Memorial Primary\n",
        "7504 done."
       ]
      },
      {
       "output_type": "stream",
       "stream": "stdout",
       "text": [
        "\n",
        "Islamic Kasim Tuet Memorial College\n",
        "7505 done."
       ]
      },
      {
       "output_type": "stream",
       "stream": "stdout",
       "text": [
        "\n",
        "Islamic Kasim Tuet Memorial Kindergarten\n",
        "7506 done."
       ]
      },
      {
       "output_type": "stream",
       "stream": "stdout",
       "text": [
        "\n",
        "Islamic Pok Oi Kindergarten\n",
        "7507 done."
       ]
      },
      {
       "output_type": "stream",
       "stream": "stdout",
       "text": [
        "\n",
        "Islamic Primary School\n",
        "7508 done."
       ]
      },
      {
       "output_type": "stream",
       "stream": "stdout",
       "text": [
        "\n",
        "ISLAMIC UNION OF\n",
        "7509 done."
       ]
      },
      {
       "output_type": "stream",
       "stream": "stdout",
       "text": [
        "\n",
        "Island Harbourview Elderly Club\n",
        "7514 done."
       ]
      },
      {
       "output_type": "stream",
       "stream": "stdout",
       "text": [
        "\n",
        "Island Hostel\n",
        "7515 done."
       ]
      },
      {
       "output_type": "stream",
       "stream": "stdout",
       "text": [
        "\n",
        "Island School\n",
        "7516 done."
       ]
      },
      {
       "output_type": "stream",
       "stream": "stdout",
       "text": [
        "\n",
        "Island School Parent - Teacher Association Bookshop\n",
        "7517 done."
       ]
      },
      {
       "output_type": "stream",
       "stream": "stdout",
       "text": [
        "\n",
        "ISLAND SCHOOL TRUST\n",
        "7519 done."
       ]
      },
      {
       "output_type": "stream",
       "stream": "stdout",
       "text": [
        "\n",
        "iSPARK\n",
        "7522 done."
       ]
      },
      {
       "output_type": "stream",
       "stream": "stdout",
       "text": [
        "\n",
        "ITACCOUNTANTS ASSOCIATION EDUCATION FUND\n",
        "7527 done."
       ]
      },
      {
       "output_type": "stream",
       "stream": "stdout",
       "text": [
        "\n",
        "Iu Shan School\n",
        "7529 done."
       ]
      },
      {
       "output_type": "stream",
       "stream": "stdout",
       "text": [
        "\n",
        "J.B.O. Hall Physics Bursary Fund\n",
        "7532 done."
       ]
      },
      {
       "output_type": "stream",
       "stream": "stdout",
       "text": [
        "\n",
        "J.L. Vincent Scholarship Fund\n",
        "7533 done."
       ]
      },
      {
       "output_type": "stream",
       "stream": "stdout",
       "text": [
        "\n",
        "JABBOK CHARITABLE FOUNDATION\n",
        "7534 done."
       ]
      },
      {
       "output_type": "stream",
       "stream": "stdout",
       "text": [
        "\n",
        "JACKIE CHAN CHARITABLE FOUNDATION\n",
        "7537 done."
       ]
      },
      {
       "output_type": "stream",
       "stream": "stdout",
       "text": [
        "\n",
        "Jackie Chan Whole Person Development Centre\n",
        "7538 done."
       ]
      },
      {
       "output_type": "stream",
       "stream": "stdout",
       "text": [
        "\n",
        "Jade Kindergarten\n",
        "7541 done."
       ]
      },
      {
       "output_type": "stream",
       "stream": "stdout",
       "text": [
        "\n",
        "JAMBU BUDDHISM CENTRE\n",
        "7543 done."
       ]
      },
      {
       "output_type": "stream",
       "stream": "stdout",
       "text": [
        "\n",
        "James Anglo-Chinese Kindergarten\n",
        "7544 done."
       ]
      },
      {
       "output_type": "stream",
       "stream": "stdout",
       "text": [
        "\n",
        "James Anglo-Chinese School Kindergarten\n",
        "7545 done."
       ]
      },
      {
       "output_type": "stream",
       "stream": "stdout",
       "text": [
        "\n",
        "James Day Nursery\n",
        "7547 done."
       ]
      },
      {
       "output_type": "stream",
       "stream": "stdout",
       "text": [
        "\n",
        "James Legge Scholarship Fund\n",
        "7549 done."
       ]
      },
      {
       "output_type": "stream",
       "stream": "stdout",
       "text": [
        "\n",
        "Jamia Masjid\n",
        "7552 done."
       ]
      },
      {
       "output_type": "stream",
       "stream": "stdout",
       "text": [
        "\n",
        "JANGCHUB PHUNTSOK LING BUDDHIST CHARITY CENTRE\n",
        "7555 done."
       ]
      },
      {
       "output_type": "stream",
       "stream": "stdout",
       "text": [
        "\n",
        "JANGCHUB PHUNTSOK LING BUDDHIST CHARITY CENTRE\n",
        "7556 done."
       ]
      },
      {
       "output_type": "stream",
       "stream": "stdout",
       "text": [
        "\n",
        "Japanese International School\n",
        "7558 done."
       ]
      },
      {
       "output_type": "stream",
       "stream": "stdout",
       "text": [
        "\n",
        "JASS MUSIC MINISTRY ASSOCIATION\n",
        "7560 done."
       ]
      },
      {
       "output_type": "stream",
       "stream": "stdout",
       "text": [
        "\n",
        "JC Building - MMH Hostel\n",
        "7562 done."
       ]
      },
      {
       "output_type": "stream",
       "stream": "stdout",
       "text": [
        "\n",
        "JC Building - Sheltered Workshop\n",
        "7563 done."
       ]
      },
      {
       "output_type": "stream",
       "stream": "stdout",
       "text": [
        "\n",
        "JC Building-Halfway House\n",
        "7564 done."
       ]
      },
      {
       "output_type": "stream",
       "stream": "stdout",
       "text": [
        "\n",
        "JC Building-Halfway House\n",
        "7565 done."
       ]
      },
      {
       "output_type": "stream",
       "stream": "stdout",
       "text": [
        "\n",
        "JEDIDIAH COUNSELOR & CHARITABLE TRUST\n",
        "7571 done."
       ]
      },
      {
       "output_type": "stream",
       "stream": "stdout",
       "text": [
        "\n",
        "Jessie & Thomas Tam Bereavement Centre\n",
        "7576 done."
       ]
      },
      {
       "output_type": "stream",
       "stream": "stdout",
       "text": [
        "\n",
        "JESUS CHRIST THE DELIVERER FULL-GOSPEL CHURCH\n",
        "7583 done."
       ]
      },
      {
       "output_type": "stream",
       "stream": "stdout",
       "text": [
        "\n",
        "Jewish Benevolent Society\n",
        "7598 done."
       ]
      },
      {
       "output_type": "stream",
       "stream": "stdout",
       "text": [
        "\n",
        "JEWISH COMMUNITY CENTRE\n",
        "7599 done."
       ]
      },
      {
       "output_type": "stream",
       "stream": "stdout",
       "text": [
        "\n",
        "JIAN HUA FOUNDATION\n",
        "7604 done."
       ]
      },
      {
       "output_type": "stream",
       "stream": "stdout",
       "text": [
        "\n",
        "JIANGSU CULTURAL ASSOCIATION\n",
        "7609 done."
       ]
      },
      {
       "output_type": "stream",
       "stream": "stdout",
       "text": [
        "\n",
        "Jing Jing Anglo-Chinese Kindergarten\n",
        "7612 done."
       ]
      },
      {
       "output_type": "stream",
       "stream": "stdout",
       "text": [
        "\n",
        "Jing Jing Kindergarten\n",
        "7614 done."
       ]
      },
      {
       "output_type": "stream",
       "stream": "stdout",
       "text": [
        "\n",
        "Jing Jing Kindergarten\n",
        "7615 done."
       ]
      },
      {
       "output_type": "stream",
       "stream": "stdout",
       "text": [
        "\n",
        "Jing Jing Nursery\n",
        "7616 done."
       ]
      },
      {
       "output_type": "stream",
       "stream": "stdout",
       "text": [
        "\n",
        "Jing Jing Nursery\n",
        "7617 done."
       ]
      },
      {
       "output_type": "stream",
       "stream": "stdout",
       "text": [
        "\n",
        "Jingang Dhyana Publications Centre\n",
        "7619 done."
       ]
      },
      {
       "output_type": "stream",
       "stream": "stdout",
       "text": [
        "\n",
        "JIREH FUND\n",
        "7624 done."
       ]
      },
      {
       "output_type": "stream",
       "stream": "stdout",
       "text": [
        "\n",
        "Jireh Mission\n",
        "7625 done."
       ]
      },
      {
       "output_type": "stream",
       "stream": "stdout",
       "text": [
        "\n",
        "Jockey Club Beas River Lodge\n",
        "7629 done."
       ]
      },
      {
       "output_type": "stream",
       "stream": "stdout",
       "text": [
        "\n",
        "Jockey Club Bradbury Wah Sum Care Centre\n",
        "7630 done."
       ]
      },
      {
       "output_type": "stream",
       "stream": "stdout",
       "text": [
        "\n",
        "Jockey Club Cadenza Hub\n",
        "7631 done."
       ]
      },
      {
       "output_type": "stream",
       "stream": "stdout",
       "text": [
        "\n",
        "Jockey Club Centre for Positive Ageing\n",
        "7632 done."
       ]
      },
      {
       "output_type": "stream",
       "stream": "stdout",
       "text": [
        "\n",
        "Jockey Club Chai Wan Integrated Services Centre\n",
        "7633 done."
       ]
      },
      {
       "output_type": "stream",
       "stream": "stdout",
       "text": [
        "\n",
        "Jockey Club Cheung Chau Don Bosco Youth Centre\n",
        "7634 done."
       ]
      },
      {
       "output_type": "stream",
       "stream": "stdout",
       "text": [
        "\n",
        "Jockey Club Cheung Wah Youth S.P.O.T.\n",
        "7635 done."
       ]
      },
      {
       "output_type": "stream",
       "stream": "stdout",
       "text": [
        "\n",
        "Jockey Club Eduyoung College\n",
        "7637 done."
       ]
      },
      {
       "output_type": "stream",
       "stream": "stdout",
       "text": [
        "\n",
        "Jockey Club Elaine Field School\n",
        "7638 done."
       ]
      },
      {
       "output_type": "stream",
       "stream": "stdout",
       "text": [
        "\n",
        "Jockey Club Farm House\n",
        "7639 done."
       ]
      },
      {
       "output_type": "stream",
       "stream": "stdout",
       "text": [
        "\n",
        "Jockey Club Farm Road Youth S.P.O.T.\n",
        "7640 done."
       ]
      },
      {
       "output_type": "stream",
       "stream": "stdout",
       "text": [
        "\n",
        "Jockey Club Hong Chi Lodge\n",
        "7641 done."
       ]
      },
      {
       "output_type": "stream",
       "stream": "stdout",
       "text": [
        "\n",
        "Jockey Club Hong Chi School\n",
        "7642 done."
       ]
      },
      {
       "output_type": "stream",
       "stream": "stdout",
       "text": [
        "\n",
        "Jockey Club Hong Chi Siu Sai Wan Workshop\n",
        "7643 done."
       ]
      },
      {
       "output_type": "stream",
       "stream": "stdout",
       "text": [
        "\n",
        "Jockey Club Hong Chi Sun Chui Hostel\n",
        "7644 done."
       ]
      },
      {
       "output_type": "stream",
       "stream": "stdout",
       "text": [
        "\n",
        "Jockey Club Hong Chi Sun Chui Workshop\n",
        "7645 done."
       ]
      },
      {
       "output_type": "stream",
       "stream": "stdout",
       "text": [
        "\n",
        "Jockey Club Hong Chi Tai Yuen Hostel\n",
        "7646 done."
       ]
      },
      {
       "output_type": "stream",
       "stream": "stdout",
       "text": [
        "\n",
        "Jockey Club Centre\n",
        "7647 done."
       ]
      },
      {
       "output_type": "stream",
       "stream": "stdout",
       "text": [
        "\n",
        "Jockey Club Hung Hom Youth S.P.O.T.\n",
        "7648 done."
       ]
      },
      {
       "output_type": "stream",
       "stream": "stdout",
       "text": [
        "\n",
        "Jockey Club Jat Min Youth S.P.O.T.\n",
        "7649 done."
       ]
      },
      {
       "output_type": "stream",
       "stream": "stdout",
       "text": [
        "\n",
        "Jockey Club Kin Sang Youth S.P.O.T.\n",
        "7650 done."
       ]
      },
      {
       "output_type": "stream",
       "stream": "stdout",
       "text": [
        "\n",
        "Jockey Club Kwai Fong Youth S.P.O.T.\n",
        "7651 done."
       ]
      },
      {
       "output_type": "stream",
       "stream": "stdout",
       "text": [
        "\n",
        "Jockey Club LEAD Centre\n",
        "7652 done."
       ]
      },
      {
       "output_type": "stream",
       "stream": "stdout",
       "text": [
        "\n",
        "Jockey Club Marion Fang Conductive Learning Centre\n",
        "7653 done."
       ]
      },
      {
       "output_type": "stream",
       "stream": "stdout",
       "text": [
        "\n",
        "Jockey Club Marion Fang Conductive Learning Centre\n",
        "7654 done."
       ]
      },
      {
       "output_type": "stream",
       "stream": "stdout",
       "text": [
        "\n",
        "Jockey Club Media 21\n",
        "7655 done."
       ]
      },
      {
       "output_type": "stream",
       "stream": "stdout",
       "text": [
        "\n",
        "Jockey Club New Life Hostel\n",
        "7656 done."
       ]
      },
      {
       "output_type": "stream",
       "stream": "stdout",
       "text": [
        "\n",
        "Jockey Club New Life Institute of\n",
        "7657 done."
       ]
      },
      {
       "output_type": "stream",
       "stream": "stdout",
       "text": [
        "\n",
        "Jockey Club New Page Inn\n",
        "7658 done."
       ]
      },
      {
       "output_type": "stream",
       "stream": "stdout",
       "text": [
        "\n",
        "Jockey Club PHAB Fitness Centre\n",
        "7659 done."
       ]
      },
      {
       "output_type": "stream",
       "stream": "stdout",
       "text": [
        "\n",
        "Jockey Club Ping Shek Youth S.P.O.T.\n",
        "7660 done."
       ]
      },
      {
       "output_type": "stream",
       "stream": "stdout",
       "text": [
        "\n",
        "Jockey Club Rehabilitation Seating Service Centre\n",
        "7661 done."
       ]
      },
      {
       "output_type": "stream",
       "stream": "stdout",
       "text": [
        "\n",
        "Jockey Club Sai Kung Outdoor Training Camp\n",
        "7662 done."
       ]
      },
      {
       "output_type": "stream",
       "stream": "stdout",
       "text": [
        "\n",
        "Jockey Club Sarah Roe School\n",
        "7663 done."
       ]
      },
      {
       "output_type": "stream",
       "stream": "stdout",
       "text": [
        "\n",
        "JOCKEY CLUB SARAH ROE SCHOOL PARENT TEACHERS ASSOCIATION\n",
        "7664 done."
       ]
      },
      {
       "output_type": "stream",
       "stream": "stdout",
       "text": [
        "\n",
        "Jockey Club Shatin Integrated Service Centre for Children and Youth\n",
        "7665 done."
       ]
      },
      {
       "output_type": "stream",
       "stream": "stdout",
       "text": [
        "\n",
        "Jockey Club Shatin Integrated Social Service Centre\n",
        "7666 done."
       ]
      },
      {
       "output_type": "stream",
       "stream": "stdout",
       "text": [
        "\n",
        "Jockey Club Shaukiwan Youth S.P.O.T.\n",
        "7667 done."
       ]
      },
      {
       "output_type": "stream",
       "stream": "stdout",
       "text": [
        "\n",
        "Jockey Club Student Support Centre\n",
        "7668 done."
       ]
      },
      {
       "output_type": "stream",
       "stream": "stdout",
       "text": [
        "\n",
        "Jockey Club Tin Yiu Youth S.P.O.T.\n",
        "7669 done."
       ]
      },
      {
       "output_type": "stream",
       "stream": "stdout",
       "text": [
        "\n",
        "Jockey Club Tin Yuet Youth S.P.O.T.\n",
        "7670 done."
       ]
      },
      {
       "output_type": "stream",
       "stream": "stdout",
       "text": [
        "\n",
        "Jockey Club Tseung Kwan O Youth S.P.O.T.\n",
        "7671 done."
       ]
      },
      {
       "output_type": "stream",
       "stream": "stdout",
       "text": [
        "\n",
        "Jockey Club Tuen Mun Integrated Social Service Centre\n",
        "7672 done."
       ]
      },
      {
       "output_type": "stream",
       "stream": "stdout",
       "text": [
        "\n",
        "Jockey Club Verbena Youth S.P.O.T.\n",
        "7673 done."
       ]
      },
      {
       "output_type": "stream",
       "stream": "stdout",
       "text": [
        "\n",
        "Jockey Club Wah Ming Lutheran Integrated Service Centre\n",
        "7674 done."
       ]
      },
      {
       "output_type": "stream",
       "stream": "stdout",
       "text": [
        "\n",
        "Jockey Club Wang Tau Hom Youth S.P.O.T.\n",
        "7675 done."
       ]
      },
      {
       "output_type": "stream",
       "stream": "stdout",
       "text": [
        "\n",
        "Jockey Club Youth Leap\n",
        "7676 done."
       ]
      },
      {
       "output_type": "stream",
       "stream": "stdout",
       "text": [
        "\n",
        "John F. Kennedy Centre\n",
        "7679 done."
       ]
      },
      {
       "output_type": "stream",
       "stream": "stdout",
       "text": [
        "\n",
        "Johnson Lee Foundation Fund\n",
        "7684 done."
       ]
      },
      {
       "output_type": "stream",
       "stream": "stdout",
       "text": [
        "\n",
        "JOINT COMMITTEE FOR THE PROMOTION OF THE BASIC LAW OF\n",
        "7686 done."
       ]
      },
      {
       "output_type": "stream",
       "stream": "stdout",
       "text": [
        "\n",
        "Joint Rehabilitation Centre\n",
        "7691 done."
       ]
      },
      {
       "output_type": "stream",
       "stream": "stdout",
       "text": [
        "\n",
        "JOINT SCHOOL CAMPUS TV ASSOCIATION\n",
        "7692 done."
       ]
      },
      {
       "output_type": "stream",
       "stream": "stdout",
       "text": [
        "\n",
        "JOINT UNIVERSITY PROGRAMMES ADMISSIONS SYSTEM\n",
        "7694 done."
       ]
      },
      {
       "output_type": "stream",
       "stream": "stdout",
       "text": [
        "\n",
        "Jointly Operated Centre St. James Project Care Neighbourhood Elderly Centre\n",
        "7696 done."
       ]
      },
      {
       "output_type": "stream",
       "stream": "stdout",
       "text": [
        "\n",
        "Jordan Elderly Centre\n",
        "7699 done."
       ]
      },
      {
       "output_type": "stream",
       "stream": "stdout",
       "text": [
        "\n",
        "Jordan Family Support Networking Team\n",
        "7700 done."
       ]
      },
      {
       "output_type": "stream",
       "stream": "stdout",
       "text": [
        "\n",
        "Jordan Valley St. Josephs Catholic Primary School\n",
        "7702 done."
       ]
      },
      {
       "output_type": "stream",
       "stream": "stdout",
       "text": [
        "\n",
        "Joy Academy of Christian Music\n",
        "7711 done."
       ]
      },
      {
       "output_type": "stream",
       "stream": "stdout",
       "text": [
        "\n",
        "Joy Center\n",
        "7712 done."
       ]
      },
      {
       "output_type": "stream",
       "stream": "stdout",
       "text": [
        "\n",
        "JOY IN DANCE CLUB\n",
        "7713 done."
       ]
      },
      {
       "output_type": "stream",
       "stream": "stdout",
       "text": [
        "\n",
        "JOY OF LIFE\n",
        "7715 done."
       ]
      },
      {
       "output_type": "stream",
       "stream": "stdout",
       "text": [
        "\n",
        "Joyful Ark\n",
        "7719 done."
       ]
      },
      {
       "output_type": "stream",
       "stream": "stdout",
       "text": [
        "\n",
        "JOYFUL HARVEST FELLOWSHIP\n",
        "7722 done."
       ]
      },
      {
       "output_type": "stream",
       "stream": "stdout",
       "text": [
        "\n",
        "JOYFUL PRAISE ASSEMBLY\n",
        "7723 done."
       ]
      },
      {
       "output_type": "stream",
       "stream": "stdout",
       "text": [
        "\n",
        "JOYOUS FOUNDATION\n",
        "7726 done."
       ]
      },
      {
       "output_type": "stream",
       "stream": "stdout",
       "text": [
        "\n",
        "Joyous Place\n",
        "7727 done."
       ]
      },
      {
       "output_type": "stream",
       "stream": "stdout",
       "text": [
        "\n",
        "JU CHING CHU ENGLISH COLLEGE\n",
        "7728 done."
       ]
      },
      {
       "output_type": "stream",
       "stream": "stdout",
       "text": [
        "\n",
        "Jubilant Grace Methodist Church\n",
        "7730 done."
       ]
      },
      {
       "output_type": "stream",
       "stream": "stdout",
       "text": [
        "\n",
        "Jubilant Grace Methodist Church Service Centre\n",
        "7731 done."
       ]
      },
      {
       "output_type": "stream",
       "stream": "stdout",
       "text": [
        "\n",
        "JUBILEE CARES\n",
        "7732 done."
       ]
      },
      {
       "output_type": "stream",
       "stream": "stdout",
       "text": [
        "\n",
        "JUMPIN GYM USA CHILDREN FOUNDATION\n",
        "7737 done."
       ]
      },
      {
       "output_type": "stream",
       "stream": "stdout",
       "text": [
        "\n",
        "JUNIOR CHAMBER INTERNATIONAL CITY\n",
        "7740 done."
       ]
      },
      {
       "output_type": "stream",
       "stream": "stdout",
       "text": [
        "\n",
        "JUNIOR CHAMBER INTERNATIONAL HARBOUR\n",
        "7743 done."
       ]
      },
      {
       "output_type": "stream",
       "stream": "stdout",
       "text": [
        "\n",
        "JUNIOR CHAMBER INTERNATIONAL\n",
        "7745 done."
       ]
      },
      {
       "output_type": "stream",
       "stream": "stdout",
       "text": [
        "\n",
        "JUNIOR CHAMBER INTERNATIONAL PENINSULA\n",
        "7751 done."
       ]
      },
      {
       "output_type": "stream",
       "stream": "stdout",
       "text": [
        "\n",
        "JUNIOR CHAMBER INTERNATIONAL SHA TIN JCI Sha Tin\n",
        "7754 done."
       ]
      },
      {
       "output_type": "stream",
       "stream": "stdout",
       "text": [
        "\n",
        "Junk Bay Chinese Permanent Cemetery\n",
        "7758 done."
       ]
      },
      {
       "output_type": "stream",
       "stream": "stdout",
       "text": [
        "\n",
        "Junk Bay Kingsland Kindergarten\n",
        "7759 done."
       ]
      },
      {
       "output_type": "stream",
       "stream": "stdout",
       "text": [
        "\n",
        "Junk Bay Kingsland Nursery\n",
        "7760 done."
       ]
      },
      {
       "output_type": "stream",
       "stream": "stdout",
       "text": [
        "\n",
        "KA FOOK PENTECOSTAL HOLINESS CHURCH\n",
        "7773 done."
       ]
      },
      {
       "output_type": "stream",
       "stream": "stdout",
       "text": [
        "\n",
        "Ka Fuk Baptist Church\n",
        "7774 done."
       ]
      },
      {
       "output_type": "stream",
       "stream": "stdout",
       "text": [
        "\n",
        "Ka Fuk Baptist Church Pre-school\n",
        "7775 done."
       ]
      },
      {
       "output_type": "stream",
       "stream": "stdout",
       "text": [
        "\n",
        "Ka Ling School of The Precious Blood\n",
        "7777 done."
       ]
      },
      {
       "output_type": "stream",
       "stream": "stdout",
       "text": [
        "\n",
        "KADOORIE FARM AND BOTANIC GARDEN CORPORATION\n",
        "7782 done."
       ]
      },
      {
       "output_type": "stream",
       "stream": "stdout",
       "text": [
        "\n",
        "Kai Ming Temple\n",
        "7785 done."
       ]
      },
      {
       "output_type": "stream",
       "stream": "stdout",
       "text": [
        "\n",
        "KAI TAK CHRISTIAN CHURCH\n",
        "7786 done."
       ]
      },
      {
       "output_type": "stream",
       "stream": "stdout",
       "text": [
        "\n",
        "KAI TAK PEACE EVANGELICAL CENTRE\n",
        "7787 done."
       ]
      },
      {
       "output_type": "stream",
       "stream": "stdout",
       "text": [
        "\n",
        "Kai To Charity Fund\n",
        "7788 done."
       ]
      },
      {
       "output_type": "stream",
       "stream": "stdout",
       "text": [
        "\n",
        "Kam Him Foundation\n",
        "7794 done."
       ]
      },
      {
       "output_type": "stream",
       "stream": "stdout",
       "text": [
        "\n",
        "Kam Kong Memorial Church\n",
        "7795 done."
       ]
      },
      {
       "output_type": "stream",
       "stream": "stdout",
       "text": [
        "\n",
        "Kam Kwong Nepal Christian Church\n",
        "7796 done."
       ]
      },
      {
       "output_type": "stream",
       "stream": "stdout",
       "text": [
        "\n",
        "Kam Lam Catholic Kindergarten\n",
        "7798 done."
       ]
      },
      {
       "output_type": "stream",
       "stream": "stdout",
       "text": [
        "\n",
        "Kam Lan Koon\n",
        "7799 done."
       ]
      },
      {
       "output_type": "stream",
       "stream": "stdout",
       "text": [
        "\n",
        "Kam Tsin Village Ho Tung Kindergarten\n",
        "7803 done."
       ]
      },
      {
       "output_type": "stream",
       "stream": "stdout",
       "text": [
        "\n",
        "Kang Tak Buddhist Association\n",
        "7805 done."
       ]
      },
      {
       "output_type": "stream",
       "stream": "stdout",
       "text": [
        "\n",
        "Karlam Anglo-Chinese Kindergarten\n",
        "7808 done."
       ]
      },
      {
       "output_type": "stream",
       "stream": "stdout",
       "text": [
        "\n",
        "Karlam Anglo-Chinese Kindergarten\n",
        "7809 done."
       ]
      },
      {
       "output_type": "stream",
       "stream": "stdout",
       "text": [
        "\n",
        "Karlam Kindergarten\n",
        "7810 done."
       ]
      },
      {
       "output_type": "stream",
       "stream": "stdout",
       "text": [
        "\n",
        "Karlam Nursery\n",
        "7811 done."
       ]
      },
      {
       "output_type": "stream",
       "stream": "stdout",
       "text": [
        "\n",
        "Karlam Nursery\n",
        "7812 done."
       ]
      },
      {
       "output_type": "stream",
       "stream": "stdout",
       "text": [
        "\n",
        "KARMA KAGYU BUDDHIST SOCIETY LTD\n",
        "7815 done."
       ]
      },
      {
       "output_type": "stream",
       "stream": "stdout",
       "text": [
        "\n",
        "KARMA SAMTEN LING BUDDHIST CENTRE\n",
        "7816 done."
       ]
      },
      {
       "output_type": "stream",
       "stream": "stdout",
       "text": [
        "\n",
        "Kau Yan College\n",
        "7825 done."
       ]
      },
      {
       "output_type": "stream",
       "stream": "stdout",
       "text": [
        "\n",
        "Kau Yan School\n",
        "7826 done."
       ]
      },
      {
       "output_type": "stream",
       "stream": "stdout",
       "text": [
        "\n",
        "KAYIWA FOUNDATIONS REVOLVING FUND\n",
        "7827 done."
       ]
      },
      {
       "output_type": "stream",
       "stream": "stdout",
       "text": [
        "\n",
        "KEEN MEN CHRISTIAN CHURCH\n",
        "7829 done."
       ]
      },
      {
       "output_type": "stream",
       "stream": "stdout",
       "text": [
        "\n",
        "Kei Kwong Kindergarten\n",
        "7831 done."
       ]
      },
      {
       "output_type": "stream",
       "stream": "stdout",
       "text": [
        "\n",
        "Kei Oi Childrens Club\n",
        "7832 done."
       ]
      },
      {
       "output_type": "stream",
       "stream": "stdout",
       "text": [
        "\n",
        "Kei Oi Church\n",
        "7833 done."
       ]
      },
      {
       "output_type": "stream",
       "stream": "stdout",
       "text": [
        "\n",
        "Kei Oi Welfare Centre\n",
        "7834 done."
       ]
      },
      {
       "output_type": "stream",
       "stream": "stdout",
       "text": [
        "\n",
        "Kei Pui Church\n",
        "7835 done."
       ]
      },
      {
       "output_type": "stream",
       "stream": "stdout",
       "text": [
        "\n",
        "Kei Pun Church\n",
        "7836 done."
       ]
      },
      {
       "output_type": "stream",
       "stream": "stdout",
       "text": [
        "\n",
        "KEI SHEK BAPTIST CHURCH\n",
        "7837 done."
       ]
      },
      {
       "output_type": "stream",
       "stream": "stdout",
       "text": [
        "\n",
        "Kei Yam Alliance Church\n",
        "7839 done."
       ]
      },
      {
       "output_type": "stream",
       "stream": "stdout",
       "text": [
        "\n",
        "Kei Yam Family Services Centre\n",
        "7840 done."
       ]
      },
      {
       "output_type": "stream",
       "stream": "stdout",
       "text": [
        "\n",
        "Kellett School\n",
        "7842 done."
       ]
      },
      {
       "output_type": "stream",
       "stream": "stdout",
       "text": [
        "\n",
        "KELLY CHEN CHILDREN EDUCATION FUND\n",
        "7845 done."
       ]
      },
      {
       "output_type": "stream",
       "stream": "stdout",
       "text": [
        "\n",
        "Kennedy School\n",
        "7846 done."
       ]
      },
      {
       "output_type": "stream",
       "stream": "stdout",
       "text": [
        "\n",
        "KESWICK FOUNDATION\n",
        "7850 done."
       ]
      },
      {
       "output_type": "stream",
       "stream": "stdout",
       "text": [
        "\n",
        "Khalsa Diwan Kindergarten\n",
        "7854 done."
       ]
      },
      {
       "output_type": "stream",
       "stream": "stdout",
       "text": [
        "\n",
        "KHALSA DIWAN\n",
        "7855 done."
       ]
      },
      {
       "output_type": "stream",
       "stream": "stdout",
       "text": [
        "\n",
        "Kiangsu - Chekiang College\n",
        "7861 done."
       ]
      },
      {
       "output_type": "stream",
       "stream": "stdout",
       "text": [
        "\n",
        "Kiangsu - Chekiang College\n",
        "7862 done."
       ]
      },
      {
       "output_type": "stream",
       "stream": "stdout",
       "text": [
        "\n",
        "Kiangsu - Chekiang College\n",
        "7863 done."
       ]
      },
      {
       "output_type": "stream",
       "stream": "stdout",
       "text": [
        "\n",
        "Kiangsu - Chekiang Medical Clinic\n",
        "7864 done."
       ]
      },
      {
       "output_type": "stream",
       "stream": "stdout",
       "text": [
        "\n",
        "Kiangsu & Chekiang Nursery\n",
        "7865 done."
       ]
      },
      {
       "output_type": "stream",
       "stream": "stdout",
       "text": [
        "\n",
        "Kiangsu & Chekiang Primary School\n",
        "7866 done."
       ]
      },
      {
       "output_type": "stream",
       "stream": "stdout",
       "text": [
        "\n",
        "KIANGSU CHEKIANG AND SHANGHAI RESIDENTS ASSOCIATION\n",
        "7867 done."
       ]
      },
      {
       "output_type": "stream",
       "stream": "stdout",
       "text": [
        "\n",
        "KIDS ALIVE INTERNATIONAL\n",
        "7869 done."
       ]
      },
      {
       "output_type": "stream",
       "stream": "stdout",
       "text": [
        "\n",
        "Kim Tak Buddhist Association\n",
        "7870 done."
       ]
      },
      {
       "output_type": "stream",
       "stream": "stdout",
       "text": [
        "\n",
        "Kin Chi Dementia Care Support Service Centre\n",
        "7872 done."
       ]
      },
      {
       "output_type": "stream",
       "stream": "stdout",
       "text": [
        "\n",
        "Kin Choi Resource Centre for the Elderly\n",
        "7873 done."
       ]
      },
      {
       "output_type": "stream",
       "stream": "stdout",
       "text": [
        "\n",
        "KIN LOK CLUB\n",
        "7874 done."
       ]
      },
      {
       "output_type": "stream",
       "stream": "stdout",
       "text": [
        "\n",
        "Kin Ming Centre\n",
        "7875 done."
       ]
      },
      {
       "output_type": "stream",
       "stream": "stdout",
       "text": [
        "\n",
        "Kin Ming Community Rehabilitation & Resources Centre for the Elderly\n",
        "7876 done."
       ]
      },
      {
       "output_type": "stream",
       "stream": "stdout",
       "text": [
        "\n",
        "Kin Sang Baptist Church\n",
        "7877 done."
       ]
      },
      {
       "output_type": "stream",
       "stream": "stdout",
       "text": [
        "\n",
        "Kin Sang Baptist Church Bradbury Pre-school\n",
        "7878 done."
       ]
      },
      {
       "output_type": "stream",
       "stream": "stdout",
       "text": [
        "\n",
        "Kin Sang Foursquare Gospel Church\n",
        "7879 done."
       ]
      },
      {
       "output_type": "stream",
       "stream": "stdout",
       "text": [
        "\n",
        "Kin Sang Lutheran Kindergarten\n",
        "7880 done."
       ]
      },
      {
       "output_type": "stream",
       "stream": "stdout",
       "text": [
        "\n",
        "Kindness Centre\n",
        "7882 done."
       ]
      },
      {
       "output_type": "stream",
       "stream": "stdout",
       "text": [
        "\n",
        "Kindness Relieving\n",
        "7883 done."
       ]
      },
      {
       "output_type": "stream",
       "stream": "stdout",
       "text": [
        "\n",
        "King George V School\n",
        "7884 done."
       ]
      },
      {
       "output_type": "stream",
       "stream": "stdout",
       "text": [
        "\n",
        "King Lam Alliance Church\n",
        "7886 done."
       ]
      },
      {
       "output_type": "stream",
       "stream": "stdout",
       "text": [
        "\n",
        "King Lam Bradbury Clinic\n",
        "7887 done."
       ]
      },
      {
       "output_type": "stream",
       "stream": "stdout",
       "text": [
        "\n",
        "King Lam Catholic Primary School\n",
        "7888 done."
       ]
      },
      {
       "output_type": "stream",
       "stream": "stdout",
       "text": [
        "\n",
        "King Lam Lutheran Day Nursery\n",
        "7889 done."
       ]
      },
      {
       "output_type": "stream",
       "stream": "stdout",
       "text": [
        "\n",
        "King Lam Small Group Home\n",
        "7890 done."
       ]
      },
      {
       "output_type": "stream",
       "stream": "stdout",
       "text": [
        "\n",
        "King Ling College\n",
        "7891 done."
       ]
      },
      {
       "output_type": "stream",
       "stream": "stdout",
       "text": [
        "\n",
        "KINGDOM HARVEST MINISTRIES\n",
        "7895 done."
       ]
      },
      {
       "output_type": "stream",
       "stream": "stdout",
       "text": [
        "\n",
        "KINGDOM MINISTRIES\n",
        "7897 done."
       ]
      },
      {
       "output_type": "stream",
       "stream": "stdout",
       "text": [
        "\n",
        "Kings College Old Boys Association Primary School\n",
        "7901 done."
       ]
      },
      {
       "output_type": "stream",
       "stream": "stdout",
       "text": [
        "\n",
        "Kings College Old Boys Association Primary School No. 2\n",
        "7902 done."
       ]
      },
      {
       "output_type": "stream",
       "stream": "stdout",
       "text": [
        "\n",
        "Kit Sam Lam Bing Yim Secondary School\n",
        "7911 done."
       ]
      },
      {
       "output_type": "stream",
       "stream": "stdout",
       "text": [
        "\n",
        "KITTIWAKE SOCIAL SERVICE ASSOCIATION\n",
        "7912 done."
       ]
      },
      {
       "output_type": "stream",
       "stream": "stdout",
       "text": [
        "\n",
        "Kittiwake Social Service Association Yuen Long Branch\n",
        "7913 done."
       ]
      },
      {
       "output_type": "stream",
       "stream": "stdout",
       "text": [
        "\n",
        "KNIGHT FOUNDATION\n",
        "7915 done."
       ]
      },
      {
       "output_type": "stream",
       "stream": "stdout",
       "text": [
        "\n",
        "KNOWLEDGE MANAGEMENT DEVELOPMENT CENTRE\n",
        "7916 done."
       ]
      },
      {
       "output_type": "stream",
       "stream": "stdout",
       "text": [
        "\n",
        "Ko Chiu Road Centre of Christ Love for the Aged\n",
        "7918 done."
       ]
      },
      {
       "output_type": "stream",
       "stream": "stdout",
       "text": [
        "\n",
        "Ko Fook Iu Memorial School\n",
        "7919 done."
       ]
      },
      {
       "output_type": "stream",
       "stream": "stdout",
       "text": [
        "\n",
        "Ko Ho Ling Scholarship Fund\n",
        "7920 done."
       ]
      },
      {
       "output_type": "stream",
       "stream": "stdout",
       "text": [
        "\n",
        "Ko Lui Secondary School\n",
        "7921 done."
       ]
      },
      {
       "output_type": "stream",
       "stream": "stdout",
       "text": [
        "\n",
        "Kok Yuen\n",
        "7925 done."
       ]
      },
      {
       "output_type": "stream",
       "stream": "stdout",
       "text": [
        "\n",
        "KOREAN INTERNATIONAL SCHOOL\n",
        "7933 done."
       ]
      },
      {
       "output_type": "stream",
       "stream": "stdout",
       "text": [
        "\n",
        "Kornhill Alliance Church\n",
        "7935 done."
       ]
      },
      {
       "output_type": "stream",
       "stream": "stdout",
       "text": [
        "\n",
        "Kornhill Alliance Church Family Services Centre\n",
        "7936 done."
       ]
      },
      {
       "output_type": "stream",
       "stream": "stdout",
       "text": [
        "\n",
        "Kornhill Christian Anglo-Chinese Kindergarten\n",
        "7938 done."
       ]
      },
      {
       "output_type": "stream",
       "stream": "stdout",
       "text": [
        "\n",
        "Kowloon Bay St. John the Baptist Catholic Primary School\n",
        "7941 done."
       ]
      },
      {
       "output_type": "stream",
       "stream": "stdout",
       "text": [
        "\n",
        "Kowloon Cannan Anglo-Chinese Kindergarten\n",
        "7943 done."
       ]
      },
      {
       "output_type": "stream",
       "stream": "stdout",
       "text": [
        "\n",
        "Kowloon Centre\n",
        "7944 done."
       ]
      },
      {
       "output_type": "stream",
       "stream": "stdout",
       "text": [
        "\n",
        "Kowloon Church of Seventh-day Adventists\n",
        "7946 done."
       ]
      },
      {
       "output_type": "stream",
       "stream": "stdout",
       "text": [
        "\n",
        "KOWLOON CITY BAPTIST CHURCH\n",
        "7947 done."
       ]
      },
      {
       "output_type": "stream",
       "stream": "stdout",
       "text": [
        "\n",
        "Kowloon City Baptist Church Choi Ping Reading Room\n",
        "7948 done."
       ]
      },
      {
       "output_type": "stream",
       "stream": "stdout",
       "text": [
        "\n",
        "Kowloon City Baptist Church Hay Nien Child Care Centre\n",
        "7949 done."
       ]
      },
      {
       "output_type": "stream",
       "stream": "stdout",
       "text": [
        "\n",
        "Kowloon City Baptist Church Hay Nien Kindergarten\n",
        "7950 done."
       ]
      },
      {
       "output_type": "stream",
       "stream": "stdout",
       "text": [
        "\n",
        "Kowloon City Baptist Church Ka Fuk Kindergarten\n",
        "7951 done."
       ]
      },
      {
       "output_type": "stream",
       "stream": "stdout",
       "text": [
        "\n",
        "Kowloon City Baptist Church Kindergarten\n",
        "7952 done."
       ]
      },
      {
       "output_type": "stream",
       "stream": "stdout",
       "text": [
        "\n",
        "Kowloon City Baptist Church Neighbourhood Elderly Centre\n",
        "7953 done."
       ]
      },
      {
       "output_type": "stream",
       "stream": "stdout",
       "text": [
        "\n",
        "Kowloon City Baptist Church Tsz Oi Kindergarten\n",
        "7954 done."
       ]
      },
      {
       "output_type": "stream",
       "stream": "stdout",
       "text": [
        "\n",
        "KOWLOON CITY CHRISTIANS CHURCH\n",
        "7955 done."
       ]
      },
      {
       "output_type": "stream",
       "stream": "stdout",
       "text": [
        "\n",
        "Kowloon City Dialysis Centre\n",
        "7957 done."
       ]
      },
      {
       "output_type": "stream",
       "stream": "stdout",
       "text": [
        "\n",
        "Kowloon City District Kaifong Welfare Association School\n",
        "7962 done."
       ]
      },
      {
       "output_type": "stream",
       "stream": "stdout",
       "text": [
        "\n",
        "Kowloon City Integrated Home Care Services Team\n",
        "7965 done."
       ]
      },
      {
       "output_type": "stream",
       "stream": "stdout",
       "text": [
        "\n",
        "Kowloon Cumberland Presbyterian Church\n",
        "7968 done."
       ]
      },
      {
       "output_type": "stream",
       "stream": "stdout",
       "text": [
        "\n",
        "Kowloon East Continuing Education Centre\n",
        "7970 done."
       ]
      },
      {
       "output_type": "stream",
       "stream": "stdout",
       "text": [
        "\n",
        "Kowloon East PHAB Centre\n",
        "7971 done."
       ]
      },
      {
       "output_type": "stream",
       "stream": "stdout",
       "text": [
        "\n",
        "Kowloon Emmanuel Primary School\n",
        "7972 done."
       ]
      },
      {
       "output_type": "stream",
       "stream": "stdout",
       "text": [
        "\n",
        "Kowloon Hospital\n",
        "7977 done."
       ]
      },
      {
       "output_type": "stream",
       "stream": "stdout",
       "text": [
        "\n",
        "Kowloon Hospital Red Cross School\n",
        "7978 done."
       ]
      },
      {
       "output_type": "stream",
       "stream": "stdout",
       "text": [
        "\n",
        "KOWLOON INTERNATIONAL BAPTIST CHURCH\n",
        "7979 done."
       ]
      },
      {
       "output_type": "stream",
       "stream": "stdout",
       "text": [
        "\n",
        "Kowloon Junior School\n",
        "7980 done."
       ]
      },
      {
       "output_type": "stream",
       "stream": "stdout",
       "text": [
        "\n",
        "Kowloon Ling Liang Church Day Nursery\n",
        "7984 done."
       ]
      },
      {
       "output_type": "stream",
       "stream": "stdout",
       "text": [
        "\n",
        "Kowloon Ling Liang Church Kindergarten\n",
        "7985 done."
       ]
      },
      {
       "output_type": "stream",
       "stream": "stdout",
       "text": [
        "\n",
        "KOWLOON LING LIANG CHURCH\n",
        "7986 done."
       ]
      },
      {
       "output_type": "stream",
       "stream": "stdout",
       "text": [
        "\n",
        "Kowloon Lutheran Church for The Deaf\n",
        "7987 done."
       ]
      },
      {
       "output_type": "stream",
       "stream": "stdout",
       "text": [
        "\n",
        "Kowloon Masjid & Islamic Centre\n",
        "7989 done."
       ]
      },
      {
       "output_type": "stream",
       "stream": "stdout",
       "text": [
        "\n",
        "Kowloon Methodist Church\n",
        "7990 done."
       ]
      },
      {
       "output_type": "stream",
       "stream": "stdout",
       "text": [
        "\n",
        "Kowloon Methodist Kindergarten\n",
        "7991 done."
       ]
      },
      {
       "output_type": "stream",
       "stream": "stdout",
       "text": [
        "\n",
        "Kowloon Methodist School\n",
        "7992 done."
       ]
      },
      {
       "output_type": "stream",
       "stream": "stdout",
       "text": [
        "\n",
        "KOWLOON PENTECOSTAL CHURCH\n",
        "7994 done."
       ]
      },
      {
       "output_type": "stream",
       "stream": "stdout",
       "text": [
        "\n",
        "KOWLOON PENTECOSTAL CHURCH SHATIN CHAPEL\n",
        "7996 done."
       ]
      },
      {
       "output_type": "stream",
       "stream": "stdout",
       "text": [
        "\n",
        "KOWLOON PENTECOSTAL CHURCH\n",
        "7997 done."
       ]
      },
      {
       "output_type": "stream",
       "stream": "stdout",
       "text": [
        "\n",
        "KOWLOON PENTECOSTAL HOLINESS CHURCH\n",
        "7998 done."
       ]
      },
      {
       "output_type": "stream",
       "stream": "stdout",
       "text": [
        "\n",
        "Kowloon Rhenish Kindergarten\n",
        "8000 done."
       ]
      },
      {
       "output_type": "stream",
       "stream": "stdout",
       "text": [
        "\n",
        "Kowloon Rhenish School\n",
        "8001 done."
       ]
      },
      {
       "output_type": "stream",
       "stream": "stdout",
       "text": [
        "\n",
        "Kowloon Sam Yuk Primary School\n",
        "8003 done."
       ]
      },
      {
       "output_type": "stream",
       "stream": "stdout",
       "text": [
        "\n",
        "KOWLOON SAM YUK SECONDARY SCHOOL\n",
        "8004 done."
       ]
      },
      {
       "output_type": "stream",
       "stream": "stdout",
       "text": [
        "\n",
        "KOWLOON SAM YUK SECONDARY SCHOOL\n",
        "8005 done."
       ]
      },
      {
       "output_type": "stream",
       "stream": "stdout",
       "text": [
        "\n",
        "KOWLOON TONG BAPTIST CHURCH\n",
        "8008 done."
       ]
      },
      {
       "output_type": "stream",
       "stream": "stdout",
       "text": [
        "\n",
        "Kowloon Tong Bishop Walsh Catholic School\n",
        "8009 done."
       ]
      },
      {
       "output_type": "stream",
       "stream": "stdout",
       "text": [
        "\n",
        "Kowloon Tong Church of the C.C. & M.A.\n",
        "8011 done."
       ]
      },
      {
       "output_type": "stream",
       "stream": "stdout",
       "text": [
        "\n",
        "Kowloon Tong Church of the C.C. & M.A.\n",
        "8012 done."
       ]
      },
      {
       "output_type": "stream",
       "stream": "stdout",
       "text": [
        "\n",
        "Kowloon Tong Church of the Chinese Christian & Missionary Alliance - lsland Grace Church\n",
        "8013 done."
       ]
      },
      {
       "output_type": "stream",
       "stream": "stdout",
       "text": [
        "\n",
        "Kowloon Tong Church of the Chinese Christian and Missionary Alliance Alliance International Church\n",
        "8014 done."
       ]
      },
      {
       "output_type": "stream",
       "stream": "stdout",
       "text": [
        "\n",
        "Kowloon Tong Church of the Chinese Christian and Missionary Alliance Cheung Sha Wan Fuk Shing Church\n",
        "8015 done."
       ]
      },
      {
       "output_type": "stream",
       "stream": "stdout",
       "text": [
        "\n",
        "Kowloon Tong Church of the Chinese Christian and Missionary Alliance Foklam Church Study Centre\n",
        "8016 done."
       ]
      },
      {
       "output_type": "stream",
       "stream": "stdout",
       "text": [
        "\n",
        "Kowloon Tong Church of the Chinese Christian and Missionary Alliance Lau Ping Chai Study Centre\n",
        "8017 done."
       ]
      },
      {
       "output_type": "stream",
       "stream": "stdout",
       "text": [
        "\n",
        "Kowloon Tong Church of the Chinese Christian and Missionary Alliance Shek Lei Church Yeh Leung Suk Ching Reading Centre\n",
        "8018 done."
       ]
      },
      {
       "output_type": "stream",
       "stream": "stdout",
       "text": [
        "\n",
        "Kowloon Tong Church of the Chinese Christian and Missionary Alliance Yau Oi Chuch\n",
        "8019 done."
       ]
      },
      {
       "output_type": "stream",
       "stream": "stdout",
       "text": [
        "\n",
        "Kowloon Tong Church of the Chinese Christian and Missionary Alliance YiuChung Church Study Centre\n",
        "8020 done."
       ]
      },
      {
       "output_type": "stream",
       "stream": "stdout",
       "text": [
        "\n",
        "Kowloon Tong Church of the Chinese Christian and Missionary Alliance\n",
        "8021 done."
       ]
      },
      {
       "output_type": "stream",
       "stream": "stdout",
       "text": [
        "\n",
        "KOWLOON TONG CHURCH OF THE CHINESE CHRISTIAN AND MISSIONARY ALLIANCE\n",
        "8022 done."
       ]
      },
      {
       "output_type": "stream",
       "stream": "stdout",
       "text": [
        "\n",
        "KOWLOON TONG SCHOOL\n",
        "8024 done."
       ]
      },
      {
       "output_type": "stream",
       "stream": "stdout",
       "text": [
        "\n",
        "KOWLOON TRUE LIGHT MIDDLE SCHOOL\n",
        "8025 done."
       ]
      },
      {
       "output_type": "stream",
       "stream": "stdout",
       "text": [
        "\n",
        "KOWLOON UNION CHURCH\n",
        "8027 done."
       ]
      },
      {
       "output_type": "stream",
       "stream": "stdout",
       "text": [
        "\n",
        "Kowloon West PHAB Centre\n",
        "8029 done."
       ]
      },
      {
       "output_type": "stream",
       "stream": "stdout",
       "text": [
        "\n",
        "Kowloon Women Welfare Club Wang Cheung Kin Memorial Hostel for The Elderly\n",
        "8030 done."
       ]
      },
      {
       "output_type": "stream",
       "stream": "stdout",
       "text": [
        "\n",
        "Kowloon Womens Organisations Federation Wai Yin Association Integrated Women Services Centre and Mutual Help Child Care Centre\n",
        "8032 done."
       ]
      },
      {
       "output_type": "stream",
       "stream": "stdout",
       "text": [
        "\n",
        "Kowloon Womens Welfare Club Li Ping Memorial School\n",
        "8033 done."
       ]
      },
      {
       "output_type": "stream",
       "stream": "stdout",
       "text": [
        "\n",
        "Kowloon Womens Welfare Club Nursery\n",
        "8034 done."
       ]
      },
      {
       "output_type": "stream",
       "stream": "stdout",
       "text": [
        "\n",
        "Kowloon Womens Welfare Club Nursery School\n",
        "8035 done."
       ]
      },
      {
       "output_type": "stream",
       "stream": "stdout",
       "text": [
        "\n",
        "KTC of CCMA Lung Sum Project\n",
        "8040 done."
       ]
      },
      {
       "output_type": "stream",
       "stream": "stdout",
       "text": [
        "\n",
        "KTSAA FOUNDATION\n",
        "8041 done."
       ]
      },
      {
       "output_type": "stream",
       "stream": "stdout",
       "text": [
        "\n",
        "KU TUNG PUBLIC OI WAH SCHOOL\n",
        "8044 done."
       ]
      },
      {
       "output_type": "stream",
       "stream": "stdout",
       "text": [
        "\n",
        "Kung Kao Po\n",
        "8047 done."
       ]
      },
      {
       "output_type": "stream",
       "stream": "stdout",
       "text": [
        "\n",
        "Kung Lee Church Building\n",
        "8048 done."
       ]
      },
      {
       "output_type": "stream",
       "stream": "stdout",
       "text": [
        "\n",
        "KWAI CHUNG AND TSING YI DISTRICT CULTURE AND ARTS CO-ORDINATING ASSOCIATION\n",
        "8049 done."
       ]
      },
      {
       "output_type": "stream",
       "stream": "stdout",
       "text": [
        "\n",
        "Kwai Chung Baptist Church Kindergarten\n",
        "8051 done."
       ]
      },
      {
       "output_type": "stream",
       "stream": "stdout",
       "text": [
        "\n",
        "Kwai Chung Christian Truth Church\n",
        "8052 done."
       ]
      },
      {
       "output_type": "stream",
       "stream": "stdout",
       "text": [
        "\n",
        "Kwai Chung Chuen Yuen Church\n",
        "8053 done."
       ]
      },
      {
       "output_type": "stream",
       "stream": "stdout",
       "text": [
        "\n",
        "Kwai Chung Free Methodist Church\n",
        "8056 done."
       ]
      },
      {
       "output_type": "stream",
       "stream": "stdout",
       "text": [
        "\n",
        "Kwai Chung Hospital\n",
        "8057 done."
       ]
      },
      {
       "output_type": "stream",
       "stream": "stdout",
       "text": [
        "\n",
        "Kwai Chung Methodist College\n",
        "8058 done."
       ]
      },
      {
       "output_type": "stream",
       "stream": "stdout",
       "text": [
        "\n",
        "KWAI CHUNG PEACE EVANGELICAL CENTRE\n",
        "8060 done."
       ]
      },
      {
       "output_type": "stream",
       "stream": "stdout",
       "text": [
        "\n",
        "KWAI FONG CHRISTIAN ASSEMBLY HALL\n",
        "8063 done."
       ]
      },
      {
       "output_type": "stream",
       "stream": "stdout",
       "text": [
        "\n",
        "Kwai Fong Hostel\n",
        "8064 done."
       ]
      },
      {
       "output_type": "stream",
       "stream": "stdout",
       "text": [
        "\n",
        "Kwai Fong Social Centre for the Elderly\n",
        "8065 done."
       ]
      },
      {
       "output_type": "stream",
       "stream": "stdout",
       "text": [
        "\n",
        "Kwai Shing East Rhenish Care & Attention Home\n",
        "8067 done."
       ]
      },
      {
       "output_type": "stream",
       "stream": "stdout",
       "text": [
        "\n",
        "Kwai Shing Rhenish Church Kindergarten\n",
        "8068 done."
       ]
      },
      {
       "output_type": "stream",
       "stream": "stdout",
       "text": [
        "\n",
        "Kwai Shing Sheltered Workshop\n",
        "8069 done."
       ]
      },
      {
       "output_type": "stream",
       "stream": "stdout",
       "text": [
        "\n",
        "Kwai Tsing Cleansing Services\n",
        "8070 done."
       ]
      },
      {
       "output_type": "stream",
       "stream": "stdout",
       "text": [
        "\n",
        "Kwai Tsing Hostel for The Elderly\n",
        "8074 done."
       ]
      },
      {
       "output_type": "stream",
       "stream": "stdout",
       "text": [
        "\n",
        "KWAI TSING SAFE COMMUNITY AND HEALTHY CITY ASSOCIATION\n",
        "8075 done."
       ]
      },
      {
       "output_type": "stream",
       "stream": "stdout",
       "text": [
        "\n",
        "KWAI TSING SAFE COMMUNITY AND HEALTHY CITY ASSOCIATION\n",
        "8076 done."
       ]
      },
      {
       "output_type": "stream",
       "stream": "stdout",
       "text": [
        "\n",
        "Kwai-Ming Wu Memorial School of The Precious Blood\n",
        "8077 done."
       ]
      },
      {
       "output_type": "stream",
       "stream": "stdout",
       "text": [
        "\n",
        "Kwan Kai Ming Memorial Chung Hok S/E\n",
        "8080 done."
       ]
      },
      {
       "output_type": "stream",
       "stream": "stdout",
       "text": [
        "\n",
        "KWANG HUA EDUCATIONAL FOUNDATION\n",
        "8083 done."
       ]
      },
      {
       "output_type": "stream",
       "stream": "stdout",
       "text": [
        "\n",
        "Kwok Man Vernacular Normal Anglo-Chinese Kindergarten\n",
        "8089 done."
       ]
      },
      {
       "output_type": "stream",
       "stream": "stdout",
       "text": [
        "\n",
        "Kwok Man Vernacular Normal Anglo-Chinese Nursery\n",
        "8090 done."
       ]
      },
      {
       "output_type": "stream",
       "stream": "stdout",
       "text": [
        "\n",
        "Kwok Tak Seng Catholic Secondary School\n",
        "8092 done."
       ]
      },
      {
       "output_type": "stream",
       "stream": "stdout",
       "text": [
        "\n",
        "Kwong Fuk Alliance Church\n",
        "8093 done."
       ]
      },
      {
       "output_type": "stream",
       "stream": "stdout",
       "text": [
        "\n",
        "Kwong Fuk House\n",
        "8094 done."
       ]
      },
      {
       "output_type": "stream",
       "stream": "stdout",
       "text": [
        "\n",
        "KWONG LAM BAPTIST CHURCH\n",
        "8096 done."
       ]
      },
      {
       "output_type": "stream",
       "stream": "stdout",
       "text": [
        "\n",
        "Kwong Lam Baptist Lui Kwok Pat Fong Kindergarten\n",
        "8097 done."
       ]
      },
      {
       "output_type": "stream",
       "stream": "stdout",
       "text": [
        "\n",
        "Kwong Lam Baptist Lui Kwok Pat Fong Nursery\n",
        "8098 done."
       ]
      },
      {
       "output_type": "stream",
       "stream": "stdout",
       "text": [
        "\n",
        "KWONG MING SCHOOL\n",
        "8099 done."
       ]
      },
      {
       "output_type": "stream",
       "stream": "stdout",
       "text": [
        "\n",
        "Kwong Wah Hospital\n",
        "8103 done."
       ]
      },
      {
       "output_type": "stream",
       "stream": "stdout",
       "text": [
        "\n",
        "Kwong Wah Hospital - The Chinese University of Chinese Medicine Clinical Research and Services Centre\n",
        "8104 done."
       ]
      },
      {
       "output_type": "stream",
       "stream": "stdout",
       "text": [
        "\n",
        "Kwong Wah Hospital Chinese Medicine General Outpatient Clinic\n",
        "8105 done."
       ]
      },
      {
       "output_type": "stream",
       "stream": "stdout",
       "text": [
        "\n",
        "Kwong Wah Hospital Red Cross School\n",
        "8106 done."
       ]
      },
      {
       "output_type": "stream",
       "stream": "stdout",
       "text": [
        "\n",
        "Kwong Wah Hospital Well Women Clinic\n",
        "8107 done."
       ]
      },
      {
       "output_type": "stream",
       "stream": "stdout",
       "text": [
        "\n",
        "Kwong Yuen Methodist Church\n",
        "8110 done."
       ]
      },
      {
       "output_type": "stream",
       "stream": "stdout",
       "text": [
        "\n",
        "Kwun Lung Lau Community Work Office\n",
        "8111 done."
       ]
      },
      {
       "output_type": "stream",
       "stream": "stdout",
       "text": [
        "\n",
        "Kwun Tong Amity Centre\n",
        "8112 done."
       ]
      },
      {
       "output_type": "stream",
       "stream": "stdout",
       "text": [
        "\n",
        "KWUN TONG BAPTIST CHURCH\n",
        "8114 done."
       ]
      },
      {
       "output_type": "stream",
       "stream": "stdout",
       "text": [
        "\n",
        "Kwun Tong Baptist Church Choi Ming Kindergarten\n",
        "8115 done."
       ]
      },
      {
       "output_type": "stream",
       "stream": "stdout",
       "text": [
        "\n",
        "Kwun Tong Baptist Church Kindergarten\n",
        "8116 done."
       ]
      },
      {
       "output_type": "stream",
       "stream": "stdout",
       "text": [
        "\n",
        "Kwun Tong Church of the C & MA\n",
        "8117 done."
       ]
      },
      {
       "output_type": "stream",
       "stream": "stdout",
       "text": [
        "\n",
        "Kwun Tong Church of the C & MA\n",
        "8118 done."
       ]
      },
      {
       "output_type": "stream",
       "stream": "stdout",
       "text": [
        "\n",
        "Kwun Tong Day Care Centre for The Elderly\n",
        "8119 done."
       ]
      },
      {
       "output_type": "stream",
       "stream": "stdout",
       "text": [
        "\n",
        "KWUN TONG DISTRICT CULTURE & RECREATION PROMOTION ASSOCIATION\n",
        "8120 done."
       ]
      },
      {
       "output_type": "stream",
       "stream": "stdout",
       "text": [
        "\n",
        "Kwun Tong Enhanced Home and Community Care Services\n",
        "8121 done."
       ]
      },
      {
       "output_type": "stream",
       "stream": "stdout",
       "text": [
        "\n",
        "Kwun Tong Integrated Home Care Services\n",
        "8122 done."
       ]
      },
      {
       "output_type": "stream",
       "stream": "stdout",
       "text": [
        "\n",
        "Kwun Tong Kwong Yum Home for The Aged\n",
        "8124 done."
       ]
      },
      {
       "output_type": "stream",
       "stream": "stdout",
       "text": [
        "\n",
        "Kwun Tong Lutheran College\n",
        "8125 done."
       ]
      },
      {
       "output_type": "stream",
       "stream": "stdout",
       "text": [
        "\n",
        "Kwun Tong Lutheran Evening College\n",
        "8126 done."
       ]
      },
      {
       "output_type": "stream",
       "stream": "stdout",
       "text": [
        "\n",
        "Kwun Tong Lutheran Evening School\n",
        "8127 done."
       ]
      },
      {
       "output_type": "stream",
       "stream": "stdout",
       "text": [
        "\n",
        "Kwun Tong Maryknoll College\n",
        "8129 done."
       ]
      },
      {
       "output_type": "stream",
       "stream": "stdout",
       "text": [
        "\n",
        "Kwun Tong Methodist Church\n",
        "8130 done."
       ]
      },
      {
       "output_type": "stream",
       "stream": "stdout",
       "text": [
        "\n",
        "Kwun Tong Methodist Kindergarten\n",
        "8131 done."
       ]
      },
      {
       "output_type": "stream",
       "stream": "stdout",
       "text": [
        "\n",
        "KWUN TONG PEACE EVANGELICAL CENTRE\n",
        "8132 done."
       ]
      },
      {
       "output_type": "stream",
       "stream": "stdout",
       "text": [
        "\n",
        "KWUN TONG RESIDENT ASSOCIATION\n",
        "8133 done."
       ]
      },
      {
       "output_type": "stream",
       "stream": "stdout",
       "text": [
        "\n",
        "KWUN TONG SCHOOLS LIAISON COMMITTEE\n",
        "8134 done."
       ]
      },
      {
       "output_type": "stream",
       "stream": "stdout",
       "text": [
        "\n",
        "Kwun Tong Sheltered Workshop\n",
        "8135 done."
       ]
      },
      {
       "output_type": "stream",
       "stream": "stdout",
       "text": [
        "\n",
        "KWUN TONG SPORTS PROMOTION ASSOCIATION\n",
        "8136 done."
       ]
      },
      {
       "output_type": "stream",
       "stream": "stdout",
       "text": [
        "\n",
        "Kwun Tong St. Agnes English Kindergarten\n",
        "8137 done."
       ]
      },
      {
       "output_type": "stream",
       "stream": "stdout",
       "text": [
        "\n",
        "KWUN TONG SWATOW BAPTIST CHURCH\n",
        "8138 done."
       ]
      },
      {
       "output_type": "stream",
       "stream": "stdout",
       "text": [
        "\n",
        "Kwun Tong Urban Renewal Social Service Team\n",
        "8140 done."
       ]
      },
      {
       "output_type": "stream",
       "stream": "stdout",
       "text": [
        "\n",
        "Kwun Yum Temple\n",
        "8142 done."
       ]
      },
      {
       "output_type": "stream",
       "stream": "stdout",
       "text": [
        "\n",
        "L.B. Wood Memorial Fund\n",
        "8147 done."
       ]
      },
      {
       "output_type": "stream",
       "stream": "stdout",
       "text": [
        "\n",
        "L.K.E.C. Chan Wong Sau Wah Memorial Renal Dialysis Centre\n",
        "8148 done."
       ]
      },
      {
       "output_type": "stream",
       "stream": "stdout",
       "text": [
        "\n",
        "La Salle College\n",
        "8151 done."
       ]
      },
      {
       "output_type": "stream",
       "stream": "stdout",
       "text": [
        "\n",
        "La Salle Primary School\n",
        "8153 done."
       ]
      },
      {
       "output_type": "stream",
       "stream": "stdout",
       "text": [
        "\n",
        "LA SALLE PRIMARY SCHOOL PARENT-TEACHER ASSOCIATION\n",
        "8154 done."
       ]
      },
      {
       "output_type": "stream",
       "stream": "stdout",
       "text": [
        "\n",
        "La Salle Primary School Redevelopment Committee\n",
        "8155 done."
       ]
      },
      {
       "output_type": "stream",
       "stream": "stdout",
       "text": [
        "\n",
        "LADDER MISSION\n",
        "8158 done."
       ]
      },
      {
       "output_type": "stream",
       "stream": "stdout",
       "text": [
        "\n",
        "Lady Trench Endowment Fund\n",
        "8161 done."
       ]
      },
      {
       "output_type": "stream",
       "stream": "stdout",
       "text": [
        "\n",
        "LAI BING CHIU ART FOUNDATION\n",
        "8162 done."
       ]
      },
      {
       "output_type": "stream",
       "stream": "stdout",
       "text": [
        "\n",
        "LAI CHACK MIDDLE SCHOOL\n",
        "8163 done."
       ]
      },
      {
       "output_type": "stream",
       "stream": "stdout",
       "text": [
        "\n",
        "LAI CHACK MIDDLE SCHOOL\n",
        "8164 done."
       ]
      },
      {
       "output_type": "stream",
       "stream": "stdout",
       "text": [
        "\n",
        "Lai King Baptist Church\n",
        "8167 done."
       ]
      },
      {
       "output_type": "stream",
       "stream": "stdout",
       "text": [
        "\n",
        "Lai King Bradbury Elderly Centre\n",
        "8168 done."
       ]
      },
      {
       "output_type": "stream",
       "stream": "stdout",
       "text": [
        "\n",
        "Lai King Catholic Secondary School\n",
        "8169 done."
       ]
      },
      {
       "output_type": "stream",
       "stream": "stdout",
       "text": [
        "\n",
        "Lai King Intranet for Elderly\n",
        "8173 done."
       ]
      },
      {
       "output_type": "stream",
       "stream": "stdout",
       "text": [
        "\n",
        "Lai King Rhenish Nursery\n",
        "8174 done."
       ]
      },
      {
       "output_type": "stream",
       "stream": "stdout",
       "text": [
        "\n",
        "LAI SHING BAPTIST CHURCH\n",
        "8176 done."
       ]
      },
      {
       "output_type": "stream",
       "stream": "stdout",
       "text": [
        "\n",
        "LAI TAK EVANGELICAL CHURCH\n",
        "8178 done."
       ]
      },
      {
       "output_type": "stream",
       "stream": "stdout",
       "text": [
        "\n",
        "LAI TO ASSOCIATION\n",
        "8179 done."
       ]
      },
      {
       "output_type": "stream",
       "stream": "stdout",
       "text": [
        "\n",
        "Lai Wan Family and Community Service Centre\n",
        "8181 done."
       ]
      },
      {
       "output_type": "stream",
       "stream": "stdout",
       "text": [
        "\n",
        "Lai Yiu Alliance Church\n",
        "8183 done."
       ]
      },
      {
       "output_type": "stream",
       "stream": "stdout",
       "text": [
        "\n",
        "Lai Yiu Methodist Church\n",
        "8184 done."
       ]
      },
      {
       "output_type": "stream",
       "stream": "stdout",
       "text": [
        "\n",
        "Lai Yiu Neighborhood Elderly Centre\n",
        "8185 done."
       ]
      },
      {
       "output_type": "stream",
       "stream": "stdout",
       "text": [
        "\n",
        "Lai Yiu Neighbourhood Elderly Centre\n",
        "8186 done."
       ]
      },
      {
       "output_type": "stream",
       "stream": "stdout",
       "text": [
        "\n",
        "Lai Yiu Social Service Centre\n",
        "8187 done."
       ]
      },
      {
       "output_type": "stream",
       "stream": "stdout",
       "text": [
        "\n",
        "Laichikok Catholic Primary School\n",
        "8188 done."
       ]
      },
      {
       "output_type": "stream",
       "stream": "stdout",
       "text": [
        "\n",
        "LAM KAR SING FOUNDATION\n",
        "8190 done."
       ]
      },
      {
       "output_type": "stream",
       "stream": "stdout",
       "text": [
        "\n",
        "Lam Tin Clinic\n",
        "8197 done."
       ]
      },
      {
       "output_type": "stream",
       "stream": "stdout",
       "text": [
        "\n",
        "LAM TIN ESTATE KAI FONG WELFARE ASSOCIATION\n",
        "8198 done."
       ]
      },
      {
       "output_type": "stream",
       "stream": "stdout",
       "text": [
        "\n",
        "Lam Tin Estate Kai Fong Welfare Association Kwong Tin Estate After School Care Centre And Mutual Help Child Care Centre\n",
        "8199 done."
       ]
      },
      {
       "output_type": "stream",
       "stream": "stdout",
       "text": [
        "\n",
        "Lam Tin Integrated Home Care Services\n",
        "8200 done."
       ]
      },
      {
       "output_type": "stream",
       "stream": "stdout",
       "text": [
        "\n",
        "Lam Tin Ling Liang Church\n",
        "8202 done."
       ]
      },
      {
       "output_type": "stream",
       "stream": "stdout",
       "text": [
        "\n",
        "Lam Tin Ling Liang Kindergarten\n",
        "8203 done."
       ]
      },
      {
       "output_type": "stream",
       "stream": "stdout",
       "text": [
        "\n",
        "Lam Tin Ling Liang Nursery\n",
        "8204 done."
       ]
      },
      {
       "output_type": "stream",
       "stream": "stdout",
       "text": [
        "\n",
        "Lam Tin Methodist Centre\n",
        "8205 done."
       ]
      },
      {
       "output_type": "stream",
       "stream": "stdout",
       "text": [
        "\n",
        "Lam Tin Methodist Church\n",
        "8206 done."
       ]
      },
      {
       "output_type": "stream",
       "stream": "stdout",
       "text": [
        "\n",
        "Lam Tin Methodist Kindergarten\n",
        "8207 done."
       ]
      },
      {
       "output_type": "stream",
       "stream": "stdout",
       "text": [
        "\n",
        "Lam Tin Methodist Primary School\n",
        "8208 done."
       ]
      },
      {
       "output_type": "stream",
       "stream": "stdout",
       "text": [
        "\n",
        "Lam Tsuen Public Wong Fook Luen Memorial School\n",
        "8209 done."
       ]
      },
      {
       "output_type": "stream",
       "stream": "stdout",
       "text": [
        "\n",
        "Lam Woo Memorial Day Care Centre for the Elderly\n",
        "8211 done."
       ]
      },
      {
       "output_type": "stream",
       "stream": "stdout",
       "text": [
        "\n",
        "LAMMA ANIMAL WELFARE CENTRE\n",
        "8212 done."
       ]
      },
      {
       "output_type": "stream",
       "stream": "stdout",
       "text": [
        "\n",
        "Lamma Island Centre\n",
        "8213 done."
       ]
      },
      {
       "output_type": "stream",
       "stream": "stdout",
       "text": [
        "\n",
        "Lamma Youth Camp\n",
        "8214 done."
       ]
      },
      {
       "output_type": "stream",
       "stream": "stdout",
       "text": [
        "\n",
        "LAP SING EDUCATIONAL CHARITY FUNDING\n",
        "8218 done."
       ]
      },
      {
       "output_type": "stream",
       "stream": "stdout",
       "text": [
        "\n",
        "Lau Chi Yuen Youth Centre\n",
        "8221 done."
       ]
      },
      {
       "output_type": "stream",
       "stream": "stdout",
       "text": [
        "\n",
        "Lau Fou Branch Kok\n",
        "8223 done."
       ]
      },
      {
       "output_type": "stream",
       "stream": "stdout",
       "text": [
        "\n",
        "Lau Po Fund\n",
        "8224 done."
       ]
      },
      {
       "output_type": "stream",
       "stream": "stdout",
       "text": [
        "\n",
        "Law Chan Chor Si Primary School\n",
        "8225 done."
       ]
      },
      {
       "output_type": "stream",
       "stream": "stdout",
       "text": [
        "\n",
        "Law Kwan Memorial Bursary\n",
        "8226 done."
       ]
      },
      {
       "output_type": "stream",
       "stream": "stdout",
       "text": [
        "\n",
        "Law Ting Pong Secondary School\n",
        "8227 done."
       ]
      },
      {
       "output_type": "stream",
       "stream": "stdout",
       "text": [
        "\n",
        "LAWS CHARITABLE FOUNDATION\n",
        "8228 done."
       ]
      },
      {
       "output_type": "stream",
       "stream": "stdout",
       "text": [
        "\n",
        "LCDA International\n",
        "8234 done."
       ]
      },
      {
       "output_type": "stream",
       "stream": "stdout",
       "text": [
        "\n",
        "LCMS China Ministry Team\n",
        "8236 done."
       ]
      },
      {
       "output_type": "stream",
       "stream": "stdout",
       "text": [
        "\n",
        "Le Chateau Des Arts\n",
        "8238 done."
       ]
      },
      {
       "output_type": "stream",
       "stream": "stdout",
       "text": [
        "\n",
        "Leaders Enrichment\n",
        "8241 done."
       ]
      },
      {
       "output_type": "stream",
       "stream": "stdout",
       "text": [
        "\n",
        "Leadership 21\n",
        "8242 done."
       ]
      },
      {
       "output_type": "stream",
       "stream": "stdout",
       "text": [
        "\n",
        "LEAPFROG KINDERGARTEN\n",
        "8245 done."
       ]
      },
      {
       "output_type": "stream",
       "stream": "stdout",
       "text": [
        "\n",
        "Lee Andrew Memorial Anglo-Chinese Kindergarten\n",
        "8251 done."
       ]
      },
      {
       "output_type": "stream",
       "stream": "stdout",
       "text": [
        "\n",
        "Lee Kau Yan Memorial School\n",
        "8257 done."
       ]
      },
      {
       "output_type": "stream",
       "stream": "stdout",
       "text": [
        "\n",
        "Lee Kau Yan Memorial School Extension Fund\n",
        "8258 done."
       ]
      },
      {
       "output_type": "stream",
       "stream": "stdout",
       "text": [
        "\n",
        "LEGEND INFINITY\n",
        "8273 done."
       ]
      },
      {
       "output_type": "stream",
       "stream": "stdout",
       "text": [
        "\n",
        "Lei Cheng Uk Estate Dental Clinic\n",
        "8277 done."
       ]
      },
      {
       "output_type": "stream",
       "stream": "stdout",
       "text": [
        "\n",
        "Lei Cheng Uk House\n",
        "8278 done."
       ]
      },
      {
       "output_type": "stream",
       "stream": "stdout",
       "text": [
        "\n",
        "Lei Cheng Uk Sheltered Workshop\n",
        "8279 done."
       ]
      },
      {
       "output_type": "stream",
       "stream": "stdout",
       "text": [
        "\n",
        "Lei Muk Shue Baptist Church Study Centre\n",
        "8280 done."
       ]
      },
      {
       "output_type": "stream",
       "stream": "stdout",
       "text": [
        "\n",
        "Lei Muk Shue Catholic Primary School\n",
        "8281 done."
       ]
      },
      {
       "output_type": "stream",
       "stream": "stdout",
       "text": [
        "\n",
        "Lei Tung Alliance Church\n",
        "8282 done."
       ]
      },
      {
       "output_type": "stream",
       "stream": "stdout",
       "text": [
        "\n",
        "Lei Tung Halfway House\n",
        "8283 done."
       ]
      },
      {
       "output_type": "stream",
       "stream": "stdout",
       "text": [
        "\n",
        "Lei Tung Lutheran Day Activity Centre\n",
        "8284 done."
       ]
      },
      {
       "output_type": "stream",
       "stream": "stdout",
       "text": [
        "\n",
        "Lei Tung Lutheran Day Nursery\n",
        "8285 done."
       ]
      },
      {
       "output_type": "stream",
       "stream": "stdout",
       "text": [
        "\n",
        "Lei Tung Lutheran Hostel\n",
        "8286 done."
       ]
      },
      {
       "output_type": "stream",
       "stream": "stdout",
       "text": [
        "\n",
        "Lei Yue Mun Methodist Church\n",
        "8287 done."
       ]
      },
      {
       "output_type": "stream",
       "stream": "stdout",
       "text": [
        "\n",
        "Lei Yue Mun Methodist Kindergarten\n",
        "8288 done."
       ]
      },
      {
       "output_type": "stream",
       "stream": "stdout",
       "text": [
        "\n",
        "LEISURE JOYOUS MUSIC\n",
        "8289 done."
       ]
      },
      {
       "output_type": "stream",
       "stream": "stdout",
       "text": [
        "\n",
        "Lek Yuen Estate Social Centre for The Elderly\n",
        "8290 done."
       ]
      },
      {
       "output_type": "stream",
       "stream": "stdout",
       "text": [
        "\n",
        "Leung King Lutheran Day Nursery\n",
        "8299 done."
       ]
      },
      {
       "output_type": "stream",
       "stream": "stdout",
       "text": [
        "\n",
        "Leung Kit Wah Multi-Services Centre\n",
        "8300 done."
       ]
      },
      {
       "output_type": "stream",
       "stream": "stdout",
       "text": [
        "\n",
        "Leung Kui Kau Lutheran Primary School\n",
        "8301 done."
       ]
      },
      {
       "output_type": "stream",
       "stream": "stdout",
       "text": [
        "\n",
        "Leung Lee Sau Yu Recreation Centre for The Elderly\n",
        "8302 done."
       ]
      },
      {
       "output_type": "stream",
       "stream": "stdout",
       "text": [
        "\n",
        "Leung Shek Chee College\n",
        "8304 done."
       ]
      },
      {
       "output_type": "stream",
       "stream": "stdout",
       "text": [
        "\n",
        "Leung Sing Tak Primary School\n",
        "8305 done."
       ]
      },
      {
       "output_type": "stream",
       "stream": "stdout",
       "text": [
        "\n",
        "Leung Tin Free Methodist Church\n",
        "8306 done."
       ]
      },
      {
       "output_type": "stream",
       "stream": "stdout",
       "text": [
        "\n",
        "Li Chit Street Hostel\n",
        "8308 done."
       ]
      },
      {
       "output_type": "stream",
       "stream": "stdout",
       "text": [
        "\n",
        "LI KA SHING FOUNDATION\n",
        "8309 done."
       ]
      },
      {
       "output_type": "stream",
       "stream": "stdout",
       "text": [
        "\n",
        "LI PO CHUN UNITED WORLD COLLEGE\n",
        "8312 done."
       ]
      },
      {
       "output_type": "stream",
       "stream": "stdout",
       "text": [
        "\n",
        "Li Shing Tai Hang School\n",
        "8313 done."
       ]
      },
      {
       "output_type": "stream",
       "stream": "stdout",
       "text": [
        "\n",
        "Liberty Baptist Church\n",
        "8318 done."
       ]
      },
      {
       "output_type": "stream",
       "stream": "stdout",
       "text": [
        "\n",
        "LICK HANG KINDERGARTEN\n",
        "8321 done."
       ]
      },
      {
       "output_type": "stream",
       "stream": "stdout",
       "text": [
        "\n",
        "LIFE CONNECTION\n",
        "8327 done."
       ]
      },
      {
       "output_type": "stream",
       "stream": "stdout",
       "text": [
        "\n",
        "LIFE CURRENTS\n",
        "8328 done."
       ]
      },
      {
       "output_type": "stream",
       "stream": "stdout",
       "text": [
        "\n",
        "Life Education Project\n",
        "8331 done."
       ]
      },
      {
       "output_type": "stream",
       "stream": "stdout",
       "text": [
        "\n",
        "Life Game\n",
        "8335 done."
       ]
      },
      {
       "output_type": "stream",
       "stream": "stdout",
       "text": [
        "\n",
        "LIFE GIVING FOUNTAIN EDUCATION CENTRE\n",
        "8336 done."
       ]
      },
      {
       "output_type": "stream",
       "stream": "stdout",
       "text": [
        "\n",
        "LIFE GOSPEL MINISTRY\n",
        "8337 done."
       ]
      },
      {
       "output_type": "stream",
       "stream": "stdout",
       "text": [
        "\n",
        "LIFE JUNGLE ASSOCIATION\n",
        "8338 done."
       ]
      },
      {
       "output_type": "stream",
       "stream": "stdout",
       "text": [
        "\n",
        "LIFE LEADING ASSOCIATION\n",
        "8339 done."
       ]
      },
      {
       "output_type": "stream",
       "stream": "stdout",
       "text": [
        "\n",
        "Life Lutheran Church\n",
        "8341 done."
       ]
      },
      {
       "output_type": "stream",
       "stream": "stdout",
       "text": [
        "\n",
        "Life Lutheran Church\n",
        "8342 done."
       ]
      },
      {
       "output_type": "stream",
       "stream": "stdout",
       "text": [
        "\n",
        "LIFE TRANSFORMING GOSPEL CHURCH\n",
        "8350 done."
       ]
      },
      {
       "output_type": "stream",
       "stream": "stdout",
       "text": [
        "\n",
        "LIFE WORKSHOP\n",
        "8352 done."
       ]
      },
      {
       "output_type": "stream",
       "stream": "stdout",
       "text": [
        "\n",
        "LIFELINE EXPRESS FOUNDATION\n",
        "8355 done."
       ]
      },
      {
       "output_type": "stream",
       "stream": "stdout",
       "text": [
        "\n",
        "LIFENET FOUNDATION\n",
        "8357 done."
       ]
      },
      {
       "output_type": "stream",
       "stream": "stdout",
       "text": [
        "\n",
        "Light and Love Community Medical Centre\n",
        "8361 done."
       ]
      },
      {
       "output_type": "stream",
       "stream": "stdout",
       "text": [
        "\n",
        "Light and Love Elderly Hostel\n",
        "8362 done."
       ]
      },
      {
       "output_type": "stream",
       "stream": "stdout",
       "text": [
        "\n",
        "LIGHT AND LOVE HOME\n",
        "8363 done."
       ]
      },
      {
       "output_type": "stream",
       "stream": "stdout",
       "text": [
        "\n",
        "Light of Hope - Regina Wang Memorial Fund\n",
        "8365 done."
       ]
      },
      {
       "output_type": "stream",
       "stream": "stdout",
       "text": [
        "\n",
        "Lighthouse Baptist Church\n",
        "8370 done."
       ]
      },
      {
       "output_type": "stream",
       "stream": "stdout",
       "text": [
        "\n",
        "LIGHT-OF-LOVE\n",
        "8374 done."
       ]
      },
      {
       "output_type": "stream",
       "stream": "stdout",
       "text": [
        "\n",
        "Lily House Cafe\n",
        "8376 done."
       ]
      },
      {
       "output_type": "stream",
       "stream": "stdout",
       "text": [
        "\n",
        "Lily Valley Cafe\n",
        "8378 done."
       ]
      },
      {
       "output_type": "stream",
       "stream": "stdout",
       "text": [
        "\n",
        "LIM HOON FOUNDATION\n",
        "8379 done."
       ]
      },
      {
       "output_type": "stream",
       "stream": "stdout",
       "text": [
        "\n",
        "Lincoln Institute\n",
        "8383 done."
       ]
      },
      {
       "output_type": "stream",
       "stream": "stdout",
       "text": [
        "\n",
        "LING CHUAN CHARITABLE FOUNDATION\n",
        "8388 done."
       ]
      },
      {
       "output_type": "stream",
       "stream": "stdout",
       "text": [
        "\n",
        "Ling Fook Education Centre\n",
        "8389 done."
       ]
      },
      {
       "output_type": "stream",
       "stream": "stdout",
       "text": [
        "\n",
        "Ling Hong Lutheran Church\n",
        "8390 done."
       ]
      },
      {
       "output_type": "stream",
       "stream": "stdout",
       "text": [
        "\n",
        "LING JIOU MOUNTAIN BUDDHIST SOCIETY\n",
        "8391 done."
       ]
      },
      {
       "output_type": "stream",
       "stream": "stdout",
       "text": [
        "\n",
        "LING KWONG PENTECOSTAL HOLINESS CHURCH\n",
        "8392 done."
       ]
      },
      {
       "output_type": "stream",
       "stream": "stdout",
       "text": [
        "\n",
        "Ling Liang Centre of Education\n",
        "8393 done."
       ]
      },
      {
       "output_type": "stream",
       "stream": "stdout",
       "text": [
        "\n",
        "LING LIANG CHURCH E WUN SECONDARY SCHOOL PARENT-TEACHER ASSOCIATION\n",
        "8394 done."
       ]
      },
      {
       "output_type": "stream",
       "stream": "stdout",
       "text": [
        "\n",
        "LING LIANG CHURCH OF DIVINE GRACE IN TSEUNG KWAN O\n",
        "8396 done."
       ]
      },
      {
       "output_type": "stream",
       "stream": "stdout",
       "text": [
        "\n",
        "Ling Liang Education Services Centre\n",
        "8398 done."
       ]
      },
      {
       "output_type": "stream",
       "stream": "stdout",
       "text": [
        "\n",
        "LING LIANG KINDERGARTEN ALUMNI ORCHESTRA\n",
        "8399 done."
       ]
      },
      {
       "output_type": "stream",
       "stream": "stdout",
       "text": [
        "\n",
        "Ling Liang Soul Space\n",
        "8401 done."
       ]
      },
      {
       "output_type": "stream",
       "stream": "stdout",
       "text": [
        "\n",
        "Ling To Catholic Primary School\n",
        "8403 done."
       ]
      },
      {
       "output_type": "stream",
       "stream": "stdout",
       "text": [
        "\n",
        "Ling Yan Nursery\n",
        "8407 done."
       ]
      },
      {
       "output_type": "stream",
       "stream": "stdout",
       "text": [
        "\n",
        "Ling Yan School\n",
        "8408 done."
       ]
      },
      {
       "output_type": "stream",
       "stream": "stdout",
       "text": [
        "\n",
        "Ling Ying Church of United Brethren in Christ\n",
        "8410 done."
       ]
      },
      {
       "output_type": "stream",
       "stream": "stdout",
       "text": [
        "\n",
        "Lingnan Day Nursery\n",
        "8412 done."
       ]
      },
      {
       "output_type": "stream",
       "stream": "stdout",
       "text": [
        "\n",
        "Lingnan Day Nursery\n",
        "8413 done."
       ]
      },
      {
       "output_type": "stream",
       "stream": "stdout",
       "text": [
        "\n",
        "Lingnan Dr. Chung Wing Kwong Memorial Secondary School\n",
        "8414 done."
       ]
      },
      {
       "output_type": "stream",
       "stream": "stdout",
       "text": [
        "\n",
        "LINGNAN EDUCATION ORGANIZATION\n",
        "8415 done."
       ]
      },
      {
       "output_type": "stream",
       "stream": "stdout",
       "text": [
        "\n",
        "Lingnan Hang Yee Memorial Secondary School\n",
        "8416 done."
       ]
      },
      {
       "output_type": "stream",
       "stream": "stdout",
       "text": [
        "\n",
        "Lingnan Kindergarten\n",
        "8417 done."
       ]
      },
      {
       "output_type": "stream",
       "stream": "stdout",
       "text": [
        "\n",
        "Lingnan Primary School\n",
        "8418 done."
       ]
      },
      {
       "output_type": "stream",
       "stream": "stdout",
       "text": [
        "\n",
        "Lingnan Primary School and Kindergarten\n",
        "8419 done."
       ]
      },
      {
       "output_type": "stream",
       "stream": "stdout",
       "text": [
        "\n",
        "Lingnan Secondary School\n",
        "8420 done."
       ]
      },
      {
       "output_type": "stream",
       "stream": "stdout",
       "text": [
        "\n",
        "LINGNAN UNIVERSITY\n",
        "8421 done."
       ]
      },
      {
       "output_type": "stream",
       "stream": "stdout",
       "text": [
        "\n",
        "LINGNAN UNIVERSITY ALUMNI D.S.S. PRIMARY SCHOOL\n",
        "8424 done."
       ]
      },
      {
       "output_type": "stream",
       "stream": "stdout",
       "text": [
        "\n",
        "LINGUISTIC SOCIETY OF\n",
        "8428 done."
       ]
      },
      {
       "output_type": "stream",
       "stream": "stdout",
       "text": [
        "\n",
        "LION ROCK INSTITUTE\n",
        "8433 done."
       ]
      },
      {
       "output_type": "stream",
       "stream": "stdout",
       "text": [
        "\n",
        "Lions - YMCA Junk Bay Youth Camp\n",
        "8435 done."
       ]
      },
      {
       "output_type": "stream",
       "stream": "stdout",
       "text": [
        "\n",
        "LIONS CLUB OF CITIZENS\n",
        "8450 done."
       ]
      },
      {
       "output_type": "stream",
       "stream": "stdout",
       "text": [
        "\n",
        "LIONS CLUB OF METROPOLITAN FOUNDATION\n",
        "8457 done."
       ]
      },
      {
       "output_type": "stream",
       "stream": "stdout",
       "text": [
        "\n",
        "LIONS CLUB OF TUEN MUN\n",
        "8463 done."
       ]
      },
      {
       "output_type": "stream",
       "stream": "stdout",
       "text": [
        "\n",
        "Lions Clubs International Ho Tak Sum\n",
        "8465 done."
       ]
      },
      {
       "output_type": "stream",
       "stream": "stdout",
       "text": [
        "\n",
        "Lions College\n",
        "8467 done."
       ]
      },
      {
       "output_type": "stream",
       "stream": "stdout",
       "text": [
        "\n",
        "LIONS EDUCATION FOUNDATION\n",
        "8468 done."
       ]
      },
      {
       "output_type": "stream",
       "stream": "stdout",
       "text": [
        "\n",
        "LISAC INTERNATIOAL\n",
        "8475 done."
       ]
      },
      {
       "output_type": "stream",
       "stream": "stdout",
       "text": [
        "\n",
        "Literature Department\n",
        "8477 done."
       ]
      },
      {
       "output_type": "stream",
       "stream": "stdout",
       "text": [
        "\n",
        "Little Flowers Catholic Primary School\n",
        "8482 done."
       ]
      },
      {
       "output_type": "stream",
       "stream": "stdout",
       "text": [
        "\n",
        "LITTLE ONES POVERTY RELIEF\n",
        "8483 done."
       ]
      },
      {
       "output_type": "stream",
       "stream": "stdout",
       "text": [
        "\n",
        "Little Sisters of The Poor St. Josephs Home for The Aged\n",
        "8484 done."
       ]
      },
      {
       "output_type": "stream",
       "stream": "stdout",
       "text": [
        "\n",
        "Little Sisters of The Poor St. Marys Home for The Aged\n",
        "8485 done."
       ]
      },
      {
       "output_type": "stream",
       "stream": "stdout",
       "text": [
        "\n",
        "LITTLE SISTERS OF THE POOR\n",
        "8486 done."
       ]
      },
      {
       "output_type": "stream",
       "stream": "stdout",
       "text": [
        "\n",
        "LIU HAN TAOIST MONASTERY\n",
        "8489 done."
       ]
      },
      {
       "output_type": "stream",
       "stream": "stdout",
       "text": [
        "\n",
        "Liu Po Shan Memorial College\n",
        "8493 done."
       ]
      },
      {
       "output_type": "stream",
       "stream": "stdout",
       "text": [
        "\n",
        "Lively Elderly Day Training Centre\n",
        "8496 done."
       ]
      },
      {
       "output_type": "stream",
       "stream": "stdout",
       "text": [
        "\n",
        "Living Ark Foundation\n",
        "8498 done."
       ]
      },
      {
       "output_type": "stream",
       "stream": "stdout",
       "text": [
        "\n",
        "LIVING FAITH SOCIETY\n",
        "8500 done."
       ]
      },
      {
       "output_type": "stream",
       "stream": "stdout",
       "text": [
        "\n",
        "Living Grace Lutheran Church\n",
        "8502 done."
       ]
      },
      {
       "output_type": "stream",
       "stream": "stdout",
       "text": [
        "\n",
        "LIVING KNOWLEDGE COMMUNITIES\n",
        "8503 done."
       ]
      },
      {
       "output_type": "stream",
       "stream": "stdout",
       "text": [
        "\n",
        "LIVING SPRING FOUNDATION\n",
        "8505 done."
       ]
      },
      {
       "output_type": "stream",
       "stream": "stdout",
       "text": [
        "\n",
        "Living Spring Foursquare Gospel Church\n",
        "8506 done."
       ]
      },
      {
       "output_type": "stream",
       "stream": "stdout",
       "text": [
        "\n",
        "LIVING STONES VILLAGE\n",
        "8508 done."
       ]
      },
      {
       "output_type": "stream",
       "stream": "stdout",
       "text": [
        "\n",
        "LIVING WATER CHURCH\n",
        "8510 done."
       ]
      },
      {
       "output_type": "stream",
       "stream": "stdout",
       "text": [
        "\n",
        "Living Water Lutheran Church\n",
        "8511 done."
       ]
      },
      {
       "output_type": "stream",
       "stream": "stdout",
       "text": [
        "\n",
        "LIVING WATER SERVICES\n",
        "8513 done."
       ]
      },
      {
       "output_type": "stream",
       "stream": "stdout",
       "text": [
        "\n",
        "LIVING WORD CENTRE\n",
        "8514 done."
       ]
      },
      {
       "output_type": "stream",
       "stream": "stdout",
       "text": [
        "\n",
        "Lo Yau Fong\n",
        "8521 done."
       ]
      },
      {
       "output_type": "stream",
       "stream": "stdout",
       "text": [
        "\n",
        "Local Spiritual Assembly of The Bahais of Central/Western\n",
        "8523 done."
       ]
      },
      {
       "output_type": "stream",
       "stream": "stdout",
       "text": [
        "\n",
        "Local Spiritual Assembly of The Bahais of Eastern\n",
        "8524 done."
       ]
      },
      {
       "output_type": "stream",
       "stream": "stdout",
       "text": [
        "\n",
        "Local Spiritual Assembly of The Bahais of Kowloon City\n",
        "8525 done."
       ]
      },
      {
       "output_type": "stream",
       "stream": "stdout",
       "text": [
        "\n",
        "Local Spiritual Assembly of The Bahais of Kwai Tsing The\n",
        "8526 done."
       ]
      },
      {
       "output_type": "stream",
       "stream": "stdout",
       "text": [
        "\n",
        "Local Spiritual Assembly of The Bahais of Kwun Tong\n",
        "8527 done."
       ]
      },
      {
       "output_type": "stream",
       "stream": "stdout",
       "text": [
        "\n",
        "Local Spiritual Assembly of The Bahais of Sai Kung\n",
        "8528 done."
       ]
      },
      {
       "output_type": "stream",
       "stream": "stdout",
       "text": [
        "\n",
        "Local Spiritual Assembly of The Bahais of Sha Tin\n",
        "8529 done."
       ]
      },
      {
       "output_type": "stream",
       "stream": "stdout",
       "text": [
        "\n",
        "Local Spiritual Assembly of The Bahais of Southern\n",
        "8530 done."
       ]
      },
      {
       "output_type": "stream",
       "stream": "stdout",
       "text": [
        "\n",
        "Local Spiritual Assembly of The Bahais of Tai Po\n",
        "8531 done."
       ]
      },
      {
       "output_type": "stream",
       "stream": "stdout",
       "text": [
        "\n",
        "Local Spiritual Assembly of The Bahais of Tuen Mun\n",
        "8532 done."
       ]
      },
      {
       "output_type": "stream",
       "stream": "stdout",
       "text": [
        "\n",
        "Local Spiritual Assembly of The Bahais of Wanchai\n",
        "8533 done."
       ]
      },
      {
       "output_type": "stream",
       "stream": "stdout",
       "text": [
        "\n",
        "Local Spiritual Assembly of The Bahais of Yuen Long\n",
        "8534 done."
       ]
      },
      {
       "output_type": "stream",
       "stream": "stdout",
       "text": [
        "\n",
        "Lock Tao Christian Association Ho Man Tin Church\n",
        "8536 done."
       ]
      },
      {
       "output_type": "stream",
       "stream": "stdout",
       "text": [
        "\n",
        "Lock Tao Christian Association Kowloon City Church\n",
        "8537 done."
       ]
      },
      {
       "output_type": "stream",
       "stream": "stdout",
       "text": [
        "\n",
        "Lock Tao Christian Association Sha Tin Church\n",
        "8538 done."
       ]
      },
      {
       "output_type": "stream",
       "stream": "stdout",
       "text": [
        "\n",
        "Lock Tao Christian Association Sham Shui Po Church\n",
        "8539 done."
       ]
      },
      {
       "output_type": "stream",
       "stream": "stdout",
       "text": [
        "\n",
        "Lock Tao Christian Association Tseung Kwan O Church\n",
        "8540 done."
       ]
      },
      {
       "output_type": "stream",
       "stream": "stdout",
       "text": [
        "\n",
        "Lock Tao Christian Association Tsim Sha Tsui Church\n",
        "8541 done."
       ]
      },
      {
       "output_type": "stream",
       "stream": "stdout",
       "text": [
        "\n",
        "Lock Tao Christian Association Tsuen Wan Church\n",
        "8542 done."
       ]
      },
      {
       "output_type": "stream",
       "stream": "stdout",
       "text": [
        "\n",
        "Lock Tao Christian Association Yuen Long Church\n",
        "8543 done."
       ]
      },
      {
       "output_type": "stream",
       "stream": "stdout",
       "text": [
        "\n",
        "Lock Tao Christian Kindergarten\n",
        "8544 done."
       ]
      },
      {
       "output_type": "stream",
       "stream": "stdout",
       "text": [
        "\n",
        "Lock Tao Nursing Home\n",
        "8545 done."
       ]
      },
      {
       "output_type": "stream",
       "stream": "stdout",
       "text": [
        "\n",
        "Lock Tao Secondary School\n",
        "8546 done."
       ]
      },
      {
       "output_type": "stream",
       "stream": "stdout",
       "text": [
        "\n",
        "LOCK TAO SECONDARY SCHOOL\n",
        "8547 done."
       ]
      },
      {
       "output_type": "stream",
       "stream": "stdout",
       "text": [
        "\n",
        "Logos and Pneuma Press\n",
        "8550 done."
       ]
      },
      {
       "output_type": "stream",
       "stream": "stdout",
       "text": [
        "\n",
        "Logos Book House\n",
        "8552 done."
       ]
      },
      {
       "output_type": "stream",
       "stream": "stdout",
       "text": [
        "\n",
        "LOGOS CHURCH\n",
        "8553 done."
       ]
      },
      {
       "output_type": "stream",
       "stream": "stdout",
       "text": [
        "\n",
        "LOGOS MINISTRIES\n",
        "8555 done."
       ]
      },
      {
       "output_type": "stream",
       "stream": "stdout",
       "text": [
        "\n",
        "Logos Publishers\n",
        "8556 done."
       ]
      },
      {
       "output_type": "stream",
       "stream": "stdout",
       "text": [
        "\n",
        "Lohas Garden\n",
        "8558 done."
       ]
      },
      {
       "output_type": "stream",
       "stream": "stdout",
       "text": [
        "\n",
        "Lohas Youth S.P.O.T.\n",
        "8559 done."
       ]
      },
      {
       "output_type": "stream",
       "stream": "stdout",
       "text": [
        "\n",
        "LOK CHI ASSOCIATION\n",
        "8560 done."
       ]
      },
      {
       "output_type": "stream",
       "stream": "stdout",
       "text": [
        "\n",
        "Lok Chi Youth Centre\n",
        "8561 done."
       ]
      },
      {
       "output_type": "stream",
       "stream": "stdout",
       "text": [
        "\n",
        "Lok Fu Alliance Church\n",
        "8562 done."
       ]
      },
      {
       "output_type": "stream",
       "stream": "stdout",
       "text": [
        "\n",
        "Lok Fu Compute-able Workshop\n",
        "8564 done."
       ]
      },
      {
       "output_type": "stream",
       "stream": "stdout",
       "text": [
        "\n",
        "Lok Fu Hostel\n",
        "8565 done."
       ]
      },
      {
       "output_type": "stream",
       "stream": "stdout",
       "text": [
        "\n",
        "Lok Fu Rhenish Church Kindergarten\n",
        "8566 done."
       ]
      },
      {
       "output_type": "stream",
       "stream": "stdout",
       "text": [
        "\n",
        "Lok Fu Rhenish Nursery\n",
        "8567 done."
       ]
      },
      {
       "output_type": "stream",
       "stream": "stdout",
       "text": [
        "\n",
        "Lok Hong Social Service Association\n",
        "8568 done."
       ]
      },
      {
       "output_type": "stream",
       "stream": "stdout",
       "text": [
        "\n",
        "Lok King Kindergarten\n",
        "8569 done."
       ]
      },
      {
       "output_type": "stream",
       "stream": "stdout",
       "text": [
        "\n",
        "Lok Kwan Halfway House\n",
        "8570 done."
       ]
      },
      {
       "output_type": "stream",
       "stream": "stdout",
       "text": [
        "\n",
        "The Lok SIn Tong Benevolent Society Kowloon\n",
        "8573 done."
       ]
      },
      {
       "output_type": "stream",
       "stream": "stdout",
       "text": [
        "\n",
        "Lok Sin Tong Chan Cho Chak Polyclinics\n",
        "8574 done."
       ]
      },
      {
       "output_type": "stream",
       "stream": "stdout",
       "text": [
        "\n",
        "Lok Sin Tong Chan Cho Chak Primary School\n",
        "8575 done."
       ]
      },
      {
       "output_type": "stream",
       "stream": "stdout",
       "text": [
        "\n",
        "Lok Sin Tong Chan Lai Jeong Kiu Social Centre For the Elderly\n",
        "8576 done."
       ]
      },
      {
       "output_type": "stream",
       "stream": "stdout",
       "text": [
        "\n",
        "Lok Sin Tong Cheung Yip Mou Ching Kindergarten\n",
        "8577 done."
       ]
      },
      {
       "output_type": "stream",
       "stream": "stdout",
       "text": [
        "\n",
        "Lok Sin Tong Chu Ting Cheong Home for The Aged\n",
        "8579 done."
       ]
      },
      {
       "output_type": "stream",
       "stream": "stdout",
       "text": [
        "\n",
        "Lok Sin Tong Kindergarten\n",
        "8580 done."
       ]
      },
      {
       "output_type": "stream",
       "stream": "stdout",
       "text": [
        "\n",
        "Lok Sin Tong Ku Chiu Man Secondary School\n",
        "8581 done."
       ]
      },
      {
       "output_type": "stream",
       "stream": "stdout",
       "text": [
        "\n",
        "LOK SIN TONG KU CHIU MAN SECONDARY SCHOOL PARENTS AND TEACHERS ASSOCIATION\n",
        "8582 done."
       ]
      },
      {
       "output_type": "stream",
       "stream": "stdout",
       "text": [
        "\n",
        "Lok Sin Tong Ku Lee Kwok Sin Kindergarten\n",
        "8583 done."
       ]
      },
      {
       "output_type": "stream",
       "stream": "stdout",
       "text": [
        "\n",
        "Lok Sin Tong Lau Sai Yan Primary School\n",
        "8586 done."
       ]
      },
      {
       "output_type": "stream",
       "stream": "stdout",
       "text": [
        "\n",
        "Lok Sin Tong Lau Tak Primary School\n",
        "8587 done."
       ]
      },
      {
       "output_type": "stream",
       "stream": "stdout",
       "text": [
        "\n",
        "Lok Sin Tong Leung Chik Wai Memorial School\n",
        "8589 done."
       ]
      },
      {
       "output_type": "stream",
       "stream": "stdout",
       "text": [
        "\n",
        "Lok Sin Tong Leung Kau Kui College\n",
        "8591 done."
       ]
      },
      {
       "output_type": "stream",
       "stream": "stdout",
       "text": [
        "\n",
        "Lok Sin Tong Leung Kau Kui Home for the Elderly\n",
        "8593 done."
       ]
      },
      {
       "output_type": "stream",
       "stream": "stdout",
       "text": [
        "\n",
        "Lok Sin Tong Leung Kau Kui Primary School\n",
        "8594 done."
       ]
      },
      {
       "output_type": "stream",
       "stream": "stdout",
       "text": [
        "\n",
        "Lok Sin Tong Leung Wong Wai Fong Memorial School\n",
        "8597 done."
       ]
      },
      {
       "output_type": "stream",
       "stream": "stdout",
       "text": [
        "\n",
        "Lok Sin Tong Man Ng Wing Yee Kindergarten\n",
        "8599 done."
       ]
      },
      {
       "output_type": "stream",
       "stream": "stdout",
       "text": [
        "\n",
        "LOK SIN TONG MONGKOK DENTAL CLINIC\n",
        "8600 done."
       ]
      },
      {
       "output_type": "stream",
       "stream": "stdout",
       "text": [
        "\n",
        "LOK SIN TONG MONGKOK DENTAL CLINIC\n",
        "8601 done."
       ]
      },
      {
       "output_type": "stream",
       "stream": "stdout",
       "text": [
        "\n",
        "Lok Sin Tong Primary School\n",
        "8602 done."
       ]
      },
      {
       "output_type": "stream",
       "stream": "stdout",
       "text": [
        "\n",
        "Lok Sin Tong Stephen Leung Kindergarten\n",
        "8604 done."
       ]
      },
      {
       "output_type": "stream",
       "stream": "stdout",
       "text": [
        "\n",
        "Lok Sin Tong Tang Tak Lim Kindergarten\n",
        "8605 done."
       ]
      },
      {
       "output_type": "stream",
       "stream": "stdout",
       "text": [
        "\n",
        "Lok Sin Tong Wan Lap Keung Social Centre for The Elderly\n",
        "8606 done."
       ]
      },
      {
       "output_type": "stream",
       "stream": "stdout",
       "text": [
        "\n",
        "Lok Sin Tong Wong Chung Ming Evening College\n",
        "8607 done."
       ]
      },
      {
       "output_type": "stream",
       "stream": "stdout",
       "text": [
        "\n",
        "Lok Sin Tong Wong Chung Ming Secondary School\n",
        "8608 done."
       ]
      },
      {
       "output_type": "stream",
       "stream": "stdout",
       "text": [
        "\n",
        "Lok Sin Tong Wong Siu Sang Polyclinics\n",
        "8611 done."
       ]
      },
      {
       "output_type": "stream",
       "stream": "stdout",
       "text": [
        "\n",
        "Lok Sin Tong Yeung Chung Ming Primary School\n",
        "8612 done."
       ]
      },
      {
       "output_type": "stream",
       "stream": "stdout",
       "text": [
        "\n",
        "Lok Sin Tong Young Ko Hsiao Lin Secondary School\n",
        "8614 done."
       ]
      },
      {
       "output_type": "stream",
       "stream": "stdout",
       "text": [
        "\n",
        "Lok Sin Tong Yu Kan Hing Evening Secondary School\n",
        "8616 done."
       ]
      },
      {
       "output_type": "stream",
       "stream": "stdout",
       "text": [
        "\n",
        "Lok Sin Tong Yu Kan Hing Secondary School\n",
        "8617 done."
       ]
      },
      {
       "output_type": "stream",
       "stream": "stdout",
       "text": [
        "\n",
        "Lok Wah Catholic Primary School\n",
        "8621 done."
       ]
      },
      {
       "output_type": "stream",
       "stream": "stdout",
       "text": [
        "\n",
        "Lok Wah Hostel\n",
        "8623 done."
       ]
      },
      {
       "output_type": "stream",
       "stream": "stdout",
       "text": [
        "\n",
        "Lok Wah Integrated Social Service Centre\n",
        "8624 done."
       ]
      },
      {
       "output_type": "stream",
       "stream": "stdout",
       "text": [
        "\n",
        "LONG FOOK BAPTIST CHURCH\n",
        "8625 done."
       ]
      },
      {
       "output_type": "stream",
       "stream": "stdout",
       "text": [
        "\n",
        "Long Ping Estate Sing Yan Kindergarten\n",
        "8628 done."
       ]
      },
      {
       "output_type": "stream",
       "stream": "stdout",
       "text": [
        "\n",
        "Longchen Rabjam Buddhism - Centre\n",
        "8631 done."
       ]
      },
      {
       "output_type": "stream",
       "stream": "stdout",
       "text": [
        "\n",
        "LOOK YEAR YUEN\n",
        "8633 done."
       ]
      },
      {
       "output_type": "stream",
       "stream": "stdout",
       "text": [
        "\n",
        "LORD WILSON HERITAGE TRUST\n",
        "8637 done."
       ]
      },
      {
       "output_type": "stream",
       "stream": "stdout",
       "text": [
        "\n",
        "Lotus Association of Pun Chun Yuen\n",
        "8639 done."
       ]
      },
      {
       "output_type": "stream",
       "stream": "stdout",
       "text": [
        "\n",
        "Lotus Association of Siu Hei Court Kindergarten\n",
        "8640 done."
       ]
      },
      {
       "output_type": "stream",
       "stream": "stdout",
       "text": [
        "\n",
        "LOTUS OUTREACH\n",
        "8642 done."
       ]
      },
      {
       "output_type": "stream",
       "stream": "stdout",
       "text": [
        "\n",
        "LOUIS PROGRAM TRAINING CENTRE\n",
        "8647 done."
       ]
      },
      {
       "output_type": "stream",
       "stream": "stdout",
       "text": [
        "\n",
        "Louisa Landale\n",
        "8648 done."
       ]
      },
      {
       "output_type": "stream",
       "stream": "stdout",
       "text": [
        "\n",
        "LOVE FAMILY ASSOCIATION\n",
        "8656 done."
       ]
      },
      {
       "output_type": "stream",
       "stream": "stdout",
       "text": [
        "\n",
        "Love Family Weekly\n",
        "8657 done."
       ]
      },
      {
       "output_type": "stream",
       "stream": "stdout",
       "text": [
        "\n",
        "Love Lunch Box\n",
        "8661 done."
       ]
      },
      {
       "output_type": "stream",
       "stream": "stdout",
       "text": [
        "\n",
        "Love Neighbourhood Centre\n",
        "8663 done."
       ]
      },
      {
       "output_type": "stream",
       "stream": "stdout",
       "text": [
        "\n",
        "Love Pet Action\n",
        "8665 done."
       ]
      },
      {
       "output_type": "stream",
       "stream": "stdout",
       "text": [
        "\n",
        "Love Your Childred Church\n",
        "8668 done."
       ]
      },
      {
       "output_type": "stream",
       "stream": "stdout",
       "text": [
        "\n",
        "Love Your Neighbour\n",
        "8670 done."
       ]
      },
      {
       "output_type": "stream",
       "stream": "stdout",
       "text": [
        "\n",
        "Love Your Neighbour Charity Fund\n",
        "8671 done."
       ]
      },
      {
       "output_type": "stream",
       "stream": "stdout",
       "text": [
        "\n",
        "LOVING ANGELS\n",
        "8676 done."
       ]
      },
      {
       "output_type": "stream",
       "stream": "stdout",
       "text": [
        "\n",
        "LOVING ELDERLY SERVICES CENTRE\n",
        "8678 done."
       ]
      },
      {
       "output_type": "stream",
       "stream": "stdout",
       "text": [
        "\n",
        "LOVING HEART LUTHERAN CHURCH\n",
        "8680 done."
       ]
      },
      {
       "output_type": "stream",
       "stream": "stdout",
       "text": [
        "\n",
        "Loving Heart Lutheran Kindergarten\n",
        "8682 done."
       ]
      },
      {
       "output_type": "stream",
       "stream": "stdout",
       "text": [
        "\n",
        "L-POWER\n",
        "8686 done."
       ]
      },
      {
       "output_type": "stream",
       "stream": "stdout",
       "text": [
        "\n",
        "LSC Jubilee Fund\n",
        "8687 done."
       ]
      },
      {
       "output_type": "stream",
       "stream": "stdout",
       "text": [
        "\n",
        "Lui Cheung Kwong Lutheran College\n",
        "8694 done."
       ]
      },
      {
       "output_type": "stream",
       "stream": "stdout",
       "text": [
        "\n",
        "Lui Cheung Kwong Lutheran Evening College\n",
        "8695 done."
       ]
      },
      {
       "output_type": "stream",
       "stream": "stdout",
       "text": [
        "\n",
        "Lui Cheung Kwong Lutheran Kindergarten\n",
        "8696 done."
       ]
      },
      {
       "output_type": "stream",
       "stream": "stdout",
       "text": [
        "\n",
        "Lui Cheung Kwong Lutheran Primary School\n",
        "8697 done."
       ]
      },
      {
       "output_type": "stream",
       "stream": "stdout",
       "text": [
        "\n",
        "Lui Kwan Pok Lutheran Day Nursery\n",
        "8698 done."
       ]
      },
      {
       "output_type": "stream",
       "stream": "stdout",
       "text": [
        "\n",
        "Lui Kwan Pok Lutheran Day Nursery\n",
        "8699 done."
       ]
      },
      {
       "output_type": "stream",
       "stream": "stdout",
       "text": [
        "\n",
        "Lui Ming Choi Lutheran College\n",
        "8701 done."
       ]
      },
      {
       "output_type": "stream",
       "stream": "stdout",
       "text": [
        "\n",
        "Luk Chiu Kwan Hungs Child Development Reseach Centre\n",
        "8702 done."
       ]
      },
      {
       "output_type": "stream",
       "stream": "stdout",
       "text": [
        "\n",
        "Luk Heung San Tsuen Public School\n",
        "8704 done."
       ]
      },
      {
       "output_type": "stream",
       "stream": "stdout",
       "text": [
        "\n",
        "LUK YEUNG BAPTIST CHURCH\n",
        "8707 done."
       ]
      },
      {
       "output_type": "stream",
       "stream": "stdout",
       "text": [
        "\n",
        "Luk Yeung Baptist Church Elderly Centre\n",
        "8708 done."
       ]
      },
      {
       "output_type": "stream",
       "stream": "stdout",
       "text": [
        "\n",
        "LUMENVISUM\n",
        "8710 done."
       ]
      },
      {
       "output_type": "stream",
       "stream": "stdout",
       "text": [
        "\n",
        "Lung Cheung Integrated Social Service Centre\n",
        "8711 done."
       ]
      },
      {
       "output_type": "stream",
       "stream": "stdout",
       "text": [
        "\n",
        "Lung Hang Centre\n",
        "8712 done."
       ]
      },
      {
       "output_type": "stream",
       "stream": "stdout",
       "text": [
        "\n",
        "Lung Hang Pre-school Centre\n",
        "8713 done."
       ]
      },
      {
       "output_type": "stream",
       "stream": "stdout",
       "text": [
        "\n",
        "Lung Hang Youth S.P.O.T.\n",
        "8714 done."
       ]
      },
      {
       "output_type": "stream",
       "stream": "stdout",
       "text": [
        "\n",
        "Lung Kong World Federation School Chu Sui Lan Anglo-Chinese Kindergarten\n",
        "8716 done."
       ]
      },
      {
       "output_type": "stream",
       "stream": "stdout",
       "text": [
        "\n",
        "Lung Kong World Federation School Lau Tak Yung Memorial Primary School\n",
        "8717 done."
       ]
      },
      {
       "output_type": "stream",
       "stream": "stdout",
       "text": [
        "\n",
        "Lung Kong World Federation School Lau Wong Fat Secondary School\n",
        "8718 done."
       ]
      },
      {
       "output_type": "stream",
       "stream": "stdout",
       "text": [
        "\n",
        "Lung Kong World Federation School Wong Yiu Nam Primary School\n",
        "8719 done."
       ]
      },
      {
       "output_type": "stream",
       "stream": "stdout",
       "text": [
        "\n",
        "Lung On Lutheran Day Activity Centre\n",
        "8720 done."
       ]
      },
      {
       "output_type": "stream",
       "stream": "stdout",
       "text": [
        "\n",
        "Lung Tai Hostel\n",
        "8721 done."
       ]
      },
      {
       "output_type": "stream",
       "stream": "stdout",
       "text": [
        "\n",
        "Lutheran Cheer Centre\n",
        "8723 done."
       ]
      },
      {
       "output_type": "stream",
       "stream": "stdout",
       "text": [
        "\n",
        "LUTHERAN CHURCH - SYNOD\n",
        "8724 done."
       ]
      },
      {
       "output_type": "stream",
       "stream": "stdout",
       "text": [
        "\n",
        "LUTHERAN CHURCH - MISSOURI SYNOD\n",
        "8725 done."
       ]
      },
      {
       "output_type": "stream",
       "stream": "stdout",
       "text": [
        "\n",
        "Lutheran Church of All Nations\n",
        "8726 done."
       ]
      },
      {
       "output_type": "stream",
       "stream": "stdout",
       "text": [
        "\n",
        "Lutheran Church of the Lords Love\n",
        "8727 done."
       ]
      },
      {
       "output_type": "stream",
       "stream": "stdout",
       "text": [
        "\n",
        "Lutheran Evergreen Centre\n",
        "8729 done."
       ]
      },
      {
       "output_type": "stream",
       "stream": "stdout",
       "text": [
        "\n",
        "Lutheran Family Life Education Unit\n",
        "8730 done."
       ]
      },
      {
       "output_type": "stream",
       "stream": "stdout",
       "text": [
        "\n",
        "Lutheran Foster Care Unit\n",
        "8731 done."
       ]
      },
      {
       "output_type": "stream",
       "stream": "stdout",
       "text": [
        "\n",
        "Lutheran H.K. International School\n",
        "8732 done."
       ]
      },
      {
       "output_type": "stream",
       "stream": "stdout",
       "text": [
        "\n",
        "Lutheran Homantin Hostel\n",
        "8733 done."
       ]
      },
      {
       "output_type": "stream",
       "stream": "stdout",
       "text": [
        "\n",
        "Lutheran Home-Based Training and Support Team\n",
        "8734 done."
       ]
      },
      {
       "output_type": "stream",
       "stream": "stdout",
       "text": [
        "\n",
        "LUTHERAN PHILIP HOUSE\n",
        "8736 done."
       ]
      },
      {
       "output_type": "stream",
       "stream": "stdout",
       "text": [
        "\n",
        "Lutheran Philip House Church\n",
        "8737 done."
       ]
      },
      {
       "output_type": "stream",
       "stream": "stdout",
       "text": [
        "\n",
        "Lutheran Philip House Family Service Centre\n",
        "8738 done."
       ]
      },
      {
       "output_type": "stream",
       "stream": "stdout",
       "text": [
        "\n",
        "Lutheran Philip House Hing Man Nursery School\n",
        "8739 done."
       ]
      },
      {
       "output_type": "stream",
       "stream": "stdout",
       "text": [
        "\n",
        "Lutheran Philip House Kai Yip Nursery School\n",
        "8740 done."
       ]
      },
      {
       "output_type": "stream",
       "stream": "stdout",
       "text": [
        "\n",
        "LUTHERAN PHILIP HOUSE\n",
        "8741 done."
       ]
      },
      {
       "output_type": "stream",
       "stream": "stdout",
       "text": [
        "\n",
        "Lutheran Philip House Ltd School Management Committee\n",
        "8742 done."
       ]
      },
      {
       "output_type": "stream",
       "stream": "stdout",
       "text": [
        "\n",
        "Lutheran Philip House Ma Tau Wai Nursery School\n",
        "8743 done."
       ]
      },
      {
       "output_type": "stream",
       "stream": "stdout",
       "text": [
        "\n",
        "Lutheran Philip House Oi Lun Nursery School\n",
        "8744 done."
       ]
      },
      {
       "output_type": "stream",
       "stream": "stdout",
       "text": [
        "\n",
        "Lutheran School for The Deaf\n",
        "8745 done."
       ]
      },
      {
       "output_type": "stream",
       "stream": "stdout",
       "text": [
        "\n",
        "Lutheran School Social Work Unit\n",
        "8746 done."
       ]
      },
      {
       "output_type": "stream",
       "stream": "stdout",
       "text": [
        "\n",
        "Lutheran Service Centre\n",
        "8747 done."
       ]
      },
      {
       "output_type": "stream",
       "stream": "stdout",
       "text": [
        "\n",
        "LUTHERAN THEOLOGICAL SEMINARY\n",
        "8748 done."
       ]
      },
      {
       "output_type": "stream",
       "stream": "stdout",
       "text": [
        "\n",
        "Lutheran Youth Book Room\n",
        "8749 done."
       ]
      },
      {
       "output_type": "stream",
       "stream": "stdout",
       "text": [
        "\n",
        "Lycee Francais International\n",
        "8750 done."
       ]
      },
      {
       "output_type": "stream",
       "stream": "stdout",
       "text": [
        "\n",
        "M.Q.\n",
        "8755 done."
       ]
      },
      {
       "output_type": "stream",
       "stream": "stdout",
       "text": [
        "\n",
        "MA KAM MING CHARITABLE FOUNDATION\n",
        "8759 done."
       ]
      },
      {
       "output_type": "stream",
       "stream": "stdout",
       "text": [
        "\n",
        "Ma Kam Ming Charitable Foundation Ma Chan Duen Hey Memorial College\n",
        "8760 done."
       ]
      },
      {
       "output_type": "stream",
       "stream": "stdout",
       "text": [
        "\n",
        "Ma Kam Ming Charitable Foundation Ma Chan Duen Hey Memorial Evening College\n",
        "8761 done."
       ]
      },
      {
       "output_type": "stream",
       "stream": "stdout",
       "text": [
        "\n",
        "MA ON SHAN BAPTIST CHURCH\n",
        "8764 done."
       ]
      },
      {
       "output_type": "stream",
       "stream": "stdout",
       "text": [
        "\n",
        "MA ON SHAN LING LIANG CHURCH\n",
        "8767 done."
       ]
      },
      {
       "output_type": "stream",
       "stream": "stdout",
       "text": [
        "\n",
        "Ma On Shan Ling Liang Kindergarten\n",
        "8768 done."
       ]
      },
      {
       "output_type": "stream",
       "stream": "stdout",
       "text": [
        "\n",
        "Ma On Shan Methodist Church\n",
        "8769 done."
       ]
      },
      {
       "output_type": "stream",
       "stream": "stdout",
       "text": [
        "\n",
        "Ma On Shan Methodist Primary School\n",
        "8771 done."
       ]
      },
      {
       "output_type": "stream",
       "stream": "stdout",
       "text": [
        "\n",
        "MA ON SHAN PEACE EVANGELICAL CENTRE\n",
        "8772 done."
       ]
      },
      {
       "output_type": "stream",
       "stream": "stdout",
       "text": [
        "\n",
        "Ma On Shan St. Josephs Primary School\n",
        "8775 done."
       ]
      },
      {
       "output_type": "stream",
       "stream": "stdout",
       "text": [
        "\n",
        "Ma On Shan St. Josephs Secondary School\n",
        "8776 done."
       ]
      },
      {
       "output_type": "stream",
       "stream": "stdout",
       "text": [
        "\n",
        "Ma On Shan Tsung Tsin Secondary School\n",
        "8777 done."
       ]
      },
      {
       "output_type": "stream",
       "stream": "stdout",
       "text": [
        "\n",
        "Ma Tau Wai Lutheran Centre for the Elderly\n",
        "8783 done."
       ]
      },
      {
       "output_type": "stream",
       "stream": "stdout",
       "text": [
        "\n",
        "Ma Wan Alliance Church\n",
        "8784 done."
       ]
      },
      {
       "output_type": "stream",
       "stream": "stdout",
       "text": [
        "\n",
        "MACAU BAPTIST CHURCH\n",
        "8786 done."
       ]
      },
      {
       "output_type": "stream",
       "stream": "stdout",
       "text": [
        "\n",
        "MACAU BIBLE INSTITUTE\n",
        "8787 done."
       ]
      },
      {
       "output_type": "stream",
       "stream": "stdout",
       "text": [
        "\n",
        "Macau Branched Church\n",
        "8788 done."
       ]
      },
      {
       "output_type": "stream",
       "stream": "stdout",
       "text": [
        "\n",
        "Macau Cumberland Presbyterian Church\n",
        "8789 done."
       ]
      },
      {
       "output_type": "stream",
       "stream": "stdout",
       "text": [
        "\n",
        "MacLehose Medical Rehabilitation Centre\n",
        "8793 done."
       ]
      },
      {
       "output_type": "stream",
       "stream": "stdout",
       "text": [
        "\n",
        "MacLehose Medical Rehabilitation Centre\n",
        "8794 done."
       ]
      },
      {
       "output_type": "stream",
       "stream": "stdout",
       "text": [
        "\n",
        "Madam Lau Kam Lung Secondary School of\n",
        "8796 done."
       ]
      },
      {
       "output_type": "stream",
       "stream": "stdout",
       "text": [
        "\n",
        "Maggies Cancer Caring Centre\n",
        "8801 done."
       ]
      },
      {
       "output_type": "stream",
       "stream": "stdout",
       "text": [
        "\n",
        "Maharishi University of Management Fund\n",
        "8805 done."
       ]
      },
      {
       "output_type": "stream",
       "stream": "stdout",
       "text": [
        "\n",
        "Maharishi Vedic University\n",
        "8806 done."
       ]
      },
      {
       "output_type": "stream",
       "stream": "stdout",
       "text": [
        "\n",
        "MAHAYANA BUDDHIST ASSOCIATION\n",
        "8809 done."
       ]
      },
      {
       "output_type": "stream",
       "stream": "stdout",
       "text": [
        "\n",
        "Mamma Margarets After School Care Service\n",
        "8818 done."
       ]
      },
      {
       "output_type": "stream",
       "stream": "stdout",
       "text": [
        "\n",
        "Man Kwan Education Fund\n",
        "8823 done."
       ]
      },
      {
       "output_type": "stream",
       "stream": "stdout",
       "text": [
        "\n",
        "Man Lam Christian Church Aberdeen Chapel\n",
        "8825 done."
       ]
      },
      {
       "output_type": "stream",
       "stream": "stdout",
       "text": [
        "\n",
        "MAN LAM CHRISTIAN CHURCH\n",
        "8826 done."
       ]
      },
      {
       "output_type": "stream",
       "stream": "stdout",
       "text": [
        "\n",
        "Man Lam Christian Church\n",
        "8827 done."
       ]
      },
      {
       "output_type": "stream",
       "stream": "stdout",
       "text": [
        "\n",
        "MAN LAN INTELLECTUS ASSOCIATION\n",
        "8828 done."
       ]
      },
      {
       "output_type": "stream",
       "stream": "stdout",
       "text": [
        "\n",
        "MAN TAK CHI SIN ASSOCIATION\n",
        "8831 done."
       ]
      },
      {
       "output_type": "stream",
       "stream": "stdout",
       "text": [
        "\n",
        "Man Tak Garden\n",
        "8832 done."
       ]
      },
      {
       "output_type": "stream",
       "stream": "stdout",
       "text": [
        "\n",
        "Mandarin Church\n",
        "8841 done."
       ]
      },
      {
       "output_type": "stream",
       "stream": "stdout",
       "text": [
        "\n",
        "MANDATORY PROVIDENT FUND SCHEMES AUTHORITY\n",
        "8842 done."
       ]
      },
      {
       "output_type": "stream",
       "stream": "stdout",
       "text": [
        "\n",
        "MANJUSHRI DELIGHT BUDDHIST CENTRE\n",
        "8844 done."
       ]
      },
      {
       "output_type": "stream",
       "stream": "stdout",
       "text": [
        "\n",
        "MANULIFE CHARITABLE FOUNDATION\n",
        "8847 done."
       ]
      },
      {
       "output_type": "stream",
       "stream": "stdout",
       "text": [
        "\n",
        "Margaret Trench Medical Rehabilitation Centre\n",
        "8851 done."
       ]
      },
      {
       "output_type": "stream",
       "stream": "stdout",
       "text": [
        "\n",
        "Margaret Trench Red Cross School\n",
        "8852 done."
       ]
      },
      {
       "output_type": "stream",
       "stream": "stdout",
       "text": [
        "\n",
        "Marian Love Centre\n",
        "8854 done."
       ]
      },
      {
       "output_type": "stream",
       "stream": "stdout",
       "text": [
        "\n",
        "Maritime Square Lutheran Day Nursery\n",
        "8856 done."
       ]
      },
      {
       "output_type": "stream",
       "stream": "stdout",
       "text": [
        "\n",
        "Mark Memorial Home\n",
        "8857 done."
       ]
      },
      {
       "output_type": "stream",
       "stream": "stdout",
       "text": [
        "\n",
        "Martha Boss Lutheran Community Centre Group & Community Work Unit\n",
        "8858 done."
       ]
      },
      {
       "output_type": "stream",
       "stream": "stdout",
       "text": [
        "\n",
        "Martha Boss Lutheran Day Activity Centre\n",
        "8859 done."
       ]
      },
      {
       "output_type": "stream",
       "stream": "stdout",
       "text": [
        "\n",
        "Martha Boss Lutheran Day Care Centre for the Elderly\n",
        "8860 done."
       ]
      },
      {
       "output_type": "stream",
       "stream": "stdout",
       "text": [
        "\n",
        "Martha Boss Lutheran Day Nursery\n",
        "8861 done."
       ]
      },
      {
       "output_type": "stream",
       "stream": "stdout",
       "text": [
        "\n",
        "Martha Boss Lutheran Nursery\n",
        "8862 done."
       ]
      },
      {
       "output_type": "stream",
       "stream": "stdout",
       "text": [
        "\n",
        "Martinson Memorial Lutheran Church\n",
        "8865 done."
       ]
      },
      {
       "output_type": "stream",
       "stream": "stdout",
       "text": [
        "\n",
        "Martyr Saints of China Chapel - Shek O\n",
        "8867 done."
       ]
      },
      {
       "output_type": "stream",
       "stream": "stdout",
       "text": [
        "\n",
        "Marvels\n",
        "8868 done."
       ]
      },
      {
       "output_type": "stream",
       "stream": "stdout",
       "text": [
        "\n",
        "Mary Help of Christians Church\n",
        "8869 done."
       ]
      },
      {
       "output_type": "stream",
       "stream": "stdout",
       "text": [
        "\n",
        "Mary of Providence Primary School\n",
        "8870 done."
       ]
      },
      {
       "output_type": "stream",
       "stream": "stdout",
       "text": [
        "\n",
        "Mary Rose School\n",
        "8871 done."
       ]
      },
      {
       "output_type": "stream",
       "stream": "stdout",
       "text": [
        "\n",
        "Marycove School\n",
        "8873 done."
       ]
      },
      {
       "output_type": "stream",
       "stream": "stdout",
       "text": [
        "\n",
        "Maryknoll College\n",
        "8874 done."
       ]
      },
      {
       "output_type": "stream",
       "stream": "stdout",
       "text": [
        "\n",
        "Maryknoll Convent School\n",
        "8875 done."
       ]
      },
      {
       "output_type": "stream",
       "stream": "stdout",
       "text": [
        "\n",
        "Maryknoll Convent School\n",
        "8876 done."
       ]
      },
      {
       "output_type": "stream",
       "stream": "stdout",
       "text": [
        "\n",
        "MARYKNOLL CONVENT SCHOOL EDUCATIONAL TRUST\n",
        "8877 done."
       ]
      },
      {
       "output_type": "stream",
       "stream": "stdout",
       "text": [
        "\n",
        "Maryknoll Fathers School\n",
        "8880 done."
       ]
      },
      {
       "output_type": "stream",
       "stream": "stdout",
       "text": [
        "\n",
        "Maryknoll Mission House\n",
        "8883 done."
       ]
      },
      {
       "output_type": "stream",
       "stream": "stdout",
       "text": [
        "\n",
        "Maryknoll Secondary School\n",
        "8884 done."
       ]
      },
      {
       "output_type": "stream",
       "stream": "stdout",
       "text": [
        "\n",
        "Maryknoll Technical Secondary School Auxiliary Workshops\n",
        "8887 done."
       ]
      },
      {
       "output_type": "stream",
       "stream": "stdout",
       "text": [
        "\n",
        "Marymount Primary School\n",
        "8888 done."
       ]
      },
      {
       "output_type": "stream",
       "stream": "stdout",
       "text": [
        "\n",
        "Marymount Secondary School\n",
        "8889 done."
       ]
      },
      {
       "output_type": "stream",
       "stream": "stdout",
       "text": [
        "\n",
        "Masjid Ammar & ORS Islamic Centre\n",
        "8890 done."
       ]
      },
      {
       "output_type": "stream",
       "stream": "stdout",
       "text": [
        "\n",
        "MASTER WING SING CHARITY FUND\n",
        "8893 done."
       ]
      },
      {
       "output_type": "stream",
       "stream": "stdout",
       "text": [
        "\n",
        "Matilda Sedan Chair Race Charities Fund\n",
        "8897 done."
       ]
      },
      {
       "output_type": "stream",
       "stream": "stdout",
       "text": [
        "\n",
        "May Nga Child Care Centre\n",
        "8899 done."
       ]
      },
      {
       "output_type": "stream",
       "stream": "stdout",
       "text": [
        "\n",
        "May Nga Kindergarten\n",
        "8901 done."
       ]
      },
      {
       "output_type": "stream",
       "stream": "stdout",
       "text": [
        "\n",
        "May Nga Kindergarten\n",
        "8902 done."
       ]
      },
      {
       "output_type": "stream",
       "stream": "stdout",
       "text": [
        "\n",
        "May Nga Nursery\n",
        "8903 done."
       ]
      },
      {
       "output_type": "stream",
       "stream": "stdout",
       "text": [
        "\n",
        "May Nga Nursery Branch\n",
        "8904 done."
       ]
      },
      {
       "output_type": "stream",
       "stream": "stdout",
       "text": [
        "\n",
        "MCMIA FOUNDATION\n",
        "8909 done."
       ]
      },
      {
       "output_type": "stream",
       "stream": "stdout",
       "text": [
        "\n",
        "MED-ART\n",
        "8914 done."
       ]
      },
      {
       "output_type": "stream",
       "stream": "stdout",
       "text": [
        "\n",
        "Medecins Sans Fronteires\n",
        "8915 done."
       ]
      },
      {
       "output_type": "stream",
       "stream": "stdout",
       "text": [
        "\n",
        "Media Counselling Centre\n",
        "8916 done."
       ]
      },
      {
       "output_type": "stream",
       "stream": "stdout",
       "text": [
        "\n",
        "The Media Evangelism\n",
        "8917 done."
       ]
      },
      {
       "output_type": "stream",
       "stream": "stdout",
       "text": [
        "\n",
        "Medical Clinic of The Lok Sin Tong Benevolent Society\n",
        "8920 done."
       ]
      },
      {
       "output_type": "stream",
       "stream": "stdout",
       "text": [
        "\n",
        "Medical Mission International\n",
        "8921 done."
       ]
      },
      {
       "output_type": "stream",
       "stream": "stdout",
       "text": [
        "\n",
        "MEDICAL OUTREACHERS\n",
        "8922 done."
       ]
      },
      {
       "output_type": "stream",
       "stream": "stdout",
       "text": [
        "\n",
        "Mei Foo Grace Kindergarten\n",
        "8928 done."
       ]
      },
      {
       "output_type": "stream",
       "stream": "stdout",
       "text": [
        "\n",
        "Mei Lam Estate To Kwong Kindergarten\n",
        "8932 done."
       ]
      },
      {
       "output_type": "stream",
       "stream": "stdout",
       "text": [
        "\n",
        "Mei Lam Estate To Kwong Kindergarten\n",
        "8933 done."
       ]
      },
      {
       "output_type": "stream",
       "stream": "stdout",
       "text": [
        "\n",
        "Mei Lam Gospel Reading Centre\n",
        "8934 done."
       ]
      },
      {
       "output_type": "stream",
       "stream": "stdout",
       "text": [
        "\n",
        "Mei Mun Alliance Church\n",
        "8936 done."
       ]
      },
      {
       "output_type": "stream",
       "stream": "stdout",
       "text": [
        "\n",
        "MEI TUNG ESTATE ON KEE KINDERGARTEN\n",
        "8937 done."
       ]
      },
      {
       "output_type": "stream",
       "stream": "stdout",
       "text": [
        "\n",
        "Melody Anglo-Chinese Kindergarten\n",
        "8940 done."
       ]
      },
      {
       "output_type": "stream",
       "stream": "stdout",
       "text": [
        "\n",
        "Melody Anglo-Chinese Kindergarten\n",
        "8941 done."
       ]
      },
      {
       "output_type": "stream",
       "stream": "stdout",
       "text": [
        "\n",
        "Melody Nursery\n",
        "8943 done."
       ]
      },
      {
       "output_type": "stream",
       "stream": "stdout",
       "text": [
        "\n",
        "Melody Nursery\n",
        "8944 done."
       ]
      },
      {
       "output_type": "stream",
       "stream": "stdout",
       "text": [
        "\n",
        "Melody Nursery\n",
        "8945 done."
       ]
      },
      {
       "output_type": "stream",
       "stream": "stdout",
       "text": [
        "\n",
        "Membership Affairs Department\n",
        "8947 done."
       ]
      },
      {
       "output_type": "stream",
       "stream": "stdout",
       "text": [
        "\n",
        "Meng Tak Catholic School\n",
        "8949 done."
       ]
      },
      {
       "output_type": "stream",
       "stream": "stdout",
       "text": [
        "\n",
        "Mental Health Service - On Yee / On Yue Hostel\n",
        "8955 done."
       ]
      },
      {
       "output_type": "stream",
       "stream": "stdout",
       "text": [
        "\n",
        "Mental Health Service - Tsui Lam Half-way House\n",
        "8956 done."
       ]
      },
      {
       "output_type": "stream",
       "stream": "stdout",
       "text": [
        "\n",
        "Messiahs Music Media\n",
        "8961 done."
       ]
      },
      {
       "output_type": "stream",
       "stream": "stdout",
       "text": [
        "\n",
        "Methodist Ap Lei Chau Centre\n",
        "8963 done."
       ]
      },
      {
       "output_type": "stream",
       "stream": "stdout",
       "text": [
        "\n",
        "Methodist Ap Lei Chau Youth Centre\n",
        "8964 done."
       ]
      },
      {
       "output_type": "stream",
       "stream": "stdout",
       "text": [
        "\n",
        "Methodist Bookroom\n",
        "8965 done."
       ]
      },
      {
       "output_type": "stream",
       "stream": "stdout",
       "text": [
        "\n",
        "Methodist Church\n",
        "8966 done."
       ]
      },
      {
       "output_type": "stream",
       "stream": "stdout",
       "text": [
        "\n",
        "METHODIST CHURCH\n",
        "8967 done."
       ]
      },
      {
       "output_type": "stream",
       "stream": "stdout",
       "text": [
        "\n",
        "Methodist College\n",
        "8968 done."
       ]
      },
      {
       "output_type": "stream",
       "stream": "stdout",
       "text": [
        "\n",
        "Methodist Epworth Village Community Centre\n",
        "8969 done."
       ]
      },
      {
       "output_type": "stream",
       "stream": "stdout",
       "text": [
        "\n",
        "Methodist Epworth Village Community Centre - Social Welfare Department\n",
        "8970 done."
       ]
      },
      {
       "output_type": "stream",
       "stream": "stdout",
       "text": [
        "\n",
        "Methodist Evangelistic Ministry\n",
        "8971 done."
       ]
      },
      {
       "output_type": "stream",
       "stream": "stdout",
       "text": [
        "\n",
        "Methodist Hing Wah Social Centre for The Elderly\n",
        "8972 done."
       ]
      },
      {
       "output_type": "stream",
       "stream": "stdout",
       "text": [
        "\n",
        "Methodist Hing Wah Social Service Centre\n",
        "8973 done."
       ]
      },
      {
       "output_type": "stream",
       "stream": "stdout",
       "text": [
        "\n",
        "METHODIST HOLINESS CHURCH\n",
        "8974 done."
       ]
      },
      {
       "output_type": "stream",
       "stream": "stdout",
       "text": [
        "\n",
        "Methodist Internationl Church\n",
        "8975 done."
       ]
      },
      {
       "output_type": "stream",
       "stream": "stdout",
       "text": [
        "\n",
        "Methodist Lee Wai Lee College\n",
        "8976 done."
       ]
      },
      {
       "output_type": "stream",
       "stream": "stdout",
       "text": [
        "\n",
        "Methodist Medical Centre\n",
        "8977 done."
       ]
      },
      {
       "output_type": "stream",
       "stream": "stdout",
       "text": [
        "\n",
        "Methodist Retreat Centre\n",
        "8978 done."
       ]
      },
      {
       "output_type": "stream",
       "stream": "stdout",
       "text": [
        "\n",
        "Methodist Southorn Centre for The Elderly\n",
        "8979 done."
       ]
      },
      {
       "output_type": "stream",
       "stream": "stdout",
       "text": [
        "\n",
        "Methodist Villa\n",
        "8981 done."
       ]
      },
      {
       "output_type": "stream",
       "stream": "stdout",
       "text": [
        "\n",
        "Methodist Wesley Day Nursery\n",
        "8982 done."
       ]
      },
      {
       "output_type": "stream",
       "stream": "stdout",
       "text": [
        "\n",
        "MFBM Elderly Home\n",
        "8983 done."
       ]
      },
      {
       "output_type": "stream",
       "stream": "stdout",
       "text": [
        "\n",
        "MFMW\n",
        "8984 done."
       ]
      },
      {
       "output_type": "stream",
       "stream": "stdout",
       "text": [
        "\n",
        "MIDLAND CHARITABLE FOUNDATION\n",
        "8987 done."
       ]
      },
      {
       "output_type": "stream",
       "stream": "stdout",
       "text": [
        "\n",
        "Mind Network Communications\n",
        "8990 done."
       ]
      },
      {
       "output_type": "stream",
       "stream": "stdout",
       "text": [
        "\n",
        "MINDFUL HEART FOUNDATION\n",
        "8992 done."
       ]
      },
      {
       "output_type": "stream",
       "stream": "stdout",
       "text": [
        "\n",
        "Mind-Lock Memory & Cognitive Training Centre\n",
        "8994 done."
       ]
      },
      {
       "output_type": "stream",
       "stream": "stdout",
       "text": [
        "\n",
        "MINDSET\n",
        "8997 done."
       ]
      },
      {
       "output_type": "stream",
       "stream": "stdout",
       "text": [
        "\n",
        "Mindset Place\n",
        "8998 done."
       ]
      },
      {
       "output_type": "stream",
       "stream": "stdout",
       "text": [
        "\n",
        "MINDSET Place\n",
        "8999 done."
       ]
      },
      {
       "output_type": "stream",
       "stream": "stdout",
       "text": [
        "\n",
        "MING DAO PRESS\n",
        "9001 done."
       ]
      },
      {
       "output_type": "stream",
       "stream": "stdout",
       "text": [
        "\n",
        "Ming Feng Press\n",
        "9003 done."
       ]
      },
      {
       "output_type": "stream",
       "stream": "stdout",
       "text": [
        "\n",
        "MING RI INSTITUTE FOR ARTS EDUCATION\n",
        "9006 done."
       ]
      },
      {
       "output_type": "stream",
       "stream": "stdout",
       "text": [
        "\n",
        "MING TAK BUDDHIST ASSOCIATION\n",
        "9007 done."
       ]
      },
      {
       "output_type": "stream",
       "stream": "stdout",
       "text": [
        "\n",
        "MING TOA CONSILIUM ASSOCIATION\n",
        "9009 done."
       ]
      },
      {
       "output_type": "stream",
       "stream": "stdout",
       "text": [
        "\n",
        "Ming Yue District Elderly Community Centre\n",
        "9012 done."
       ]
      },
      {
       "output_type": "stream",
       "stream": "stdout",
       "text": [
        "\n",
        "Mingde Scholarship Fund\n",
        "9013 done."
       ]
      },
      {
       "output_type": "stream",
       "stream": "stdout",
       "text": [
        "\n",
        "MINISTRY ON THE ROCK\n",
        "9017 done."
       ]
      },
      {
       "output_type": "stream",
       "stream": "stdout",
       "text": [
        "\n",
        "Mink Anglo-Chinese Kindergarten\n",
        "9018 done."
       ]
      },
      {
       "output_type": "stream",
       "stream": "stdout",
       "text": [
        "\n",
        "Mission Covenant Church Charis Church\n",
        "9028 done."
       ]
      },
      {
       "output_type": "stream",
       "stream": "stdout",
       "text": [
        "\n",
        "Mission Covenant Church Grace Church\n",
        "9029 done."
       ]
      },
      {
       "output_type": "stream",
       "stream": "stdout",
       "text": [
        "\n",
        "Mission Covenant Church Holm Glad Church\n",
        "9030 done."
       ]
      },
      {
       "output_type": "stream",
       "stream": "stdout",
       "text": [
        "\n",
        "Mission Covenant Church Holm Glad College\n",
        "9031 done."
       ]
      },
      {
       "output_type": "stream",
       "stream": "stdout",
       "text": [
        "\n",
        "Mission Covenant Church Holm Glad Primary School\n",
        "9033 done."
       ]
      },
      {
       "output_type": "stream",
       "stream": "stdout",
       "text": [
        "\n",
        "Mission Covenant Church Joy Church\n",
        "9034 done."
       ]
      },
      {
       "output_type": "stream",
       "stream": "stdout",
       "text": [
        "\n",
        "Mission Covenant Church Kin Lok Church\n",
        "9035 done."
       ]
      },
      {
       "output_type": "stream",
       "stream": "stdout",
       "text": [
        "\n",
        "Mission Covenant Church Leto Church\n",
        "9036 done."
       ]
      },
      {
       "output_type": "stream",
       "stream": "stdout",
       "text": [
        "\n",
        "MISSION COVENANT CHURCH\n",
        "9037 done."
       ]
      },
      {
       "output_type": "stream",
       "stream": "stdout",
       "text": [
        "\n",
        "Mission Covenant Church Little Angel\n",
        "9038 done."
       ]
      },
      {
       "output_type": "stream",
       "stream": "stdout",
       "text": [
        "\n",
        "Mission Covenant Church Little Angel\n",
        "9039 done."
       ]
      },
      {
       "output_type": "stream",
       "stream": "stdout",
       "text": [
        "\n",
        "Mission Covenant Church Oriental Church\n",
        "9041 done."
       ]
      },
      {
       "output_type": "stream",
       "stream": "stdout",
       "text": [
        "\n",
        "Mission Covenant Church Providence Church\n",
        "9042 done."
       ]
      },
      {
       "output_type": "stream",
       "stream": "stdout",
       "text": [
        "\n",
        "Mission Covenant Church Richland Church\n",
        "9043 done."
       ]
      },
      {
       "output_type": "stream",
       "stream": "stdout",
       "text": [
        "\n",
        "Mission Covenant Church Sister Annies Kindergarten\n",
        "9044 done."
       ]
      },
      {
       "output_type": "stream",
       "stream": "stdout",
       "text": [
        "\n",
        "Mission Covenant Church Sister Annies Nursery\n",
        "9045 done."
       ]
      },
      {
       "output_type": "stream",
       "stream": "stdout",
       "text": [
        "\n",
        "Mission Covenant Church Sister Randis Home for the Elderly\n",
        "9046 done."
       ]
      },
      {
       "output_type": "stream",
       "stream": "stdout",
       "text": [
        "\n",
        "Mission Covenant Church Yan Lam Church\n",
        "9047 done."
       ]
      },
      {
       "output_type": "stream",
       "stream": "stdout",
       "text": [
        "\n",
        "Mission Covenant Church Yiu On Church\n",
        "9048 done."
       ]
      },
      {
       "output_type": "stream",
       "stream": "stdout",
       "text": [
        "\n",
        "Mission Covenant Church Yiu On Tong Social Centre for The Elderly\n",
        "9049 done."
       ]
      },
      {
       "output_type": "stream",
       "stream": "stdout",
       "text": [
        "\n",
        "Mission Distributor\n",
        "9050 done."
       ]
      },
      {
       "output_type": "stream",
       "stream": "stdout",
       "text": [
        "\n",
        "Mission Harvest Church\n",
        "9051 done."
       ]
      },
      {
       "output_type": "stream",
       "stream": "stdout",
       "text": [
        "\n",
        "MISSION OUTREACH OF THE SHANTOU BAPTIST CHURCHES OF\n",
        "9054 done."
       ]
      },
      {
       "output_type": "stream",
       "stream": "stdout",
       "text": [
        "\n",
        "Missionary Sisters of The Immaculate Conception - Tsz Wan Shan Road\n",
        "9058 done."
       ]
      },
      {
       "output_type": "stream",
       "stream": "stdout",
       "text": [
        "\n",
        "Missionay Sisters of the Immaculate Conception - Good Hope Convent\n",
        "9061 done."
       ]
      },
      {
       "output_type": "stream",
       "stream": "stdout",
       "text": [
        "\n",
        "MIU FA BUDDHIST ASSOCIATION\n",
        "9062 done."
       ]
      },
      {
       "output_type": "stream",
       "stream": "stdout",
       "text": [
        "\n",
        "Miu Fat Buddhist Monastery\n",
        "9064 done."
       ]
      },
      {
       "output_type": "stream",
       "stream": "stdout",
       "text": [
        "\n",
        "Miu Fat Ching She\n",
        "9065 done."
       ]
      },
      {
       "output_type": "stream",
       "stream": "stdout",
       "text": [
        "\n",
        "MMM INTERNATIONAL\n",
        "9067 done."
       ]
      },
      {
       "output_type": "stream",
       "stream": "stdout",
       "text": [
        "\n",
        "Mobile Dental Service for the Elderly\n",
        "9068 done."
       ]
      },
      {
       "output_type": "stream",
       "stream": "stdout",
       "text": [
        "\n",
        "Mong Kok Agnes English Kindergarten\n",
        "9071 done."
       ]
      },
      {
       "output_type": "stream",
       "stream": "stdout",
       "text": [
        "\n",
        "MONGKOK BAPTIST CHURCH\n",
        "9074 done."
       ]
      },
      {
       "output_type": "stream",
       "stream": "stdout",
       "text": [
        "\n",
        "Mongkok Continuing Education Centre\n",
        "9076 done."
       ]
      },
      {
       "output_type": "stream",
       "stream": "stdout",
       "text": [
        "\n",
        "MONGKOK KAI-FONG ASSOCIATION\n",
        "9077 done."
       ]
      },
      {
       "output_type": "stream",
       "stream": "stdout",
       "text": [
        "\n",
        "MONGKOK LING LIANG CHURCH\n",
        "9078 done."
       ]
      },
      {
       "output_type": "stream",
       "stream": "stdout",
       "text": [
        "\n",
        "Moon Lok Kindergarten\n",
        "9082 done."
       ]
      },
      {
       "output_type": "stream",
       "stream": "stdout",
       "text": [
        "\n",
        "Moon Lok Social Service Centre\n",
        "9083 done."
       ]
      },
      {
       "output_type": "stream",
       "stream": "stdout",
       "text": [
        "\n",
        "MOR China Ministry\n",
        "9085 done."
       ]
      },
      {
       "output_type": "stream",
       "stream": "stdout",
       "text": [
        "\n",
        "MORAL EDUCATION CONCERN GROUP\n",
        "9086 done."
       ]
      },
      {
       "output_type": "stream",
       "stream": "stdout",
       "text": [
        "\n",
        "Morning Star Lutheran Church\n",
        "9089 done."
       ]
      },
      {
       "output_type": "stream",
       "stream": "stdout",
       "text": [
        "\n",
        "Mother of Christ Church\n",
        "9094 done."
       ]
      },
      {
       "output_type": "stream",
       "stream": "stdout",
       "text": [
        "\n",
        "Mother of Good Counsel Church\n",
        "9095 done."
       ]
      },
      {
       "output_type": "stream",
       "stream": "stdout",
       "text": [
        "\n",
        "MOTHER PROVINCIAL OF THE DAUGHTERS OF MARY HELP OF CHRISTIANS\n",
        "9096 done."
       ]
      },
      {
       "output_type": "stream",
       "stream": "stdout",
       "text": [
        "\n",
        "Mountain View Church of Seventh-day Adventists\n",
        "9105 done."
       ]
      },
      {
       "output_type": "stream",
       "stream": "stdout",
       "text": [
        "\n",
        "Mr. & Mrs. Lawrence Wong Lutheran Home for the Elderly\n",
        "9106 done."
       ]
      },
      {
       "output_type": "stream",
       "stream": "stdout",
       "text": [
        "\n",
        "Mr. & Mrs. Lawrence Wong Lutheran Secon Home for the Elderly\n",
        "9107 done."
       ]
      },
      {
       "output_type": "stream",
       "stream": "stdout",
       "text": [
        "\n",
        "Mrs. Leung Kwai Yee Lutheran Home for the Elderly\n",
        "9111 done."
       ]
      },
      {
       "output_type": "stream",
       "stream": "stdout",
       "text": [
        "\n",
        "Mrs. Mann Tai Po Rhenish Neighbourhood Elderly Centre\n",
        "9113 done."
       ]
      },
      {
       "output_type": "stream",
       "stream": "stdout",
       "text": [
        "\n",
        "MSI PROFESSIONAL SERVICES\n",
        "9114 done."
       ]
      },
      {
       "output_type": "stream",
       "stream": "stdout",
       "text": [
        "\n",
        "MSI Professional Services - Chengdu Representative Office\n",
        "9115 done."
       ]
      },
      {
       "output_type": "stream",
       "stream": "stdout",
       "text": [
        "\n",
        "MTW Jubilee Church\n",
        "9116 done."
       ]
      },
      {
       "output_type": "stream",
       "stream": "stdout",
       "text": [
        "\n",
        "Mu Kuang English School\n",
        "9117 done."
       ]
      },
      {
       "output_type": "stream",
       "stream": "stdout",
       "text": [
        "\n",
        "MU KUANG SCHOOL\n",
        "9118 done."
       ]
      },
      {
       "output_type": "stream",
       "stream": "stdout",
       "text": [
        "\n",
        "Mu Min Cumberland Presbyterian Church\n",
        "9119 done."
       ]
      },
      {
       "output_type": "stream",
       "stream": "stdout",
       "text": [
        "\n",
        "Mu Min Network Service Centre\n",
        "9120 done."
       ]
      },
      {
       "output_type": "stream",
       "stream": "stdout",
       "text": [
        "\n",
        "Mui Wo Church\n",
        "9122 done."
       ]
      },
      {
       "output_type": "stream",
       "stream": "stdout",
       "text": [
        "\n",
        "Mui Woh Church Kindergarten\n",
        "9123 done."
       ]
      },
      {
       "output_type": "stream",
       "stream": "stdout",
       "text": [
        "\n",
        "MULTI-MEDIA OASIS\n",
        "9125 done."
       ]
      },
      {
       "output_type": "stream",
       "stream": "stdout",
       "text": [
        "\n",
        "Mun Yan Lutheran Church\n",
        "9127 done."
       ]
      },
      {
       "output_type": "stream",
       "stream": "stdout",
       "text": [
        "\n",
        "Municipal Services Scholarship Fund\n",
        "9128 done."
       ]
      },
      {
       "output_type": "stream",
       "stream": "stdout",
       "text": [
        "\n",
        "MUNSANG COLLEGE\n",
        "9130 done."
       ]
      },
      {
       "output_type": "stream",
       "stream": "stdout",
       "text": [
        "\n",
        "MUNSANG COLLEGE KINDERGARTEN\n",
        "9133 done."
       ]
      },
      {
       "output_type": "stream",
       "stream": "stdout",
       "text": [
        "\n",
        "MUSIC LOVER CHOIR OF\n",
        "9142 done."
       ]
      },
      {
       "output_type": "stream",
       "stream": "stdout",
       "text": [
        "\n",
        "Muslim Community Kindergarten\n",
        "9145 done."
       ]
      },
      {
       "output_type": "stream",
       "stream": "stdout",
       "text": [
        "\n",
        "Muslim Secondary School Building & Fund Raising Committee\n",
        "9146 done."
       ]
      },
      {
       "output_type": "stream",
       "stream": "stdout",
       "text": [
        "\n",
        "MUSTARD SEEDLINGS\n",
        "9149 done."
       ]
      },
      {
       "output_type": "stream",
       "stream": "stdout",
       "text": [
        "\n",
        "My Concept\n",
        "9153 done."
       ]
      },
      {
       "output_type": "stream",
       "stream": "stdout",
       "text": [
        "\n",
        "MY HOME\n",
        "9155 done."
       ]
      },
      {
       "output_type": "stream",
       "stream": "stdout",
       "text": [
        "\n",
        "MYRIAD VIRTUES SOCIETY\n",
        "9160 done."
       ]
      },
      {
       "output_type": "stream",
       "stream": "stdout",
       "text": [
        "\n",
        "N.M.S. Lutheran Kindergarten\n",
        "9162 done."
       ]
      },
      {
       "output_type": "stream",
       "stream": "stdout",
       "text": [
        "\n",
        "N.M.S. Lutheran Kindergarten\n",
        "9163 done."
       ]
      },
      {
       "output_type": "stream",
       "stream": "stdout",
       "text": [
        "\n",
        "N.T. Assemblies of God Church Wai Yan Kindergarten\n",
        "9164 done."
       ]
      },
      {
       "output_type": "stream",
       "stream": "stdout",
       "text": [
        "\n",
        "N.T. Tin Sum Anglo-Chinese Kindergarten\n",
        "9165 done."
       ]
      },
      {
       "output_type": "stream",
       "stream": "stdout",
       "text": [
        "\n",
        "N.T. Women & Juveniles Welfare Association - Cheung Fat Estate Children Garden\n",
        "9166 done."
       ]
      },
      {
       "output_type": "stream",
       "stream": "stdout",
       "text": [
        "\n",
        "NAM PHUONG FOUNDATION\n",
        "9169 done."
       ]
      },
      {
       "output_type": "stream",
       "stream": "stdout",
       "text": [
        "\n",
        "Nam Wah Catholic Secondary School\n",
        "9171 done."
       ]
      },
      {
       "output_type": "stream",
       "stream": "stdout",
       "text": [
        "\n",
        "NAM YING KINDERGARTEN\n",
        "9172 done."
       ]
      },
      {
       "output_type": "stream",
       "stream": "stdout",
       "text": [
        "\n",
        "NAMCHAK CHARITY\n",
        "9174 done."
       ]
      },
      {
       "output_type": "stream",
       "stream": "stdout",
       "text": [
        "\n",
        "Narrow Church\n",
        "9177 done."
       ]
      },
      {
       "output_type": "stream",
       "stream": "stdout",
       "text": [
        "\n",
        "Nathan Road Lutheran Church\n",
        "9179 done."
       ]
      },
      {
       "output_type": "stream",
       "stream": "stdout",
       "text": [
        "\n",
        "NATIONAL EDUCATION CENTRE\n",
        "9181 done."
       ]
      },
      {
       "output_type": "stream",
       "stream": "stdout",
       "text": [
        "\n",
        "NATIONAL EDUCATION SERVICES CENTRE\n",
        "9182 done."
       ]
      },
      {
       "output_type": "stream",
       "stream": "stdout",
       "text": [
        "\n",
        "NAVIGATOR GOSPEL MINISTRIES\n",
        "9186 done."
       ]
      },
      {
       "output_type": "stream",
       "stream": "stdout",
       "text": [
        "\n",
        "NAVIGATOR GOSPEL MINISTRIES\n",
        "9187 done."
       ]
      },
      {
       "output_type": "stream",
       "stream": "stdout",
       "text": [
        "\n",
        "NAVTI FOUNDATION\n",
        "9188 done."
       ]
      },
      {
       "output_type": "stream",
       "stream": "stdout",
       "text": [
        "\n",
        "Neighborhood Centre\n",
        "9191 done."
       ]
      },
      {
       "output_type": "stream",
       "stream": "stdout",
       "text": [
        "\n",
        "Neighbourhood\n",
        "9192 done."
       ]
      },
      {
       "output_type": "stream",
       "stream": "stdout",
       "text": [
        "\n",
        "NEIGHBOURHOOD & WORKERS EDUCATION CENTRE\n",
        "9193 done."
       ]
      },
      {
       "output_type": "stream",
       "stream": "stdout",
       "text": [
        "\n",
        "NEIGHBOURHOOD & WORKERS SERVICE CENTRE\n",
        "9195 done."
       ]
      },
      {
       "output_type": "stream",
       "stream": "stdout",
       "text": [
        "\n",
        "Neighbourhood & Workers Service Centre Tsing Yi Mutual Help Child Care Centre\n",
        "9196 done."
       ]
      },
      {
       "output_type": "stream",
       "stream": "stdout",
       "text": [
        "\n",
        "Neighbourhood Advice-Action Council Fanling Day Nursery\n",
        "9197 done."
       ]
      },
      {
       "output_type": "stream",
       "stream": "stdout",
       "text": [
        "\n",
        "Neighbourhood Advice-Action Council Tung Chung Day Nursery\n",
        "9198 done."
       ]
      },
      {
       "output_type": "stream",
       "stream": "stdout",
       "text": [
        "\n",
        "Neighbourhood Advice-Action Council Tung Yan Day Nursery\n",
        "9199 done."
       ]
      },
      {
       "output_type": "stream",
       "stream": "stdout",
       "text": [
        "\n",
        "Neighbourhood Advice-Action Council Yuen Long Day Nursery\n",
        "9200 done."
       ]
      },
      {
       "output_type": "stream",
       "stream": "stdout",
       "text": [
        "\n",
        "NEIGHBOURHOOD ADVICE-ACTION COUNCIL\n",
        "9201 done."
       ]
      },
      {
       "output_type": "stream",
       "stream": "stdout",
       "text": [
        "\n",
        "Neighbourhood and Workers Education Centre Tin Shui Wai Women Integrated Service Centre\n",
        "9202 done."
       ]
      },
      {
       "output_type": "stream",
       "stream": "stdout",
       "text": [
        "\n",
        "Neighbourhood Caring Centre\n",
        "9204 done."
       ]
      },
      {
       "output_type": "stream",
       "stream": "stdout",
       "text": [
        "\n",
        "Neighbourhood Support Child Care Project\n",
        "9205 done."
       ]
      },
      {
       "output_type": "stream",
       "stream": "stdout",
       "text": [
        "\n",
        "NESBITT CENTRE\n",
        "9209 done."
       ]
      },
      {
       "output_type": "stream",
       "stream": "stdout",
       "text": [
        "\n",
        "Nethersole School of Nursing\n",
        "9210 done."
       ]
      },
      {
       "output_type": "stream",
       "stream": "stdout",
       "text": [
        "\n",
        "NETWORK J INTERNATIONAL\n",
        "9211 done."
       ]
      },
      {
       "output_type": "stream",
       "stream": "stdout",
       "text": [
        "\n",
        "NEURO UNITED\n",
        "9212 done."
       ]
      },
      {
       "output_type": "stream",
       "stream": "stdout",
       "text": [
        "\n",
        "New Asia Institute of Advanced Chinese Studies\n",
        "9216 done."
       ]
      },
      {
       "output_type": "stream",
       "stream": "stdout",
       "text": [
        "\n",
        "New Asia Middle School\n",
        "9217 done."
       ]
      },
      {
       "output_type": "stream",
       "stream": "stdout",
       "text": [
        "\n",
        "NEW CENTURY SOCIETY\n",
        "9222 done."
       ]
      },
      {
       "output_type": "stream",
       "stream": "stdout",
       "text": [
        "\n",
        "NEW COVENANT MINISTRIES INTERNATIONAL\n",
        "9229 done."
       ]
      },
      {
       "output_type": "stream",
       "stream": "stdout",
       "text": [
        "\n",
        "New Heaven and Earth Publisher\n",
        "9235 done."
       ]
      },
      {
       "output_type": "stream",
       "stream": "stdout",
       "text": [
        "\n",
        "New Home\n",
        "9236 done."
       ]
      },
      {
       "output_type": "stream",
       "stream": "stdout",
       "text": [
        "\n",
        "NEW HOME ASSOCIATION\n",
        "9237 done."
       ]
      },
      {
       "output_type": "stream",
       "stream": "stdout",
       "text": [
        "\n",
        "NEW HOPE BAPTIST CHURCH\n",
        "9238 done."
       ]
      },
      {
       "output_type": "stream",
       "stream": "stdout",
       "text": [
        "\n",
        "New Jade Elementi International Nursery\n",
        "9242 done."
       ]
      },
      {
       "output_type": "stream",
       "stream": "stdout",
       "text": [
        "\n",
        "New Jade Elementi Kindergarten\n",
        "9243 done."
       ]
      },
      {
       "output_type": "stream",
       "stream": "stdout",
       "text": [
        "\n",
        "NEW KOWLOON WOMEN ASSOCIATION\n",
        "9244 done."
       ]
      },
      {
       "output_type": "stream",
       "stream": "stdout",
       "text": [
        "\n",
        "New Kowloon Women Association Lok Wah Nursery\n",
        "9245 done."
       ]
      },
      {
       "output_type": "stream",
       "stream": "stdout",
       "text": [
        "\n",
        "New Kowloon Women Association Sha Kok Nursery\n",
        "9246 done."
       ]
      },
      {
       "output_type": "stream",
       "stream": "stdout",
       "text": [
        "\n",
        "New Kowloon Women Association Sun Chui Nursery\n",
        "9247 done."
       ]
      },
      {
       "output_type": "stream",
       "stream": "stdout",
       "text": [
        "\n",
        "New Kowloon Women Association Tsz Wan Shan Nursery\n",
        "9248 done."
       ]
      },
      {
       "output_type": "stream",
       "stream": "stdout",
       "text": [
        "\n",
        "NEW LIFE BAPTIST CHURCH\n",
        "9249 done."
       ]
      },
      {
       "output_type": "stream",
       "stream": "stdout",
       "text": [
        "\n",
        "New Life Building Halfway House\n",
        "9250 done."
       ]
      },
      {
       "output_type": "stream",
       "stream": "stdout",
       "text": [
        "\n",
        "New Life Building Halfway House\n",
        "9251 done."
       ]
      },
      {
       "output_type": "stream",
       "stream": "stdout",
       "text": [
        "\n",
        "New Life Building Halfway House\n",
        "9252 done."
       ]
      },
      {
       "output_type": "stream",
       "stream": "stdout",
       "text": [
        "\n",
        "New Life Building Long Stay Care Home\n",
        "9253 done."
       ]
      },
      {
       "output_type": "stream",
       "stream": "stdout",
       "text": [
        "\n",
        "New Life Building Sheltered Workshop\n",
        "9254 done."
       ]
      },
      {
       "output_type": "stream",
       "stream": "stdout",
       "text": [
        "\n",
        "New Life Church of Christ Homantin\n",
        "9256 done."
       ]
      },
      {
       "output_type": "stream",
       "stream": "stdout",
       "text": [
        "\n",
        "New Life Church of Christ\n",
        "9258 done."
       ]
      },
      {
       "output_type": "stream",
       "stream": "stdout",
       "text": [
        "\n",
        "New Life Convenience Store\n",
        "9259 done."
       ]
      },
      {
       "output_type": "stream",
       "stream": "stdout",
       "text": [
        "\n",
        "New Life Farm\n",
        "9260 done."
       ]
      },
      {
       "output_type": "stream",
       "stream": "stdout",
       "text": [
        "\n",
        "New Life Gourmet\n",
        "9261 done."
       ]
      },
      {
       "output_type": "stream",
       "stream": "stdout",
       "text": [
        "\n",
        "New Life Jubilee Hostel\n",
        "9262 done."
       ]
      },
      {
       "output_type": "stream",
       "stream": "stdout",
       "text": [
        "\n",
        "NEW LIFE MISSION CHURCH\n",
        "9264 done."
       ]
      },
      {
       "output_type": "stream",
       "stream": "stdout",
       "text": [
        "\n",
        "New Life Restaurant\n",
        "9265 done."
       ]
      },
      {
       "output_type": "stream",
       "stream": "stdout",
       "text": [
        "\n"
       ]
      }
     ],
     "prompt_number": 4
    },
    {
     "cell_type": "code",
     "collapsed": false,
     "input": [],
     "language": "python",
     "metadata": {},
     "outputs": []
    }
   ],
   "metadata": {}
  }
 ]
}