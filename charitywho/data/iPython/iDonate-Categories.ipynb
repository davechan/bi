{
 "metadata": {
  "name": ""
 },
 "nbformat": 3,
 "nbformat_minor": 0,
 "worksheets": [
  {
   "cells": [
    {
     "cell_type": "code",
     "collapsed": false,
     "input": [
      "#!/usr/bin/env python\n",
      "\n",
      "from time import sleep\n",
      "import xlsxwriter\n",
      "import urllib, urllib2\n",
      "import requests\n",
      "import lxml.html\n",
      "import re\n",
      "import cgi\n",
      "from bs4 import BeautifulSoup\n",
      "from HTMLParser import HTMLParser\n",
      "\n",
      "class MLStripper(HTMLParser):\n",
      "    def __init__(self):\n",
      "        self.reset()\n",
      "        self.fed = []\n",
      "    def handle_data(self, d):\n",
      "        self.fed.append(d)\n",
      "    def get_data(self):\n",
      "        return ''.join(self.fed)\n",
      "\n",
      "def strip_tags(html):\n",
      "    s = MLStripper()\n",
      "    s.feed(html)\n",
      "    return s.get_data()\n",
      "\n",
      "\n",
      "\n",
      "myCalaisAPI_key = 'bj66f35p6h2tk5pswgdpxsuw' # your Calais API key.\n",
      "calaisREST_URL = 'http://api.opencalais.com/enlighten/rest/' # this is the older REST interface.\n",
      "\n",
      "calaisParams = '''\n",
      "<c:params xmlns:c=\"http://s.opencalais.com/1/pred/\" xmlns:rdf=\"http://www.w3.org/1999/02/22-rdf-syntax-ns#\">\n",
      "  <c:processingDirectives c:contentType=\"text/txt\"\n",
      "      c:enableMetadataType=\"SocialTags\"\n",
      "      c:outputFormat=\"Text/Simple\"/>\n",
      "  <c:userDirectives/>\n",
      "  <c:externalMetadata/>\n",
      "</c:params>\n",
      "'''\n",
      "\n",
      "\n",
      "# Create an new Excel file and add a worksheet.\n",
      "workbook = xlsxwriter.Workbook('iDonate-category.xlsx')\n",
      "worksheet = workbook.add_worksheet()\n",
      "\n",
      "# Start from the first cell. Rows and columns are zero indexed.\n",
      "row = 0\n",
      "col = 0\n",
      "\n",
      "headers = ['OrgLink', 'Type', 'Tag']\n",
      "# Iterate over the data and write it out\n",
      "for item in (headers):\n",
      "    worksheet.write(0, col, item)\n",
      "    col += 1\n",
      "\n",
      "#page up to 23\n",
      "for page in range(1,24):\n",
      "    url = \"http://social.theidonate.com/en/ranking?sort=rank&q=&page=\"+str(page)+\"&rank=&demand=\"\n",
      "    \n",
      "    html = requests.get(url)\n",
      "    soup = BeautifulSoup(html.content)\n",
      "        \n",
      "    for resultorg in soup.findAll('div',{'class':'charity-summary'}):\n",
      "        # Get name\n",
      "        orgname = resultorg('span')[-1].string\n",
      "        print orgname\n",
      "    \n",
      "        # Get link\n",
      "        orglink = resultorg('a')[0]['href']\n",
      "        #print orglink\n",
      "        \n",
      "        # Get detail data from orglink\n",
      "        baseurl = \"http://social.theidonate.com\"\n",
      "        urldetail = baseurl + str(orglink)\n",
      "        html1 = requests.get(urldetail)\n",
      "        soup1 = BeautifulSoup(html1.content)\n",
      "    \n",
      "        description = strip_tags(str(soup1.find('p',{'class':'description'})))\n",
      "        print description\n",
      "        \n",
      "        dataToSend = urllib.urlencode({\n",
      "        'licenseID': myCalaisAPI_key,\n",
      "        'content': description,\n",
      "        'paramsXML': calaisParams\n",
      "        })\n",
      "        \n",
      "        #parse description tags\n",
      "        results = urllib2.urlopen(calaisREST_URL, dataToSend).read()\n",
      "        soup2 = BeautifulSoup(results)\n",
      "        #print soup2\n",
      "        \n",
      "        for child in soup2.find_all('socialtag'):\n",
      "            if child.find_all('originalvalue'):\n",
      "                child.originalvalue.decompose()\n",
      "                if child['importance'] == \"1\":\n",
      "                    print re.sub('-',' ',child.string)\n",
      "                    data = ([str(orglink), \"SocialTag\", re.sub('-',' ',child.string)])\n",
      "                    row += 1\n",
      "                    col = 0\n",
      "                    print data\n",
      "                    for item in (data):\n",
      "                        worksheet.write(row, col, item)\n",
      "                        col += 1\n",
      "                    \n",
      "        for child in soup2.find_all('industryterm'):\n",
      "            print re.sub('-',' ',child.string)\n",
      "            data = ([str(orglink), \"IndustryTerm\",  re.sub('-',' ',child.string)])\n",
      "            row += 1\n",
      "            col = 0\n",
      "            print data\n",
      "            for item in (data):\n",
      "                worksheet.write(row, col, item)\n",
      "                col += 1\n",
      "\n",
      "        for child in soup2.find_all('topic'):\n",
      "            print re.sub('-',' ',child.string)\n",
      "            data = ([str(orglink), \"Topic\",  re.sub('-',' ',child.string)])\n",
      "            row += 1\n",
      "            col = 0\n",
      "            print data\n",
      "            for item in (data):\n",
      "                worksheet.write(row, col, item)\n",
      "                col += 1\n",
      "        \n",
      "        #data = [str(orgname).decode(\"utf-8\", \"replace\"), str(orglink).decode(\"utf-8\", \"replace\"), str(logolink).decode(\"utf-8\", \"replace\"), str(review).decode(\"utf-8\", \"replace\"), str(website).decode(\"utf-8\", \"replace\"), str(description).decode(\"utf-8\", \"replace\"),fundneed]\n",
      "        \n",
      "        sleep(5)\n",
      "\n",
      "workbook.close()\n",
      "\n",
      "# get also chinese version and link using Orglink\n"
     ],
     "language": "python",
     "metadata": {},
     "outputs": [
      {
       "output_type": "stream",
       "stream": "stdout",
       "text": [
        "Hong Kong Spinocerebellar Ataxia Association\n",
        "A self help organization for people with Spinocerebellar Ataxia \r\n",
        "Services includes visiting, seminars, recreational activities, training courses, and medical policy advocacy"
       ]
      },
      {
       "output_type": "stream",
       "stream": "stdout",
       "text": [
        "\n",
        "Spinocerebellar ataxia"
       ]
      },
      {
       "output_type": "stream",
       "stream": "stdout",
       "text": [
        "\n",
        "['/en/charityindex/HKSCAA', 'SocialTag', u'Spinocerebellar ataxia']\n",
        "Ataxia\n",
        "['/en/charityindex/HKSCAA', 'SocialTag', u'Ataxia']\n",
        "Cerebellar ataxia\n",
        "['/en/charityindex/HKSCAA', 'SocialTag', u'Cerebellar ataxia']\n",
        "Social Issues\n",
        "['/en/charityindex/HKSCAA', 'Topic', u'Social Issues']\n",
        "Baptist Oi Kwan Social Service"
       ]
      },
      {
       "output_type": "stream",
       "stream": "stdout",
       "text": [
        "\n",
        "To provide social service with a heart of Christ \r\n",
        "Serving infants, children, youth, elderly, and family \r\n",
        "Providing psychological consultancy services"
       ]
      },
      {
       "output_type": "stream",
       "stream": "stdout",
       "text": [
        "\n",
        "psychological consultancy services"
       ]
      },
      {
       "output_type": "stream",
       "stream": "stdout",
       "text": [
        "\n",
        "['/en/charityindex/OiKwan', 'IndustryTerm', u'psychological consultancy services']\n",
        "Social Issues\n",
        "['/en/charityindex/OiKwan', 'Topic', u'Social Issues']\n",
        "Health_Medical_Pharma\n",
        "['/en/charityindex/OiKwan', 'Topic', u'Health_Medical_Pharma']\n",
        "(China)Liangshan Yi for Empowerment Center"
       ]
      },
      {
       "output_type": "stream",
       "stream": "stdout",
       "text": [
        "\n",
        "To serve the women and children influenced by drugs, AIDS and poverty \r\n",
        "To start charitable campaign to protect the rights of women and children in villages\r\n",
        "To operating classes in 5 cities and each class serve 40-50 orphans and has helped more than 235 orphans till now"
       ]
      },
      {
       "output_type": "stream",
       "stream": "stdout",
       "text": [
        "\n",
        "Child welfare"
       ]
      },
      {
       "output_type": "stream",
       "stream": "stdout",
       "text": [
        "\n",
        "['/en/charityindex/LYFE', 'SocialTag', u'Child welfare']\n",
        "Family\n",
        "['/en/charityindex/LYFE', 'SocialTag', u'Family']\n",
        "Human development\n",
        "['/en/charityindex/LYFE', 'SocialTag', u'Human development']\n",
        "Social Issues\n",
        "['/en/charityindex/LYFE', 'Topic', u'Social Issues']\n",
        "Education\n",
        "['/en/charityindex/LYFE', 'Topic', u'Education']\n",
        "Children\u2019s Heart Foundation"
       ]
      },
      {
       "output_type": "stream",
       "stream": "stdout",
       "text": [
        "\n",
        "Services include grant for surgical equipment, purchase of medical equipment, arranging exchanges overseas doctors for medical visits for parents of hospitalized children residential services and education \r\n",
        "Seminars held regularly to raise public awareness of congenital heart disease \r\n",
        "To provide economic, psychological and information support and assistance to children with congenital heart disease and their families\r\n",
        "To promote research and treatment of congenital heart disease"
       ]
      },
      {
       "output_type": "stream",
       "stream": "stdout",
       "text": [
        "\n",
        "Medicine"
       ]
      },
      {
       "output_type": "stream",
       "stream": "stdout",
       "text": [
        "\n",
        "['/en/charityindex/chf', 'SocialTag', u'Medicine']\n",
        "Congenital heart disease\n",
        "['/en/charityindex/chf', 'SocialTag', u'Congenital heart disease']\n",
        "Health\n",
        "['/en/charityindex/chf', 'SocialTag', u'Health']\n",
        "surgical equipment\n",
        "['/en/charityindex/chf', 'IndustryTerm', u'surgical equipment']\n",
        "treatment of congenital heart disease\n",
        "['/en/charityindex/chf', 'IndustryTerm', u'treatment of congenital heart disease']\n",
        "hospitalized children residential services\n",
        "['/en/charityindex/chf', 'IndustryTerm', u'hospitalized children residential services']\n",
        "Health_Medical_Pharma\n",
        "['/en/charityindex/chf', 'Topic', u'Health_Medical_Pharma']\n",
        "Lok Chi Association"
       ]
      },
      {
       "output_type": "stream",
       "stream": "stdout",
       "text": [
        "\n",
        "Mainly serve mild to moderate mentally handicapped patients over 12 years old \r\n",
        "To provide social and recreational activities to enhance their quality of life and social inclusion \r\n",
        "To educate the general public so they understand and accept people with intellectual disabilities \r\n",
        "To introduce a variety of new knowledge, new ideas and new trends \r\n",
        "To share experience with parents, professionals and all who care for the welfare of people with intellectual disabilities \r\n",
        "Youth centers to promote recreational activities for youth who are suffering in mental retardation."
       ]
      },
      {
       "output_type": "stream",
       "stream": "stdout",
       "text": [
        "\n",
        "Education"
       ]
      },
      {
       "output_type": "stream",
       "stream": "stdout",
       "text": [
        "\n",
        "['/en/charityindex/lca', 'SocialTag', u'Education']\n",
        "Educational psychology\n",
        "['/en/charityindex/lca', 'SocialTag', u'Educational psychology']\n",
        "Disability\n",
        "['/en/charityindex/lca', 'SocialTag', u'Disability']\n",
        "Social Issues\n",
        "['/en/charityindex/lca', 'Topic', u'Social Issues']\n",
        "Health_Medical_Pharma\n",
        "['/en/charityindex/lca', 'Topic', u'Health_Medical_Pharma']\n",
        "The Lok SIn Tong Benevolent Society Kowloon"
       ]
      },
      {
       "output_type": "stream",
       "stream": "stdout",
       "text": [
        "\n",
        "- To set up schools \r\n",
        "- To provide a wide range of services, including health care, education and welfare of the elderly, and actively supports, also sponsors various social welfare and civic education activities \r\n",
        "- To present medical application, disaster relief and the Elderly Children Education Fund \r\n",
        "- It has more than 30 affiliates including schools, nursing homes, medical clinics, recreation centers"
       ]
      },
      {
       "output_type": "stream",
       "stream": "stdout",
       "text": [
        "\n",
        "Nursing"
       ]
      },
      {
       "output_type": "stream",
       "stream": "stdout",
       "text": [
        "\n",
        "['/en/charityindex/lst', 'SocialTag', u'Nursing']\n",
        "Welfare\n",
        "['/en/charityindex/lst', 'SocialTag', u'Welfare']\n",
        "Healthcare in the United States\n",
        "['/en/charityindex/lst', 'SocialTag', u'Healthcare in the United States']\n",
        "Disaster_Accident\n",
        "['/en/charityindex/lst', 'Topic', u'Disaster_Accident']\n",
        "Education\n",
        "['/en/charityindex/lst', 'Topic', u'Education']\n",
        "Health_Medical_Pharma\n",
        "['/en/charityindex/lst', 'Topic', u'Health_Medical_Pharma']\n",
        "The Chinese Muslim Cultural and Fraternal Association"
       ]
      },
      {
       "output_type": "stream",
       "stream": "stdout",
       "text": [
        "\n",
        "To promote religious and education\r\n",
        "Founded 9 schools\r\n",
        "To raise fund and assist poor Muslim all over the world"
       ]
      },
      {
       "output_type": "stream",
       "stream": "stdout",
       "text": [
        "\n",
        "National Muslim Education Council"
       ]
      },
      {
       "output_type": "stream",
       "stream": "stdout",
       "text": [
        "\n",
        "['/en/charityindex/ChineseMuslim', 'SocialTag', u'National Muslim Education Council']\n",
        "Islam in the United States\n",
        "['/en/charityindex/ChineseMuslim', 'SocialTag', u'Islam in the United States']\n",
        "Education\n",
        "['/en/charityindex/ChineseMuslim', 'Topic', u'Education']\n",
        "Religion_Belief\n",
        "['/en/charityindex/ChineseMuslim', 'Topic', u'Religion_Belief']\n",
        "Heung Hoi Ching Kok Lin Association"
       ]
      },
      {
       "output_type": "stream",
       "stream": "stdout",
       "text": [
        "\n",
        "Services include housing elderly, education, financial relief etc \r\n",
        "Several homes under its wings that can house about 870 \r\n",
        "Senior recreation centres, community care services, primary/secondary schools, schools for special education, charitable foundations and youth groups."
       ]
      },
      {
       "output_type": "stream",
       "stream": "stdout",
       "text": [
        "\n",
        "British honours system"
       ]
      },
      {
       "output_type": "stream",
       "stream": "stdout",
       "text": [
        "\n",
        "['/en/charityindex/heunghoi', 'SocialTag', u'British honours system']\n",
        "St. James' Settlement\n",
        "['/en/charityindex/heunghoi', 'SocialTag', u\"St. James' Settlement\"]\n",
        "Hong Kong Family Welfare Society\n",
        "['/en/charityindex/heunghoi', 'SocialTag', u'Hong Kong Family Welfare Society']\n",
        "community care services\n",
        "['/en/charityindex/heunghoi', 'IndustryTerm', u'community care services']\n",
        "Education\n",
        "['/en/charityindex/heunghoi', 'Topic', u'Education']\n",
        "Religion_Belief\n",
        "['/en/charityindex/heunghoi', 'Topic', u'Religion_Belief']\n",
        "Disaster_Accident\n",
        "['/en/charityindex/heunghoi', 'Topic', u'Disaster_Accident']\n",
        "Hong Kong Love Foundation"
       ]
      },
      {
       "output_type": "stream",
       "stream": "stdout",
       "text": [
        "\n",
        "It had 16 goals and one of the goals was following the leadership of the Central Government.\r\n",
        "There were video clips on the website"
       ]
      },
      {
       "output_type": "stream",
       "stream": "stdout",
       "text": [
        "\n",
        "Broadcast engineering"
       ]
      },
      {
       "output_type": "stream",
       "stream": "stdout",
       "text": [
        "\n",
        "['/en/charityindex/HKLoveFoundation', 'SocialTag', u'Broadcast engineering']\n",
        "Video clip\n",
        "['/en/charityindex/HKLoveFoundation', 'SocialTag', u'Video clip']\n",
        "Technology_Internet\n",
        "['/en/charityindex/HKLoveFoundation', 'Topic', u'Technology_Internet']\n",
        "Politics\n",
        "['/en/charityindex/HKLoveFoundation', 'Topic', u'Politics']\n",
        "Sports\n",
        "['/en/charityindex/HKLoveFoundation', 'Topic', u'Sports']\n",
        "BUDDHIST MAN SANG HALL"
       ]
      },
      {
       "output_type": "stream",
       "stream": "stdout",
       "text": [
        "\n",
        "To provide different Buddhism courses and spread Buddhism culture"
       ]
      },
      {
       "output_type": "stream",
       "stream": "stdout",
       "text": [
        "\n",
        "HONG KONG CHILDREN'S CHOIR"
       ]
      },
      {
       "output_type": "stream",
       "stream": "stdout",
       "text": [
        "\n",
        "Has become the biggest children choir with most people in the world, aimed at promoting art education"
       ]
      },
      {
       "output_type": "stream",
       "stream": "stdout",
       "text": [
        "\n",
        "Ana Mar\u00eda Raga"
       ]
      },
      {
       "output_type": "stream",
       "stream": "stdout",
       "text": [
        "\n",
        "['/en/charityindex/HONGKONGCHILDRENSCHOIR', 'SocialTag', u'Ana Mar\\xeda Raga']\n",
        "All Ohio State Fair Youth Choir\n",
        "['/en/charityindex/HONGKONGCHILDRENSCHOIR', 'SocialTag', u'All Ohio State Fair Youth Choir']\n",
        "Education\n",
        "['/en/charityindex/HONGKONGCHILDRENSCHOIR', 'Topic', u'Education']\n",
        "Chi Hong Ching Yuen"
       ]
      },
      {
       "output_type": "stream",
       "stream": "stdout",
       "text": [
        "\n",
        "To promote Buddhism\r\n",
        "A Temple for female\r\n",
        "To provide buddhism classes weekly\r\n",
        "To operate school"
       ]
      },
      {
       "output_type": "stream",
       "stream": "stdout",
       "text": [
        "\n",
        "TIN TAK SING KAU CHUNG WUI"
       ]
      },
      {
       "output_type": "stream",
       "stream": "stdout",
       "text": [
        "\n",
        "No website and no service information is available\r\n",
        "Should be a religious organisation as it had such kind of donation"
       ]
      },
      {
       "output_type": "stream",
       "stream": "stdout",
       "text": [
        "\n",
        "INFORM"
       ]
      },
      {
       "output_type": "stream",
       "stream": "stdout",
       "text": [
        "\n",
        "['/en/charityindex/TinTakSingGau', 'SocialTag', u'INFORM']\n",
        "Donation\n",
        "['/en/charityindex/TinTakSingGau', 'SocialTag', u'Donation']\n",
        "Organ donation\n",
        "['/en/charityindex/TinTakSingGau', 'SocialTag', u'Organ donation']\n",
        "Religion_Belief\n",
        "['/en/charityindex/TinTakSingGau', 'Topic', u'Religion_Belief']\n",
        "Technology_Internet\n",
        "['/en/charityindex/TinTakSingGau', 'Topic', u'Technology_Internet']\n",
        "Education\n",
        "['/en/charityindex/TinTakSingGau', 'Topic', u'Education']\n",
        "Politics\n",
        "['/en/charityindex/TinTakSingGau', 'Topic', u'Politics']\n",
        "Pet Favour Garden"
       ]
      },
      {
       "output_type": "stream",
       "stream": "stdout",
       "text": [
        "\n",
        "To enhance people\u2019s moral value and treatment of animals\r\n",
        "To strive for animal welfare"
       ]
      },
      {
       "output_type": "stream",
       "stream": "stdout",
       "text": [
        "\n",
        "The Hong Kong Buddhist Association"
       ]
      },
      {
       "output_type": "stream",
       "stream": "stdout",
       "text": [
        "\n",
        "To promote Buddhism and charitable works \r\n",
        "Services include education, medical treatment, youth services, elderly home, and burial services etc."
       ]
      },
      {
       "output_type": "stream",
       "stream": "stdout",
       "text": [
        "\n",
        "British honours system"
       ]
      },
      {
       "output_type": "stream",
       "stream": "stdout",
       "text": [
        "\n",
        "['/en/charityindex/BuddhistAsso', 'SocialTag', u'British honours system']\n",
        "Hong Kong Buddhist Association\n",
        "['/en/charityindex/BuddhistAsso', 'SocialTag', u'Hong Kong Buddhist Association']\n",
        "St. James' Settlement\n",
        "['/en/charityindex/BuddhistAsso', 'SocialTag', u\"St. James' Settlement\"]\n",
        "youth services\n",
        "['/en/charityindex/BuddhistAsso', 'IndustryTerm', u'youth services']\n",
        "burial services\n",
        "['/en/charityindex/BuddhistAsso', 'IndustryTerm', u'burial services']\n",
        "Health_Medical_Pharma\n",
        "['/en/charityindex/BuddhistAsso', 'Topic', u'Health_Medical_Pharma']\n",
        "Religion_Belief\n",
        "['/en/charityindex/BuddhistAsso', 'Topic', u'Religion_Belief']\n",
        "Education\n",
        "['/en/charityindex/BuddhistAsso', 'Topic', u'Education']\n",
        "Labor\n",
        "['/en/charityindex/BuddhistAsso', 'Topic', u'Labor']\n",
        "HONG KONG SOCIETY OF HEALTHY FAMILY"
       ]
      },
      {
       "output_type": "stream",
       "stream": "stdout",
       "text": [
        "\n",
        "No information is available "
       ]
      },
      {
       "output_type": "stream",
       "stream": "stdout",
       "text": [
        "\n",
        "The  Society for the Aid and Rehabilitation of Drug Abusers"
       ]
      },
      {
       "output_type": "stream",
       "stream": "stdout",
       "text": [
        "\n",
        "To give aid to, to treat and to take all necessary steps to rehabilitate persons who are drug abusers\r\n",
        "To promote public education against drug abuse"
       ]
      },
      {
       "output_type": "stream",
       "stream": "stdout",
       "text": [
        "\n",
        "Substance abuse"
       ]
      },
      {
       "output_type": "stream",
       "stream": "stdout",
       "text": [
        "\n",
        "['/en/charityindex/SARDA', 'SocialTag', u'Substance abuse']\n",
        "Abuse\n",
        "['/en/charityindex/SARDA', 'SocialTag', u'Abuse']\n",
        "Drug control law\n",
        "['/en/charityindex/SARDA', 'SocialTag', u'Drug control law']\n",
        "Education\n",
        "['/en/charityindex/SARDA', 'Topic', u'Education']\n",
        "Social Issues\n",
        "['/en/charityindex/SARDA', 'Topic', u'Social Issues']\n",
        "Politics\n",
        "['/en/charityindex/SARDA', 'Topic', u'Politics']\n",
        "Love Pet Action"
       ]
      },
      {
       "output_type": "stream",
       "stream": "stdout",
       "text": [
        "\n",
        "No information is available"
       ]
      },
      {
       "output_type": "stream",
       "stream": "stdout",
       "text": [
        "\n",
        "Life Work"
       ]
      },
      {
       "output_type": "stream",
       "stream": "stdout",
       "text": [
        "\n",
        "To cultivate the precious of life\r\n",
        "Endeavor to support children, youth and their families, particularly those who are disadvantaged, with skills to handle challenges\r\n",
        "Services included school support, music theatre, and caring new immigrants "
       ]
      },
      {
       "output_type": "stream",
       "stream": "stdout",
       "text": [
        "\n",
        "Endeavor"
       ]
      },
      {
       "output_type": "stream",
       "stream": "stdout",
       "text": [
        "\n",
        "['/en/charityindex/LifeWork', 'SocialTag', u'Endeavor']\n",
        "Entertainment_Culture\n",
        "['/en/charityindex/LifeWork', 'Topic', u'Entertainment_Culture']\n",
        "Social Issues\n",
        "['/en/charityindex/LifeWork', 'Topic', u'Social Issues']\n",
        "Religion_Belief\n",
        "['/en/charityindex/LifeWork', 'Topic', u'Religion_Belief']\n",
        "United Heart Youth Foundation"
       ]
      },
      {
       "output_type": "stream",
       "stream": "stdout",
       "text": [
        "\n",
        "\u2022 Aims to serve the children in Hong Kong and Rural areas in China \r\n",
        "\u2022 Ensure that children have more learning opportunities, while also building a better learning\r\n",
        "environment \r\n",
        "\u2022 Provide assistance to children and youth by promoting basic education for them \r\n",
        "\u2022 Build schools and also improve the general facilities and quality of teachers "
       ]
      },
      {
       "output_type": "stream",
       "stream": "stdout",
       "text": [
        "\n",
        "Hong Kong"
       ]
      },
      {
       "output_type": "stream",
       "stream": "stdout",
       "text": [
        "\n",
        "['/en/charityindex/UHYF', 'SocialTag', u'Hong Kong']\n",
        "Education\n",
        "['/en/charityindex/UHYF', 'SocialTag', u'Education']\n",
        "Rosaryhill School\n",
        "['/en/charityindex/UHYF', 'SocialTag', u'Rosaryhill School']\n",
        "Education\n",
        "['/en/charityindex/UHYF', 'Topic', u'Education']\n",
        "Riding for the Disabled Association"
       ]
      },
      {
       "output_type": "stream",
       "stream": "stdout",
       "text": [
        "\n",
        "To teach disabled children and some adults to ride a horse to the best of their ability.  It builds self-confidence, improves concentration and self-discipline and, at the same time, provides recreation and sport"
       ]
      },
      {
       "output_type": "stream",
       "stream": "stdout",
       "text": [
        "\n",
        "Positive psychology"
       ]
      },
      {
       "output_type": "stream",
       "stream": "stdout",
       "text": [
        "\n",
        "['/en/charityindex/RDA', 'SocialTag', u'Positive psychology']\n",
        "Behavior modification\n",
        "['/en/charityindex/RDA', 'SocialTag', u'Behavior modification']\n",
        "Discipline\n",
        "['/en/charityindex/RDA', 'SocialTag', u'Discipline']\n",
        "Social Issues\n",
        "['/en/charityindex/RDA', 'Topic', u'Social Issues']\n",
        "Hospitality_Recreation\n",
        "['/en/charityindex/RDA', 'Topic', u'Hospitality_Recreation']\n",
        "Human Interest\n",
        "['/en/charityindex/RDA', 'Topic', u'Human Interest']\n",
        "Hong Kong Animal Adoption Center"
       ]
      },
      {
       "output_type": "stream",
       "stream": "stdout",
       "text": [
        "\n",
        " Re-home abandoned animals so that they can escaped from being destroyed"
       ]
      },
      {
       "output_type": "stream",
       "stream": "stdout",
       "text": [
        "\n",
        "Retina Hong Kong"
       ]
      },
      {
       "output_type": "stream",
       "stream": "stdout",
       "text": [
        "\n",
        "To help retinitis pigmentosa patients and their families \r\n",
        "To help reinitis pigmentosa patients to build self-confidence \r\n",
        "Services include lending equipments and rehabilitation services\r\n"
       ]
      },
      {
       "output_type": "stream",
       "stream": "stdout",
       "text": [
        "\n",
        "Blindness"
       ]
      },
      {
       "output_type": "stream",
       "stream": "stdout",
       "text": [
        "\n",
        "['/en/charityindex/Retina', 'SocialTag', u'Blindness']\n",
        "Channelopathy\n",
        "['/en/charityindex/Retina', 'SocialTag', u'Channelopathy']\n",
        "Retinitis pigmentosa\n",
        "['/en/charityindex/Retina', 'SocialTag', u'Retinitis pigmentosa']\n",
        "rehabilitation services\n",
        "['/en/charityindex/Retina', 'IndustryTerm', u'rehabilitation services']\n",
        "Health_Medical_Pharma\n",
        "['/en/charityindex/Retina', 'Topic', u'Health_Medical_Pharma']\n",
        "HONG KONG HEREDITARY BREAST CANCER FAMILY REGISTRY LIMITED\t"
       ]
      },
      {
       "output_type": "stream",
       "stream": "stdout",
       "text": [
        "\n",
        "Collect donations for underprivileged, high-risk breast cancer\uff0c focused on Hong Kong area "
       ]
      },
      {
       "output_type": "stream",
       "stream": "stdout",
       "text": [
        "\n",
        "Hong Kong Society for Education in Art "
       ]
      },
      {
       "output_type": "stream",
       "stream": "stdout",
       "text": [
        "\n",
        "To promote art education\r\n",
        "To cooperate with local and international art education organisation \r\n",
        "To promote the art cultural development in Hong Kong \r\n",
        "Services includes vision art education, training courses for teachers, academic conference and exhibitions etc. \r\n",
        "To publish periodic "
       ]
      },
      {
       "output_type": "stream",
       "stream": "stdout",
       "text": [
        "\n",
        "Art education"
       ]
      },
      {
       "output_type": "stream",
       "stream": "stdout",
       "text": [
        "\n",
        "['/en/charityindex/HKSEA', 'SocialTag', u'Art education']\n",
        "Education in Hong Kong\n",
        "['/en/charityindex/HKSEA', 'SocialTag', u'Education in Hong Kong']\n",
        "St. Paul's College, Hong Kong\n",
        "['/en/charityindex/HKSEA', 'SocialTag', u\"St. Paul's College, Hong Kong\"]\n",
        "Education\n",
        "['/en/charityindex/HKSEA', 'Topic', u'Education']\n",
        "Politics\n",
        "['/en/charityindex/HKSEA', 'Topic', u'Politics']\n",
        "MED-ART"
       ]
      },
      {
       "output_type": "stream",
       "stream": "stdout",
       "text": [
        "\n",
        "To bring care and comfort to those within hospice or long term confinement in Hong Kong\r\n",
        "To provide medical treatment, surgery evaluation to orphans babies in China"
       ]
      },
      {
       "output_type": "stream",
       "stream": "stdout",
       "text": [
        "\n",
        "Medicine"
       ]
      },
      {
       "output_type": "stream",
       "stream": "stdout",
       "text": [
        "\n",
        "['/en/charityindex/MED-ART', 'SocialTag', u'Medicine']\n",
        "Palliative medicine\n",
        "['/en/charityindex/MED-ART', 'SocialTag', u'Palliative medicine']\n",
        "Health\n",
        "['/en/charityindex/MED-ART', 'SocialTag', u'Health']\n",
        "Health_Medical_Pharma\n",
        "['/en/charityindex/MED-ART', 'Topic', u'Health_Medical_Pharma']\n",
        "GLOBAL HOPE NETWORK LIMITED"
       ]
      },
      {
       "output_type": "stream",
       "stream": "stdout",
       "text": [
        "\n",
        "No information"
       ]
      },
      {
       "output_type": "stream",
       "stream": "stdout",
       "text": [
        "\n",
        "REGENERATION SOCIETY LIMITED"
       ]
      },
      {
       "output_type": "stream",
       "stream": "stdout",
       "text": [
        "\n",
        "To provide social services, rehabilitation programs, health promotion programs, personal guidance as well as healing and health information to cancer and/or chronic patients"
       ]
      },
      {
       "output_type": "stream",
       "stream": "stdout",
       "text": [
        "\n",
        "Medicine"
       ]
      },
      {
       "output_type": "stream",
       "stream": "stdout",
       "text": [
        "\n",
        "['/en/charityindex/REGENERATIONSOCIETYLIMITED', 'SocialTag', u'Medicine']\n",
        "Health\n",
        "['/en/charityindex/REGENERATIONSOCIETYLIMITED', 'SocialTag', u'Health']\n",
        "Chronic\n",
        "['/en/charityindex/REGENERATIONSOCIETYLIMITED', 'SocialTag', u'Chronic']\n",
        "social services\n",
        "['/en/charityindex/REGENERATIONSOCIETYLIMITED', 'IndustryTerm', u'social services']\n",
        "Health_Medical_Pharma\n",
        "['/en/charityindex/REGENERATIONSOCIETYLIMITED', 'Topic', u'Health_Medical_Pharma']\n",
        "Social Issues\n",
        "['/en/charityindex/REGENERATIONSOCIETYLIMITED', 'Topic', u'Social Issues']\n",
        "INTERNATIONAL EDUCATION ASSOCIATION LIMITED"
       ]
      },
      {
       "output_type": "stream",
       "stream": "stdout",
       "text": [
        "\n",
        "Charitable organization with no tax Built in 07/28/2009"
       ]
      },
      {
       "output_type": "stream",
       "stream": "stdout",
       "text": [
        "\n",
        "HONG KONG WONG CLAN ASSOCIATION (EDUCATION COMMITTEE)"
       ]
      },
      {
       "output_type": "stream",
       "stream": "stdout",
       "text": [
        "\n",
        "No information"
       ]
      },
      {
       "output_type": "stream",
       "stream": "stdout",
       "text": [
        "\n",
        "SING KUNG CHO TONG CHARITABLE ASSOCIATION"
       ]
      },
      {
       "output_type": "stream",
       "stream": "stdout",
       "text": [
        "\n",
        "No information"
       ]
      },
      {
       "output_type": "stream",
       "stream": "stdout",
       "text": [
        "\n",
        "HON WAH EDUCATIONAL ORGANIZATION"
       ]
      },
      {
       "output_type": "stream",
       "stream": "stdout",
       "text": [
        "\n",
        "No information"
       ]
      },
      {
       "output_type": "stream",
       "stream": "stdout",
       "text": [
        "\n",
        "ESOTERIC BUDDHISM CHARITY FUND"
       ]
      },
      {
       "output_type": "stream",
       "stream": "stdout",
       "text": [
        "\n",
        "A Buddhist foundation "
       ]
      },
      {
       "output_type": "stream",
       "stream": "stdout",
       "text": [
        "\n",
        "HONG KONG ALLIANCE MISSION"
       ]
      },
      {
       "output_type": "stream",
       "stream": "stdout",
       "text": [
        "\n",
        "To spread Christian\uff0c and service reaches Asia and Europe"
       ]
      },
      {
       "output_type": "stream",
       "stream": "stdout",
       "text": [
        "\n",
        "ONE MISSION SOCIETY"
       ]
      },
      {
       "output_type": "stream",
       "stream": "stdout",
       "text": [
        "\n",
        "OMS began ministry in Japan in 1901 as The Oriental Missionary Society. Now it focuses on intentional evangelism, planting indigenous churches, training national leadership in Bible colleges and seminaries around the world and joining national workers, churches and other ministries to reach the nations for Christ."
       ]
      },
      {
       "output_type": "stream",
       "stream": "stdout",
       "text": [
        "\n",
        "Christianity"
       ]
      },
      {
       "output_type": "stream",
       "stream": "stdout",
       "text": [
        "\n",
        "['/en/charityindex/ONEMISSIONSOCIETY', 'SocialTag', u'Christianity']\n",
        "Religion\n",
        "['/en/charityindex/ONEMISSIONSOCIETY', 'SocialTag', u'Religion']\n",
        "Conversion to Christianity\n",
        "['/en/charityindex/ONEMISSIONSOCIETY', 'SocialTag', u'Conversion to Christianity']\n",
        "Religion_Belief\n",
        "['/en/charityindex/ONEMISSIONSOCIETY', 'Topic', u'Religion_Belief']\n",
        "Chinese Buddhist Culture Publishing Company"
       ]
      },
      {
       "output_type": "stream",
       "stream": "stdout",
       "text": [
        "\n",
        "No information"
       ]
      },
      {
       "output_type": "stream",
       "stream": "stdout",
       "text": [
        "\n",
        "Society for the Prevention of Cruelty to Animals (Hong Kong) Trustees"
       ]
      },
      {
       "output_type": "stream",
       "stream": "stdout",
       "text": [
        "\n",
        "To promote kindness and to prevent or suppress cruelty to animals\r\n",
        "Services including collection and rescue of abandoned, sick and injured animals\r\n",
        "Investigation of complaints of cruelty\r\n",
        "Acceptance of unwanted pets to ease the stray problem and animal suffering\r\n",
        "Provision of low-cost desexing for cats and dogs to prevent unwanted litters\r\n",
        "Rehoming of unwanted pets whenever possible\r\n",
        "Hospitalization of homeless animals whenever possible, providing as necessary basic veterinary care, treatment of disease or major surgery\r\n",
        "Public education on responsible pet ownership and animal welfare issues"
       ]
      },
      {
       "output_type": "stream",
       "stream": "stdout",
       "text": [
        "\n",
        "Animal welfare"
       ]
      },
      {
       "output_type": "stream",
       "stream": "stdout",
       "text": [
        "\n",
        "['/en/charityindex/SPCAT', 'SocialTag', u'Animal welfare']\n",
        "Zoology\n",
        "['/en/charityindex/SPCAT', 'SocialTag', u'Zoology']\n",
        "Animal rights\n",
        "['/en/charityindex/SPCAT', 'SocialTag', u'Animal rights']\n",
        "rescue\n",
        "['/en/charityindex/SPCAT', 'IndustryTerm', u'rescue']\n",
        "collection\n",
        "['/en/charityindex/SPCAT', 'IndustryTerm', u'collection']\n",
        "Human Interest\n",
        "['/en/charityindex/SPCAT', 'Topic', u'Human Interest']\n",
        "Environment\n",
        "['/en/charityindex/SPCAT', 'Topic', u'Environment']\n",
        "Self-Help Development Centre"
       ]
      },
      {
       "output_type": "stream",
       "stream": "stdout",
       "text": [
        "\n",
        "A resource center serving various kind of self-help group\r\n",
        "To advocate and foster the self-help movement\r\n",
        "To develop the capacity of self-competence and self-reliance of self-help groups"
       ]
      },
      {
       "output_type": "stream",
       "stream": "stdout",
       "text": [
        "\n",
        "Self"
       ]
      },
      {
       "output_type": "stream",
       "stream": "stdout",
       "text": [
        "\n",
        "['/en/charityindex/selfhelp', 'SocialTag', u'Self']\n",
        "Personal development\n",
        "['/en/charityindex/selfhelp', 'SocialTag', u'Personal development']\n",
        "Self help\n",
        "['/en/charityindex/selfhelp', 'SocialTag', u'Self help']\n",
        "self help\n",
        "['/en/charityindex/selfhelp', 'IndustryTerm', u'self help']\n",
        "self help groups\n",
        "['/en/charityindex/selfhelp', 'IndustryTerm', u'self help groups']\n",
        "Human Interest\n",
        "['/en/charityindex/selfhelp', 'Topic', u'Human Interest']\n",
        "Hong Kong Society for the Protection of Children"
       ]
      },
      {
       "output_type": "stream",
       "stream": "stdout",
       "text": [
        "\n",
        "To provide for and promote the care, education and social development of children and families in partnership with the community. \r\n",
        "Operates 27 service units, including \r\n",
        "Day cr\u00e8che (newborns to toddlers under 2) \r\n",
        "Nursery school (children of age 2-6) \r\n",
        "Children\u2019s Residential Home (newborns to children of age under 3)\r\n",
        "Children  Family Services Centre (Kowloon City)\r\n",
        "Children  Family Services Centre (Portland Street)\r\n",
        "After School Care Centre (children of Primary 1-6)\r\n",
        "Morgan Stanley IT Education Centre"
       ]
      },
      {
       "output_type": "stream",
       "stream": "stdout",
       "text": [
        "\n",
        "Education"
       ]
      },
      {
       "output_type": "stream",
       "stream": "stdout",
       "text": [
        "\n",
        "['/en/charityindex/HKSPC', 'SocialTag', u'Education']\n",
        "Early childhood education\n",
        "['/en/charityindex/HKSPC', 'SocialTag', u'Early childhood education']\n",
        "Educational stages\n",
        "['/en/charityindex/HKSPC', 'SocialTag', u'Educational stages']\n",
        "Education\n",
        "['/en/charityindex/HKSPC', 'Topic', u'Education']\n",
        "Social Issues\n",
        "['/en/charityindex/HKSPC', 'Topic', u'Social Issues']\n",
        "The Dharmasthiti Group"
       ]
      },
      {
       "output_type": "stream",
       "stream": "stdout",
       "text": [
        "\n",
        "Founded in 1982 in Hong Kong\r\n",
        "To promote the spirit and value of Eastern Culture\r\n",
        "A multi function organization promoting culture and education\r\n",
        "Works including academic, education, publication, medical treatment, and charitable works etc.\r\n",
        "Provide EQ , life and culture education"
       ]
      },
      {
       "output_type": "stream",
       "stream": "stdout",
       "text": [
        "\n",
        "Hong Kong"
       ]
      },
      {
       "output_type": "stream",
       "stream": "stdout",
       "text": [
        "\n",
        "['/en/charityindex/Dharmasthiti', 'SocialTag', u'Hong Kong']\n",
        "Pearl River Delta\n",
        "['/en/charityindex/Dharmasthiti', 'SocialTag', u'Pearl River Delta']\n",
        "South China Sea\n",
        "['/en/charityindex/Dharmasthiti', 'SocialTag', u'South China Sea']\n",
        "Education\n",
        "['/en/charityindex/Dharmasthiti', 'Topic', u'Education']\n",
        "Health_Medical_Pharma\n",
        "['/en/charityindex/Dharmasthiti', 'Topic', u'Health_Medical_Pharma']\n",
        "Social Issues\n",
        "['/en/charityindex/Dharmasthiti', 'Topic', u'Social Issues']\n",
        "Religion_Belief\n",
        "['/en/charityindex/Dharmasthiti', 'Topic', u'Religion_Belief']\n",
        "Po Leung Kuk"
       ]
      },
      {
       "output_type": "stream",
       "stream": "stdout",
       "text": [
        "\n",
        "Founded in 1880 in Hong Kong\r\n",
        "\u201cPo Leung\u201d, translating literally as protection of the young and the innocent\r\n",
        "Formally established as the Society for the Protection of Women and Children preventing and resolving kidnappings, protecting destitute women and children, and assisting the Secretary for Chinese Affairs (under British Rule) as a mediator in complex family and marriage disputes\r\n",
        "Range of services and coverage provided expanded as welfare needs evolved\r\n",
        "Services include social, education, cultural and recreational services"
       ]
      },
      {
       "output_type": "stream",
       "stream": "stdout",
       "text": [
        "\n",
        "Po Leung Kuk"
       ]
      },
      {
       "output_type": "stream",
       "stream": "stdout",
       "text": [
        "\n",
        "['/en/charityindex/poleungkuk', 'SocialTag', u'Po Leung Kuk']\n",
        "cultural and recreational services\n",
        "['/en/charityindex/poleungkuk', 'IndustryTerm', u'cultural and recreational services']\n",
        "Social Issues\n",
        "['/en/charityindex/poleungkuk', 'Topic', u'Social Issues']\n",
        "Law_Crime\n",
        "['/en/charityindex/poleungkuk', 'Topic', u'Law_Crime']\n",
        "Caritas Hong Kong"
       ]
      },
      {
       "output_type": "stream",
       "stream": "stdout",
       "text": [
        "\n",
        "Established in 1953 \r\n",
        "Incorporated by ordinance in 1981 \r\n",
        "To offer relief and rehabilitation services to the poor and the distressed\r\n",
        "To help people strive for self-development and self-reliance\r\n",
        "Services include social work services, education, medical care, community development and hospitality"
       ]
      },
      {
       "output_type": "stream",
       "stream": "stdout",
       "text": [
        "\n",
        "International nongovernmental organizations"
       ]
      },
      {
       "output_type": "stream",
       "stream": "stdout",
       "text": [
        "\n",
        "['/en/charityindex/caritas', 'SocialTag', u'International nongovernmental organizations']\n",
        "The Hong Kong Council of Social Service\n",
        "['/en/charityindex/caritas', 'SocialTag', u'The Hong Kong Council of Social Service']\n",
        "Rancho Los Amigos National Rehabilitation Center\n",
        "['/en/charityindex/caritas', 'SocialTag', u'Rancho Los Amigos National Rehabilitation Center']\n",
        "rehabilitation services\n",
        "['/en/charityindex/caritas', 'IndustryTerm', u'rehabilitation services']\n",
        "social work services\n",
        "['/en/charityindex/caritas', 'IndustryTerm', u'social work services']\n",
        "Social Issues\n",
        "['/en/charityindex/caritas', 'Topic', u'Social Issues']\n",
        "Business_Finance\n",
        "['/en/charityindex/caritas', 'Topic', u'Business_Finance']\n",
        "Hong Kong Cat Refuge"
       ]
      },
      {
       "output_type": "stream",
       "stream": "stdout",
       "text": [
        "\n",
        "Trap, neuter and rehome/release stray cats and dogs "
       ]
      },
      {
       "output_type": "stream",
       "stream": "stdout",
       "text": [
        "\n",
        "Hong Kong Christian Council"
       ]
      },
      {
       "output_type": "stream",
       "stream": "stdout",
       "text": [
        "\n",
        "Formed by churches in Hong Kong \r\n",
        "To preach gospel together \r\n",
        "To serve people in Hong Kong \r\n",
        "Operating social projects in China "
       ]
      },
      {
       "output_type": "stream",
       "stream": "stdout",
       "text": [
        "\n",
        "Hong Kong"
       ]
      },
      {
       "output_type": "stream",
       "stream": "stdout",
       "text": [
        "\n",
        "['/en/charityindex/HKChristianCouncil', 'SocialTag', u'Hong Kong']\n",
        "Pearl River Delta\n",
        "['/en/charityindex/HKChristianCouncil', 'SocialTag', u'Pearl River Delta']\n",
        "South China Sea\n",
        "['/en/charityindex/HKChristianCouncil', 'SocialTag', u'South China Sea']\n",
        "Religion_Belief\n",
        "['/en/charityindex/HKChristianCouncil', 'Topic', u'Religion_Belief']\n",
        "The Association of Evangelical Free Churches of Hong Kong"
       ]
      },
      {
       "output_type": "stream",
       "stream": "stdout",
       "text": [
        "\n",
        "To represent the group of churches to handle all legal related issues \r\n",
        "To handle all property rental and trading issue for churches of the network"
       ]
      },
      {
       "output_type": "stream",
       "stream": "stdout",
       "text": [
        "\n",
        "Humanities"
       ]
      },
      {
       "output_type": "stream",
       "stream": "stdout",
       "text": [
        "\n",
        "['/en/charityindex/evangelical', 'SocialTag', u'Humanities']\n",
        "Law\n",
        "['/en/charityindex/evangelical', 'SocialTag', u'Law']\n",
        "Religion_Belief\n",
        "['/en/charityindex/evangelical', 'Topic', u'Religion_Belief']\n"
       ]
      }
     ],
     "prompt_number": 4
    },
    {
     "cell_type": "code",
     "collapsed": false,
     "input": [],
     "language": "python",
     "metadata": {},
     "outputs": []
    }
   ],
   "metadata": {}
  }
 ]
}