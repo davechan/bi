{
 "metadata": {
  "name": ""
 },
 "nbformat": 3,
 "nbformat_minor": 0,
 "worksheets": [
  {
   "cells": [
    {
     "cell_type": "code",
     "collapsed": false,
     "input": [
      "#!/usr/bin/env python\n",
      "\n",
      "from time import sleep\n",
      "import scraperwiki\n",
      "import urllib, urllib2\n",
      "import requests\n",
      "import datetime\n",
      "import re\n",
      "import sys\n",
      "#import simplejson as json\n",
      "import json\n",
      "# pick a year\n",
      "year = 2013\n",
      "# create date objects\n",
      "begin_year = datetime.date(year, 7, 6)\n",
      "end_year = datetime.date(year, 8, 31)\n",
      "one_day = datetime.timedelta(days=1)\n",
      "print \"These are all the dates of %d:\" % year\n",
      "next_day = begin_year\n",
      "\n",
      "# clear db\n",
      "#scraperwiki.sqlite.execute(\"drop table if exists Activities\")\n",
      "#scraperwiki.sqlite.commit()\n",
      "\n",
      "for day in range(0, 366):  # includes potential leap year\n",
      "#for day in range(0, 60):  # Test loop\n",
      "#for day in range(0, 1):  # Test loop for 1 day\n",
      "    if next_day > end_year:\n",
      "        break\n",
      "    currentday = re.sub(\"-\",\"\",str(next_day))\n",
      "    print currentday\n",
      "    for num in range(1,5):\n",
      "        #soup = BeautifulSoup(urllib2.urlopen('http://www.timeanddate.com/worldclock/astronomy.html?n=78').read())\n",
      "        req = \"http://fundraising.data.one.gov.hk/fundraise_query/webservice/psi/json?fromdate=\" + currentday + \"&todate=\" + currentday + \"&itemperpage=100&page=\" + str(num)\n",
      "        print req\n",
      "        html = requests.get(req)\n",
      "    #    html = urllib2.urlopen(\"http://fundraising.data.one.gov.hk/fundraise_query/webservice/psi/json?fromdate=\" + currentday + \"&todate=\" + currentday).read()\n",
      "    #    print html.content\n",
      "        jd = json.loads(html.content)\n",
      "    \n",
      "        ## pretty printing of json-formatted string\n",
      "        #print json.dumps(jd, sort_keys=True, indent=4)\n",
      "        \n",
      "        # Get nodes of interest\n",
      "        for i in jd['activities']:\n",
      "            data = {'Date': str(next_day), 'OrgEn':i['organisationNameEnglish'], 'OrgCh': i['organisationNameTChinese'], 'Activity':i['activityNameEnglish'], 'District':i['districtNameEnglish'], 'LocationEn':i['locationNameEnglish'], 'LocationCh':i['locationNameTChinese']}\n",
      "            scraperwiki.sql.save(unique_keys=[], data=data, table_name=\"Activities2013\")\n",
      "    #str(i['organisationNameSChinese']).decode('unicode-escape')\n",
      "\n",
      "# save in dimensional format, date, organization name in all languages, activity type, district, location\n",
      "\n",
      "    next_day += one_day\n",
      "    # let it rest sometime before next request to avoid timeout\n",
      "    #time.sleep(5)\n",
      "    #sleep(1)\n",
      "\n",
      "\n"
     ],
     "language": "python",
     "metadata": {},
     "outputs": [
      {
       "output_type": "stream",
       "stream": "stdout",
       "text": [
        "These are all the dates of 2013:\n",
        "20130706\n",
        "http://fundraising.data.one.gov.hk/fundraise_query/webservice/psi/json?fromdate=20130706&todate=20130706&itemperpage=100&page=1\n",
        "http://fundraising.data.one.gov.hk/fundraise_query/webservice/psi/json?fromdate=20130706&todate=20130706&itemperpage=100&page=2"
       ]
      },
      {
       "output_type": "stream",
       "stream": "stdout",
       "text": [
        "\n",
        "http://fundraising.data.one.gov.hk/fundraise_query/webservice/psi/json?fromdate=20130706&todate=20130706&itemperpage=100&page=3"
       ]
      },
      {
       "output_type": "stream",
       "stream": "stdout",
       "text": [
        "\n",
        "http://fundraising.data.one.gov.hk/fundraise_query/webservice/psi/json?fromdate=20130706&todate=20130706&itemperpage=100&page=4"
       ]
      },
      {
       "output_type": "stream",
       "stream": "stdout",
       "text": [
        "\n",
        "20130707"
       ]
      },
      {
       "output_type": "stream",
       "stream": "stdout",
       "text": [
        "\n",
        "http://fundraising.data.one.gov.hk/fundraise_query/webservice/psi/json?fromdate=20130707&todate=20130707&itemperpage=100&page=1\n",
        "http://fundraising.data.one.gov.hk/fundraise_query/webservice/psi/json?fromdate=20130707&todate=20130707&itemperpage=100&page=2"
       ]
      },
      {
       "output_type": "stream",
       "stream": "stdout",
       "text": [
        "\n",
        "http://fundraising.data.one.gov.hk/fundraise_query/webservice/psi/json?fromdate=20130707&todate=20130707&itemperpage=100&page=3"
       ]
      },
      {
       "output_type": "stream",
       "stream": "stdout",
       "text": [
        "\n",
        "http://fundraising.data.one.gov.hk/fundraise_query/webservice/psi/json?fromdate=20130707&todate=20130707&itemperpage=100&page=4"
       ]
      },
      {
       "output_type": "stream",
       "stream": "stdout",
       "text": [
        "\n",
        "20130708"
       ]
      },
      {
       "output_type": "stream",
       "stream": "stdout",
       "text": [
        "\n",
        "http://fundraising.data.one.gov.hk/fundraise_query/webservice/psi/json?fromdate=20130708&todate=20130708&itemperpage=100&page=1\n",
        "http://fundraising.data.one.gov.hk/fundraise_query/webservice/psi/json?fromdate=20130708&todate=20130708&itemperpage=100&page=2"
       ]
      },
      {
       "output_type": "stream",
       "stream": "stdout",
       "text": [
        "\n",
        "http://fundraising.data.one.gov.hk/fundraise_query/webservice/psi/json?fromdate=20130708&todate=20130708&itemperpage=100&page=3"
       ]
      },
      {
       "output_type": "stream",
       "stream": "stdout",
       "text": [
        "\n",
        "http://fundraising.data.one.gov.hk/fundraise_query/webservice/psi/json?fromdate=20130708&todate=20130708&itemperpage=100&page=4"
       ]
      },
      {
       "output_type": "stream",
       "stream": "stdout",
       "text": [
        "\n",
        "20130709"
       ]
      },
      {
       "output_type": "stream",
       "stream": "stdout",
       "text": [
        "\n",
        "http://fundraising.data.one.gov.hk/fundraise_query/webservice/psi/json?fromdate=20130709&todate=20130709&itemperpage=100&page=1\n",
        "http://fundraising.data.one.gov.hk/fundraise_query/webservice/psi/json?fromdate=20130709&todate=20130709&itemperpage=100&page=2"
       ]
      },
      {
       "output_type": "stream",
       "stream": "stdout",
       "text": [
        "\n",
        "http://fundraising.data.one.gov.hk/fundraise_query/webservice/psi/json?fromdate=20130709&todate=20130709&itemperpage=100&page=3"
       ]
      },
      {
       "output_type": "stream",
       "stream": "stdout",
       "text": [
        "\n",
        "http://fundraising.data.one.gov.hk/fundraise_query/webservice/psi/json?fromdate=20130709&todate=20130709&itemperpage=100&page=4"
       ]
      },
      {
       "output_type": "stream",
       "stream": "stdout",
       "text": [
        "\n",
        "20130710"
       ]
      },
      {
       "output_type": "stream",
       "stream": "stdout",
       "text": [
        "\n",
        "http://fundraising.data.one.gov.hk/fundraise_query/webservice/psi/json?fromdate=20130710&todate=20130710&itemperpage=100&page=1\n",
        "http://fundraising.data.one.gov.hk/fundraise_query/webservice/psi/json?fromdate=20130710&todate=20130710&itemperpage=100&page=2"
       ]
      },
      {
       "output_type": "stream",
       "stream": "stdout",
       "text": [
        "\n",
        "http://fundraising.data.one.gov.hk/fundraise_query/webservice/psi/json?fromdate=20130710&todate=20130710&itemperpage=100&page=3"
       ]
      },
      {
       "output_type": "stream",
       "stream": "stdout",
       "text": [
        "\n",
        "http://fundraising.data.one.gov.hk/fundraise_query/webservice/psi/json?fromdate=20130710&todate=20130710&itemperpage=100&page=4"
       ]
      },
      {
       "output_type": "stream",
       "stream": "stdout",
       "text": [
        "\n",
        "20130711"
       ]
      },
      {
       "output_type": "stream",
       "stream": "stdout",
       "text": [
        "\n",
        "http://fundraising.data.one.gov.hk/fundraise_query/webservice/psi/json?fromdate=20130711&todate=20130711&itemperpage=100&page=1\n",
        "http://fundraising.data.one.gov.hk/fundraise_query/webservice/psi/json?fromdate=20130711&todate=20130711&itemperpage=100&page=2"
       ]
      },
      {
       "output_type": "stream",
       "stream": "stdout",
       "text": [
        "\n",
        "http://fundraising.data.one.gov.hk/fundraise_query/webservice/psi/json?fromdate=20130711&todate=20130711&itemperpage=100&page=3"
       ]
      },
      {
       "output_type": "stream",
       "stream": "stdout",
       "text": [
        "\n",
        "http://fundraising.data.one.gov.hk/fundraise_query/webservice/psi/json?fromdate=20130711&todate=20130711&itemperpage=100&page=4"
       ]
      },
      {
       "output_type": "stream",
       "stream": "stdout",
       "text": [
        "\n",
        "20130712"
       ]
      },
      {
       "output_type": "stream",
       "stream": "stdout",
       "text": [
        "\n",
        "http://fundraising.data.one.gov.hk/fundraise_query/webservice/psi/json?fromdate=20130712&todate=20130712&itemperpage=100&page=1\n",
        "http://fundraising.data.one.gov.hk/fundraise_query/webservice/psi/json?fromdate=20130712&todate=20130712&itemperpage=100&page=2"
       ]
      },
      {
       "output_type": "stream",
       "stream": "stdout",
       "text": [
        "\n",
        "http://fundraising.data.one.gov.hk/fundraise_query/webservice/psi/json?fromdate=20130712&todate=20130712&itemperpage=100&page=3"
       ]
      },
      {
       "output_type": "stream",
       "stream": "stdout",
       "text": [
        "\n",
        "http://fundraising.data.one.gov.hk/fundraise_query/webservice/psi/json?fromdate=20130712&todate=20130712&itemperpage=100&page=4"
       ]
      },
      {
       "output_type": "stream",
       "stream": "stdout",
       "text": [
        "\n",
        "20130713"
       ]
      },
      {
       "output_type": "stream",
       "stream": "stdout",
       "text": [
        "\n",
        "http://fundraising.data.one.gov.hk/fundraise_query/webservice/psi/json?fromdate=20130713&todate=20130713&itemperpage=100&page=1\n",
        "http://fundraising.data.one.gov.hk/fundraise_query/webservice/psi/json?fromdate=20130713&todate=20130713&itemperpage=100&page=2"
       ]
      },
      {
       "output_type": "stream",
       "stream": "stdout",
       "text": [
        "\n",
        "http://fundraising.data.one.gov.hk/fundraise_query/webservice/psi/json?fromdate=20130713&todate=20130713&itemperpage=100&page=3"
       ]
      },
      {
       "output_type": "stream",
       "stream": "stdout",
       "text": [
        "\n",
        "http://fundraising.data.one.gov.hk/fundraise_query/webservice/psi/json?fromdate=20130713&todate=20130713&itemperpage=100&page=4"
       ]
      },
      {
       "output_type": "stream",
       "stream": "stdout",
       "text": [
        "\n",
        "20130714"
       ]
      },
      {
       "output_type": "stream",
       "stream": "stdout",
       "text": [
        "\n",
        "http://fundraising.data.one.gov.hk/fundraise_query/webservice/psi/json?fromdate=20130714&todate=20130714&itemperpage=100&page=1\n",
        "http://fundraising.data.one.gov.hk/fundraise_query/webservice/psi/json?fromdate=20130714&todate=20130714&itemperpage=100&page=2"
       ]
      },
      {
       "output_type": "stream",
       "stream": "stdout",
       "text": [
        "\n",
        "http://fundraising.data.one.gov.hk/fundraise_query/webservice/psi/json?fromdate=20130714&todate=20130714&itemperpage=100&page=3"
       ]
      },
      {
       "output_type": "stream",
       "stream": "stdout",
       "text": [
        "\n",
        "http://fundraising.data.one.gov.hk/fundraise_query/webservice/psi/json?fromdate=20130714&todate=20130714&itemperpage=100&page=4"
       ]
      },
      {
       "output_type": "stream",
       "stream": "stdout",
       "text": [
        "\n",
        "20130715"
       ]
      },
      {
       "output_type": "stream",
       "stream": "stdout",
       "text": [
        "\n",
        "http://fundraising.data.one.gov.hk/fundraise_query/webservice/psi/json?fromdate=20130715&todate=20130715&itemperpage=100&page=1\n",
        "http://fundraising.data.one.gov.hk/fundraise_query/webservice/psi/json?fromdate=20130715&todate=20130715&itemperpage=100&page=2"
       ]
      },
      {
       "output_type": "stream",
       "stream": "stdout",
       "text": [
        "\n",
        "http://fundraising.data.one.gov.hk/fundraise_query/webservice/psi/json?fromdate=20130715&todate=20130715&itemperpage=100&page=3"
       ]
      },
      {
       "output_type": "stream",
       "stream": "stdout",
       "text": [
        "\n",
        "http://fundraising.data.one.gov.hk/fundraise_query/webservice/psi/json?fromdate=20130715&todate=20130715&itemperpage=100&page=4"
       ]
      },
      {
       "output_type": "stream",
       "stream": "stdout",
       "text": [
        "\n",
        "20130716"
       ]
      },
      {
       "output_type": "stream",
       "stream": "stdout",
       "text": [
        "\n",
        "http://fundraising.data.one.gov.hk/fundraise_query/webservice/psi/json?fromdate=20130716&todate=20130716&itemperpage=100&page=1\n",
        "http://fundraising.data.one.gov.hk/fundraise_query/webservice/psi/json?fromdate=20130716&todate=20130716&itemperpage=100&page=2"
       ]
      },
      {
       "output_type": "stream",
       "stream": "stdout",
       "text": [
        "\n",
        "http://fundraising.data.one.gov.hk/fundraise_query/webservice/psi/json?fromdate=20130716&todate=20130716&itemperpage=100&page=3"
       ]
      },
      {
       "output_type": "stream",
       "stream": "stdout",
       "text": [
        "\n",
        "http://fundraising.data.one.gov.hk/fundraise_query/webservice/psi/json?fromdate=20130716&todate=20130716&itemperpage=100&page=4"
       ]
      },
      {
       "output_type": "stream",
       "stream": "stdout",
       "text": [
        "\n",
        "20130717"
       ]
      },
      {
       "output_type": "stream",
       "stream": "stdout",
       "text": [
        "\n",
        "http://fundraising.data.one.gov.hk/fundraise_query/webservice/psi/json?fromdate=20130717&todate=20130717&itemperpage=100&page=1\n",
        "http://fundraising.data.one.gov.hk/fundraise_query/webservice/psi/json?fromdate=20130717&todate=20130717&itemperpage=100&page=2"
       ]
      },
      {
       "output_type": "stream",
       "stream": "stdout",
       "text": [
        "\n",
        "http://fundraising.data.one.gov.hk/fundraise_query/webservice/psi/json?fromdate=20130717&todate=20130717&itemperpage=100&page=3"
       ]
      },
      {
       "output_type": "stream",
       "stream": "stdout",
       "text": [
        "\n",
        "http://fundraising.data.one.gov.hk/fundraise_query/webservice/psi/json?fromdate=20130717&todate=20130717&itemperpage=100&page=4"
       ]
      },
      {
       "output_type": "stream",
       "stream": "stdout",
       "text": [
        "\n",
        "20130718"
       ]
      },
      {
       "output_type": "stream",
       "stream": "stdout",
       "text": [
        "\n",
        "http://fundraising.data.one.gov.hk/fundraise_query/webservice/psi/json?fromdate=20130718&todate=20130718&itemperpage=100&page=1\n",
        "http://fundraising.data.one.gov.hk/fundraise_query/webservice/psi/json?fromdate=20130718&todate=20130718&itemperpage=100&page=2"
       ]
      },
      {
       "output_type": "stream",
       "stream": "stdout",
       "text": [
        "\n",
        "http://fundraising.data.one.gov.hk/fundraise_query/webservice/psi/json?fromdate=20130718&todate=20130718&itemperpage=100&page=3"
       ]
      },
      {
       "output_type": "stream",
       "stream": "stdout",
       "text": [
        "\n",
        "http://fundraising.data.one.gov.hk/fundraise_query/webservice/psi/json?fromdate=20130718&todate=20130718&itemperpage=100&page=4"
       ]
      },
      {
       "output_type": "stream",
       "stream": "stdout",
       "text": [
        "\n",
        "20130719"
       ]
      },
      {
       "output_type": "stream",
       "stream": "stdout",
       "text": [
        "\n",
        "http://fundraising.data.one.gov.hk/fundraise_query/webservice/psi/json?fromdate=20130719&todate=20130719&itemperpage=100&page=1\n",
        "http://fundraising.data.one.gov.hk/fundraise_query/webservice/psi/json?fromdate=20130719&todate=20130719&itemperpage=100&page=2"
       ]
      },
      {
       "output_type": "stream",
       "stream": "stdout",
       "text": [
        "\n",
        "http://fundraising.data.one.gov.hk/fundraise_query/webservice/psi/json?fromdate=20130719&todate=20130719&itemperpage=100&page=3"
       ]
      },
      {
       "output_type": "stream",
       "stream": "stdout",
       "text": [
        "\n",
        "http://fundraising.data.one.gov.hk/fundraise_query/webservice/psi/json?fromdate=20130719&todate=20130719&itemperpage=100&page=4"
       ]
      },
      {
       "output_type": "stream",
       "stream": "stdout",
       "text": [
        "\n",
        "20130720"
       ]
      },
      {
       "output_type": "stream",
       "stream": "stdout",
       "text": [
        "\n",
        "http://fundraising.data.one.gov.hk/fundraise_query/webservice/psi/json?fromdate=20130720&todate=20130720&itemperpage=100&page=1\n",
        "http://fundraising.data.one.gov.hk/fundraise_query/webservice/psi/json?fromdate=20130720&todate=20130720&itemperpage=100&page=2"
       ]
      },
      {
       "output_type": "stream",
       "stream": "stdout",
       "text": [
        "\n",
        "http://fundraising.data.one.gov.hk/fundraise_query/webservice/psi/json?fromdate=20130720&todate=20130720&itemperpage=100&page=3"
       ]
      },
      {
       "output_type": "stream",
       "stream": "stdout",
       "text": [
        "\n",
        "http://fundraising.data.one.gov.hk/fundraise_query/webservice/psi/json?fromdate=20130720&todate=20130720&itemperpage=100&page=4"
       ]
      },
      {
       "output_type": "stream",
       "stream": "stdout",
       "text": [
        "\n",
        "20130721"
       ]
      },
      {
       "output_type": "stream",
       "stream": "stdout",
       "text": [
        "\n",
        "http://fundraising.data.one.gov.hk/fundraise_query/webservice/psi/json?fromdate=20130721&todate=20130721&itemperpage=100&page=1\n",
        "http://fundraising.data.one.gov.hk/fundraise_query/webservice/psi/json?fromdate=20130721&todate=20130721&itemperpage=100&page=2"
       ]
      },
      {
       "output_type": "stream",
       "stream": "stdout",
       "text": [
        "\n",
        "http://fundraising.data.one.gov.hk/fundraise_query/webservice/psi/json?fromdate=20130721&todate=20130721&itemperpage=100&page=3"
       ]
      },
      {
       "output_type": "stream",
       "stream": "stdout",
       "text": [
        "\n",
        "http://fundraising.data.one.gov.hk/fundraise_query/webservice/psi/json?fromdate=20130721&todate=20130721&itemperpage=100&page=4"
       ]
      },
      {
       "output_type": "stream",
       "stream": "stdout",
       "text": [
        "\n",
        "20130722"
       ]
      },
      {
       "output_type": "stream",
       "stream": "stdout",
       "text": [
        "\n",
        "http://fundraising.data.one.gov.hk/fundraise_query/webservice/psi/json?fromdate=20130722&todate=20130722&itemperpage=100&page=1\n",
        "http://fundraising.data.one.gov.hk/fundraise_query/webservice/psi/json?fromdate=20130722&todate=20130722&itemperpage=100&page=2"
       ]
      },
      {
       "output_type": "stream",
       "stream": "stdout",
       "text": [
        "\n",
        "http://fundraising.data.one.gov.hk/fundraise_query/webservice/psi/json?fromdate=20130722&todate=20130722&itemperpage=100&page=3"
       ]
      },
      {
       "output_type": "stream",
       "stream": "stdout",
       "text": [
        "\n",
        "http://fundraising.data.one.gov.hk/fundraise_query/webservice/psi/json?fromdate=20130722&todate=20130722&itemperpage=100&page=4"
       ]
      },
      {
       "output_type": "stream",
       "stream": "stdout",
       "text": [
        "\n",
        "20130723"
       ]
      },
      {
       "output_type": "stream",
       "stream": "stdout",
       "text": [
        "\n",
        "http://fundraising.data.one.gov.hk/fundraise_query/webservice/psi/json?fromdate=20130723&todate=20130723&itemperpage=100&page=1\n",
        "http://fundraising.data.one.gov.hk/fundraise_query/webservice/psi/json?fromdate=20130723&todate=20130723&itemperpage=100&page=2"
       ]
      },
      {
       "output_type": "stream",
       "stream": "stdout",
       "text": [
        "\n",
        "http://fundraising.data.one.gov.hk/fundraise_query/webservice/psi/json?fromdate=20130723&todate=20130723&itemperpage=100&page=3"
       ]
      },
      {
       "output_type": "stream",
       "stream": "stdout",
       "text": [
        "\n",
        "http://fundraising.data.one.gov.hk/fundraise_query/webservice/psi/json?fromdate=20130723&todate=20130723&itemperpage=100&page=4"
       ]
      },
      {
       "output_type": "stream",
       "stream": "stdout",
       "text": [
        "\n",
        "20130724"
       ]
      },
      {
       "output_type": "stream",
       "stream": "stdout",
       "text": [
        "\n",
        "http://fundraising.data.one.gov.hk/fundraise_query/webservice/psi/json?fromdate=20130724&todate=20130724&itemperpage=100&page=1\n",
        "http://fundraising.data.one.gov.hk/fundraise_query/webservice/psi/json?fromdate=20130724&todate=20130724&itemperpage=100&page=2"
       ]
      },
      {
       "output_type": "stream",
       "stream": "stdout",
       "text": [
        "\n",
        "http://fundraising.data.one.gov.hk/fundraise_query/webservice/psi/json?fromdate=20130724&todate=20130724&itemperpage=100&page=3"
       ]
      },
      {
       "output_type": "stream",
       "stream": "stdout",
       "text": [
        "\n",
        "http://fundraising.data.one.gov.hk/fundraise_query/webservice/psi/json?fromdate=20130724&todate=20130724&itemperpage=100&page=4"
       ]
      },
      {
       "output_type": "stream",
       "stream": "stdout",
       "text": [
        "\n",
        "20130725"
       ]
      },
      {
       "output_type": "stream",
       "stream": "stdout",
       "text": [
        "\n",
        "http://fundraising.data.one.gov.hk/fundraise_query/webservice/psi/json?fromdate=20130725&todate=20130725&itemperpage=100&page=1\n",
        "http://fundraising.data.one.gov.hk/fundraise_query/webservice/psi/json?fromdate=20130725&todate=20130725&itemperpage=100&page=2"
       ]
      },
      {
       "output_type": "stream",
       "stream": "stdout",
       "text": [
        "\n",
        "http://fundraising.data.one.gov.hk/fundraise_query/webservice/psi/json?fromdate=20130725&todate=20130725&itemperpage=100&page=3"
       ]
      },
      {
       "output_type": "stream",
       "stream": "stdout",
       "text": [
        "\n",
        "http://fundraising.data.one.gov.hk/fundraise_query/webservice/psi/json?fromdate=20130725&todate=20130725&itemperpage=100&page=4"
       ]
      },
      {
       "output_type": "stream",
       "stream": "stdout",
       "text": [
        "\n",
        "20130726"
       ]
      },
      {
       "output_type": "stream",
       "stream": "stdout",
       "text": [
        "\n",
        "http://fundraising.data.one.gov.hk/fundraise_query/webservice/psi/json?fromdate=20130726&todate=20130726&itemperpage=100&page=1\n",
        "http://fundraising.data.one.gov.hk/fundraise_query/webservice/psi/json?fromdate=20130726&todate=20130726&itemperpage=100&page=2"
       ]
      },
      {
       "output_type": "stream",
       "stream": "stdout",
       "text": [
        "\n",
        "http://fundraising.data.one.gov.hk/fundraise_query/webservice/psi/json?fromdate=20130726&todate=20130726&itemperpage=100&page=3"
       ]
      },
      {
       "output_type": "stream",
       "stream": "stdout",
       "text": [
        "\n",
        "http://fundraising.data.one.gov.hk/fundraise_query/webservice/psi/json?fromdate=20130726&todate=20130726&itemperpage=100&page=4"
       ]
      },
      {
       "output_type": "stream",
       "stream": "stdout",
       "text": [
        "\n",
        "20130727"
       ]
      },
      {
       "output_type": "stream",
       "stream": "stdout",
       "text": [
        "\n",
        "http://fundraising.data.one.gov.hk/fundraise_query/webservice/psi/json?fromdate=20130727&todate=20130727&itemperpage=100&page=1\n",
        "http://fundraising.data.one.gov.hk/fundraise_query/webservice/psi/json?fromdate=20130727&todate=20130727&itemperpage=100&page=2"
       ]
      },
      {
       "output_type": "stream",
       "stream": "stdout",
       "text": [
        "\n",
        "http://fundraising.data.one.gov.hk/fundraise_query/webservice/psi/json?fromdate=20130727&todate=20130727&itemperpage=100&page=3"
       ]
      },
      {
       "output_type": "stream",
       "stream": "stdout",
       "text": [
        "\n",
        "http://fundraising.data.one.gov.hk/fundraise_query/webservice/psi/json?fromdate=20130727&todate=20130727&itemperpage=100&page=4"
       ]
      },
      {
       "output_type": "stream",
       "stream": "stdout",
       "text": [
        "\n",
        "20130728"
       ]
      },
      {
       "output_type": "stream",
       "stream": "stdout",
       "text": [
        "\n",
        "http://fundraising.data.one.gov.hk/fundraise_query/webservice/psi/json?fromdate=20130728&todate=20130728&itemperpage=100&page=1\n",
        "http://fundraising.data.one.gov.hk/fundraise_query/webservice/psi/json?fromdate=20130728&todate=20130728&itemperpage=100&page=2"
       ]
      },
      {
       "output_type": "stream",
       "stream": "stdout",
       "text": [
        "\n",
        "http://fundraising.data.one.gov.hk/fundraise_query/webservice/psi/json?fromdate=20130728&todate=20130728&itemperpage=100&page=3"
       ]
      },
      {
       "output_type": "stream",
       "stream": "stdout",
       "text": [
        "\n",
        "http://fundraising.data.one.gov.hk/fundraise_query/webservice/psi/json?fromdate=20130728&todate=20130728&itemperpage=100&page=4"
       ]
      },
      {
       "output_type": "stream",
       "stream": "stdout",
       "text": [
        "\n",
        "20130729"
       ]
      },
      {
       "output_type": "stream",
       "stream": "stdout",
       "text": [
        "\n",
        "http://fundraising.data.one.gov.hk/fundraise_query/webservice/psi/json?fromdate=20130729&todate=20130729&itemperpage=100&page=1\n",
        "http://fundraising.data.one.gov.hk/fundraise_query/webservice/psi/json?fromdate=20130729&todate=20130729&itemperpage=100&page=2"
       ]
      },
      {
       "output_type": "stream",
       "stream": "stdout",
       "text": [
        "\n",
        "http://fundraising.data.one.gov.hk/fundraise_query/webservice/psi/json?fromdate=20130729&todate=20130729&itemperpage=100&page=3"
       ]
      },
      {
       "output_type": "stream",
       "stream": "stdout",
       "text": [
        "\n",
        "http://fundraising.data.one.gov.hk/fundraise_query/webservice/psi/json?fromdate=20130729&todate=20130729&itemperpage=100&page=4"
       ]
      },
      {
       "output_type": "stream",
       "stream": "stdout",
       "text": [
        "\n",
        "20130730"
       ]
      },
      {
       "output_type": "stream",
       "stream": "stdout",
       "text": [
        "\n",
        "http://fundraising.data.one.gov.hk/fundraise_query/webservice/psi/json?fromdate=20130730&todate=20130730&itemperpage=100&page=1\n",
        "http://fundraising.data.one.gov.hk/fundraise_query/webservice/psi/json?fromdate=20130730&todate=20130730&itemperpage=100&page=2"
       ]
      },
      {
       "output_type": "stream",
       "stream": "stdout",
       "text": [
        "\n",
        "http://fundraising.data.one.gov.hk/fundraise_query/webservice/psi/json?fromdate=20130730&todate=20130730&itemperpage=100&page=3"
       ]
      },
      {
       "output_type": "stream",
       "stream": "stdout",
       "text": [
        "\n",
        "http://fundraising.data.one.gov.hk/fundraise_query/webservice/psi/json?fromdate=20130730&todate=20130730&itemperpage=100&page=4"
       ]
      },
      {
       "output_type": "stream",
       "stream": "stdout",
       "text": [
        "\n",
        "20130731"
       ]
      },
      {
       "output_type": "stream",
       "stream": "stdout",
       "text": [
        "\n",
        "http://fundraising.data.one.gov.hk/fundraise_query/webservice/psi/json?fromdate=20130731&todate=20130731&itemperpage=100&page=1\n",
        "http://fundraising.data.one.gov.hk/fundraise_query/webservice/psi/json?fromdate=20130731&todate=20130731&itemperpage=100&page=2"
       ]
      },
      {
       "output_type": "stream",
       "stream": "stdout",
       "text": [
        "\n",
        "http://fundraising.data.one.gov.hk/fundraise_query/webservice/psi/json?fromdate=20130731&todate=20130731&itemperpage=100&page=3"
       ]
      },
      {
       "output_type": "stream",
       "stream": "stdout",
       "text": [
        "\n",
        "http://fundraising.data.one.gov.hk/fundraise_query/webservice/psi/json?fromdate=20130731&todate=20130731&itemperpage=100&page=4"
       ]
      },
      {
       "output_type": "stream",
       "stream": "stdout",
       "text": [
        "\n",
        "20130801"
       ]
      },
      {
       "output_type": "stream",
       "stream": "stdout",
       "text": [
        "\n",
        "http://fundraising.data.one.gov.hk/fundraise_query/webservice/psi/json?fromdate=20130801&todate=20130801&itemperpage=100&page=1\n",
        "http://fundraising.data.one.gov.hk/fundraise_query/webservice/psi/json?fromdate=20130801&todate=20130801&itemperpage=100&page=2"
       ]
      },
      {
       "output_type": "stream",
       "stream": "stdout",
       "text": [
        "\n",
        "http://fundraising.data.one.gov.hk/fundraise_query/webservice/psi/json?fromdate=20130801&todate=20130801&itemperpage=100&page=3"
       ]
      },
      {
       "output_type": "stream",
       "stream": "stdout",
       "text": [
        "\n",
        "http://fundraising.data.one.gov.hk/fundraise_query/webservice/psi/json?fromdate=20130801&todate=20130801&itemperpage=100&page=4"
       ]
      },
      {
       "output_type": "stream",
       "stream": "stdout",
       "text": [
        "\n",
        "20130802"
       ]
      },
      {
       "output_type": "stream",
       "stream": "stdout",
       "text": [
        "\n",
        "http://fundraising.data.one.gov.hk/fundraise_query/webservice/psi/json?fromdate=20130802&todate=20130802&itemperpage=100&page=1\n",
        "http://fundraising.data.one.gov.hk/fundraise_query/webservice/psi/json?fromdate=20130802&todate=20130802&itemperpage=100&page=2"
       ]
      },
      {
       "output_type": "stream",
       "stream": "stdout",
       "text": [
        "\n",
        "http://fundraising.data.one.gov.hk/fundraise_query/webservice/psi/json?fromdate=20130802&todate=20130802&itemperpage=100&page=3"
       ]
      },
      {
       "output_type": "stream",
       "stream": "stdout",
       "text": [
        "\n",
        "http://fundraising.data.one.gov.hk/fundraise_query/webservice/psi/json?fromdate=20130802&todate=20130802&itemperpage=100&page=4"
       ]
      },
      {
       "output_type": "stream",
       "stream": "stdout",
       "text": [
        "\n",
        "20130803"
       ]
      },
      {
       "output_type": "stream",
       "stream": "stdout",
       "text": [
        "\n",
        "http://fundraising.data.one.gov.hk/fundraise_query/webservice/psi/json?fromdate=20130803&todate=20130803&itemperpage=100&page=1\n",
        "http://fundraising.data.one.gov.hk/fundraise_query/webservice/psi/json?fromdate=20130803&todate=20130803&itemperpage=100&page=2"
       ]
      },
      {
       "output_type": "stream",
       "stream": "stdout",
       "text": [
        "\n",
        "http://fundraising.data.one.gov.hk/fundraise_query/webservice/psi/json?fromdate=20130803&todate=20130803&itemperpage=100&page=3"
       ]
      },
      {
       "output_type": "stream",
       "stream": "stdout",
       "text": [
        "\n",
        "http://fundraising.data.one.gov.hk/fundraise_query/webservice/psi/json?fromdate=20130803&todate=20130803&itemperpage=100&page=4"
       ]
      },
      {
       "output_type": "stream",
       "stream": "stdout",
       "text": [
        "\n",
        "20130804"
       ]
      },
      {
       "output_type": "stream",
       "stream": "stdout",
       "text": [
        "\n",
        "http://fundraising.data.one.gov.hk/fundraise_query/webservice/psi/json?fromdate=20130804&todate=20130804&itemperpage=100&page=1\n",
        "http://fundraising.data.one.gov.hk/fundraise_query/webservice/psi/json?fromdate=20130804&todate=20130804&itemperpage=100&page=2"
       ]
      },
      {
       "output_type": "stream",
       "stream": "stdout",
       "text": [
        "\n",
        "http://fundraising.data.one.gov.hk/fundraise_query/webservice/psi/json?fromdate=20130804&todate=20130804&itemperpage=100&page=3"
       ]
      },
      {
       "output_type": "stream",
       "stream": "stdout",
       "text": [
        "\n",
        "http://fundraising.data.one.gov.hk/fundraise_query/webservice/psi/json?fromdate=20130804&todate=20130804&itemperpage=100&page=4"
       ]
      },
      {
       "output_type": "stream",
       "stream": "stdout",
       "text": [
        "\n",
        "20130805"
       ]
      },
      {
       "output_type": "stream",
       "stream": "stdout",
       "text": [
        "\n",
        "http://fundraising.data.one.gov.hk/fundraise_query/webservice/psi/json?fromdate=20130805&todate=20130805&itemperpage=100&page=1\n",
        "http://fundraising.data.one.gov.hk/fundraise_query/webservice/psi/json?fromdate=20130805&todate=20130805&itemperpage=100&page=2"
       ]
      },
      {
       "output_type": "stream",
       "stream": "stdout",
       "text": [
        "\n",
        "http://fundraising.data.one.gov.hk/fundraise_query/webservice/psi/json?fromdate=20130805&todate=20130805&itemperpage=100&page=3"
       ]
      },
      {
       "output_type": "stream",
       "stream": "stdout",
       "text": [
        "\n",
        "http://fundraising.data.one.gov.hk/fundraise_query/webservice/psi/json?fromdate=20130805&todate=20130805&itemperpage=100&page=4"
       ]
      },
      {
       "output_type": "stream",
       "stream": "stdout",
       "text": [
        "\n",
        "20130806"
       ]
      },
      {
       "output_type": "stream",
       "stream": "stdout",
       "text": [
        "\n",
        "http://fundraising.data.one.gov.hk/fundraise_query/webservice/psi/json?fromdate=20130806&todate=20130806&itemperpage=100&page=1\n",
        "http://fundraising.data.one.gov.hk/fundraise_query/webservice/psi/json?fromdate=20130806&todate=20130806&itemperpage=100&page=2"
       ]
      },
      {
       "output_type": "stream",
       "stream": "stdout",
       "text": [
        "\n",
        "http://fundraising.data.one.gov.hk/fundraise_query/webservice/psi/json?fromdate=20130806&todate=20130806&itemperpage=100&page=3"
       ]
      },
      {
       "output_type": "stream",
       "stream": "stdout",
       "text": [
        "\n",
        "http://fundraising.data.one.gov.hk/fundraise_query/webservice/psi/json?fromdate=20130806&todate=20130806&itemperpage=100&page=4"
       ]
      },
      {
       "output_type": "stream",
       "stream": "stdout",
       "text": [
        "\n",
        "20130807"
       ]
      },
      {
       "output_type": "stream",
       "stream": "stdout",
       "text": [
        "\n",
        "http://fundraising.data.one.gov.hk/fundraise_query/webservice/psi/json?fromdate=20130807&todate=20130807&itemperpage=100&page=1\n",
        "http://fundraising.data.one.gov.hk/fundraise_query/webservice/psi/json?fromdate=20130807&todate=20130807&itemperpage=100&page=2"
       ]
      },
      {
       "output_type": "stream",
       "stream": "stdout",
       "text": [
        "\n",
        "http://fundraising.data.one.gov.hk/fundraise_query/webservice/psi/json?fromdate=20130807&todate=20130807&itemperpage=100&page=3"
       ]
      },
      {
       "output_type": "stream",
       "stream": "stdout",
       "text": [
        "\n",
        "http://fundraising.data.one.gov.hk/fundraise_query/webservice/psi/json?fromdate=20130807&todate=20130807&itemperpage=100&page=4"
       ]
      },
      {
       "output_type": "stream",
       "stream": "stdout",
       "text": [
        "\n",
        "20130808"
       ]
      },
      {
       "output_type": "stream",
       "stream": "stdout",
       "text": [
        "\n",
        "http://fundraising.data.one.gov.hk/fundraise_query/webservice/psi/json?fromdate=20130808&todate=20130808&itemperpage=100&page=1\n",
        "http://fundraising.data.one.gov.hk/fundraise_query/webservice/psi/json?fromdate=20130808&todate=20130808&itemperpage=100&page=2"
       ]
      },
      {
       "output_type": "stream",
       "stream": "stdout",
       "text": [
        "\n",
        "http://fundraising.data.one.gov.hk/fundraise_query/webservice/psi/json?fromdate=20130808&todate=20130808&itemperpage=100&page=3"
       ]
      },
      {
       "output_type": "stream",
       "stream": "stdout",
       "text": [
        "\n",
        "http://fundraising.data.one.gov.hk/fundraise_query/webservice/psi/json?fromdate=20130808&todate=20130808&itemperpage=100&page=4"
       ]
      },
      {
       "output_type": "stream",
       "stream": "stdout",
       "text": [
        "\n",
        "20130809"
       ]
      },
      {
       "output_type": "stream",
       "stream": "stdout",
       "text": [
        "\n",
        "http://fundraising.data.one.gov.hk/fundraise_query/webservice/psi/json?fromdate=20130809&todate=20130809&itemperpage=100&page=1\n",
        "http://fundraising.data.one.gov.hk/fundraise_query/webservice/psi/json?fromdate=20130809&todate=20130809&itemperpage=100&page=2"
       ]
      },
      {
       "output_type": "stream",
       "stream": "stdout",
       "text": [
        "\n",
        "http://fundraising.data.one.gov.hk/fundraise_query/webservice/psi/json?fromdate=20130809&todate=20130809&itemperpage=100&page=3"
       ]
      },
      {
       "output_type": "stream",
       "stream": "stdout",
       "text": [
        "\n",
        "http://fundraising.data.one.gov.hk/fundraise_query/webservice/psi/json?fromdate=20130809&todate=20130809&itemperpage=100&page=4"
       ]
      },
      {
       "output_type": "stream",
       "stream": "stdout",
       "text": [
        "\n",
        "20130810"
       ]
      },
      {
       "output_type": "stream",
       "stream": "stdout",
       "text": [
        "\n",
        "http://fundraising.data.one.gov.hk/fundraise_query/webservice/psi/json?fromdate=20130810&todate=20130810&itemperpage=100&page=1\n",
        "http://fundraising.data.one.gov.hk/fundraise_query/webservice/psi/json?fromdate=20130810&todate=20130810&itemperpage=100&page=2"
       ]
      },
      {
       "output_type": "stream",
       "stream": "stdout",
       "text": [
        "\n",
        "http://fundraising.data.one.gov.hk/fundraise_query/webservice/psi/json?fromdate=20130810&todate=20130810&itemperpage=100&page=3"
       ]
      },
      {
       "output_type": "stream",
       "stream": "stdout",
       "text": [
        "\n",
        "http://fundraising.data.one.gov.hk/fundraise_query/webservice/psi/json?fromdate=20130810&todate=20130810&itemperpage=100&page=4"
       ]
      },
      {
       "output_type": "stream",
       "stream": "stdout",
       "text": [
        "\n",
        "20130811"
       ]
      },
      {
       "output_type": "stream",
       "stream": "stdout",
       "text": [
        "\n",
        "http://fundraising.data.one.gov.hk/fundraise_query/webservice/psi/json?fromdate=20130811&todate=20130811&itemperpage=100&page=1\n",
        "http://fundraising.data.one.gov.hk/fundraise_query/webservice/psi/json?fromdate=20130811&todate=20130811&itemperpage=100&page=2"
       ]
      },
      {
       "output_type": "stream",
       "stream": "stdout",
       "text": [
        "\n",
        "http://fundraising.data.one.gov.hk/fundraise_query/webservice/psi/json?fromdate=20130811&todate=20130811&itemperpage=100&page=3"
       ]
      },
      {
       "output_type": "stream",
       "stream": "stdout",
       "text": [
        "\n",
        "http://fundraising.data.one.gov.hk/fundraise_query/webservice/psi/json?fromdate=20130811&todate=20130811&itemperpage=100&page=4"
       ]
      },
      {
       "output_type": "stream",
       "stream": "stdout",
       "text": [
        "\n",
        "20130812"
       ]
      },
      {
       "output_type": "stream",
       "stream": "stdout",
       "text": [
        "\n",
        "http://fundraising.data.one.gov.hk/fundraise_query/webservice/psi/json?fromdate=20130812&todate=20130812&itemperpage=100&page=1\n",
        "http://fundraising.data.one.gov.hk/fundraise_query/webservice/psi/json?fromdate=20130812&todate=20130812&itemperpage=100&page=2"
       ]
      },
      {
       "output_type": "stream",
       "stream": "stdout",
       "text": [
        "\n",
        "http://fundraising.data.one.gov.hk/fundraise_query/webservice/psi/json?fromdate=20130812&todate=20130812&itemperpage=100&page=3"
       ]
      },
      {
       "output_type": "stream",
       "stream": "stdout",
       "text": [
        "\n",
        "http://fundraising.data.one.gov.hk/fundraise_query/webservice/psi/json?fromdate=20130812&todate=20130812&itemperpage=100&page=4"
       ]
      },
      {
       "output_type": "stream",
       "stream": "stdout",
       "text": [
        "\n",
        "20130813"
       ]
      },
      {
       "output_type": "stream",
       "stream": "stdout",
       "text": [
        "\n",
        "http://fundraising.data.one.gov.hk/fundraise_query/webservice/psi/json?fromdate=20130813&todate=20130813&itemperpage=100&page=1\n",
        "http://fundraising.data.one.gov.hk/fundraise_query/webservice/psi/json?fromdate=20130813&todate=20130813&itemperpage=100&page=2"
       ]
      },
      {
       "output_type": "stream",
       "stream": "stdout",
       "text": [
        "\n",
        "http://fundraising.data.one.gov.hk/fundraise_query/webservice/psi/json?fromdate=20130813&todate=20130813&itemperpage=100&page=3"
       ]
      },
      {
       "output_type": "stream",
       "stream": "stdout",
       "text": [
        "\n",
        "http://fundraising.data.one.gov.hk/fundraise_query/webservice/psi/json?fromdate=20130813&todate=20130813&itemperpage=100&page=4"
       ]
      },
      {
       "output_type": "stream",
       "stream": "stdout",
       "text": [
        "\n",
        "20130814"
       ]
      },
      {
       "output_type": "stream",
       "stream": "stdout",
       "text": [
        "\n",
        "http://fundraising.data.one.gov.hk/fundraise_query/webservice/psi/json?fromdate=20130814&todate=20130814&itemperpage=100&page=1\n",
        "http://fundraising.data.one.gov.hk/fundraise_query/webservice/psi/json?fromdate=20130814&todate=20130814&itemperpage=100&page=2"
       ]
      },
      {
       "output_type": "stream",
       "stream": "stdout",
       "text": [
        "\n",
        "http://fundraising.data.one.gov.hk/fundraise_query/webservice/psi/json?fromdate=20130814&todate=20130814&itemperpage=100&page=3"
       ]
      },
      {
       "output_type": "stream",
       "stream": "stdout",
       "text": [
        "\n",
        "http://fundraising.data.one.gov.hk/fundraise_query/webservice/psi/json?fromdate=20130814&todate=20130814&itemperpage=100&page=4"
       ]
      },
      {
       "output_type": "stream",
       "stream": "stdout",
       "text": [
        "\n",
        "20130815"
       ]
      },
      {
       "output_type": "stream",
       "stream": "stdout",
       "text": [
        "\n",
        "http://fundraising.data.one.gov.hk/fundraise_query/webservice/psi/json?fromdate=20130815&todate=20130815&itemperpage=100&page=1\n",
        "http://fundraising.data.one.gov.hk/fundraise_query/webservice/psi/json?fromdate=20130815&todate=20130815&itemperpage=100&page=2"
       ]
      },
      {
       "output_type": "stream",
       "stream": "stdout",
       "text": [
        "\n",
        "http://fundraising.data.one.gov.hk/fundraise_query/webservice/psi/json?fromdate=20130815&todate=20130815&itemperpage=100&page=3"
       ]
      },
      {
       "output_type": "stream",
       "stream": "stdout",
       "text": [
        "\n",
        "http://fundraising.data.one.gov.hk/fundraise_query/webservice/psi/json?fromdate=20130815&todate=20130815&itemperpage=100&page=4"
       ]
      },
      {
       "output_type": "stream",
       "stream": "stdout",
       "text": [
        "\n",
        "20130816"
       ]
      },
      {
       "output_type": "stream",
       "stream": "stdout",
       "text": [
        "\n",
        "http://fundraising.data.one.gov.hk/fundraise_query/webservice/psi/json?fromdate=20130816&todate=20130816&itemperpage=100&page=1\n",
        "http://fundraising.data.one.gov.hk/fundraise_query/webservice/psi/json?fromdate=20130816&todate=20130816&itemperpage=100&page=2"
       ]
      },
      {
       "output_type": "stream",
       "stream": "stdout",
       "text": [
        "\n",
        "http://fundraising.data.one.gov.hk/fundraise_query/webservice/psi/json?fromdate=20130816&todate=20130816&itemperpage=100&page=3"
       ]
      },
      {
       "output_type": "stream",
       "stream": "stdout",
       "text": [
        "\n",
        "http://fundraising.data.one.gov.hk/fundraise_query/webservice/psi/json?fromdate=20130816&todate=20130816&itemperpage=100&page=4"
       ]
      },
      {
       "output_type": "stream",
       "stream": "stdout",
       "text": [
        "\n",
        "20130817"
       ]
      },
      {
       "output_type": "stream",
       "stream": "stdout",
       "text": [
        "\n",
        "http://fundraising.data.one.gov.hk/fundraise_query/webservice/psi/json?fromdate=20130817&todate=20130817&itemperpage=100&page=1\n",
        "http://fundraising.data.one.gov.hk/fundraise_query/webservice/psi/json?fromdate=20130817&todate=20130817&itemperpage=100&page=2"
       ]
      },
      {
       "output_type": "stream",
       "stream": "stdout",
       "text": [
        "\n",
        "http://fundraising.data.one.gov.hk/fundraise_query/webservice/psi/json?fromdate=20130817&todate=20130817&itemperpage=100&page=3"
       ]
      },
      {
       "output_type": "stream",
       "stream": "stdout",
       "text": [
        "\n",
        "http://fundraising.data.one.gov.hk/fundraise_query/webservice/psi/json?fromdate=20130817&todate=20130817&itemperpage=100&page=4"
       ]
      },
      {
       "output_type": "stream",
       "stream": "stdout",
       "text": [
        "\n",
        "20130818"
       ]
      },
      {
       "output_type": "stream",
       "stream": "stdout",
       "text": [
        "\n",
        "http://fundraising.data.one.gov.hk/fundraise_query/webservice/psi/json?fromdate=20130818&todate=20130818&itemperpage=100&page=1\n",
        "http://fundraising.data.one.gov.hk/fundraise_query/webservice/psi/json?fromdate=20130818&todate=20130818&itemperpage=100&page=2"
       ]
      },
      {
       "output_type": "stream",
       "stream": "stdout",
       "text": [
        "\n",
        "http://fundraising.data.one.gov.hk/fundraise_query/webservice/psi/json?fromdate=20130818&todate=20130818&itemperpage=100&page=3"
       ]
      },
      {
       "output_type": "stream",
       "stream": "stdout",
       "text": [
        "\n",
        "http://fundraising.data.one.gov.hk/fundraise_query/webservice/psi/json?fromdate=20130818&todate=20130818&itemperpage=100&page=4"
       ]
      },
      {
       "output_type": "stream",
       "stream": "stdout",
       "text": [
        "\n",
        "20130819"
       ]
      },
      {
       "output_type": "stream",
       "stream": "stdout",
       "text": [
        "\n",
        "http://fundraising.data.one.gov.hk/fundraise_query/webservice/psi/json?fromdate=20130819&todate=20130819&itemperpage=100&page=1\n",
        "http://fundraising.data.one.gov.hk/fundraise_query/webservice/psi/json?fromdate=20130819&todate=20130819&itemperpage=100&page=2"
       ]
      },
      {
       "output_type": "stream",
       "stream": "stdout",
       "text": [
        "\n",
        "http://fundraising.data.one.gov.hk/fundraise_query/webservice/psi/json?fromdate=20130819&todate=20130819&itemperpage=100&page=3"
       ]
      },
      {
       "output_type": "stream",
       "stream": "stdout",
       "text": [
        "\n",
        "http://fundraising.data.one.gov.hk/fundraise_query/webservice/psi/json?fromdate=20130819&todate=20130819&itemperpage=100&page=4"
       ]
      },
      {
       "output_type": "stream",
       "stream": "stdout",
       "text": [
        "\n",
        "20130820"
       ]
      },
      {
       "output_type": "stream",
       "stream": "stdout",
       "text": [
        "\n",
        "http://fundraising.data.one.gov.hk/fundraise_query/webservice/psi/json?fromdate=20130820&todate=20130820&itemperpage=100&page=1\n",
        "http://fundraising.data.one.gov.hk/fundraise_query/webservice/psi/json?fromdate=20130820&todate=20130820&itemperpage=100&page=2"
       ]
      },
      {
       "output_type": "stream",
       "stream": "stdout",
       "text": [
        "\n",
        "http://fundraising.data.one.gov.hk/fundraise_query/webservice/psi/json?fromdate=20130820&todate=20130820&itemperpage=100&page=3"
       ]
      },
      {
       "output_type": "stream",
       "stream": "stdout",
       "text": [
        "\n",
        "http://fundraising.data.one.gov.hk/fundraise_query/webservice/psi/json?fromdate=20130820&todate=20130820&itemperpage=100&page=4"
       ]
      },
      {
       "output_type": "stream",
       "stream": "stdout",
       "text": [
        "\n",
        "20130821"
       ]
      },
      {
       "output_type": "stream",
       "stream": "stdout",
       "text": [
        "\n",
        "http://fundraising.data.one.gov.hk/fundraise_query/webservice/psi/json?fromdate=20130821&todate=20130821&itemperpage=100&page=1\n",
        "http://fundraising.data.one.gov.hk/fundraise_query/webservice/psi/json?fromdate=20130821&todate=20130821&itemperpage=100&page=2"
       ]
      },
      {
       "output_type": "stream",
       "stream": "stdout",
       "text": [
        "\n",
        "http://fundraising.data.one.gov.hk/fundraise_query/webservice/psi/json?fromdate=20130821&todate=20130821&itemperpage=100&page=3"
       ]
      },
      {
       "output_type": "stream",
       "stream": "stdout",
       "text": [
        "\n",
        "http://fundraising.data.one.gov.hk/fundraise_query/webservice/psi/json?fromdate=20130821&todate=20130821&itemperpage=100&page=4"
       ]
      },
      {
       "output_type": "stream",
       "stream": "stdout",
       "text": [
        "\n",
        "20130822"
       ]
      },
      {
       "output_type": "stream",
       "stream": "stdout",
       "text": [
        "\n",
        "http://fundraising.data.one.gov.hk/fundraise_query/webservice/psi/json?fromdate=20130822&todate=20130822&itemperpage=100&page=1\n",
        "http://fundraising.data.one.gov.hk/fundraise_query/webservice/psi/json?fromdate=20130822&todate=20130822&itemperpage=100&page=2"
       ]
      },
      {
       "output_type": "stream",
       "stream": "stdout",
       "text": [
        "\n",
        "http://fundraising.data.one.gov.hk/fundraise_query/webservice/psi/json?fromdate=20130822&todate=20130822&itemperpage=100&page=3"
       ]
      },
      {
       "output_type": "stream",
       "stream": "stdout",
       "text": [
        "\n",
        "http://fundraising.data.one.gov.hk/fundraise_query/webservice/psi/json?fromdate=20130822&todate=20130822&itemperpage=100&page=4"
       ]
      },
      {
       "output_type": "stream",
       "stream": "stdout",
       "text": [
        "\n",
        "20130823"
       ]
      },
      {
       "output_type": "stream",
       "stream": "stdout",
       "text": [
        "\n",
        "http://fundraising.data.one.gov.hk/fundraise_query/webservice/psi/json?fromdate=20130823&todate=20130823&itemperpage=100&page=1\n",
        "http://fundraising.data.one.gov.hk/fundraise_query/webservice/psi/json?fromdate=20130823&todate=20130823&itemperpage=100&page=2"
       ]
      },
      {
       "output_type": "stream",
       "stream": "stdout",
       "text": [
        "\n",
        "http://fundraising.data.one.gov.hk/fundraise_query/webservice/psi/json?fromdate=20130823&todate=20130823&itemperpage=100&page=3"
       ]
      },
      {
       "output_type": "stream",
       "stream": "stdout",
       "text": [
        "\n",
        "http://fundraising.data.one.gov.hk/fundraise_query/webservice/psi/json?fromdate=20130823&todate=20130823&itemperpage=100&page=4"
       ]
      },
      {
       "output_type": "stream",
       "stream": "stdout",
       "text": [
        "\n",
        "20130824"
       ]
      },
      {
       "output_type": "stream",
       "stream": "stdout",
       "text": [
        "\n",
        "http://fundraising.data.one.gov.hk/fundraise_query/webservice/psi/json?fromdate=20130824&todate=20130824&itemperpage=100&page=1\n",
        "http://fundraising.data.one.gov.hk/fundraise_query/webservice/psi/json?fromdate=20130824&todate=20130824&itemperpage=100&page=2"
       ]
      },
      {
       "output_type": "stream",
       "stream": "stdout",
       "text": [
        "\n",
        "http://fundraising.data.one.gov.hk/fundraise_query/webservice/psi/json?fromdate=20130824&todate=20130824&itemperpage=100&page=3"
       ]
      },
      {
       "output_type": "stream",
       "stream": "stdout",
       "text": [
        "\n",
        "http://fundraising.data.one.gov.hk/fundraise_query/webservice/psi/json?fromdate=20130824&todate=20130824&itemperpage=100&page=4"
       ]
      },
      {
       "output_type": "stream",
       "stream": "stdout",
       "text": [
        "\n",
        "20130825"
       ]
      },
      {
       "output_type": "stream",
       "stream": "stdout",
       "text": [
        "\n",
        "http://fundraising.data.one.gov.hk/fundraise_query/webservice/psi/json?fromdate=20130825&todate=20130825&itemperpage=100&page=1\n",
        "http://fundraising.data.one.gov.hk/fundraise_query/webservice/psi/json?fromdate=20130825&todate=20130825&itemperpage=100&page=2"
       ]
      },
      {
       "output_type": "stream",
       "stream": "stdout",
       "text": [
        "\n",
        "http://fundraising.data.one.gov.hk/fundraise_query/webservice/psi/json?fromdate=20130825&todate=20130825&itemperpage=100&page=3"
       ]
      },
      {
       "output_type": "stream",
       "stream": "stdout",
       "text": [
        "\n",
        "http://fundraising.data.one.gov.hk/fundraise_query/webservice/psi/json?fromdate=20130825&todate=20130825&itemperpage=100&page=4"
       ]
      },
      {
       "output_type": "stream",
       "stream": "stdout",
       "text": [
        "\n",
        "20130826"
       ]
      },
      {
       "output_type": "stream",
       "stream": "stdout",
       "text": [
        "\n",
        "http://fundraising.data.one.gov.hk/fundraise_query/webservice/psi/json?fromdate=20130826&todate=20130826&itemperpage=100&page=1\n",
        "http://fundraising.data.one.gov.hk/fundraise_query/webservice/psi/json?fromdate=20130826&todate=20130826&itemperpage=100&page=2"
       ]
      },
      {
       "output_type": "stream",
       "stream": "stdout",
       "text": [
        "\n",
        "http://fundraising.data.one.gov.hk/fundraise_query/webservice/psi/json?fromdate=20130826&todate=20130826&itemperpage=100&page=3"
       ]
      },
      {
       "output_type": "stream",
       "stream": "stdout",
       "text": [
        "\n",
        "http://fundraising.data.one.gov.hk/fundraise_query/webservice/psi/json?fromdate=20130826&todate=20130826&itemperpage=100&page=4"
       ]
      },
      {
       "output_type": "stream",
       "stream": "stdout",
       "text": [
        "\n",
        "20130827"
       ]
      },
      {
       "output_type": "stream",
       "stream": "stdout",
       "text": [
        "\n",
        "http://fundraising.data.one.gov.hk/fundraise_query/webservice/psi/json?fromdate=20130827&todate=20130827&itemperpage=100&page=1\n",
        "http://fundraising.data.one.gov.hk/fundraise_query/webservice/psi/json?fromdate=20130827&todate=20130827&itemperpage=100&page=2"
       ]
      },
      {
       "output_type": "stream",
       "stream": "stdout",
       "text": [
        "\n",
        "http://fundraising.data.one.gov.hk/fundraise_query/webservice/psi/json?fromdate=20130827&todate=20130827&itemperpage=100&page=3"
       ]
      },
      {
       "output_type": "stream",
       "stream": "stdout",
       "text": [
        "\n",
        "http://fundraising.data.one.gov.hk/fundraise_query/webservice/psi/json?fromdate=20130827&todate=20130827&itemperpage=100&page=4"
       ]
      },
      {
       "output_type": "stream",
       "stream": "stdout",
       "text": [
        "\n",
        "20130828"
       ]
      },
      {
       "output_type": "stream",
       "stream": "stdout",
       "text": [
        "\n",
        "http://fundraising.data.one.gov.hk/fundraise_query/webservice/psi/json?fromdate=20130828&todate=20130828&itemperpage=100&page=1\n",
        "http://fundraising.data.one.gov.hk/fundraise_query/webservice/psi/json?fromdate=20130828&todate=20130828&itemperpage=100&page=2"
       ]
      },
      {
       "output_type": "stream",
       "stream": "stdout",
       "text": [
        "\n",
        "http://fundraising.data.one.gov.hk/fundraise_query/webservice/psi/json?fromdate=20130828&todate=20130828&itemperpage=100&page=3"
       ]
      },
      {
       "output_type": "stream",
       "stream": "stdout",
       "text": [
        "\n",
        "http://fundraising.data.one.gov.hk/fundraise_query/webservice/psi/json?fromdate=20130828&todate=20130828&itemperpage=100&page=4"
       ]
      },
      {
       "output_type": "stream",
       "stream": "stdout",
       "text": [
        "\n",
        "20130829"
       ]
      },
      {
       "output_type": "stream",
       "stream": "stdout",
       "text": [
        "\n",
        "http://fundraising.data.one.gov.hk/fundraise_query/webservice/psi/json?fromdate=20130829&todate=20130829&itemperpage=100&page=1\n",
        "http://fundraising.data.one.gov.hk/fundraise_query/webservice/psi/json?fromdate=20130829&todate=20130829&itemperpage=100&page=2"
       ]
      },
      {
       "output_type": "stream",
       "stream": "stdout",
       "text": [
        "\n",
        "http://fundraising.data.one.gov.hk/fundraise_query/webservice/psi/json?fromdate=20130829&todate=20130829&itemperpage=100&page=3"
       ]
      },
      {
       "output_type": "stream",
       "stream": "stdout",
       "text": [
        "\n",
        "http://fundraising.data.one.gov.hk/fundraise_query/webservice/psi/json?fromdate=20130829&todate=20130829&itemperpage=100&page=4"
       ]
      },
      {
       "output_type": "stream",
       "stream": "stdout",
       "text": [
        "\n",
        "20130830"
       ]
      },
      {
       "output_type": "stream",
       "stream": "stdout",
       "text": [
        "\n",
        "http://fundraising.data.one.gov.hk/fundraise_query/webservice/psi/json?fromdate=20130830&todate=20130830&itemperpage=100&page=1\n",
        "http://fundraising.data.one.gov.hk/fundraise_query/webservice/psi/json?fromdate=20130830&todate=20130830&itemperpage=100&page=2"
       ]
      },
      {
       "output_type": "stream",
       "stream": "stdout",
       "text": [
        "\n",
        "http://fundraising.data.one.gov.hk/fundraise_query/webservice/psi/json?fromdate=20130830&todate=20130830&itemperpage=100&page=3"
       ]
      },
      {
       "output_type": "stream",
       "stream": "stdout",
       "text": [
        "\n",
        "http://fundraising.data.one.gov.hk/fundraise_query/webservice/psi/json?fromdate=20130830&todate=20130830&itemperpage=100&page=4"
       ]
      },
      {
       "output_type": "stream",
       "stream": "stdout",
       "text": [
        "\n",
        "20130831"
       ]
      },
      {
       "output_type": "stream",
       "stream": "stdout",
       "text": [
        "\n",
        "http://fundraising.data.one.gov.hk/fundraise_query/webservice/psi/json?fromdate=20130831&todate=20130831&itemperpage=100&page=1\n",
        "http://fundraising.data.one.gov.hk/fundraise_query/webservice/psi/json?fromdate=20130831&todate=20130831&itemperpage=100&page=2"
       ]
      },
      {
       "output_type": "stream",
       "stream": "stdout",
       "text": [
        "\n",
        "http://fundraising.data.one.gov.hk/fundraise_query/webservice/psi/json?fromdate=20130831&todate=20130831&itemperpage=100&page=3"
       ]
      },
      {
       "output_type": "stream",
       "stream": "stdout",
       "text": [
        "\n",
        "http://fundraising.data.one.gov.hk/fundraise_query/webservice/psi/json?fromdate=20130831&todate=20130831&itemperpage=100&page=4"
       ]
      },
      {
       "output_type": "stream",
       "stream": "stdout",
       "text": [
        "\n"
       ]
      }
     ],
     "prompt_number": 1
    },
    {
     "cell_type": "code",
     "collapsed": false,
     "input": [
      "import os\n",
      "\n",
      "os.getcwd()\n"
     ],
     "language": "python",
     "metadata": {},
     "outputs": []
    }
   ],
   "metadata": {}
  }
 ]
}